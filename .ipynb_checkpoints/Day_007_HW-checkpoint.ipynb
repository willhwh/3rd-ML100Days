{
 "cells": [
  {
   "cell_type": "markdown",
   "metadata": {
    "collapsed": true
   },
   "source": [
    "# 作業 : (Kaggle)鐵達尼生存預測"
   ]
  },
  {
   "cell_type": "markdown",
   "metadata": {},
   "source": [
    "# [作業目標]\n",
    "- 試著完成三種不同特徵類型的三種資料操作, 觀察結果\n",
    "- 思考一下, 這三種特徵類型, 哪一種應該最複雜/最難處理"
   ]
  },
  {
   "cell_type": "markdown",
   "metadata": {},
   "source": [
    "# [作業重點]\n",
    "- 完成剩餘的八種 類型 x 操作組合 (In[6]~In[13], Out[6]~Out[13])\n",
    "- 思考何種特徵類型, 應該最複雜"
   ]
  },
  {
   "cell_type": "code",
   "execution_count": 14,
   "metadata": {},
   "outputs": [
    {
     "data": {
      "text/plain": [
       "(891, 12)"
      ]
     },
     "execution_count": 14,
     "metadata": {},
     "output_type": "execute_result"
    }
   ],
   "source": [
    "# 載入基本套件\n",
    "import pandas as pd\n",
    "import numpy as np\n",
    "\n",
    "# 讀取訓練與測試資料\n",
    "data_path = '/users/mac/downloads/'\n",
    "df_train = pd.read_csv(data_path + 'titanic_train.csv')\n",
    "df_test = pd.read_csv(data_path + 'titanic_test.csv')\n",
    "df_train.shape"
   ]
  },
  {
   "cell_type": "code",
   "execution_count": 15,
   "metadata": {},
   "outputs": [
    {
     "name": "stdout",
     "output_type": "stream",
     "text": [
      "     index  Pclass                                      Name     Sex   Age  \\\n",
      "888    888       3  Johnston, Miss. Catherine Helen \"Carrie\"  female   NaN   \n",
      "889    889       1                     Behr, Mr. Karl Howell    male  26.0   \n",
      "890    890       3                       Dooley, Mr. Patrick    male  32.0   \n",
      "\n",
      "     SibSp  Parch      Ticket   Fare Cabin Embarked  \n",
      "888      1      2  W./C. 6607  23.45   NaN        S  \n",
      "889      0      0      111369  30.00  C148        C  \n",
      "890      0      0      370376   7.75   NaN        Q  \n",
      "      index  Pclass                          Name   Sex   Age  SibSp  Parch  \\\n",
      "1306    415       3  Saether, Mr. Simon Sivertsen  male  38.5      0      0   \n",
      "1307    416       3           Ware, Mr. Frederick  male   NaN      0      0   \n",
      "1308    417       3      Peter, Master. Michael J  male   NaN      1      1   \n",
      "\n",
      "                  Ticket     Fare Cabin Embarked  \n",
      "1306  SOTON/O.Q. 3101262   7.2500   NaN        S  \n",
      "1307              359309   8.0500   NaN        S  \n",
      "1308                2668  22.3583   NaN        C  \n"
     ]
    }
   ],
   "source": [
    "# 重組資料成為訓練 / 預測用格式\n",
    "train_Y = df_train['Survived']#actual y in train data\n",
    "ids = df_test['PassengerId']\n",
    "df_train = df_train.drop(['PassengerId', 'Survived'] , axis=1)\n",
    "df_test = df_test.drop(['PassengerId'] , axis=1)\n",
    "print(df_train.reset_index().tail(3))#890rows\n",
    "df = pd.concat([df_train,df_test])#df_trian + df_test on rows ( asix=0)\n",
    "df.head()\n",
    "print(df.reset_index().tail(3))#1308rows"
   ]
  },
  {
   "cell_type": "code",
   "execution_count": 17,
   "metadata": {},
   "outputs": [
    {
     "data": {
      "text/plain": [
       "Pclass        int64\n",
       "Name         object\n",
       "Sex          object\n",
       "Age         float64\n",
       "SibSp         int64\n",
       "Parch         int64\n",
       "Ticket       object\n",
       "Fare        float64\n",
       "Cabin        object\n",
       "Embarked     object\n",
       "dtype: object"
      ]
     },
     "execution_count": 17,
     "metadata": {},
     "output_type": "execute_result"
    }
   ],
   "source": [
    "#show data type\n",
    "df.dtypes"
   ]
  },
  {
   "cell_type": "code",
   "execution_count": 22,
   "metadata": {},
   "outputs": [
    {
     "name": "stdout",
     "output_type": "stream",
     "text": [
      "      index        0\n",
      "0    Pclass    int64\n",
      "1      Name   object\n",
      "2       Sex   object\n",
      "3       Age  float64\n",
      "4     SibSp    int64\n",
      "5     Parch    int64\n",
      "6    Ticket   object\n",
      "7      Fare  float64\n",
      "8     Cabin   object\n",
      "9  Embarked   object \n",
      "\n",
      "      Count Column Type\n",
      "0    Pclass       int64\n",
      "1      Name      object\n",
      "2       Sex      object\n",
      "3       Age     float64\n",
      "4     SibSp       int64\n",
      "5     Parch       int64\n",
      "6    Ticket      object\n",
      "7      Fare     float64\n",
      "8     Cabin      object\n",
      "9  Embarked      object \n",
      "\n"
     ]
    },
    {
     "data": {
      "text/html": [
       "<div>\n",
       "<style scoped>\n",
       "    .dataframe tbody tr th:only-of-type {\n",
       "        vertical-align: middle;\n",
       "    }\n",
       "\n",
       "    .dataframe tbody tr th {\n",
       "        vertical-align: top;\n",
       "    }\n",
       "\n",
       "    .dataframe thead th {\n",
       "        text-align: right;\n",
       "    }\n",
       "</style>\n",
       "<table border=\"1\" class=\"dataframe\">\n",
       "  <thead>\n",
       "    <tr style=\"text-align: right;\">\n",
       "      <th></th>\n",
       "      <th>Column Type</th>\n",
       "      <th>Count</th>\n",
       "    </tr>\n",
       "  </thead>\n",
       "  <tbody>\n",
       "    <tr>\n",
       "      <th>0</th>\n",
       "      <td>int64</td>\n",
       "      <td>3</td>\n",
       "    </tr>\n",
       "    <tr>\n",
       "      <th>1</th>\n",
       "      <td>float64</td>\n",
       "      <td>2</td>\n",
       "    </tr>\n",
       "    <tr>\n",
       "      <th>2</th>\n",
       "      <td>object</td>\n",
       "      <td>5</td>\n",
       "    </tr>\n",
       "  </tbody>\n",
       "</table>\n",
       "</div>"
      ],
      "text/plain": [
       "  Column Type  Count\n",
       "0       int64      3\n",
       "1     float64      2\n",
       "2      object      5"
      ]
     },
     "execution_count": 22,
     "metadata": {},
     "output_type": "execute_result"
    }
   ],
   "source": [
    "# 秀出資料欄位的類型與數量\n",
    "dtype_df = df.dtypes.reset_index()\n",
    "print(dtype_df,\"\\n\")\n",
    "dtype_df.columns = [\"Count\", \"Column Type\"]#change column name\n",
    "print(dtype_df,\"\\n\")\n",
    "dtype_df = dtype_df.groupby(\"Column Type\").aggregate('count').reset_index()\n",
    "dtype_df"
   ]
  },
  {
   "cell_type": "code",
   "execution_count": 25,
   "metadata": {},
   "outputs": [
    {
     "name": "stdout",
     "output_type": "stream",
     "text": [
      "3 Integer Features : ['Pclass', 'SibSp', 'Parch']\n",
      "\n",
      "2 Float Features : ['Age', 'Fare']\n",
      "\n",
      "5 Object Features : ['Name', 'Sex', 'Ticket', 'Cabin', 'Embarked']\n"
     ]
    }
   ],
   "source": [
    "#確定只有 int64, float64, object 三種類型後, 分別將欄位名稱存於三個 list 中\n",
    "int_features = []\n",
    "float_features = []\n",
    "object_features = []\n",
    "for dtype, feature in zip(df.dtypes, df.columns):\n",
    "    if dtype == 'float64':\n",
    "        float_features.append(feature)\n",
    "    elif dtype == 'int64':\n",
    "        int_features.append(feature)\n",
    "    else:\n",
    "        object_features.append(feature)\n",
    "print(f'{len(int_features)} Integer Features : {int_features}\\n')#f'___' >>>f-strings\n",
    "print(f'{len(float_features)} Float Features : {float_features}\\n')\n",
    "print(f'{len(object_features)} Object Features : {object_features}')"
   ]
  },
  {
   "cell_type": "markdown",
   "metadata": {
    "collapsed": true
   },
   "source": [
    "# 作業1 \n",
    "* 試著執行作業程式，觀察三種類型 (int / float / object) 的欄位分別進行( 平均 mean / 最大值 Max / 相異值 nunique )中的九次操作會有那些問題? 並試著解釋那些發生Error的程式區塊的原因?  "
   ]
  },
  {
   "cell_type": "code",
   "execution_count": 50,
   "metadata": {},
   "outputs": [
    {
     "data": {
      "text/plain": [
       "Pclass    2.294882\n",
       "SibSp     0.498854\n",
       "Parch     0.385027\n",
       "dtype: float64"
      ]
     },
     "execution_count": 50,
     "metadata": {},
     "output_type": "execute_result"
    }
   ],
   "source": [
    "# 例 : 整數 (int) 特徵取平均 (mean)\n",
    "df[int_features].mean()"
   ]
  },
  {
   "cell_type": "markdown",
   "metadata": {},
   "source": [
    "# 並試著解釋那些發生Error的程式區塊的原因?\n",
    "雖然沒遇上Error，但有些小問題出現在object_features。\n",
    "object_features，並沒有mean，因為dtype，為object。\n",
    "object_features，雖然有給出max，但其計算方式為字母的代表數值。object_feautres，的nunique值，也是基於相同數值產出。"
   ]
  },
  {
   "cell_type": "code",
   "execution_count": 49,
   "metadata": {},
   "outputs": [
    {
     "name": "stdout",
     "output_type": "stream",
     "text": [
      "mean\n",
      " Pclass    2.294882\n",
      "SibSp     0.498854\n",
      "Parch     0.385027\n",
      "dtype: float64 \n",
      "max\n",
      " Pclass    3\n",
      "SibSp     8\n",
      "Parch     9\n",
      "dtype: int64 \n",
      "nunique\n",
      " Pclass    3\n",
      "SibSp     7\n",
      "Parch     8\n",
      "dtype: int64 \n",
      "\n",
      "\n",
      "mean\n",
      " Age     29.881138\n",
      "Fare    33.295479\n",
      "dtype: float64 \n",
      "max\n",
      " Age      80.0000\n",
      "Fare    512.3292\n",
      "dtype: float64 \n",
      "nunique\n",
      " Age      98\n",
      "Fare    281\n",
      "dtype: int64 \n",
      "\n",
      "\n",
      "mean\n",
      " Series([], dtype: float64) \n",
      "max\n",
      " Name      van Melkebeke, Mr. Philemon\n",
      "Sex                              male\n",
      "Ticket                      WE/P 5735\n",
      "dtype: object \n",
      "nunique\n",
      " Name        1307\n",
      "Sex            2\n",
      "Ticket       929\n",
      "Cabin        186\n",
      "Embarked       3\n",
      "dtype: int64 \n",
      "\n",
      "\n"
     ]
    }
   ],
   "source": [
    "# 請依序列出 三種特徵類型 (int / float / object) x 三種方法 (平均 mean / 最大值 Max / 相異值 nunique) 的其餘操作\n",
    "\"\"\"\n",
    "Your Code Here\n",
    "\"\"\"\n",
    "def observe(df):\n",
    "    for i in df:\n",
    "        print(\"mean\\n\",i.mean(),\"\\nmax\\n\",i.max(),\"\\nnunique\\n\",i.nunique(),\"\\n\\n\")\n",
    "\n",
    "ob_data=[df[int_features],df[float_features],df[object_features]]\n",
    "observe(ob_data)"
   ]
  },
  {
   "cell_type": "markdown",
   "metadata": {},
   "source": [
    "# 作業2\n",
    "* 思考一下，試著舉出今天五種類型以外的一種或多種資料類型，你舉出的新類型是否可以歸在三大類中的某些大類? 所以三大類特徵中，哪一大類處理起來應該最複雜?"
   ]
  },
  {
   "cell_type": "markdown",
   "metadata": {},
   "source": [
    ">圖像資料。圖像資料可能可經過程式演算出二元特徵數值，如黑白雙色pixel可用1表示黑而0表示白，進而轉換成數值特徵。\n",
    ">object類特徵處理起來最為困難，因為需用某些方法將其資料轉化為對程式碼而言有乘載信息的數據。"
   ]
  },
  {
   "cell_type": "code",
   "execution_count": null,
   "metadata": {},
   "outputs": [],
   "source": []
  }
 ],
 "metadata": {
  "kernelspec": {
   "display_name": "Python 3",
   "language": "python",
   "name": "python3"
  },
  "language_info": {
   "codemirror_mode": {
    "name": "ipython",
    "version": 3
   },
   "file_extension": ".py",
   "mimetype": "text/x-python",
   "name": "python",
   "nbconvert_exporter": "python",
   "pygments_lexer": "ipython3",
   "version": "3.7.4"
  }
 },
 "nbformat": 4,
 "nbformat_minor": 2
}
