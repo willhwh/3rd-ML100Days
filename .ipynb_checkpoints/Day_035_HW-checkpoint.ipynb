{
 "cells": [
  {
   "cell_type": "markdown",
   "metadata": {},
   "source": [
    "## 練習時間\n",
    "相信大家對回歸問題及分類問題都有初步的了解。今天的作業希望大家搜尋有關 multi-label 的案例問題。下圖是電影 \"奇異博士\" 的分類。可以看到同時有 \"Action\", \"Adventure\", \"Fantasy\" 的類別存在，代表這是個多標籤的問題。 "
   ]
  },
  {
   "cell_type": "markdown",
   "metadata": {},
   "source": [
    "![image](https://cdn-images-1.medium.com/max/1000/1*r0gYXMSQf5VhdMyl2bRDyg.png)"
   ]
  },
  {
   "cell_type": "markdown",
   "metadata": {},
   "source": [
    "## 請搜尋目標為多標籤問題 (Multi-label) 的機器學習案例，了解其資料來源、目標以及評估指標為何\n",
    "## Hint: 服飾"
   ]
  },
  {
   "cell_type": "markdown",
   "metadata": {},
   "source": [
    "食物照片的分類，可以是多標籤問題。\n",
    ">資料來源：網路擷取之照片，自行拍攝之照片等等\n",
    "\n",
    ">目標：藉由餵食照片，來取得該照片之分類，如素食，葷食，湯類，飯類，麵類，肉類，蔬菜類等等\n",
    "\n",
    ">評估指標：\n",
    "\n",
    ">>1.hamming loss:被误分类的instance-label 对的个数，（例如，不属于这个样本的标签被预测，或者属于这个样本的标签没有被预测）\n",
    "\n",
    ">>2.one-error:评估top-ranked label不在样本的真实标签集中的次数\n",
    "\n",
    ">>3.coverage:所有文档中排序最靠后的真实标签的排序平均值\n",
    "\n",
    ">>4.ranking loss:相关标签集合与不相关标签集合进行两两比较，然后统计相关标签的预测可能性比不相关标签额预测可能性要小的次数\n",
    "\n",
    ">>5.average precision:对于一个有序的列表，计算每个位置上的precision，然后对所有位置的precision做average\n",
    "\n",
    ">>retrieved from  :\n",
    "https://www.cnblogs.com/liaohuiqiang/p/9339996.html \n",
    "https://blog.csdn.net/yinyu19950811/article/details/82534505"
   ]
  }
 ],
 "metadata": {
  "kernelspec": {
   "display_name": "Python 3",
   "language": "python",
   "name": "python3"
  },
  "language_info": {
   "codemirror_mode": {
    "name": "ipython",
    "version": 3
   },
   "file_extension": ".py",
   "mimetype": "text/x-python",
   "name": "python",
   "nbconvert_exporter": "python",
   "pygments_lexer": "ipython3",
   "version": "3.7.4"
  }
 },
 "nbformat": 4,
 "nbformat_minor": 2
}
