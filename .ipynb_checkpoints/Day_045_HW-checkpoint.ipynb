{
 "cells": [
  {
   "cell_type": "markdown",
   "metadata": {},
   "source": [
    "https://explained.ai/gradient-boosting/index.html\n",
    "深入了解 Gradient-boosting - 英文\n",
    "\n",
    "https://www.youtube.com/watch?v=tH9FH1DH5n0\n",
    "完整的 Ensemble 概念 by 李宏毅教授\n",
    "\n",
    "http://blog.kaggle.com/2017/01/23/a-kaggle-master-explains-gradient-boosting/\n",
    "Kaggle 大師帶你了解梯度提升機原理 - 英文\n",
    "\n",
    "https://ifun01.com/84A3FW7.html\n",
    "梯度提升機原理理 - 簡體\n",
    "\n",
    "https://www.youtube.com/watch?v=ufHo8vbk6g4\n",
    "XGboost 作者講解原理理 - 英⽂文\n",
    "\n",
    "https://homes.cs.washington.edu/~tqchen/pdf/BoostedTree.pdf\n",
    "XGBoost 數學原理理 slides - 英⽂文\n",
    "\n",
    "https://baimafujinji.blog.csdn.net/article/details/104854260\n",
    "梯度提升树（GBDT）详解"
   ]
  }
 ],
 "metadata": {
  "kernelspec": {
   "display_name": "Python 3",
   "language": "python",
   "name": "python3"
  },
  "language_info": {
   "codemirror_mode": {
    "name": "ipython",
    "version": 3
   },
   "file_extension": ".py",
   "mimetype": "text/x-python",
   "name": "python",
   "nbconvert_exporter": "python",
   "pygments_lexer": "ipython3",
   "version": "3.7.4"
  }
 },
 "nbformat": 4,
 "nbformat_minor": 2
}
