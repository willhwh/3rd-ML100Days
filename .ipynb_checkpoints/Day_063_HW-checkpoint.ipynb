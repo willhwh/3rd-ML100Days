{
 "cells": [
  {
   "cell_type": "markdown",
   "metadata": {},
   "source": [
    "# 作業\n",
    "* 在精簡深度學習的方式上 : 卷積類神經 (CNN) 採用像素遠近，而遞歸類神經 (RNN) 採用著則是時間遠近\n",
    "* 那麼，既然有著類似的設計精神，兩者是否有可能互換應用呢?"
   ]
  },
  {
   "cell_type": "markdown",
   "metadata": {
    "collapsed": true
   },
   "source": [
    ">個人認為兩者不能互換應用。雖然有著類似的精神，\n",
    "但CNN是利用“平移不變性”來共用權重，進而減少計算。\n",
    "而RNN則是增加了時序，雖然採用“時間遠近”來決定是否減少計算，但兩者設計意義不同。\n",
    "CNN用於圖像，RNN用於時序。\n",
    "\n",
    ">實際上有部分互換空間的。\n",
    "1維CNN可用於時序，常與進階版的 RNN-長短期記憶網路(LSTM) 搭配使用，用來預測股市等時序型問題"
   ]
  },
  {
   "cell_type": "code",
   "execution_count": null,
   "metadata": {},
   "outputs": [],
   "source": []
  }
 ],
 "metadata": {
  "kernelspec": {
   "display_name": "Python 3",
   "language": "python",
   "name": "python3"
  },
  "language_info": {
   "codemirror_mode": {
    "name": "ipython",
    "version": 3
   },
   "file_extension": ".py",
   "mimetype": "text/x-python",
   "name": "python",
   "nbconvert_exporter": "python",
   "pygments_lexer": "ipython3",
   "version": "3.7.4"
  }
 },
 "nbformat": 4,
 "nbformat_minor": 2
}
