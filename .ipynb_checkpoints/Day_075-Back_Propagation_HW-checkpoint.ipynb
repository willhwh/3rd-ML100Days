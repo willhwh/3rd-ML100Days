{
 "cells": [
  {
   "cell_type": "markdown",
   "metadata": {},
   "source": [
    "# 作業目標:\n",
    "\n",
    "    通過建立多層的神經網路, 了解權值矩陣更新"
   ]
  },
  {
   "cell_type": "markdown",
   "metadata": {},
   "source": [
    "# 作業重點: \n",
    "\n",
    "3  層神經網路\n",
    "\n",
    "通過增加更多的中間層，以對更多關係的組合進行建模\n",
    "\n",
    "syn1 權值矩陣將隱層的組合輸出映射到最終結果，\n",
    "\n",
    "而在更新 syn1 的同時，還需要更新 syn0 權值矩陣，\n",
    "\n",
    "以從輸入資料中更好地產生這些組合"
   ]
  },
  {
   "cell_type": "markdown",
   "metadata": {},
   "source": [
    "- 輸入層 有四個值\n",
    "- 隱藏層 有四個神經元\n",
    "- 輸出層 有一個神經元"
   ]
  },
  {
   "cell_type": "code",
   "execution_count": 1,
   "metadata": {},
   "outputs": [],
   "source": [
    "import numpy as np\n",
    " \n",
    "# Sigmoid 函數可以將任何值都映射到一個位於 0 到  1 範圍內的值。通過它，我們可以將實數轉化為概率值\n",
    "def nonlin(x,deriv=False):\n",
    "    if(deriv==True):\n",
    "        return x*(1-x)\n",
    "    return 1/(1+np.exp(-x))\n",
    "\n",
    "# 參數定義\n",
    "# X 輸入資料集，形式為矩陣，每 1 行代表 1 個訓練樣本。\n",
    "# y 輸出資料集，形式為矩陣，每 1 行代表 1 個訓練樣本。\n",
    "\n",
    "#共3個樣本\n",
    "X = np.array([  [0,0,1],\n",
    "                [0,1,1],\n",
    "                [1,0,1],\n",
    "                [1,1,1] ])  \n",
    "        \n",
    "# define y for output dataset            \n",
    "y=np.array([[0,0,1,1]]).T\n"
   ]
  },
  {
   "cell_type": "code",
   "execution_count": 2,
   "metadata": {
    "scrolled": true
   },
   "outputs": [
    {
     "data": {
      "text/plain": [
       "array([[0, 0, 1],\n",
       "       [0, 1, 1],\n",
       "       [1, 0, 1],\n",
       "       [1, 1, 1]])"
      ]
     },
     "execution_count": 2,
     "metadata": {},
     "output_type": "execute_result"
    }
   ],
   "source": [
    "X #4*3矩陣"
   ]
  },
  {
   "cell_type": "code",
   "execution_count": 3,
   "metadata": {},
   "outputs": [
    {
     "data": {
      "text/plain": [
       "array([[0],\n",
       "       [0],\n",
       "       [1],\n",
       "       [1]])"
      ]
     },
     "execution_count": 3,
     "metadata": {},
     "output_type": "execute_result"
    }
   ],
   "source": [
    "y #4*1矩陣"
   ]
  },
  {
   "cell_type": "code",
   "execution_count": 4,
   "metadata": {},
   "outputs": [],
   "source": [
    "# seed random numbers to make calculation\n",
    "# deterministic (just a good practice)\n",
    "np.random.seed(1)\n",
    "#亂數設定產生種子得到的權重初始化集仍是隨機分佈的，\n",
    "#但每次開始訓練時，得到的權重初始集分佈都是完全一致的。\n",
    " \n",
    "# initialize weights randomly with mean 0\n",
    "syn0 = 2*np.random.random((3,4))-1\n",
    "\n",
    "# define syn1\n",
    "syn1 = 2*np.random.random((4,1))-1\n",
    "\n",
    "\n",
    "iter = 0\n",
    "#該神經網路權重矩陣的初始化操作。\n",
    "#用 “syn0” 來代指 (即“輸入層-第一層隱層”間權重矩陣）\n",
    "#用 “syn1” 來代指 (即“輸入層-第二層隱層”間權重矩陣）\n",
    "\n"
   ]
  },
  {
   "cell_type": "markdown",
   "metadata": {},
   "source": [
    "神經網路訓練\n",
    "for 迴圈反覆運算式地多次執行訓練代碼，使得我們的網路能更好地擬合訓練集"
   ]
  },
  {
   "cell_type": "code",
   "execution_count": 5,
   "metadata": {},
   "outputs": [
    {
     "name": "stdout",
     "output_type": "stream",
     "text": [
      "Output before Training:\n",
      "[[0.44856632 0.51939863 0.45968497 0.59156505]\n",
      " [0.28639589 0.32350963 0.31236398 0.51538526]\n",
      " [0.40795614 0.62674606 0.23841622 0.49377636]\n",
      " [0.25371248 0.42628115 0.14321233 0.41732254]]\n",
      "\n",
      "\n",
      "\n",
      "[[0.47372957]\n",
      " [0.48895696]\n",
      " [0.54384086]\n",
      " [0.54470837]]\n"
     ]
    }
   ],
   "source": [
    "#訓練前權重\n",
    "l0 = X\n",
    "l1 = nonlin(np.dot(l0,syn0))\n",
    "l2 = nonlin(np.dot(l1,syn1))\n",
    "'''\n",
    "# Feed forward through layers 0, 1, and 2\n",
    "# l0 網路第 1 層，即網路輸入層。\n",
    "# l1 網路第 2 層，常稱作隱藏層。\n",
    "# l2 假定為網路最後一層，隨著訓練進行，其輸出應該逐漸接近正確結果\n",
    "'''\n",
    "print(\"Output before Training:\")\n",
    "print(l1)\n",
    "print(\"\\n\\n\")\n",
    "print(l2)"
   ]
  },
  {
   "cell_type": "code",
   "execution_count": 6,
   "metadata": {},
   "outputs": [
    {
     "name": "stdout",
     "output_type": "stream",
     "text": [
      "0\n",
      "L2_Error:0.4685343254580603\n",
      "L1_Error:0.4685343254580603\n",
      "10000\n",
      "L2_Error:0.1598838126736579\n",
      "L1_Error:0.1598838126736579\n",
      "20000\n",
      "L2_Error:0.15179138107920168\n",
      "L1_Error:0.15179138107920168\n",
      "30000\n",
      "L2_Error:0.1479281445309289\n",
      "L1_Error:0.1479281445309289\n",
      "40000\n",
      "L2_Error:0.14550248128640852\n",
      "L1_Error:0.14550248128640852\n",
      "50000\n",
      "L2_Error:0.14377788842085396\n",
      "L1_Error:0.14377788842085396\n",
      "60000\n",
      "L2_Error:0.1424603661688671\n",
      "L1_Error:0.1424603661688671\n"
     ]
    }
   ],
   "source": [
    "syn1_history=[]\n",
    "syn0_history=[]\n",
    "for iter in range(60000):\n",
    "    # forward propagation\n",
    "    l0 = X\n",
    "    l1 = nonlin(np.dot(l0,syn0))\n",
    "    l2 = nonlin(np.dot(l1,syn1))\n",
    "    '''\n",
    "    # how much did we miss the target value?\n",
    "    # l2_error 該值說明了神經網路預測時“丟失”的數目。\n",
    "    # l2_delta 該值為經確信度加權後的神經網路的誤差，除了確信誤差很小時，它近似等於預測誤差。\n",
    "    # l1_error 該值為 l2_delta 經 syn1 加權後的結果，從而能夠計算得到中間層/隱層的誤差。\n",
    "    # l1_delta 該值為經確信度加權後的神經網路 l1 層的誤差，除了確信誤差很小時，它近似等於 l1_error 。\n",
    "    '''\n",
    "    \n",
    "    # how much did we miss?\n",
    "    l2_error=  y - l2\n",
    "    \n",
    "    # multiply how much we missed by the \n",
    "    # slope of the sigmoid at the values in l1\n",
    "    l2_delta = l2_error * nonlin(l2,True)\n",
    "    l1_error = l2_delta * nonlin(l1,True)\n",
    "    \n",
    "    l1_delta = l1_error * nonlin(l1,deriv=True)\n",
    "    \n",
    "    # update weights\n",
    "    \n",
    "    syn1 += l1.T.dot(l2_delta)\n",
    "    syn0 += l0.T.dot(l1_delta)\n",
    "    \n",
    "    syn1_history.append(syn1)\n",
    "    syn0_history.append(syn0)\n",
    "    if (iter% 10000) == 0:\n",
    "        print(f\"{iter}\")\n",
    "    \n",
    "    if (iter% 10000) == 0:\n",
    "        print(\"L2_Error:\" + str(np.mean(np.abs(l2_error))))\n",
    "        \n",
    "    if (iter% 10000) == 0:\n",
    "        print(\"L1_Error:\" + str(np.mean(np.abs(l2_error))))\n",
    "\n",
    "print('60000')\n",
    "print(\"L2_Error:\" + str(np.mean(np.abs(l2_error))))\n",
    "print(\"L1_Error:\" + str(np.mean(np.abs(l2_error)))) "
   ]
  },
  {
   "cell_type": "code",
   "execution_count": 7,
   "metadata": {},
   "outputs": [
    {
     "name": "stdout",
     "output_type": "stream",
     "text": [
      "Output After Training:\n",
      "[[0.03421756 0.03379603 0.02572573 0.03457432]\n",
      " [0.00773208 0.00770741 0.00432394 0.00772982]\n",
      " [0.91477842 0.91581813 0.03857198 0.91412815]\n",
      " [0.7024541  0.70724358 0.00655503 0.69839431]]\n",
      "\n",
      "\n",
      "\n",
      "[[0.10921785]\n",
      " [0.41649408]\n",
      " [0.96480434]\n",
      " [0.99106612]]\n"
     ]
    }
   ],
   "source": [
    "#訓練後權重\n",
    "print(\"Output After Training:\")\n",
    "print(l1)\n",
    "print(\"\\n\\n\")\n",
    "print(l2)"
   ]
  },
  {
   "cell_type": "code",
   "execution_count": null,
   "metadata": {},
   "outputs": [],
   "source": []
  }
 ],
 "metadata": {
  "kernelspec": {
   "display_name": "Python 3",
   "language": "python",
   "name": "python3"
  },
  "language_info": {
   "codemirror_mode": {
    "name": "ipython",
    "version": 3
   },
   "file_extension": ".py",
   "mimetype": "text/x-python",
   "name": "python",
   "nbconvert_exporter": "python",
   "pygments_lexer": "ipython3",
   "version": "3.7.4"
  }
 },
 "nbformat": 4,
 "nbformat_minor": 2
}
