{
 "cells": [
  {
   "cell_type": "markdown",
   "metadata": {},
   "source": [
    "https://ruder.io/optimizing-gradient-descent/"
   ]
  },
  {
   "cell_type": "markdown",
   "metadata": {},
   "source": [
    "## Work\n",
    "1. 請嘗試將 preproc_x 替換成以每筆資料的 min/max 進行標準化至 -1 ~ 1 間，再進行訓練\n",
    "2. 請嘗試將 mlp 疊更深 (e.g 5~10 層)，進行訓練後觀察 learning curve 的走勢\n",
    "3. (optional) 請改用 GPU 進行訓練 (如果你有 GPU 的話)，比較使用 CPU 與 GPU 的訓練速度"
   ]
  },
  {
   "cell_type": "code",
   "execution_count": 1,
   "metadata": {},
   "outputs": [
    {
     "name": "stdout",
     "output_type": "stream",
     "text": [
      "/bin/sh: nvidia-smi: command not found\r\n"
     ]
    }
   ],
   "source": [
    "## \n",
    "\"\"\"\n",
    "Your code here (optional)\n",
    "確認硬體資源\n",
    "\"\"\"\n",
    "!nvidia-smi"
   ]
  },
  {
   "cell_type": "code",
   "execution_count": 2,
   "metadata": {},
   "outputs": [],
   "source": [
    "import os\n",
    "import tensorflow.keras as keras\n",
    "\n",
    "# 請嘗試設定 GPU：os.environ\n",
    "os.environ[\"CUDA_VISIBLE_DEVICES\"] = \"\""
   ]
  },
  {
   "cell_type": "code",
   "execution_count": 3,
   "metadata": {},
   "outputs": [],
   "source": [
    "train, test = keras.datasets.cifar10.load_data()"
   ]
  },
  {
   "cell_type": "code",
   "execution_count": 4,
   "metadata": {},
   "outputs": [],
   "source": [
    "from sklearn import preprocessing"
   ]
  },
  {
   "cell_type": "code",
   "execution_count": 5,
   "metadata": {},
   "outputs": [],
   "source": [
    "## 資料前處理\n",
    "\"\"\"\n",
    "Your code here\n",
    "\"\"\"\n",
    "#improt preprocessing from sklearn\n",
    "from sklearn import preprocessing\n",
    "def preproc_x(x, flatten=True):\n",
    "    x = x / 255.\n",
    "    if flatten:\n",
    "        x = x.reshape((len(x), -1))\n",
    "# MinMax Scaler -1,1\n",
    "        x=preprocessing.MinMaxScaler(feature_range=(-1, 1)).fit_transform(x)\n",
    "    return x\n",
    "\n",
    "def preproc_y(y, num_classes=10):\n",
    "    if y.shape[-1] == 1:\n",
    "        y = keras.utils.to_categorical(y, num_classes)\n",
    "    return y    "
   ]
  },
  {
   "cell_type": "code",
   "execution_count": 6,
   "metadata": {},
   "outputs": [],
   "source": [
    "x_train, y_train = train\n",
    "x_test, y_test = test\n",
    "\n",
    "# Preproc the inputs\n",
    "x_train = preproc_x(x_train)\n",
    "x_test = preproc_x(x_test)\n",
    "\n",
    "# Preprc the outputs\n",
    "y_train = preproc_y(y_train)\n",
    "y_test = preproc_y(y_test)"
   ]
  },
  {
   "cell_type": "code",
   "execution_count": 7,
   "metadata": {
    "scrolled": false
   },
   "outputs": [
    {
     "data": {
      "text/plain": [
       "array([[-0.5372549 , -0.51372549, -0.50588235, ..., -0.03529412,\n",
       "        -0.27843137, -0.43529412],\n",
       "       [ 0.20784314,  0.38823529,  0.46666667, ...,  0.12156863,\n",
       "         0.04313725,  0.12941176],\n",
       "       [ 1.        ,  1.        ,  1.        , ..., -0.37254902,\n",
       "        -0.3254902 , -0.34117647],\n",
       "       ...,\n",
       "       [-0.7254902 ,  0.39607843,  0.84313725, ..., -0.90588235,\n",
       "        -0.75686275, -0.60784314],\n",
       "       [ 0.48235294,  0.65490196,  0.88235294, ...,  0.52941176,\n",
       "         0.49019608,  0.34117647],\n",
       "       [ 0.79607843,  0.79607843,  0.8745098 , ...,  0.27843137,\n",
       "         0.27843137,  0.2627451 ]])"
      ]
     },
     "execution_count": 7,
     "metadata": {},
     "output_type": "execute_result"
    }
   ],
   "source": [
    "x_train"
   ]
  },
  {
   "cell_type": "code",
   "execution_count": 8,
   "metadata": {},
   "outputs": [
    {
     "name": "stdout",
     "output_type": "stream",
     "text": [
      "Model: \"functional_1\"\n",
      "_________________________________________________________________\n",
      "Layer (type)                 Output Shape              Param #   \n",
      "=================================================================\n",
      "input_1 (InputLayer)         [(None, 3072)]            0         \n",
      "_________________________________________________________________\n",
      "hidden_layer1 (Dense)        (None, 512)               1573376   \n",
      "_________________________________________________________________\n",
      "hidden_layer2 (Dense)        (None, 256)               131328    \n",
      "_________________________________________________________________\n",
      "hidden_layer3 (Dense)        (None, 128)               32896     \n",
      "_________________________________________________________________\n",
      "hidden_layer4 (Dense)        (None, 64)                8256      \n",
      "_________________________________________________________________\n",
      "hidden_layer5 (Dense)        (None, 32)                2080      \n",
      "_________________________________________________________________\n",
      "output (Dense)               (None, 10)                330       \n",
      "=================================================================\n",
      "Total params: 1,748,266\n",
      "Trainable params: 1,748,266\n",
      "Non-trainable params: 0\n",
      "_________________________________________________________________\n"
     ]
    }
   ],
   "source": [
    "\"\"\"Code Here\n",
    "建立你的神經網路\n",
    "\"\"\"\n",
    "def build_mlp(input_shape, output_units=10, num_neurons=[512, 256, 128,64,32]):\n",
    "    input_layer = keras.layers.Input(input_shape)\n",
    "    for i, n_units in enumerate(num_neurons):\n",
    "        if i == 0:\n",
    "            x = keras.layers.Dense(units=n_units, activation=\"relu\", name=\"hidden_layer\"+str(i+1))(input_layer)\n",
    "        else:\n",
    "            x = keras.layers.Dense(units=n_units, activation=\"relu\", name=\"hidden_layer\"+str(i+1))(x)\n",
    "    \n",
    "    out = keras.layers.Dense(units=output_units, activation=\"softmax\", name=\"output\")(x)\n",
    "    \n",
    "    model = keras.models.Model(inputs=[input_layer], outputs=[out])\n",
    "    return model\n",
    "\n",
    "model=build_mlp(input_shape=x_train.shape[1:])\n",
    "model.summary()"
   ]
  },
  {
   "cell_type": "code",
   "execution_count": 9,
   "metadata": {},
   "outputs": [],
   "source": [
    "## 超參數設定\n",
    "LEARNING_RATE = 0.01\n",
    "EPOCHS = 100\n",
    "BATCH_SIZE = 256"
   ]
  },
  {
   "cell_type": "code",
   "execution_count": 10,
   "metadata": {},
   "outputs": [],
   "source": [
    "#with Adam optimizer\n",
    "optimizer = keras.optimizers.Adam(lr=LEARNING_RATE)\n",
    "model.compile(loss=\"categorical_crossentropy\", metrics=[\"accuracy\"], optimizer=optimizer)"
   ]
  },
  {
   "cell_type": "code",
   "execution_count": 11,
   "metadata": {},
   "outputs": [
    {
     "name": "stdout",
     "output_type": "stream",
     "text": [
      "Epoch 1/100\n",
      "196/196 [==============================] - 22s 114ms/step - loss: 2.2017 - accuracy: 0.2248 - val_loss: 1.8727 - val_accuracy: 0.3135\n",
      "Epoch 2/100\n",
      "196/196 [==============================] - 23s 117ms/step - loss: 1.7400 - accuracy: 0.3702 - val_loss: 1.6392 - val_accuracy: 0.4173\n",
      "Epoch 3/100\n",
      "196/196 [==============================] - 23s 119ms/step - loss: 1.5819 - accuracy: 0.4360 - val_loss: 1.5421 - val_accuracy: 0.4502\n",
      "Epoch 4/100\n",
      "196/196 [==============================] - 25s 130ms/step - loss: 1.4969 - accuracy: 0.4666 - val_loss: 1.4879 - val_accuracy: 0.4696\n",
      "Epoch 5/100\n",
      "196/196 [==============================] - 16s 81ms/step - loss: 1.4293 - accuracy: 0.4909 - val_loss: 1.4695 - val_accuracy: 0.4786\n",
      "Epoch 6/100\n",
      "196/196 [==============================] - 19s 95ms/step - loss: 1.3718 - accuracy: 0.5116 - val_loss: 1.4574 - val_accuracy: 0.4875\n",
      "Epoch 7/100\n",
      "196/196 [==============================] - 23s 119ms/step - loss: 1.3288 - accuracy: 0.5278 - val_loss: 1.4752 - val_accuracy: 0.4881\n",
      "Epoch 8/100\n",
      "196/196 [==============================] - 22s 114ms/step - loss: 1.3007 - accuracy: 0.5403 - val_loss: 1.4327 - val_accuracy: 0.4989\n",
      "Epoch 9/100\n",
      "196/196 [==============================] - 23s 119ms/step - loss: 1.2535 - accuracy: 0.5564 - val_loss: 1.4474 - val_accuracy: 0.4890\n",
      "Epoch 10/100\n",
      "196/196 [==============================] - 23s 117ms/step - loss: 1.2320 - accuracy: 0.5670 - val_loss: 1.4460 - val_accuracy: 0.5070\n",
      "Epoch 11/100\n",
      "196/196 [==============================] - 24s 122ms/step - loss: 1.1965 - accuracy: 0.5776 - val_loss: 1.4451 - val_accuracy: 0.5113\n",
      "Epoch 12/100\n",
      "196/196 [==============================] - 16s 82ms/step - loss: 1.1541 - accuracy: 0.5912 - val_loss: 1.4676 - val_accuracy: 0.4966\n",
      "Epoch 13/100\n",
      "196/196 [==============================] - 16s 81ms/step - loss: 1.1375 - accuracy: 0.5999 - val_loss: 1.4394 - val_accuracy: 0.5202\n",
      "Epoch 14/100\n",
      "196/196 [==============================] - 16s 79ms/step - loss: 1.1052 - accuracy: 0.6131 - val_loss: 1.4816 - val_accuracy: 0.5110\n",
      "Epoch 15/100\n",
      "196/196 [==============================] - 21s 107ms/step - loss: 1.0852 - accuracy: 0.6176 - val_loss: 1.4397 - val_accuracy: 0.5167\n",
      "Epoch 16/100\n",
      "196/196 [==============================] - 29s 146ms/step - loss: 1.0511 - accuracy: 0.6293 - val_loss: 1.5195 - val_accuracy: 0.5117\n",
      "Epoch 17/100\n",
      "196/196 [==============================] - 38s 195ms/step - loss: 1.0365 - accuracy: 0.6369 - val_loss: 1.5076 - val_accuracy: 0.5168\n",
      "Epoch 18/100\n",
      "196/196 [==============================] - 20s 102ms/step - loss: 1.0129 - accuracy: 0.6454 - val_loss: 1.5480 - val_accuracy: 0.5139\n",
      "Epoch 19/100\n",
      "196/196 [==============================] - 32s 163ms/step - loss: 0.9852 - accuracy: 0.6553 - val_loss: 1.5478 - val_accuracy: 0.5039\n",
      "Epoch 20/100\n",
      "196/196 [==============================] - 31s 159ms/step - loss: 0.9761 - accuracy: 0.6565 - val_loss: 1.5144 - val_accuracy: 0.5130\n",
      "Epoch 21/100\n",
      "196/196 [==============================] - 32s 165ms/step - loss: 0.9593 - accuracy: 0.6654 - val_loss: 1.5337 - val_accuracy: 0.5232\n",
      "Epoch 22/100\n",
      "196/196 [==============================] - 31s 157ms/step - loss: 0.9272 - accuracy: 0.6743 - val_loss: 1.5641 - val_accuracy: 0.5135\n",
      "Epoch 23/100\n",
      "196/196 [==============================] - 31s 160ms/step - loss: 0.9265 - accuracy: 0.6779 - val_loss: 1.6250 - val_accuracy: 0.5102\n",
      "Epoch 24/100\n",
      "196/196 [==============================] - 35s 176ms/step - loss: 0.8915 - accuracy: 0.6887 - val_loss: 1.5844 - val_accuracy: 0.5086\n",
      "Epoch 25/100\n",
      "196/196 [==============================] - 31s 161ms/step - loss: 0.8741 - accuracy: 0.6948 - val_loss: 1.6340 - val_accuracy: 0.5185\n",
      "Epoch 26/100\n",
      "196/196 [==============================] - 40s 206ms/step - loss: 0.8766 - accuracy: 0.6928 - val_loss: 1.6213 - val_accuracy: 0.5176\n",
      "Epoch 27/100\n",
      "196/196 [==============================] - 28s 142ms/step - loss: 0.8503 - accuracy: 0.7041 - val_loss: 1.6426 - val_accuracy: 0.5142\n",
      "Epoch 28/100\n",
      "196/196 [==============================] - 27s 140ms/step - loss: 0.8355 - accuracy: 0.7090 - val_loss: 1.6389 - val_accuracy: 0.5048\n",
      "Epoch 29/100\n",
      "196/196 [==============================] - 36s 184ms/step - loss: 0.8441 - accuracy: 0.7082 - val_loss: 1.6536 - val_accuracy: 0.5186\n",
      "Epoch 30/100\n",
      "196/196 [==============================] - 31s 156ms/step - loss: 0.8261 - accuracy: 0.7134 - val_loss: 1.6981 - val_accuracy: 0.5099\n",
      "Epoch 31/100\n",
      "196/196 [==============================] - 34s 172ms/step - loss: 0.7905 - accuracy: 0.7251 - val_loss: 1.7858 - val_accuracy: 0.5078\n",
      "Epoch 32/100\n",
      "196/196 [==============================] - 32s 162ms/step - loss: 0.8198 - accuracy: 0.7173 - val_loss: 1.6918 - val_accuracy: 0.5089\n",
      "Epoch 33/100\n",
      "196/196 [==============================] - 31s 158ms/step - loss: 0.8039 - accuracy: 0.7232 - val_loss: 1.6657 - val_accuracy: 0.5131\n",
      "Epoch 34/100\n",
      "196/196 [==============================] - 40s 202ms/step - loss: 0.7879 - accuracy: 0.7281 - val_loss: 1.8017 - val_accuracy: 0.5160\n",
      "Epoch 35/100\n",
      "196/196 [==============================] - 33s 170ms/step - loss: 0.7718 - accuracy: 0.7332 - val_loss: 1.7182 - val_accuracy: 0.5040\n",
      "Epoch 36/100\n",
      "196/196 [==============================] - 37s 190ms/step - loss: 0.7627 - accuracy: 0.7367 - val_loss: 1.7842 - val_accuracy: 0.5158\n",
      "Epoch 37/100\n",
      "196/196 [==============================] - 33s 168ms/step - loss: 0.7540 - accuracy: 0.7396 - val_loss: 1.9210 - val_accuracy: 0.5109\n",
      "Epoch 38/100\n",
      "196/196 [==============================] - 25s 128ms/step - loss: 0.7521 - accuracy: 0.7401 - val_loss: 1.7422 - val_accuracy: 0.5116\n",
      "Epoch 39/100\n",
      "196/196 [==============================] - 29s 146ms/step - loss: 0.7501 - accuracy: 0.7414 - val_loss: 1.7805 - val_accuracy: 0.5095\n",
      "Epoch 40/100\n",
      "196/196 [==============================] - 32s 161ms/step - loss: 0.7696 - accuracy: 0.7371 - val_loss: 1.8918 - val_accuracy: 0.4971\n",
      "Epoch 41/100\n",
      "196/196 [==============================] - 24s 124ms/step - loss: 0.7458 - accuracy: 0.7417 - val_loss: 1.9542 - val_accuracy: 0.5099\n",
      "Epoch 42/100\n",
      "196/196 [==============================] - 20s 104ms/step - loss: 0.7242 - accuracy: 0.7489 - val_loss: 1.8075 - val_accuracy: 0.5257\n",
      "Epoch 43/100\n",
      "196/196 [==============================] - 20s 101ms/step - loss: 0.6965 - accuracy: 0.7577 - val_loss: 1.9047 - val_accuracy: 0.5168\n",
      "Epoch 44/100\n",
      "196/196 [==============================] - 18s 90ms/step - loss: 0.6881 - accuracy: 0.7634 - val_loss: 1.8865 - val_accuracy: 0.5168\n",
      "Epoch 45/100\n",
      "196/196 [==============================] - 24s 123ms/step - loss: 0.6666 - accuracy: 0.7682 - val_loss: 1.8871 - val_accuracy: 0.5222\n",
      "Epoch 46/100\n",
      "196/196 [==============================] - 36s 184ms/step - loss: 0.6724 - accuracy: 0.7673 - val_loss: 1.9368 - val_accuracy: 0.5160\n",
      "Epoch 47/100\n",
      "196/196 [==============================] - 35s 176ms/step - loss: 0.6688 - accuracy: 0.7708 - val_loss: 2.0556 - val_accuracy: 0.5065\n",
      "Epoch 48/100\n",
      "196/196 [==============================] - 31s 160ms/step - loss: 0.6620 - accuracy: 0.7719 - val_loss: 1.8679 - val_accuracy: 0.5078\n",
      "Epoch 49/100\n",
      "196/196 [==============================] - 28s 141ms/step - loss: 0.6539 - accuracy: 0.7751 - val_loss: 1.9030 - val_accuracy: 0.5101\n",
      "Epoch 50/100\n",
      "196/196 [==============================] - 30s 153ms/step - loss: 0.6683 - accuracy: 0.7678 - val_loss: 1.9325 - val_accuracy: 0.5082\n",
      "Epoch 51/100\n",
      "196/196 [==============================] - 27s 138ms/step - loss: 0.7292 - accuracy: 0.7536 - val_loss: 1.9415 - val_accuracy: 0.5279\n",
      "Epoch 52/100\n",
      "196/196 [==============================] - 26s 131ms/step - loss: 0.6532 - accuracy: 0.7759 - val_loss: 1.9376 - val_accuracy: 0.5089\n",
      "Epoch 53/100\n",
      "196/196 [==============================] - 26s 131ms/step - loss: 0.6459 - accuracy: 0.7792 - val_loss: 2.0009 - val_accuracy: 0.5044\n",
      "Epoch 54/100\n",
      "196/196 [==============================] - 27s 137ms/step - loss: 0.6547 - accuracy: 0.7763 - val_loss: 1.8795 - val_accuracy: 0.5079\n",
      "Epoch 55/100\n",
      "196/196 [==============================] - 23s 116ms/step - loss: 0.6683 - accuracy: 0.7712 - val_loss: 1.9463 - val_accuracy: 0.4975\n",
      "Epoch 56/100\n",
      "196/196 [==============================] - 18s 92ms/step - loss: 0.6580 - accuracy: 0.7778 - val_loss: 1.9044 - val_accuracy: 0.5107\n"
     ]
    },
    {
     "name": "stdout",
     "output_type": "stream",
     "text": [
      "Epoch 57/100\n",
      "196/196 [==============================] - 18s 92ms/step - loss: 0.6204 - accuracy: 0.7855 - val_loss: 2.0534 - val_accuracy: 0.5134\n",
      "Epoch 58/100\n",
      "196/196 [==============================] - 19s 96ms/step - loss: 0.6138 - accuracy: 0.7903 - val_loss: 2.0141 - val_accuracy: 0.5143\n",
      "Epoch 59/100\n",
      "196/196 [==============================] - 18s 93ms/step - loss: 0.6278 - accuracy: 0.7859 - val_loss: 2.1036 - val_accuracy: 0.5057\n",
      "Epoch 60/100\n",
      "196/196 [==============================] - 19s 95ms/step - loss: 0.6205 - accuracy: 0.7889 - val_loss: 2.2433 - val_accuracy: 0.5123\n",
      "Epoch 61/100\n",
      "196/196 [==============================] - 18s 90ms/step - loss: 0.6679 - accuracy: 0.7774 - val_loss: 2.2804 - val_accuracy: 0.4993\n",
      "Epoch 62/100\n",
      "196/196 [==============================] - 18s 91ms/step - loss: 0.6474 - accuracy: 0.7790 - val_loss: 2.1099 - val_accuracy: 0.5025\n",
      "Epoch 63/100\n",
      "196/196 [==============================] - 19s 98ms/step - loss: 0.6147 - accuracy: 0.7909 - val_loss: 2.0170 - val_accuracy: 0.5010\n",
      "Epoch 64/100\n",
      "196/196 [==============================] - 19s 95ms/step - loss: 0.6273 - accuracy: 0.7860 - val_loss: 2.1340 - val_accuracy: 0.5088\n",
      "Epoch 65/100\n",
      "196/196 [==============================] - 19s 95ms/step - loss: 0.6261 - accuracy: 0.7874 - val_loss: 1.9262 - val_accuracy: 0.4971\n",
      "Epoch 66/100\n",
      "196/196 [==============================] - 19s 97ms/step - loss: 0.6299 - accuracy: 0.7848 - val_loss: 1.9586 - val_accuracy: 0.5093\n",
      "Epoch 67/100\n",
      "196/196 [==============================] - 19s 96ms/step - loss: 0.6498 - accuracy: 0.7813 - val_loss: 2.1164 - val_accuracy: 0.5166\n",
      "Epoch 68/100\n",
      "196/196 [==============================] - 21s 105ms/step - loss: 0.6785 - accuracy: 0.7734 - val_loss: 1.9975 - val_accuracy: 0.5093\n",
      "Epoch 69/100\n",
      "196/196 [==============================] - 21s 106ms/step - loss: 0.5974 - accuracy: 0.7953 - val_loss: 2.2059 - val_accuracy: 0.5094\n",
      "Epoch 70/100\n",
      "196/196 [==============================] - 22s 114ms/step - loss: 0.6876 - accuracy: 0.7678 - val_loss: 2.2803 - val_accuracy: 0.4886\n",
      "Epoch 71/100\n",
      "196/196 [==============================] - 20s 102ms/step - loss: 0.6836 - accuracy: 0.7700 - val_loss: 2.0483 - val_accuracy: 0.5071\n",
      "Epoch 72/100\n",
      "196/196 [==============================] - 20s 103ms/step - loss: 0.7542 - accuracy: 0.7468 - val_loss: 1.9364 - val_accuracy: 0.4921\n",
      "Epoch 73/100\n",
      "196/196 [==============================] - 18s 93ms/step - loss: 0.7128 - accuracy: 0.7589 - val_loss: 1.9997 - val_accuracy: 0.5030\n",
      "Epoch 74/100\n",
      "196/196 [==============================] - 21s 106ms/step - loss: 0.6487 - accuracy: 0.7782 - val_loss: 2.3675 - val_accuracy: 0.4586\n",
      "Epoch 75/100\n",
      "196/196 [==============================] - 24s 122ms/step - loss: 0.8272 - accuracy: 0.7275 - val_loss: 1.9789 - val_accuracy: 0.4964\n",
      "Epoch 76/100\n",
      "196/196 [==============================] - 25s 125ms/step - loss: 0.6450 - accuracy: 0.7840 - val_loss: 2.0177 - val_accuracy: 0.5181\n",
      "Epoch 77/100\n",
      "196/196 [==============================] - 23s 118ms/step - loss: 0.8946 - accuracy: 0.7094 - val_loss: 1.9067 - val_accuracy: 0.4992\n",
      "Epoch 78/100\n",
      "196/196 [==============================] - 26s 134ms/step - loss: 0.7430 - accuracy: 0.7457 - val_loss: 2.0862 - val_accuracy: 0.4767\n",
      "Epoch 79/100\n",
      "196/196 [==============================] - 25s 126ms/step - loss: 0.7941 - accuracy: 0.7336 - val_loss: 2.1059 - val_accuracy: 0.5070\n",
      "Epoch 80/100\n",
      "196/196 [==============================] - 29s 150ms/step - loss: 0.6521 - accuracy: 0.7746 - val_loss: 1.9415 - val_accuracy: 0.5100\n",
      "Epoch 81/100\n",
      "196/196 [==============================] - 29s 149ms/step - loss: 0.6575 - accuracy: 0.7756 - val_loss: 2.1292 - val_accuracy: 0.5098\n",
      "Epoch 82/100\n",
      "196/196 [==============================] - 26s 135ms/step - loss: 0.7265 - accuracy: 0.7553 - val_loss: 1.9953 - val_accuracy: 0.4494\n",
      "Epoch 83/100\n",
      "196/196 [==============================] - 27s 138ms/step - loss: 0.7450 - accuracy: 0.7413 - val_loss: 2.0444 - val_accuracy: 0.5028\n",
      "Epoch 84/100\n",
      "196/196 [==============================] - 22s 110ms/step - loss: 0.6375 - accuracy: 0.7800 - val_loss: 2.1775 - val_accuracy: 0.5107\n",
      "Epoch 85/100\n",
      "196/196 [==============================] - 24s 123ms/step - loss: 0.6506 - accuracy: 0.7794 - val_loss: 2.0591 - val_accuracy: 0.4888\n",
      "Epoch 86/100\n",
      "196/196 [==============================] - 25s 129ms/step - loss: 0.6408 - accuracy: 0.7819 - val_loss: 2.0721 - val_accuracy: 0.5039\n",
      "Epoch 87/100\n",
      "196/196 [==============================] - 25s 126ms/step - loss: 0.6321 - accuracy: 0.7850 - val_loss: 2.0755 - val_accuracy: 0.5063\n",
      "Epoch 88/100\n",
      "196/196 [==============================] - 29s 149ms/step - loss: 0.5969 - accuracy: 0.7937 - val_loss: 2.1393 - val_accuracy: 0.4992\n",
      "Epoch 89/100\n",
      "196/196 [==============================] - 29s 149ms/step - loss: 0.7436 - accuracy: 0.7515 - val_loss: 2.0277 - val_accuracy: 0.4692\n",
      "Epoch 90/100\n",
      "196/196 [==============================] - 29s 147ms/step - loss: 0.7632 - accuracy: 0.7457 - val_loss: 1.9518 - val_accuracy: 0.4950\n",
      "Epoch 91/100\n",
      "196/196 [==============================] - 30s 156ms/step - loss: 0.6913 - accuracy: 0.7677 - val_loss: 2.1521 - val_accuracy: 0.4919\n",
      "Epoch 92/100\n",
      "196/196 [==============================] - 19s 96ms/step - loss: 0.6570 - accuracy: 0.7771 - val_loss: 2.0689 - val_accuracy: 0.5078\n",
      "Epoch 93/100\n",
      "196/196 [==============================] - 16s 82ms/step - loss: 0.6829 - accuracy: 0.7685 - val_loss: 2.0657 - val_accuracy: 0.4949\n",
      "Epoch 94/100\n",
      "196/196 [==============================] - 16s 83ms/step - loss: 0.7695 - accuracy: 0.7423 - val_loss: 2.0096 - val_accuracy: 0.4910\n",
      "Epoch 95/100\n",
      "196/196 [==============================] - 17s 84ms/step - loss: 0.6903 - accuracy: 0.7597 - val_loss: 2.0471 - val_accuracy: 0.4920\n",
      "Epoch 96/100\n",
      "196/196 [==============================] - 17s 87ms/step - loss: 0.7434 - accuracy: 0.7459 - val_loss: 1.9963 - val_accuracy: 0.4952\n",
      "Epoch 97/100\n",
      "196/196 [==============================] - 16s 83ms/step - loss: 0.9300 - accuracy: 0.6906 - val_loss: 2.0579 - val_accuracy: 0.3926\n",
      "Epoch 98/100\n",
      "196/196 [==============================] - 16s 84ms/step - loss: 1.4303 - accuracy: 0.5026 - val_loss: 1.8177 - val_accuracy: 0.4226\n",
      "Epoch 99/100\n",
      "196/196 [==============================] - 18s 90ms/step - loss: 1.1575 - accuracy: 0.6002 - val_loss: 1.9409 - val_accuracy: 0.4233\n",
      "Epoch 100/100\n",
      "196/196 [==============================] - 16s 80ms/step - loss: 1.1214 - accuracy: 0.6127 - val_loss: 1.9556 - val_accuracy: 0.4374\n"
     ]
    },
    {
     "data": {
      "text/plain": [
       "<tensorflow.python.keras.callbacks.History at 0x7f9142eeb350>"
      ]
     },
     "execution_count": 11,
     "metadata": {},
     "output_type": "execute_result"
    }
   ],
   "source": [
    "model.fit(x_train, y_train, \n",
    "          epochs=EPOCHS, \n",
    "          batch_size=BATCH_SIZE, \n",
    "          validation_data=(x_test, y_test), \n",
    "          shuffle=True)"
   ]
  },
  {
   "cell_type": "code",
   "execution_count": 12,
   "metadata": {},
   "outputs": [
    {
     "data": {
      "text/plain": [
       "<Figure size 640x480 with 1 Axes>"
      ]
     },
     "metadata": {},
     "output_type": "display_data"
    }
   ],
   "source": [
    "import matplotlib.pyplot as plt\n",
    "\n",
    "\n",
    "train_loss = model.history.history[\"loss\"]\n",
    "valid_loss = model.history.history[\"val_loss\"]\n",
    "\n",
    "train_acc = model.history.history[\"accuracy\"]\n",
    "valid_acc = model.history.history[\"val_accuracy\"]\n",
    "\n",
    "plt.plot(range(len(train_loss)), train_loss, label=\"train loss\")\n",
    "plt.plot(range(len(valid_loss)), valid_loss, label=\"valid loss\")\n",
    "plt.legend()\n",
    "plt.title(\"Loss\")\n",
    "plt.show()\n",
    "\n"
   ]
  },
  {
   "cell_type": "code",
   "execution_count": 13,
   "metadata": {},
   "outputs": [
    {
     "data": {
      "image/png": "[encoded data removed]",
      "text/plain": [
       "<Figure size 432x288 with 1 Axes>"
      ]
     },
     "metadata": {
      "needs_background": "light"
     },
     "output_type": "display_data"
    }
   ],
   "source": [
    "plt.plot(range(len(train_acc)), train_acc, label=\"train accuracy\")\n",
    "plt.plot(range(len(valid_acc)), valid_acc, label=\"valid accuracy\")\n",
    "plt.legend()\n",
    "plt.title(\"Accuracy\")\n",
    "plt.show()"
   ]
  },
  {
   "cell_type": "code",
   "execution_count": null,
   "metadata": {},
   "outputs": [],
   "source": []
  }
 ],
 "metadata": {
  "kernelspec": {
   "display_name": "Python 3",
   "language": "python",
   "name": "python3"
  },
  "language_info": {
   "codemirror_mode": {
    "name": "ipython",
    "version": 3
   },
   "file_extension": ".py",
   "mimetype": "text/x-python",
   "name": "python",
   "nbconvert_exporter": "python",
   "pygments_lexer": "ipython3",
   "version": "3.7.4"
  }
 },
 "nbformat": 4,
 "nbformat_minor": 2
}
