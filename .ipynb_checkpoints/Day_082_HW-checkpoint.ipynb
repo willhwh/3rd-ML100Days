{
 "cells": [
  {
   "cell_type": "markdown",
   "metadata": {},
   "source": [
    "## Work\n",
    "1. 請比較使用不同層數以及不同 Dropout rate 對訓練的效果\n",
    "2. 將 optimizer 改成使用 Adam 並加上適當的 dropout rate 檢視結果"
   ]
  },
  {
   "cell_type": "code",
   "execution_count": 1,
   "metadata": {},
   "outputs": [],
   "source": [
    "import os\n",
    "import tensorflow.keras as keras\n",
    "import itertools\n",
    "# Disable GPU\n",
    "os.environ[\"CUDA_VISIBLE_DEVICES\"] = \"\""
   ]
  },
  {
   "cell_type": "code",
   "execution_count": 2,
   "metadata": {},
   "outputs": [],
   "source": [
    "from sklearn import preprocessing"
   ]
  },
  {
   "cell_type": "code",
   "execution_count": 3,
   "metadata": {},
   "outputs": [],
   "source": [
    "from tensorflow.keras.regularizers import l1, l2, l1_l2"
   ]
  },
  {
   "cell_type": "code",
   "execution_count": 4,
   "metadata": {},
   "outputs": [],
   "source": [
    "from tensorflow.keras.layers import Dropout"
   ]
  },
  {
   "cell_type": "code",
   "execution_count": 5,
   "metadata": {},
   "outputs": [],
   "source": [
    "train, test = keras.datasets.cifar10.load_data()"
   ]
  },
  {
   "cell_type": "code",
   "execution_count": 6,
   "metadata": {},
   "outputs": [],
   "source": [
    "## 資料前處理\n",
    "def preproc_x(x, flatten=True):\n",
    "    x = x / 255.\n",
    "    if flatten:\n",
    "        x = x.reshape((len(x), -1))\n",
    "        x = preprocessing.MinMaxScaler(feature_range=(-1, 1)).fit_transform(x)\n",
    "    return x\n",
    "\n",
    "def preproc_y(y, num_classes=10):\n",
    "    if y.shape[-1] == 1:\n",
    "        y = keras.utils.to_categorical(y, num_classes)\n",
    "    return y    "
   ]
  },
  {
   "cell_type": "code",
   "execution_count": 7,
   "metadata": {},
   "outputs": [],
   "source": [
    "x_train, y_train = train\n",
    "x_test, y_test = test\n",
    "\n",
    "# Preproc the inputs\n",
    "x_train = preproc_x(x_train)\n",
    "x_test = preproc_x(x_test)\n",
    "\n",
    "# Preprc the outputs\n",
    "y_train = preproc_y(y_train)\n",
    "y_test = preproc_y(y_test)"
   ]
  },
  {
   "cell_type": "code",
   "execution_count": 8,
   "metadata": {},
   "outputs": [],
   "source": [
    "\"\"\"Code Here\n",
    "設定超參數\n",
    "\"\"\"\n",
    "LEARNING_RATE = 1e-3\n",
    "EPOCHS = 25\n",
    "BATCH_SIZE = 256\n",
    "MOMENTUM = 0.95\n",
    "L2_EXP = [1e-2]\n",
    "regulizer_ratio = 0.01"
   ]
  },
  {
   "cell_type": "code",
   "execution_count": 9,
   "metadata": {},
   "outputs": [],
   "source": [
    "def build_mlp(input_shape, output_units=10, num_neurons=[256,128,64], l2_ratio=1e-4,drop_ratio=0.2):\n",
    "    input_layer = keras.layers.Input(input_shape)\n",
    "    \n",
    "    for i, n_units in enumerate(num_neurons):\n",
    "        if i == 0:\n",
    "            x = keras.layers.Dense(units=n_units, \n",
    "                                   activation=\"relu\", \n",
    "                                   name=\"hidden_layer\"+str(i+1), \n",
    "                                   kernel_regularizer=l2(l2_ratio))(input_layer)\n",
    "            x = Dropout(drop_ratio)(x)\n",
    "        else:\n",
    "            x = keras.layers.Dense(units=n_units, \n",
    "                                   activation=\"relu\", \n",
    "                                   name=\"hidden_layer\"+str(i+1),\n",
    "                                   kernel_regularizer=l2(l2_ratio))(x)\n",
    "            x = Dropout(drop_ratio)(x)\n",
    "    \n",
    "    out = keras.layers.Dense(units=output_units, activation=\"softmax\", name=\"output\")(x)\n",
    "    \n",
    "    model = keras.models.Model(inputs=[input_layer], outputs=[out])\n",
    "    return model"
   ]
  },
  {
   "cell_type": "code",
   "execution_count": 10,
   "metadata": {},
   "outputs": [
    {
     "name": "stdout",
     "output_type": "stream",
     "text": [
      "Model: \"functional_1\"\n",
      "_________________________________________________________________\n",
      "Layer (type)                 Output Shape              Param #   \n",
      "=================================================================\n",
      "input_1 (InputLayer)         [(None, 3072)]            0         \n",
      "_________________________________________________________________\n",
      "hidden_layer1 (Dense)        (None, 256)               786688    \n",
      "_________________________________________________________________\n",
      "dropout (Dropout)            (None, 256)               0         \n",
      "_________________________________________________________________\n",
      "hidden_layer2 (Dense)        (None, 128)               32896     \n",
      "_________________________________________________________________\n",
      "dropout_1 (Dropout)          (None, 128)               0         \n",
      "_________________________________________________________________\n",
      "hidden_layer3 (Dense)        (None, 64)                8256      \n",
      "_________________________________________________________________\n",
      "dropout_2 (Dropout)          (None, 64)                0         \n",
      "_________________________________________________________________\n",
      "output (Dense)               (None, 10)                650       \n",
      "=================================================================\n",
      "Total params: 828,490\n",
      "Trainable params: 828,490\n",
      "Non-trainable params: 0\n",
      "_________________________________________________________________\n"
     ]
    }
   ],
   "source": [
    "drop_ratio=0.2\n",
    "model1 = build_mlp(input_shape=x_train.shape[1:], l2_ratio=regulizer_ratio,drop_ratio=drop_ratio)\n",
    "model1.summary()"
   ]
  },
  {
   "cell_type": "code",
   "execution_count": 11,
   "metadata": {},
   "outputs": [
    {
     "name": "stdout",
     "output_type": "stream",
     "text": [
      "Model: \"functional_3\"\n",
      "_________________________________________________________________\n",
      "Layer (type)                 Output Shape              Param #   \n",
      "=================================================================\n",
      "input_2 (InputLayer)         [(None, 3072)]            0         \n",
      "_________________________________________________________________\n",
      "hidden_layer1 (Dense)        (None, 256)               786688    \n",
      "_________________________________________________________________\n",
      "dropout_3 (Dropout)          (None, 256)               0         \n",
      "_________________________________________________________________\n",
      "hidden_layer2 (Dense)        (None, 128)               32896     \n",
      "_________________________________________________________________\n",
      "dropout_4 (Dropout)          (None, 128)               0         \n",
      "_________________________________________________________________\n",
      "hidden_layer3 (Dense)        (None, 64)                8256      \n",
      "_________________________________________________________________\n",
      "dropout_5 (Dropout)          (None, 64)                0         \n",
      "_________________________________________________________________\n",
      "output (Dense)               (None, 10)                650       \n",
      "=================================================================\n",
      "Total params: 828,490\n",
      "Trainable params: 828,490\n",
      "Non-trainable params: 0\n",
      "_________________________________________________________________\n"
     ]
    }
   ],
   "source": [
    "drop_ratio=0.4\n",
    "model2 = build_mlp(input_shape=x_train.shape[1:], l2_ratio=regulizer_ratio,drop_ratio=drop_ratio)\n",
    "model2.summary()"
   ]
  },
  {
   "cell_type": "code",
   "execution_count": 12,
   "metadata": {},
   "outputs": [
    {
     "name": "stdout",
     "output_type": "stream",
     "text": [
      "Model: \"functional_5\"\n",
      "_________________________________________________________________\n",
      "Layer (type)                 Output Shape              Param #   \n",
      "=================================================================\n",
      "input_3 (InputLayer)         [(None, 3072)]            0         \n",
      "_________________________________________________________________\n",
      "hidden_layer1 (Dense)        (None, 256)               786688    \n",
      "_________________________________________________________________\n",
      "dropout_6 (Dropout)          (None, 256)               0         \n",
      "_________________________________________________________________\n",
      "hidden_layer2 (Dense)        (None, 128)               32896     \n",
      "_________________________________________________________________\n",
      "dropout_7 (Dropout)          (None, 128)               0         \n",
      "_________________________________________________________________\n",
      "hidden_layer3 (Dense)        (None, 64)                8256      \n",
      "_________________________________________________________________\n",
      "dropout_8 (Dropout)          (None, 64)                0         \n",
      "_________________________________________________________________\n",
      "hidden_layer4 (Dense)        (None, 128)               8320      \n",
      "_________________________________________________________________\n",
      "dropout_9 (Dropout)          (None, 128)               0         \n",
      "_________________________________________________________________\n",
      "hidden_layer5 (Dense)        (None, 32)                4128      \n",
      "_________________________________________________________________\n",
      "dropout_10 (Dropout)         (None, 32)                0         \n",
      "_________________________________________________________________\n",
      "output (Dense)               (None, 10)                330       \n",
      "=================================================================\n",
      "Total params: 840,618\n",
      "Trainable params: 840,618\n",
      "Non-trainable params: 0\n",
      "_________________________________________________________________\n"
     ]
    }
   ],
   "source": [
    "drop_ratio=0.2\n",
    "model3 = build_mlp(input_shape=x_train.shape[1:], l2_ratio=regulizer_ratio,\n",
    "                  drop_ratio=drop_ratio,num_neurons=[256,128,64,128,32])\n",
    "model3.summary()"
   ]
  },
  {
   "cell_type": "code",
   "execution_count": 13,
   "metadata": {},
   "outputs": [
    {
     "name": "stdout",
     "output_type": "stream",
     "text": [
      "drop_out_rate =0.2\n",
      "Epoch 1/25\n",
      "196/196 [==============================] - 5s 27ms/step - loss: 3.9291 - accuracy: 0.3231 - val_loss: 2.2210 - val_accuracy: 0.3902\n",
      "Epoch 2/25\n",
      "196/196 [==============================] - 5s 24ms/step - loss: 2.1047 - accuracy: 0.3691 - val_loss: 1.9556 - val_accuracy: 0.3989\n",
      "Epoch 3/25\n",
      "196/196 [==============================] - 5s 24ms/step - loss: 1.9670 - accuracy: 0.3792 - val_loss: 1.8718 - val_accuracy: 0.4004\n",
      "Epoch 4/25\n",
      "196/196 [==============================] - 5s 23ms/step - loss: 1.9264 - accuracy: 0.3842 - val_loss: 1.8424 - val_accuracy: 0.4224\n",
      "Epoch 5/25\n",
      "196/196 [==============================] - 6s 30ms/step - loss: 1.9077 - accuracy: 0.3896 - val_loss: 1.8234 - val_accuracy: 0.4299\n",
      "Epoch 6/25\n",
      "196/196 [==============================] - 5s 26ms/step - loss: 1.9062 - accuracy: 0.3909 - val_loss: 1.8216 - val_accuracy: 0.4212\n",
      "Epoch 7/25\n",
      "196/196 [==============================] - 5s 26ms/step - loss: 1.8909 - accuracy: 0.3956 - val_loss: 1.8238 - val_accuracy: 0.4098\n",
      "Epoch 8/25\n",
      "196/196 [==============================] - 6s 28ms/step - loss: 1.8829 - accuracy: 0.3952 - val_loss: 1.8003 - val_accuracy: 0.4314\n",
      "Epoch 9/25\n",
      "196/196 [==============================] - 6s 30ms/step - loss: 1.8757 - accuracy: 0.3993 - val_loss: 1.8121 - val_accuracy: 0.4264\n",
      "Epoch 10/25\n",
      "196/196 [==============================] - 6s 30ms/step - loss: 1.8782 - accuracy: 0.3992 - val_loss: 1.7783 - val_accuracy: 0.4339\n",
      "Epoch 11/25\n",
      "196/196 [==============================] - 6s 30ms/step - loss: 1.8690 - accuracy: 0.4007 - val_loss: 1.7927 - val_accuracy: 0.4185\n",
      "Epoch 12/25\n",
      "196/196 [==============================] - 6s 29ms/step - loss: 1.8635 - accuracy: 0.4020 - val_loss: 1.7689 - val_accuracy: 0.4357\n",
      "Epoch 13/25\n",
      "196/196 [==============================] - 6s 30ms/step - loss: 1.8550 - accuracy: 0.4061 - val_loss: 1.7769 - val_accuracy: 0.4372\n",
      "Epoch 14/25\n",
      "196/196 [==============================] - 6s 30ms/step - loss: 1.8572 - accuracy: 0.4038 - val_loss: 1.7679 - val_accuracy: 0.4423\n",
      "Epoch 15/25\n",
      "196/196 [==============================] - 6s 29ms/step - loss: 1.8502 - accuracy: 0.4069 - val_loss: 1.7682 - val_accuracy: 0.4353\n",
      "Epoch 16/25\n",
      "196/196 [==============================] - 5s 28ms/step - loss: 1.8490 - accuracy: 0.4100 - val_loss: 1.7557 - val_accuracy: 0.4422\n",
      "Epoch 17/25\n",
      "196/196 [==============================] - 6s 32ms/step - loss: 1.8450 - accuracy: 0.4069 - val_loss: 1.7490 - val_accuracy: 0.4483\n",
      "Epoch 18/25\n",
      "196/196 [==============================] - 6s 33ms/step - loss: 1.8369 - accuracy: 0.4119 - val_loss: 1.7521 - val_accuracy: 0.4458\n",
      "Epoch 19/25\n",
      "196/196 [==============================] - 6s 31ms/step - loss: 1.8338 - accuracy: 0.4138 - val_loss: 1.7610 - val_accuracy: 0.4347\n",
      "Epoch 20/25\n",
      "196/196 [==============================] - 6s 31ms/step - loss: 1.8370 - accuracy: 0.4139 - val_loss: 1.7711 - val_accuracy: 0.4314\n",
      "Epoch 21/25\n",
      "196/196 [==============================] - 6s 29ms/step - loss: 1.8326 - accuracy: 0.4146 - val_loss: 1.7475 - val_accuracy: 0.4429\n",
      "Epoch 22/25\n",
      "196/196 [==============================] - 6s 31ms/step - loss: 1.8273 - accuracy: 0.4153 - val_loss: 1.7548 - val_accuracy: 0.4397\n",
      "Epoch 23/25\n",
      "196/196 [==============================] - 6s 30ms/step - loss: 1.8268 - accuracy: 0.4132 - val_loss: 1.7411 - val_accuracy: 0.4531\n",
      "Epoch 24/25\n",
      "196/196 [==============================] - 6s 31ms/step - loss: 1.8238 - accuracy: 0.4139 - val_loss: 1.7539 - val_accuracy: 0.4468\n",
      "Epoch 25/25\n",
      "196/196 [==============================] - 6s 28ms/step - loss: 1.8204 - accuracy: 0.4167 - val_loss: 1.7211 - val_accuracy: 0.4489\n"
     ]
    }
   ],
   "source": [
    "results1 = {}\n",
    "\"\"\"Code Here\n",
    "撰寫你的訓練流程並將結果用 dictionary 紀錄\n",
    "\"\"\"\n",
    "\n",
    "for regulizer_ratio in L2_EXP:\n",
    "    keras.backend.clear_session() # 把舊的 Graph 清掉\n",
    "    print(\"drop_out_rate =0.2\")\n",
    "    optimizer = keras.optimizers.Adam()\n",
    "    model1.compile(loss=\"categorical_crossentropy\", metrics=[\"accuracy\"], optimizer=optimizer)\n",
    "\n",
    "    model1.fit(x_train, y_train, \n",
    "              epochs=EPOCHS, \n",
    "              batch_size=BATCH_SIZE, \n",
    "              validation_data=(x_test, y_test), \n",
    "              shuffle=True)\n",
    "    \n",
    "    # Collect results\n",
    "    train_loss = model1.history.history[\"loss\"]\n",
    "    valid_loss = model1.history.history[\"val_loss\"]\n",
    "    train_acc = model1.history.history[\"accuracy\"]\n",
    "    valid_acc = model1.history.history[\"val_accuracy\"]\n",
    "    \n",
    "    exp_name_tag = \"exp-l2-%s\" % str(regulizer_ratio)\n",
    "    results1[exp_name_tag] = {'train-loss': train_loss,\n",
    "                             'valid-loss': valid_loss,\n",
    "                             'train-acc': train_acc,\n",
    "                             'valid-acc': valid_acc}"
   ]
  },
  {
   "cell_type": "code",
   "execution_count": 14,
   "metadata": {},
   "outputs": [
    {
     "name": "stdout",
     "output_type": "stream",
     "text": [
      "drop_out_rate = 0.4\n",
      "Epoch 1/25\n",
      "196/196 [==============================] - 5s 27ms/step - loss: 4.4131 - accuracy: 0.2572 - val_loss: 2.3661 - val_accuracy: 0.3660\n",
      "Epoch 2/25\n",
      "196/196 [==============================] - 5s 23ms/step - loss: 2.2204 - accuracy: 0.3333 - val_loss: 1.9817 - val_accuracy: 0.3820\n",
      "Epoch 3/25\n",
      "196/196 [==============================] - 5s 28ms/step - loss: 2.0523 - accuracy: 0.3416 - val_loss: 1.9431 - val_accuracy: 0.3798\n",
      "Epoch 4/25\n",
      "196/196 [==============================] - 5s 24ms/step - loss: 2.0155 - accuracy: 0.3455 - val_loss: 1.9375 - val_accuracy: 0.3741\n",
      "Epoch 5/25\n",
      "196/196 [==============================] - 5s 24ms/step - loss: 2.0105 - accuracy: 0.3472 - val_loss: 1.8992 - val_accuracy: 0.3927\n",
      "Epoch 6/25\n",
      "196/196 [==============================] - 5s 24ms/step - loss: 1.9991 - accuracy: 0.3543 - val_loss: 1.9109 - val_accuracy: 0.3901\n",
      "Epoch 7/25\n",
      "196/196 [==============================] - 6s 28ms/step - loss: 2.0001 - accuracy: 0.3503 - val_loss: 1.9055 - val_accuracy: 0.4001\n",
      "Epoch 8/25\n",
      "196/196 [==============================] - 5s 24ms/step - loss: 1.9931 - accuracy: 0.3550 - val_loss: 1.8995 - val_accuracy: 0.3940\n",
      "Epoch 9/25\n",
      "196/196 [==============================] - 5s 26ms/step - loss: 1.9987 - accuracy: 0.3545 - val_loss: 1.8976 - val_accuracy: 0.3904\n",
      "Epoch 10/25\n",
      "196/196 [==============================] - 5s 24ms/step - loss: 1.9925 - accuracy: 0.3547 - val_loss: 1.8757 - val_accuracy: 0.3922\n",
      "Epoch 11/25\n",
      "196/196 [==============================] - 5s 26ms/step - loss: 1.9920 - accuracy: 0.3566 - val_loss: 1.8866 - val_accuracy: 0.3995\n",
      "Epoch 12/25\n",
      "196/196 [==============================] - 5s 25ms/step - loss: 1.9897 - accuracy: 0.3559 - val_loss: 1.8983 - val_accuracy: 0.3953\n",
      "Epoch 13/25\n",
      "196/196 [==============================] - 5s 26ms/step - loss: 1.9885 - accuracy: 0.3589 - val_loss: 1.8869 - val_accuracy: 0.4003\n",
      "Epoch 14/25\n",
      "196/196 [==============================] - 5s 26ms/step - loss: 1.9838 - accuracy: 0.3571 - val_loss: 1.8815 - val_accuracy: 0.3942\n",
      "Epoch 15/25\n",
      "196/196 [==============================] - 5s 27ms/step - loss: 1.9880 - accuracy: 0.3585 - val_loss: 1.9407 - val_accuracy: 0.3724\n",
      "Epoch 16/25\n",
      "196/196 [==============================] - 4s 23ms/step - loss: 1.9834 - accuracy: 0.3588 - val_loss: 1.8703 - val_accuracy: 0.3977\n",
      "Epoch 17/25\n",
      "196/196 [==============================] - 5s 25ms/step - loss: 1.9836 - accuracy: 0.3568 - val_loss: 1.8931 - val_accuracy: 0.3999\n",
      "Epoch 18/25\n",
      "196/196 [==============================] - 5s 27ms/step - loss: 1.9793 - accuracy: 0.3594 - val_loss: 1.8918 - val_accuracy: 0.4043\n",
      "Epoch 19/25\n",
      "196/196 [==============================] - 8s 41ms/step - loss: 1.9799 - accuracy: 0.3603 - val_loss: 1.8781 - val_accuracy: 0.4058\n",
      "Epoch 20/25\n",
      "196/196 [==============================] - 8s 43ms/step - loss: 1.9791 - accuracy: 0.3605 - val_loss: 1.8932 - val_accuracy: 0.3903\n",
      "Epoch 21/25\n",
      "196/196 [==============================] - 7s 38ms/step - loss: 1.9796 - accuracy: 0.3607 - val_loss: 1.9017 - val_accuracy: 0.3821\n",
      "Epoch 22/25\n",
      "196/196 [==============================] - 6s 32ms/step - loss: 1.9720 - accuracy: 0.3608 - val_loss: 1.8743 - val_accuracy: 0.4007\n",
      "Epoch 23/25\n",
      "196/196 [==============================] - 6s 32ms/step - loss: 1.9709 - accuracy: 0.3616 - val_loss: 1.8521 - val_accuracy: 0.4074\n",
      "Epoch 24/25\n",
      "196/196 [==============================] - 6s 28ms/step - loss: 1.9746 - accuracy: 0.3612 - val_loss: 1.8451 - val_accuracy: 0.3984\n",
      "Epoch 25/25\n",
      "196/196 [==============================] - 7s 38ms/step - loss: 1.9683 - accuracy: 0.3656 - val_loss: 1.8553 - val_accuracy: 0.4116\n"
     ]
    }
   ],
   "source": [
    "results2 = {}\n",
    "\"\"\"Code Here\n",
    "撰寫你的訓練流程並將結果用 dictionary 紀錄\n",
    "\"\"\"\n",
    "\n",
    "for regulizer_ratio in L2_EXP:\n",
    "    keras.backend.clear_session() # 把舊的 Graph 清掉\n",
    "    print(\"drop_out_rate = 0.4\")\n",
    "    optimizer = keras.optimizers.Adam()\n",
    "    model2.compile(loss=\"categorical_crossentropy\", metrics=[\"accuracy\"], optimizer=optimizer)\n",
    "\n",
    "    model2.fit(x_train, y_train, \n",
    "              epochs=EPOCHS, \n",
    "              batch_size=BATCH_SIZE, \n",
    "              validation_data=(x_test, y_test), \n",
    "              shuffle=True)\n",
    "    \n",
    "    # Collect results\n",
    "    train_loss = model2.history.history[\"loss\"]\n",
    "    valid_loss = model2.history.history[\"val_loss\"]\n",
    "    train_acc = model2.history.history[\"accuracy\"]\n",
    "    valid_acc = model2.history.history[\"val_accuracy\"]\n",
    "    \n",
    "    exp_name_tag = \"exp-l2-%s\" % str(regulizer_ratio)\n",
    "    results2[exp_name_tag] = {'train-loss': train_loss,\n",
    "                             'valid-loss': valid_loss,\n",
    "                             'train-acc': train_acc,\n",
    "                             'valid-acc': valid_acc}"
   ]
  },
  {
   "cell_type": "code",
   "execution_count": 15,
   "metadata": {},
   "outputs": [
    {
     "name": "stdout",
     "output_type": "stream",
     "text": [
      "drop_out_rate = 0.2, 5 layers\n",
      "Epoch 1/25\n",
      "196/196 [==============================] - 7s 36ms/step - loss: 3.9089 - accuracy: 0.2542 - val_loss: 2.2765 - val_accuracy: 0.3231\n",
      "Epoch 2/25\n",
      "196/196 [==============================] - 7s 38ms/step - loss: 2.1829 - accuracy: 0.2999 - val_loss: 2.0301 - val_accuracy: 0.3670\n",
      "Epoch 3/25\n",
      "196/196 [==============================] - 6s 32ms/step - loss: 2.0812 - accuracy: 0.3152 - val_loss: 1.9938 - val_accuracy: 0.3616\n",
      "Epoch 4/25\n",
      "196/196 [==============================] - 7s 38ms/step - loss: 2.0572 - accuracy: 0.3255 - val_loss: 1.9958 - val_accuracy: 0.3607\n",
      "Epoch 5/25\n",
      "196/196 [==============================] - 9s 48ms/step - loss: 2.0415 - accuracy: 0.3276 - val_loss: 1.9603 - val_accuracy: 0.3766\n",
      "Epoch 6/25\n",
      "196/196 [==============================] - 11s 57ms/step - loss: 2.0348 - accuracy: 0.3343 - val_loss: 1.9519 - val_accuracy: 0.3741\n",
      "Epoch 7/25\n",
      "196/196 [==============================] - 10s 53ms/step - loss: 2.0279 - accuracy: 0.3343 - val_loss: 1.9487 - val_accuracy: 0.3760\n",
      "Epoch 8/25\n",
      "196/196 [==============================] - 9s 47ms/step - loss: 2.0109 - accuracy: 0.3424 - val_loss: 1.9241 - val_accuracy: 0.3838\n",
      "Epoch 9/25\n",
      "196/196 [==============================] - 9s 44ms/step - loss: 2.0109 - accuracy: 0.3420 - val_loss: 1.9561 - val_accuracy: 0.3631\n",
      "Epoch 10/25\n",
      "196/196 [==============================] - 12s 64ms/step - loss: 2.0020 - accuracy: 0.3446 - val_loss: 1.8935 - val_accuracy: 0.3932\n",
      "Epoch 11/25\n",
      "196/196 [==============================] - 11s 55ms/step - loss: 1.9969 - accuracy: 0.3460 - val_loss: 1.9240 - val_accuracy: 0.3838\n",
      "Epoch 12/25\n",
      "196/196 [==============================] - 5s 25ms/step - loss: 1.9947 - accuracy: 0.3493 - val_loss: 1.8955 - val_accuracy: 0.3931\n",
      "Epoch 13/25\n",
      "196/196 [==============================] - 6s 33ms/step - loss: 1.9857 - accuracy: 0.3491 - val_loss: 1.9009 - val_accuracy: 0.3834\n",
      "Epoch 14/25\n",
      "196/196 [==============================] - 11s 56ms/step - loss: 1.9868 - accuracy: 0.3496 - val_loss: 1.8785 - val_accuracy: 0.3949\n",
      "Epoch 15/25\n",
      "196/196 [==============================] - 15s 78ms/step - loss: 1.9775 - accuracy: 0.3537 - val_loss: 1.8821 - val_accuracy: 0.3920\n",
      "Epoch 16/25\n",
      "196/196 [==============================] - 19s 97ms/step - loss: 1.9751 - accuracy: 0.3573 - val_loss: 1.8813 - val_accuracy: 0.3929\n",
      "Epoch 17/25\n",
      "196/196 [==============================] - 17s 87ms/step - loss: 1.9756 - accuracy: 0.3546 - val_loss: 1.8708 - val_accuracy: 0.3935\n",
      "Epoch 18/25\n",
      "196/196 [==============================] - 21s 107ms/step - loss: 1.9724 - accuracy: 0.3543 - val_loss: 1.8965 - val_accuracy: 0.3850\n",
      "Epoch 19/25\n",
      "196/196 [==============================] - 18s 90ms/step - loss: 1.9668 - accuracy: 0.3562 - val_loss: 1.8776 - val_accuracy: 0.3883\n",
      "Epoch 20/25\n",
      "196/196 [==============================] - 15s 76ms/step - loss: 1.9668 - accuracy: 0.3545 - val_loss: 1.8645 - val_accuracy: 0.4053\n",
      "Epoch 21/25\n",
      "196/196 [==============================] - 12s 63ms/step - loss: 1.9666 - accuracy: 0.3610 - val_loss: 1.8860 - val_accuracy: 0.3876\n",
      "Epoch 22/25\n",
      "196/196 [==============================] - 10s 50ms/step - loss: 1.9638 - accuracy: 0.3603 - val_loss: 1.8703 - val_accuracy: 0.3951\n",
      "Epoch 23/25\n",
      "196/196 [==============================] - 14s 70ms/step - loss: 1.9594 - accuracy: 0.3587 - val_loss: 1.8481 - val_accuracy: 0.4010\n",
      "Epoch 24/25\n",
      "196/196 [==============================] - 11s 54ms/step - loss: 1.9618 - accuracy: 0.3608 - val_loss: 1.8497 - val_accuracy: 0.4052\n",
      "Epoch 25/25\n",
      "196/196 [==============================] - 9s 44ms/step - loss: 1.9607 - accuracy: 0.3575 - val_loss: 1.8726 - val_accuracy: 0.3865\n"
     ]
    }
   ],
   "source": [
    "results3 = {}\n",
    "\"\"\"Code Here\n",
    "撰寫你的訓練流程並將結果用 dictionary 紀錄\n",
    "\"\"\"\n",
    "\n",
    "for regulizer_ratio in L2_EXP:\n",
    "    keras.backend.clear_session() # 把舊的 Graph 清掉\n",
    "    print(\"drop_out_rate = 0.2, 5 layers\")\n",
    "    optimizer = keras.optimizers.Adam()\n",
    "    model3.compile(loss=\"categorical_crossentropy\", metrics=[\"accuracy\"], optimizer=optimizer)\n",
    "\n",
    "    model3.fit(x_train, y_train, \n",
    "              epochs=EPOCHS, \n",
    "              batch_size=BATCH_SIZE, \n",
    "              validation_data=(x_test, y_test), \n",
    "              shuffle=True)\n",
    "    \n",
    "    # Collect results\n",
    "    train_loss = model3.history.history[\"loss\"]\n",
    "    valid_loss = model3.history.history[\"val_loss\"]\n",
    "    train_acc = model3.history.history[\"accuracy\"]\n",
    "    valid_acc = model3.history.history[\"val_accuracy\"]\n",
    "    \n",
    "    exp_name_tag = \"exp-l2-%s\" % str(regulizer_ratio)\n",
    "    results3[exp_name_tag] = {'train-loss': train_loss,\n",
    "                             'valid-loss': valid_loss,\n",
    "                             'train-acc': train_acc,\n",
    "                             'valid-acc': valid_acc}"
   ]
  },
  {
   "cell_type": "code",
   "execution_count": 16,
   "metadata": {},
   "outputs": [],
   "source": [
    "import matplotlib.pyplot as plt\n",
    "%matplotlib inline\n",
    "\"\"\"Code Here\n",
    "將結果繪出\n",
    "\"\"\"\n",
    "color_bar = [\"r\", \"g\", \"b\", \"y\", \"m\", \"k\"]\n",
    "def loss_fig(results):\n",
    "    plt.figure(figsize=(8,6))\n",
    "    for i, cond in enumerate(results.keys()):\n",
    "        plt.plot(range(len(results[cond]['train-loss'])),results[cond]['train-loss'], '-', label=cond, color=color_bar[i])\n",
    "        plt.plot(range(len(results[cond]['valid-loss'])),results[cond]['valid-loss'], '--', label=cond, color=color_bar[i])\n",
    "    plt.title(\"Loss\")\n",
    "    plt.ylim([0, 5])\n",
    "    plt.legend()\n",
    "    plt.show()\n",
    "    \n",
    "    \n",
    "def accuracy_fig(results):    \n",
    "    plt.figure(figsize=(8,6))\n",
    "    for i, cond in enumerate(results.keys()):\n",
    "        plt.plot(range(len(results[cond]['train-acc'])),results[cond]['train-acc'], '-', label=cond, color=color_bar[i])\n",
    "        plt.plot(range(len(results[cond]['valid-acc'])),results[cond]['valid-acc'], '--', label=cond, color=color_bar[i])\n",
    "    plt.title(\"Accuracy\")\n",
    "    plt.legend()\n",
    "    plt.show()\n"
   ]
  },
  {
   "cell_type": "code",
   "execution_count": 17,
   "metadata": {
    "scrolled": false
   },
   "outputs": [
    {
     "data": {
      "image/png": "[encoded data removed]",
      "text/plain": [
       "<Figure size 576x432 with 1 Axes>"
      ]
     },
     "metadata": {
      "needs_background": "light"
     },
     "output_type": "display_data"
    },
    {
     "data": {
      "image/png": "[encoded data removed]",
      "text/plain": [
       "<Figure size 576x432 with 1 Axes>"
      ]
     },
     "metadata": {
      "needs_background": "light"
     },
     "output_type": "display_data"
    }
   ],
   "source": [
    "loss_fig(results1)\n",
    "accuracy_fig(results1)"
   ]
  },
  {
   "cell_type": "code",
   "execution_count": 18,
   "metadata": {
    "scrolled": false
   },
   "outputs": [
    {
     "data": {
      "image/png": "[encoded data removed]",
      "text/plain": [
       "<Figure size 576x432 with 1 Axes>"
      ]
     },
     "metadata": {
      "needs_background": "light"
     },
     "output_type": "display_data"
    },
    {
     "data": {
      "image/png": "[encoded data removed]",
      "text/plain": [
       "<Figure size 576x432 with 1 Axes>"
      ]
     },
     "metadata": {
      "needs_background": "light"
     },
     "output_type": "display_data"
    }
   ],
   "source": [
    "loss_fig(results2)\n",
    "accuracy_fig(results2)"
   ]
  },
  {
   "cell_type": "code",
   "execution_count": 19,
   "metadata": {
    "scrolled": false
   },
   "outputs": [
    {
     "data": {
      "image/png": "[encoded data removed]",
      "text/plain": [
       "<Figure size 576x432 with 1 Axes>"
      ]
     },
     "metadata": {
      "needs_background": "light"
     },
     "output_type": "display_data"
    },
    {
     "data": {
      "image/png": "[encoded data removed]",
      "text/plain": [
       "<Figure size 576x432 with 1 Axes>"
      ]
     },
     "metadata": {
      "needs_background": "light"
     },
     "output_type": "display_data"
    }
   ],
   "source": [
    "loss_fig(results3)\n",
    "accuracy_fig(results3)"
   ]
  },
  {
   "cell_type": "markdown",
   "metadata": {},
   "source": [
    "3層神經網與 drop out rate = 0.2 有最佳表現"
   ]
  },
  {
   "cell_type": "code",
   "execution_count": null,
   "metadata": {},
   "outputs": [],
   "source": []
  }
 ],
 "metadata": {
  "kernelspec": {
   "display_name": "Python 3",
   "language": "python",
   "name": "python3"
  },
  "language_info": {
   "codemirror_mode": {
    "name": "ipython",
    "version": 3
   },
   "file_extension": ".py",
   "mimetype": "text/x-python",
   "name": "python",
   "nbconvert_exporter": "python",
   "pygments_lexer": "ipython3",
   "version": "3.7.4"
  }
 },
 "nbformat": 4,
 "nbformat_minor": 2
}
