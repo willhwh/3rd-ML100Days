{
 "cells": [
  {
   "cell_type": "markdown",
   "metadata": {},
   "source": [
    "## Work\n",
    "1. 請嘗試寫一個 callback 用來記錄各類別在訓練過程中，對驗證集的 True Positive 與 True Negative"
   ]
  },
  {
   "cell_type": "code",
   "execution_count": 1,
   "metadata": {},
   "outputs": [],
   "source": [
    "import os\n",
    "import tensorflow.keras as keras\n",
    "\n",
    "# Disable GPU\n",
    "os.environ[\"CUDA_VISIBLE_DEVICES\"] = \"\""
   ]
  },
  {
   "cell_type": "code",
   "execution_count": 2,
   "metadata": {},
   "outputs": [],
   "source": [
    "train, test = keras.datasets.cifar10.load_data()"
   ]
  },
  {
   "cell_type": "code",
   "execution_count": 3,
   "metadata": {},
   "outputs": [],
   "source": [
    "from sklearn import preprocessing"
   ]
  },
  {
   "cell_type": "code",
   "execution_count": 4,
   "metadata": {},
   "outputs": [],
   "source": [
    "## 資料前處理\n",
    "def preproc_x(x, flatten=True):\n",
    "    x = x / 255.\n",
    "    if flatten:\n",
    "        x = x.reshape((len(x), -1))\n",
    "        x = preprocessing.MinMaxScaler(feature_range=(-1,1)).fit_transform(x)\n",
    "    return x\n",
    "\n",
    "def preproc_y(y, num_classes=10):\n",
    "    if y.shape[-1] == 1:\n",
    "        y = keras.utils.to_categorical(y, num_classes)\n",
    "    return y    "
   ]
  },
  {
   "cell_type": "code",
   "execution_count": 5,
   "metadata": {},
   "outputs": [],
   "source": [
    "x_train, y_train = train\n",
    "x_test, y_test = test\n",
    "\n",
    "# Preproc the inputs\n",
    "x_train = preproc_x(x_train)\n",
    "x_test = preproc_x(x_test)\n",
    "\n",
    "# Preprc the outputs\n",
    "y_train = preproc_y(y_train)\n",
    "y_test = preproc_y(y_test)"
   ]
  },
  {
   "cell_type": "code",
   "execution_count": 6,
   "metadata": {},
   "outputs": [],
   "source": [
    "from tensorflow.keras.layers import BatchNormalization\n",
    "\n",
    "def build_mlp(input_shape, output_units=10, num_neurons=[256, 256, 256]):\n",
    "    \"\"\"Code Here\n",
    "    建立你的神經網路\n",
    "    \"\"\"\n",
    "    input_layer = keras.layers.Input(input_shape)\n",
    "    \n",
    "    for i, n_units in enumerate(num_neurons):\n",
    "        if i == 0:\n",
    "            x = keras.layers.Dense(units=n_units, \n",
    "                                   activation=\"relu\", \n",
    "                                   name=\"hidden_layer\"+str(i+1))(input_layer)\n",
    "            x = BatchNormalization()(x)\n",
    "        else:\n",
    "            x = keras.layers.Dense(units=n_units, \n",
    "                                   activation=\"relu\", \n",
    "                                   name=\"hidden_layer\"+str(i+1))(x)\n",
    "            x = BatchNormalization()(x)\n",
    "    \n",
    "    out = keras.layers.Dense(units=output_units, activation=\"softmax\", name=\"output\")(x)\n",
    "    \n",
    "    model = keras.models.Model(inputs=[input_layer], outputs=[out])\n",
    "    return model"
   ]
  },
  {
   "cell_type": "code",
   "execution_count": 7,
   "metadata": {},
   "outputs": [],
   "source": [
    "## 超參數設定\n",
    "LEARNING_RATE = 1e-3\n",
    "EPOCHS = 50\n",
    "BATCH_SIZE = 1024\n",
    "MOMENTUM = 0.95"
   ]
  },
  {
   "cell_type": "code",
   "execution_count": 8,
   "metadata": {},
   "outputs": [],
   "source": [
    "# int(0.125*100+0.5)/100\n",
    "# int(0.115*100+0.5)/100\n",
    "# round 4捨五入 準確版"
   ]
  },
  {
   "cell_type": "code",
   "execution_count": 9,
   "metadata": {},
   "outputs": [],
   "source": [
    "# 載入 Callbacks\n",
    "from tensorflow.keras.callbacks import Callback\n",
    "from sklearn.metrics import confusion_matrix\n",
    "import numpy as np\n",
    "# Record_fp_tp\n",
    "# Record_fp_tp\n",
    "class Record_tp_tn(Callback):\n",
    "    \n",
    "    def __init__(self, val_data=(x_test, y_test)):\n",
    "        self.validation_data = val_data\n",
    "    \n",
    "    def on_train_begin(self, epoch, logs={}):\n",
    "        logs = logs or {}\n",
    "        record_items = [\"val_auc\", \"val_f1sc\", \"val_fp\", \"val_fn\", \"val_tp\", \"val_tn\"]\n",
    "        # add items\n",
    "        for i in record_items:\n",
    "            try:\n",
    "                if i not in self.params['metrics']:\n",
    "                    self.params['metrics'].append(i)\n",
    "            except:\n",
    "                self.params['metrics'] = i\n",
    "\n",
    "    def on_epoch_end(self, epoch, logs={}, thres=0.5):\n",
    "        logs = logs or {}\n",
    "        y_true = self.validation_data[1].argmax(axis = 1)\n",
    "        y_pred = self.model.predict(self.validation_data[0])\n",
    "        y_pred = (y_pred[:, 1] >= thres) * 1 # true * 1 = 1\n",
    "        \n",
    "        tp = keras.metrics.TruePositives()\n",
    "        tp.reset_states()\n",
    "        tp.update_state(y_true, y_pred)\n",
    "        logs['val_tp'] = tp.result()\n",
    "        \n",
    "        tn = keras.metrics.TrueNegatives()\n",
    "        tn.reset_states()\n",
    "        tn.update_state(y_true, y_pred)\n",
    "        logs['val_tn'] = tn.result()\n",
    "    \n",
    "    \"\"\"Code Here\n",
    "    撰寫一個紀錄 ture positive 與 true negative 數量的 callbacks    \n",
    "    \"\"\"\n",
    "        \n",
    "rec_tptn = Record_tp_tn()"
   ]
  },
  {
   "cell_type": "code",
   "execution_count": 11,
   "metadata": {
    "scrolled": false
   },
   "outputs": [
    {
     "name": "stdout",
     "output_type": "stream",
     "text": [
      "Model: \"functional_1\"\n",
      "_________________________________________________________________\n",
      "Layer (type)                 Output Shape              Param #   \n",
      "=================================================================\n",
      "input_1 (InputLayer)         [(None, 3072)]            0         \n",
      "_________________________________________________________________\n",
      "hidden_layer1 (Dense)        (None, 256)               786688    \n",
      "_________________________________________________________________\n",
      "batch_normalization (BatchNo (None, 256)               1024      \n",
      "_________________________________________________________________\n",
      "hidden_layer2 (Dense)        (None, 256)               65792     \n",
      "_________________________________________________________________\n",
      "batch_normalization_1 (Batch (None, 256)               1024      \n",
      "_________________________________________________________________\n",
      "hidden_layer3 (Dense)        (None, 256)               65792     \n",
      "_________________________________________________________________\n",
      "batch_normalization_2 (Batch (None, 256)               1024      \n",
      "_________________________________________________________________\n",
      "output (Dense)               (None, 10)                2570      \n",
      "=================================================================\n",
      "Total params: 923,914\n",
      "Trainable params: 922,378\n",
      "Non-trainable params: 1,536\n",
      "_________________________________________________________________\n",
      "Epoch 1/50\n",
      "49/49 [==============================] - 8s 157ms/step - loss: 2.2449 - acc: 0.2613 - val_loss: 2.0183 - val_acc: 0.3242\n",
      "Epoch 2/50\n",
      "49/49 [==============================] - 7s 143ms/step - loss: 1.7463 - acc: 0.3900 - val_loss: 1.8386 - val_acc: 0.3921\n",
      "Epoch 3/50\n",
      "49/49 [==============================] - 6s 119ms/step - loss: 1.6156 - acc: 0.4364 - val_loss: 1.7178 - val_acc: 0.4188\n",
      "Epoch 4/50\n",
      "49/49 [==============================] - 5s 112ms/step - loss: 1.5375 - acc: 0.4626 - val_loss: 1.6329 - val_acc: 0.4331\n",
      "Epoch 5/50\n",
      "49/49 [==============================] - 6s 127ms/step - loss: 1.4794 - acc: 0.4830 - val_loss: 1.5828 - val_acc: 0.4437\n",
      "Epoch 6/50\n",
      "49/49 [==============================] - 5s 110ms/step - loss: 1.4311 - acc: 0.5001 - val_loss: 1.5475 - val_acc: 0.4514\n",
      "Epoch 7/50\n",
      "49/49 [==============================] - 5s 109ms/step - loss: 1.3882 - acc: 0.5142 - val_loss: 1.5242 - val_acc: 0.4628\n",
      "Epoch 8/50\n",
      "49/49 [==============================] - 6s 112ms/step - loss: 1.3511 - acc: 0.5280 - val_loss: 1.5096 - val_acc: 0.4680\n",
      "Epoch 9/50\n",
      "49/49 [==============================] - 6s 125ms/step - loss: 1.3161 - acc: 0.5411 - val_loss: 1.4984 - val_acc: 0.4714\n",
      "Epoch 10/50\n",
      "49/49 [==============================] - 6s 121ms/step - loss: 1.2858 - acc: 0.5512 - val_loss: 1.4897 - val_acc: 0.4765\n",
      "Epoch 11/50\n",
      "49/49 [==============================] - 6s 125ms/step - loss: 1.2549 - acc: 0.5633 - val_loss: 1.4801 - val_acc: 0.4792\n",
      "Epoch 12/50\n",
      "49/49 [==============================] - 6s 120ms/step - loss: 1.2270 - acc: 0.5722 - val_loss: 1.4743 - val_acc: 0.4829\n",
      "Epoch 13/50\n",
      "49/49 [==============================] - 6s 116ms/step - loss: 1.2003 - acc: 0.5828 - val_loss: 1.4713 - val_acc: 0.4858\n",
      "Epoch 14/50\n",
      "49/49 [==============================] - 6s 121ms/step - loss: 1.1750 - acc: 0.5937 - val_loss: 1.4624 - val_acc: 0.4901\n",
      "Epoch 15/50\n",
      "49/49 [==============================] - 6s 123ms/step - loss: 1.1518 - acc: 0.6030 - val_loss: 1.4620 - val_acc: 0.4891\n",
      "Epoch 16/50\n",
      "49/49 [==============================] - 6s 122ms/step - loss: 1.1282 - acc: 0.6130 - val_loss: 1.4569 - val_acc: 0.4939\n",
      "Epoch 17/50\n",
      "49/49 [==============================] - 7s 153ms/step - loss: 1.1056 - acc: 0.6232 - val_loss: 1.4547 - val_acc: 0.4955\n",
      "Epoch 18/50\n",
      "49/49 [==============================] - 5s 107ms/step - loss: 1.0808 - acc: 0.6315 - val_loss: 1.4545 - val_acc: 0.4962\n",
      "Epoch 19/50\n",
      "49/49 [==============================] - 5s 103ms/step - loss: 1.0600 - acc: 0.6398 - val_loss: 1.4525 - val_acc: 0.4975\n",
      "Epoch 20/50\n",
      "49/49 [==============================] - 5s 101ms/step - loss: 1.0384 - acc: 0.6488 - val_loss: 1.4547 - val_acc: 0.4973\n",
      "Epoch 21/50\n",
      "49/49 [==============================] - 5s 108ms/step - loss: 1.0169 - acc: 0.6564 - val_loss: 1.4525 - val_acc: 0.4994\n",
      "Epoch 22/50\n",
      "49/49 [==============================] - 5s 106ms/step - loss: 0.9955 - acc: 0.6651 - val_loss: 1.4545 - val_acc: 0.4972\n",
      "Epoch 23/50\n",
      "49/49 [==============================] - 5s 96ms/step - loss: 0.9753 - acc: 0.6728 - val_loss: 1.4579 - val_acc: 0.4960\n",
      "Epoch 24/50\n",
      "49/49 [==============================] - 5s 104ms/step - loss: 0.9546 - acc: 0.6809 - val_loss: 1.4608 - val_acc: 0.4962\n",
      "Epoch 25/50\n",
      "49/49 [==============================] - 4s 88ms/step - loss: 0.9356 - acc: 0.6893 - val_loss: 1.4640 - val_acc: 0.4969\n",
      "Epoch 26/50\n",
      "49/49 [==============================] - 5s 99ms/step - loss: 0.9137 - acc: 0.6974 - val_loss: 1.4677 - val_acc: 0.5008\n",
      "Epoch 27/50\n",
      "49/49 [==============================] - 4s 91ms/step - loss: 0.8955 - acc: 0.7048 - val_loss: 1.4716 - val_acc: 0.5005\n",
      "Epoch 28/50\n",
      "49/49 [==============================] - 5s 94ms/step - loss: 0.8749 - acc: 0.7135 - val_loss: 1.4745 - val_acc: 0.4982\n",
      "Epoch 29/50\n",
      "49/49 [==============================] - 5s 96ms/step - loss: 0.8549 - acc: 0.7205 - val_loss: 1.4775 - val_acc: 0.4984\n",
      "Epoch 30/50\n",
      "49/49 [==============================] - 5s 94ms/step - loss: 0.8365 - acc: 0.7271 - val_loss: 1.4831 - val_acc: 0.4974\n",
      "Epoch 31/50\n",
      "49/49 [==============================] - 4s 91ms/step - loss: 0.8164 - acc: 0.7348 - val_loss: 1.4903 - val_acc: 0.4985\n",
      "Epoch 32/50\n",
      "49/49 [==============================] - 5s 97ms/step - loss: 0.7965 - acc: 0.7440 - val_loss: 1.4972 - val_acc: 0.4977\n",
      "Epoch 33/50\n",
      "49/49 [==============================] - 5s 94ms/step - loss: 0.7798 - acc: 0.7488 - val_loss: 1.5042 - val_acc: 0.4980\n",
      "Epoch 34/50\n",
      "49/49 [==============================] - 5s 95ms/step - loss: 0.7597 - acc: 0.7569 - val_loss: 1.5082 - val_acc: 0.5006\n",
      "Epoch 35/50\n",
      "49/49 [==============================] - 5s 102ms/step - loss: 0.7416 - acc: 0.7653 - val_loss: 1.5188 - val_acc: 0.4952\n",
      "Epoch 36/50\n",
      "49/49 [==============================] - 4s 90ms/step - loss: 0.7233 - acc: 0.7712 - val_loss: 1.5252 - val_acc: 0.4936\n",
      "Epoch 37/50\n",
      "49/49 [==============================] - 5s 95ms/step - loss: 0.7039 - acc: 0.7794 - val_loss: 1.5345 - val_acc: 0.4989\n",
      "Epoch 38/50\n",
      "49/49 [==============================] - 5s 99ms/step - loss: 0.6860 - acc: 0.7888 - val_loss: 1.5447 - val_acc: 0.4943\n",
      "Epoch 39/50\n",
      "49/49 [==============================] - 4s 90ms/step - loss: 0.6697 - acc: 0.7916 - val_loss: 1.5529 - val_acc: 0.4933\n",
      "Epoch 40/50\n",
      "49/49 [==============================] - 4s 91ms/step - loss: 0.6498 - acc: 0.8016 - val_loss: 1.5618 - val_acc: 0.4985\n",
      "Epoch 41/50\n",
      "49/49 [==============================] - 5s 93ms/step - loss: 0.6337 - acc: 0.8092 - val_loss: 1.5694 - val_acc: 0.4957\n",
      "Epoch 42/50\n",
      "49/49 [==============================] - 4s 92ms/step - loss: 0.6167 - acc: 0.8145 - val_loss: 1.5776 - val_acc: 0.4953\n",
      "Epoch 43/50\n",
      "49/49 [==============================] - 4s 89ms/step - loss: 0.5988 - acc: 0.8213 - val_loss: 1.5916 - val_acc: 0.4930\n",
      "Epoch 44/50\n",
      "49/49 [==============================] - 4s 89ms/step - loss: 0.5828 - acc: 0.8284 - val_loss: 1.6013 - val_acc: 0.4942\n",
      "Epoch 45/50\n",
      "49/49 [==============================] - 4s 91ms/step - loss: 0.5661 - acc: 0.8367 - val_loss: 1.6171 - val_acc: 0.4918\n",
      "Epoch 46/50\n",
      "49/49 [==============================] - 4s 88ms/step - loss: 0.5497 - acc: 0.8425 - val_loss: 1.6233 - val_acc: 0.4932\n",
      "Epoch 47/50\n",
      "49/49 [==============================] - 4s 88ms/step - loss: 0.5331 - acc: 0.8488 - val_loss: 1.6346 - val_acc: 0.4946\n",
      "Epoch 48/50\n",
      "49/49 [==============================] - 5s 93ms/step - loss: 0.5165 - acc: 0.8564 - val_loss: 1.6463 - val_acc: 0.4913\n",
      "Epoch 49/50\n",
      "49/49 [==============================] - 4s 89ms/step - loss: 0.5010 - acc: 0.8626 - val_loss: 1.6611 - val_acc: 0.4917\n",
      "Epoch 50/50\n",
      "49/49 [==============================] - 4s 86ms/step - loss: 0.4872 - acc: 0.8673 - val_loss: 1.6753 - val_acc: 0.4886\n"
     ]
    }
   ],
   "source": [
    "model = build_mlp(input_shape=x_train.shape[1:])\n",
    "model.summary()\n",
    "optimizer = keras.optimizers.SGD(lr=LEARNING_RATE, nesterov=True, momentum=MOMENTUM)\n",
    "model.compile(loss=\"categorical_crossentropy\", metrics=[\"acc\"], optimizer=optimizer)\n",
    "\n",
    "\"\"\"Code Here\n",
    "將 callbacks 放入模型訓練流程中\n",
    "\"\"\"\n",
    "model.fit(x_train, y_train, \n",
    "          epochs=EPOCHS, \n",
    "          batch_size=BATCH_SIZE, \n",
    "          validation_data=(x_test, y_test), \n",
    "          shuffle=True,\n",
    "          callbacks=[rec_tptn]\n",
    "         )\n",
    "\n",
    "# Collect results\n",
    "train_loss = model.history.history[\"loss\"]\n",
    "valid_loss = model.history.history[\"val_loss\"]\n",
    "train_acc = model.history.history[\"acc\"]\n",
    "valid_acc = model.history.history[\"val_acc\"]\n",
    "\n",
    "\"\"\"Code Here\n",
    "將 tp/tn 從訓練完的模型中取出\n",
    "\"\"\"\n",
    "valid_tp = model.history.history['val_tp']\n",
    "valid_tn = model.history.history['val_tn']"
   ]
  },
  {
   "cell_type": "code",
   "execution_count": 12,
   "metadata": {},
   "outputs": [
    {
     "data": {
      "image/png": "[encoded data removed]",
      "text/plain": [
       "<Figure size 432x288 with 1 Axes>"
      ]
     },
     "metadata": {
      "needs_background": "light"
     },
     "output_type": "display_data"
    },
    {
     "data": {
      "image/png": "[encoded data removed]",
      "text/plain": [
       "<Figure size 432x288 with 1 Axes>"
      ]
     },
     "metadata": {
      "needs_background": "light"
     },
     "output_type": "display_data"
    },
    {
     "data": {
      "image/png": "[encoded data removed]",
      "text/plain": [
       "<Figure size 432x288 with 1 Axes>"
      ]
     },
     "metadata": {
      "needs_background": "light"
     },
     "output_type": "display_data"
    }
   ],
   "source": [
    "import matplotlib.pyplot as plt\n",
    "%matplotlib inline\n",
    "\n",
    "plt.plot(range(len(train_loss)), train_loss, label=\"train loss\")\n",
    "plt.plot(range(len(valid_loss)), valid_loss, label=\"valid loss\")\n",
    "plt.legend()\n",
    "plt.title(\"Loss\")\n",
    "plt.show()\n",
    "\n",
    "plt.plot(range(len(train_acc)), train_acc, label=\"train accuracy\")\n",
    "plt.plot(range(len(valid_acc)), valid_acc, label=\"valid accuracy\")\n",
    "plt.legend()\n",
    "plt.title(\"Accuracy\")\n",
    "plt.show()\n",
    "\n",
    "plt.plot(range(len(valid_tp)), valid_tp, label=\"valid tp\", color=\"navy\")\n",
    "plt.plot(range(len(valid_tn)), valid_tn, label=\"valid tn\", color=\"red\")\n",
    "plt.legend()\n",
    "plt.title(\"True positives and True Negatives\")\n",
    "plt.show()"
   ]
  },
  {
   "cell_type": "code",
   "execution_count": 19,
   "metadata": {},
   "outputs": [
    {
     "name": "stdout",
     "output_type": "stream",
     "text": [
      "XXX  val_auc not recorded\n",
      "XXX  val_f1sc not recorded\n",
      "XXX  val_fp not recorded\n",
      "XXX  val_fn not recorded\n",
      "OOO  val_tp is recorded\n",
      "OOO  val_tn is recorded\n"
     ]
    }
   ],
   "source": [
    "for i in [\"val_auc\", \"val_f1sc\", \"val_fp\", \"val_fn\", \"val_tp\", \"val_tn\"]:\n",
    "    try:\n",
    "        model.history.history[i]\n",
    "        print(f'OOO  {i} is recorded')\n",
    "    except:\n",
    "        print(f'XXX  {i} not recorded')"
   ]
  },
  {
   "cell_type": "code",
   "execution_count": null,
   "metadata": {},
   "outputs": [],
   "source": []
  }
 ],
 "metadata": {
  "kernelspec": {
   "display_name": "Python 3",
   "language": "python",
   "name": "python3"
  },
  "language_info": {
   "codemirror_mode": {
    "name": "ipython",
    "version": 3
   },
   "file_extension": ".py",
   "mimetype": "text/x-python",
   "name": "python",
   "nbconvert_exporter": "python",
   "pygments_lexer": "ipython3",
   "version": "3.7.4"
  }
 },
 "nbformat": 4,
 "nbformat_minor": 2
}
