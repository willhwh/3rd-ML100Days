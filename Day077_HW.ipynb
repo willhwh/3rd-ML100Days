{
 "cells": [
  {
   "cell_type": "markdown",
   "metadata": {},
   "source": [
    "## Work\n",
    "1. 請將 Epoch 加到 500 個，並觀察 learning curve 的走勢\n",
    "2. 請將 Optimizer 換成 SGD，並觀察 learning curve 的走勢"
   ]
  },
  {
   "cell_type": "code",
   "execution_count": 1,
   "metadata": {},
   "outputs": [
    {
     "name": "stderr",
     "output_type": "stream",
     "text": [
      "Using TensorFlow backend.\n"
     ]
    }
   ],
   "source": [
    "import os\n",
    "import keras\n",
    "\n",
    "# 本作業可以不需使用 GPU, 將 GPU 設定為 \"無\" (若有 GPU 且想開啟，可設為 \"0\")\n",
    "os.environ[\"CUDA_VISIBLE_DEVICES\"] = \"\""
   ]
  },
  {
   "cell_type": "code",
   "execution_count": 2,
   "metadata": {},
   "outputs": [],
   "source": [
    "# 從 Keras 的內建功能中，取得 train 與 test 資料集\n",
    "train, test = keras.datasets.cifar10.load_data()"
   ]
  },
  {
   "cell_type": "code",
   "execution_count": 3,
   "metadata": {},
   "outputs": [],
   "source": [
    "# 將 X 與 Y 獨立放進變數\n",
    "x_train, y_train = train\n",
    "x_test, y_test = test\n",
    "# 資料前處理 - 標準化\n",
    "x_train = x_train / 255.\n",
    "x_test = x_test / 255.\n",
    "\n",
    "# 將資料從圖形 (RGB) 轉為向量 (Single Vector)\n",
    "x_train = x_train.reshape((len(x_train), -1))\n",
    "x_test = x_test.reshape((len(x_test), -1))\n",
    "\n",
    "# 將目標轉為 one-hot encoding\n",
    "y_train = keras.utils.to_categorical(y_train, num_classes=10)\n",
    "y_test = keras.utils.to_categorical(y_test, num_classes=10)"
   ]
  },
  {
   "cell_type": "code",
   "execution_count": 6,
   "metadata": {},
   "outputs": [],
   "source": [
    "def build_mlp():\n",
    "    \"\"\"Code Here\n",
    "    建立你的神經網路\n",
    "    \"\"\"\n",
    "    input_layer=keras.layers.Input([x_train.shape[-1]])\n",
    "    x=keras.layers.Dense(units=256,activation=\"relu\")(input_layer)\n",
    "    x=keras.layers.Dense(units=128,activation=\"relu\")(x)\n",
    "    x=keras.layers.Dense(units=64,activation=\"relu\")(x)\n",
    "    out=keras.layers.Dense(units=10,activation=\"softmax\")(x)\n",
    "    model=keras.models.Model(inputs=[input_layer],outputs=[out])\n",
    "\n",
    "    return model\n",
    "model = build_mlp()"
   ]
  },
  {
   "cell_type": "code",
   "execution_count": 9,
   "metadata": {},
   "outputs": [
    {
     "name": "stdout",
     "output_type": "stream",
     "text": [
      "Model: \"model_1\"\n",
      "_________________________________________________________________\n",
      "Layer (type)                 Output Shape              Param #   \n",
      "=================================================================\n",
      "input_3 (InputLayer)         (None, 3072)              0         \n",
      "_________________________________________________________________\n",
      "dense_6 (Dense)              (None, 256)               786688    \n",
      "_________________________________________________________________\n",
      "dense_7 (Dense)              (None, 128)               32896     \n",
      "_________________________________________________________________\n",
      "dense_8 (Dense)              (None, 64)                8256      \n",
      "_________________________________________________________________\n",
      "dense_9 (Dense)              (None, 10)                650       \n",
      "=================================================================\n",
      "Total params: 828,490\n",
      "Trainable params: 828,490\n",
      "Non-trainable params: 0\n",
      "_________________________________________________________________\n"
     ]
    }
   ],
   "source": [
    "model.summary()"
   ]
  },
  {
   "cell_type": "code",
   "execution_count": 7,
   "metadata": {},
   "outputs": [],
   "source": [
    "\"\"\"\n",
    "Compile 模型\n",
    "\"\"\"\n",
    "optimizer=keras.optimizers.Adam(lr=0.001)\n",
    "model.compile(loss=\"categorical_crossentropy\",metrics=[\"accuracy\"], optimizer=optimizer)"
   ]
  },
  {
   "cell_type": "code",
   "execution_count": 8,
   "metadata": {
    "scrolled": true
   },
   "outputs": [
    {
     "name": "stdout",
     "output_type": "stream",
     "text": [
      "Train on 50000 samples, validate on 10000 samples\n",
      "Epoch 1/10\n",
      "50000/50000 [==============================] - 6s 128us/step - loss: 1.9501 - accuracy: 0.2933 - val_loss: 1.7785 - val_accuracy: 0.3722\n",
      "Epoch 2/10\n",
      "50000/50000 [==============================] - 8s 150us/step - loss: 1.7359 - accuracy: 0.3798 - val_loss: 1.7144 - val_accuracy: 0.3826\n",
      "Epoch 3/10\n",
      "50000/50000 [==============================] - 7s 149us/step - loss: 1.6377 - accuracy: 0.4167 - val_loss: 1.6737 - val_accuracy: 0.3977\n",
      "Epoch 4/10\n",
      "50000/50000 [==============================] - 7s 142us/step - loss: 1.5899 - accuracy: 0.4337 - val_loss: 1.5954 - val_accuracy: 0.4346\n",
      "Epoch 5/10\n",
      "50000/50000 [==============================] - 7s 133us/step - loss: 1.5440 - accuracy: 0.4494 - val_loss: 1.5328 - val_accuracy: 0.4575\n",
      "Epoch 6/10\n",
      "50000/50000 [==============================] - 6s 129us/step - loss: 1.5097 - accuracy: 0.4630 - val_loss: 1.5347 - val_accuracy: 0.4523\n",
      "Epoch 7/10\n",
      "50000/50000 [==============================] - 6s 128us/step - loss: 1.4760 - accuracy: 0.4715 - val_loss: 1.5030 - val_accuracy: 0.4664\n",
      "Epoch 8/10\n",
      "50000/50000 [==============================] - 7s 136us/step - loss: 1.4528 - accuracy: 0.4830 - val_loss: 1.5032 - val_accuracy: 0.4653\n",
      "Epoch 9/10\n",
      "50000/50000 [==============================] - 6s 126us/step - loss: 1.4173 - accuracy: 0.4943 - val_loss: 1.4886 - val_accuracy: 0.4730\n",
      "Epoch 10/10\n",
      "50000/50000 [==============================] - 6s 124us/step - loss: 1.3954 - accuracy: 0.5034 - val_loss: 1.4759 - val_accuracy: 0.4743\n"
     ]
    },
    {
     "data": {
      "text/plain": [
       "<keras.callbacks.callbacks.History at 0x6559fdbd0>"
      ]
     },
     "execution_count": 8,
     "metadata": {},
     "output_type": "execute_result"
    }
   ],
   "source": [
    "\"\"\"\n",
    "設定要訓練的 Epoch 數\n",
    "\"\"\"\n",
    "model.fit(x_train, y_train, \n",
    "          epochs=10, \n",
    "          batch_size=256, \n",
    "          validation_data=(x_test, y_test), \n",
    "          shuffle=True)"
   ]
  },
  {
   "cell_type": "code",
   "execution_count": 11,
   "metadata": {},
   "outputs": [
    {
     "data": {
      "image/png": "[encoded data removed]",
      "text/plain": [
       "<Figure size 432x288 with 1 Axes>"
      ]
     },
     "metadata": {
      "needs_background": "light"
     },
     "output_type": "display_data"
    },
    {
     "data": {
      "image/png": "[encoded data removed]",
      "text/plain": [
       "<Figure size 432x288 with 1 Axes>"
      ]
     },
     "metadata": {
      "needs_background": "light"
     },
     "output_type": "display_data"
    }
   ],
   "source": [
    "import matplotlib.pyplot as plt\n",
    "# 以視覺畫方式檢視訓練過程\n",
    "\n",
    "train_loss = model.history.history[\"loss\"]\n",
    "valid_loss = model.history.history[\"val_loss\"]\n",
    "\n",
    "train_acc = model.history.history[\"accuracy\"]\n",
    "valid_acc = model.history.history[\"val_accuracy\"]\n",
    "\n",
    "plt.plot(range(len(train_loss)), train_loss, label=\"train loss\")\n",
    "plt.plot(range(len(valid_loss)), valid_loss, label=\"valid loss\")\n",
    "plt.legend()\n",
    "plt.title(\"Loss\")\n",
    "plt.show()\n",
    "\n",
    "plt.plot(range(len(train_acc)), train_acc, label=\"train accuracy\")\n",
    "plt.plot(range(len(valid_acc)), valid_acc, label=\"valid accuracy\")\n",
    "plt.legend()\n",
    "plt.title(\"Accuracy\")\n",
    "plt.show()"
   ]
  },
  {
   "cell_type": "code",
   "execution_count": 13,
   "metadata": {},
   "outputs": [
    {
     "name": "stdout",
     "output_type": "stream",
     "text": [
      "Train on 50000 samples, validate on 10000 samples\n",
      "Epoch 1/100\n",
      "50000/50000 [==============================] - 10s 208us/step - loss: 1.9144 - accuracy: 0.3107 - val_loss: 1.7492 - val_accuracy: 0.3822\n",
      "Epoch 2/100\n",
      "50000/50000 [==============================] - 10s 197us/step - loss: 1.6989 - accuracy: 0.3935 - val_loss: 1.6768 - val_accuracy: 0.3992\n",
      "Epoch 3/100\n",
      "50000/50000 [==============================] - 11s 218us/step - loss: 1.6019 - accuracy: 0.4298 - val_loss: 1.5430 - val_accuracy: 0.4513\n",
      "Epoch 4/100\n",
      "50000/50000 [==============================] - 12s 234us/step - loss: 1.5390 - accuracy: 0.4506 - val_loss: 1.6089 - val_accuracy: 0.4279\n",
      "Epoch 5/100\n",
      "50000/50000 [==============================] - 12s 234us/step - loss: 1.5005 - accuracy: 0.4642 - val_loss: 1.5052 - val_accuracy: 0.4621\n",
      "Epoch 6/100\n",
      "50000/50000 [==============================] - 11s 226us/step - loss: 1.4532 - accuracy: 0.4794 - val_loss: 1.4796 - val_accuracy: 0.4742\n",
      "Epoch 7/100\n",
      "50000/50000 [==============================] - 11s 219us/step - loss: 1.4187 - accuracy: 0.4946 - val_loss: 1.4584 - val_accuracy: 0.4795\n",
      "Epoch 8/100\n",
      "50000/50000 [==============================] - 12s 233us/step - loss: 1.3896 - accuracy: 0.5056 - val_loss: 1.4614 - val_accuracy: 0.4802\n",
      "Epoch 9/100\n",
      "50000/50000 [==============================] - 15s 292us/step - loss: 1.3652 - accuracy: 0.5154 - val_loss: 1.4126 - val_accuracy: 0.4981\n",
      "Epoch 10/100\n",
      "50000/50000 [==============================] - 15s 310us/step - loss: 1.3416 - accuracy: 0.5211 - val_loss: 1.4400 - val_accuracy: 0.4947\n",
      "Epoch 11/100\n",
      "50000/50000 [==============================] - 15s 299us/step - loss: 1.3113 - accuracy: 0.5368 - val_loss: 1.4190 - val_accuracy: 0.4958\n",
      "Epoch 12/100\n",
      "50000/50000 [==============================] - 15s 296us/step - loss: 1.2919 - accuracy: 0.5405 - val_loss: 1.3850 - val_accuracy: 0.5117\n",
      "Epoch 13/100\n",
      "50000/50000 [==============================] - 18s 370us/step - loss: 1.2563 - accuracy: 0.5529 - val_loss: 1.3915 - val_accuracy: 0.5099\n",
      "Epoch 14/100\n",
      "50000/50000 [==============================] - 15s 295us/step - loss: 1.2328 - accuracy: 0.5620 - val_loss: 1.3790 - val_accuracy: 0.5126\n",
      "Epoch 15/100\n",
      "50000/50000 [==============================] - 17s 337us/step - loss: 1.2254 - accuracy: 0.5640 - val_loss: 1.4201 - val_accuracy: 0.4917\n",
      "Epoch 16/100\n",
      "50000/50000 [==============================] - 18s 352us/step - loss: 1.1985 - accuracy: 0.5721 - val_loss: 1.3717 - val_accuracy: 0.5195\n",
      "Epoch 17/100\n",
      "50000/50000 [==============================] - 17s 344us/step - loss: 1.1750 - accuracy: 0.5825 - val_loss: 1.4018 - val_accuracy: 0.5071\n",
      "Epoch 18/100\n",
      "50000/50000 [==============================] - 12s 239us/step - loss: 1.1493 - accuracy: 0.5921 - val_loss: 1.3481 - val_accuracy: 0.5278\n",
      "Epoch 19/100\n",
      "50000/50000 [==============================] - 12s 242us/step - loss: 1.1357 - accuracy: 0.5956 - val_loss: 1.4342 - val_accuracy: 0.5097\n",
      "Epoch 20/100\n",
      "50000/50000 [==============================] - 12s 240us/step - loss: 1.1164 - accuracy: 0.6026 - val_loss: 1.3617 - val_accuracy: 0.5283\n",
      "Epoch 21/100\n",
      "50000/50000 [==============================] - 12s 242us/step - loss: 1.0894 - accuracy: 0.6135 - val_loss: 1.3466 - val_accuracy: 0.5332\n",
      "Epoch 22/100\n",
      "50000/50000 [==============================] - 12s 245us/step - loss: 1.0752 - accuracy: 0.6155 - val_loss: 1.3585 - val_accuracy: 0.5313\n",
      "Epoch 23/100\n",
      "50000/50000 [==============================] - 12s 245us/step - loss: 1.0584 - accuracy: 0.6248 - val_loss: 1.3899 - val_accuracy: 0.5238\n",
      "Epoch 24/100\n",
      "50000/50000 [==============================] - 13s 259us/step - loss: 1.0362 - accuracy: 0.6319 - val_loss: 1.4591 - val_accuracy: 0.5111\n",
      "Epoch 25/100\n",
      "50000/50000 [==============================] - 23s 465us/step - loss: 1.0151 - accuracy: 0.6396 - val_loss: 1.4164 - val_accuracy: 0.5246\n",
      "Epoch 26/100\n",
      "50000/50000 [==============================] - 23s 452us/step - loss: 0.9977 - accuracy: 0.6442 - val_loss: 1.3717 - val_accuracy: 0.5390\n",
      "Epoch 27/100\n",
      "50000/50000 [==============================] - 18s 353us/step - loss: 0.9775 - accuracy: 0.6533 - val_loss: 1.4691 - val_accuracy: 0.5133\n",
      "Epoch 28/100\n",
      "50000/50000 [==============================] - 16s 320us/step - loss: 0.9686 - accuracy: 0.6574 - val_loss: 1.4247 - val_accuracy: 0.5275\n",
      "Epoch 29/100\n",
      "50000/50000 [==============================] - 15s 309us/step - loss: 0.9448 - accuracy: 0.6661 - val_loss: 1.4533 - val_accuracy: 0.5258\n",
      "Epoch 30/100\n",
      "50000/50000 [==============================] - 20s 390us/step - loss: 0.9328 - accuracy: 0.6675 - val_loss: 1.4761 - val_accuracy: 0.5231\n",
      "Epoch 31/100\n",
      "50000/50000 [==============================] - 13s 268us/step - loss: 0.9193 - accuracy: 0.6719 - val_loss: 1.4590 - val_accuracy: 0.5263\n",
      "Epoch 32/100\n",
      "50000/50000 [==============================] - 13s 265us/step - loss: 0.8906 - accuracy: 0.6842 - val_loss: 1.4525 - val_accuracy: 0.5344\n",
      "Epoch 33/100\n",
      "50000/50000 [==============================] - 13s 264us/step - loss: 0.8860 - accuracy: 0.6869 - val_loss: 1.4759 - val_accuracy: 0.5215\n",
      "Epoch 34/100\n",
      "50000/50000 [==============================] - 13s 260us/step - loss: 0.8568 - accuracy: 0.6948 - val_loss: 1.5441 - val_accuracy: 0.5257\n",
      "Epoch 35/100\n",
      "50000/50000 [==============================] - 13s 254us/step - loss: 0.8477 - accuracy: 0.6979 - val_loss: 1.4983 - val_accuracy: 0.5290\n",
      "Epoch 36/100\n",
      "50000/50000 [==============================] - 12s 238us/step - loss: 0.8369 - accuracy: 0.7034 - val_loss: 1.5364 - val_accuracy: 0.5150\n",
      "Epoch 37/100\n",
      "50000/50000 [==============================] - 12s 240us/step - loss: 0.8146 - accuracy: 0.7093 - val_loss: 1.5590 - val_accuracy: 0.5183\n",
      "Epoch 38/100\n",
      "50000/50000 [==============================] - 12s 242us/step - loss: 0.7941 - accuracy: 0.7166 - val_loss: 1.5972 - val_accuracy: 0.5180\n",
      "Epoch 39/100\n",
      "50000/50000 [==============================] - 12s 243us/step - loss: 0.7792 - accuracy: 0.7240 - val_loss: 1.5387 - val_accuracy: 0.5227\n",
      "Epoch 40/100\n",
      "50000/50000 [==============================] - 12s 242us/step - loss: 0.7658 - accuracy: 0.7279 - val_loss: 1.5959 - val_accuracy: 0.5212\n",
      "Epoch 41/100\n",
      "50000/50000 [==============================] - 12s 245us/step - loss: 0.7507 - accuracy: 0.7333 - val_loss: 1.6164 - val_accuracy: 0.5152\n",
      "Epoch 42/100\n",
      "50000/50000 [==============================] - 12s 245us/step - loss: 0.7304 - accuracy: 0.7400 - val_loss: 1.6242 - val_accuracy: 0.5173\n",
      "Epoch 43/100\n",
      "50000/50000 [==============================] - 12s 243us/step - loss: 0.7264 - accuracy: 0.7404 - val_loss: 1.6092 - val_accuracy: 0.5254\n",
      "Epoch 44/100\n",
      "50000/50000 [==============================] - 12s 244us/step - loss: 0.7036 - accuracy: 0.7482 - val_loss: 1.6584 - val_accuracy: 0.5227\n",
      "Epoch 45/100\n",
      "50000/50000 [==============================] - 12s 244us/step - loss: 0.6841 - accuracy: 0.7593 - val_loss: 1.6773 - val_accuracy: 0.5186\n",
      "Epoch 46/100\n",
      "50000/50000 [==============================] - 13s 252us/step - loss: 0.6869 - accuracy: 0.7540 - val_loss: 1.6854 - val_accuracy: 0.5182\n",
      "Epoch 47/100\n",
      "50000/50000 [==============================] - 15s 300us/step - loss: 0.6793 - accuracy: 0.7561 - val_loss: 1.7341 - val_accuracy: 0.5306\n",
      "Epoch 48/100\n",
      "50000/50000 [==============================] - 15s 300us/step - loss: 0.6615 - accuracy: 0.7642 - val_loss: 1.7316 - val_accuracy: 0.5172\n",
      "Epoch 49/100\n",
      "50000/50000 [==============================] - 14s 276us/step - loss: 0.6407 - accuracy: 0.7739 - val_loss: 1.7265 - val_accuracy: 0.5232\n",
      "Epoch 50/100\n",
      "50000/50000 [==============================] - 13s 259us/step - loss: 0.6285 - accuracy: 0.7754 - val_loss: 1.7982 - val_accuracy: 0.5130\n",
      "Epoch 51/100\n",
      "50000/50000 [==============================] - 13s 259us/step - loss: 0.6180 - accuracy: 0.7802 - val_loss: 1.8825 - val_accuracy: 0.5188\n",
      "Epoch 52/100\n",
      "50000/50000 [==============================] - 13s 257us/step - loss: 0.6159 - accuracy: 0.7805 - val_loss: 1.8437 - val_accuracy: 0.5145\n",
      "Epoch 53/100\n",
      "50000/50000 [==============================] - 13s 251us/step - loss: 0.5889 - accuracy: 0.7908 - val_loss: 1.8552 - val_accuracy: 0.5191\n",
      "Epoch 54/100\n",
      "50000/50000 [==============================] - 13s 256us/step - loss: 0.5912 - accuracy: 0.7878 - val_loss: 1.9541 - val_accuracy: 0.5049\n"
     ]
    },
    {
     "name": "stdout",
     "output_type": "stream",
     "text": [
      "Epoch 55/100\n",
      "50000/50000 [==============================] - 10s 208us/step - loss: 0.5848 - accuracy: 0.7913 - val_loss: 1.8827 - val_accuracy: 0.5210\n",
      "Epoch 56/100\n",
      "50000/50000 [==============================] - 11s 210us/step - loss: 0.5483 - accuracy: 0.8051 - val_loss: 2.0807 - val_accuracy: 0.5016\n",
      "Epoch 57/100\n",
      "50000/50000 [==============================] - 10s 209us/step - loss: 0.5765 - accuracy: 0.7944 - val_loss: 1.9694 - val_accuracy: 0.5198\n",
      "Epoch 58/100\n",
      "50000/50000 [==============================] - 10s 209us/step - loss: 0.5357 - accuracy: 0.8104 - val_loss: 2.0304 - val_accuracy: 0.5073\n",
      "Epoch 59/100\n",
      "50000/50000 [==============================] - 10s 199us/step - loss: 0.5315 - accuracy: 0.8103 - val_loss: 2.0416 - val_accuracy: 0.5087\n",
      "Epoch 60/100\n",
      "50000/50000 [==============================] - 10s 203us/step - loss: 0.5085 - accuracy: 0.8189 - val_loss: 2.0598 - val_accuracy: 0.5115\n",
      "Epoch 61/100\n",
      "50000/50000 [==============================] - 10s 203us/step - loss: 0.5047 - accuracy: 0.8212 - val_loss: 2.0756 - val_accuracy: 0.5142\n",
      "Epoch 62/100\n",
      "50000/50000 [==============================] - 10s 198us/step - loss: 0.5139 - accuracy: 0.8148 - val_loss: 2.1286 - val_accuracy: 0.5110\n",
      "Epoch 63/100\n",
      "50000/50000 [==============================] - 10s 194us/step - loss: 0.4892 - accuracy: 0.8248 - val_loss: 2.2091 - val_accuracy: 0.5113\n",
      "Epoch 64/100\n",
      "50000/50000 [==============================] - 10s 197us/step - loss: 0.4882 - accuracy: 0.8258 - val_loss: 2.2266 - val_accuracy: 0.5085\n",
      "Epoch 65/100\n",
      "50000/50000 [==============================] - 10s 201us/step - loss: 0.4872 - accuracy: 0.8272 - val_loss: 2.1981 - val_accuracy: 0.5118\n",
      "Epoch 66/100\n",
      "50000/50000 [==============================] - 10s 195us/step - loss: 0.4694 - accuracy: 0.8321 - val_loss: 2.2540 - val_accuracy: 0.5121\n",
      "Epoch 67/100\n",
      "50000/50000 [==============================] - 10s 198us/step - loss: 0.4657 - accuracy: 0.8326 - val_loss: 2.2754 - val_accuracy: 0.5070\n",
      "Epoch 68/100\n",
      "50000/50000 [==============================] - 10s 194us/step - loss: 0.4497 - accuracy: 0.8391 - val_loss: 2.3310 - val_accuracy: 0.5078\n",
      "Epoch 69/100\n",
      "50000/50000 [==============================] - 10s 193us/step - loss: 0.4578 - accuracy: 0.8343 - val_loss: 2.3131 - val_accuracy: 0.5055\n",
      "Epoch 70/100\n",
      "50000/50000 [==============================] - 10s 195us/step - loss: 0.4444 - accuracy: 0.8419 - val_loss: 2.3428 - val_accuracy: 0.5141\n",
      "Epoch 71/100\n",
      "50000/50000 [==============================] - 10s 192us/step - loss: 0.4258 - accuracy: 0.8499 - val_loss: 2.3665 - val_accuracy: 0.5135\n",
      "Epoch 72/100\n",
      "50000/50000 [==============================] - 10s 193us/step - loss: 0.4145 - accuracy: 0.8520 - val_loss: 2.4399 - val_accuracy: 0.5146\n",
      "Epoch 73/100\n",
      "50000/50000 [==============================] - 10s 195us/step - loss: 0.4113 - accuracy: 0.8524 - val_loss: 2.4922 - val_accuracy: 0.5152\n",
      "Epoch 74/100\n",
      "50000/50000 [==============================] - 10s 202us/step - loss: 0.4021 - accuracy: 0.8565 - val_loss: 2.5829 - val_accuracy: 0.5051\n",
      "Epoch 75/100\n",
      "50000/50000 [==============================] - 10s 197us/step - loss: 0.3978 - accuracy: 0.8578 - val_loss: 2.5088 - val_accuracy: 0.4969\n",
      "Epoch 76/100\n",
      "50000/50000 [==============================] - 10s 199us/step - loss: 0.3968 - accuracy: 0.8587 - val_loss: 2.6017 - val_accuracy: 0.5047\n",
      "Epoch 77/100\n",
      "50000/50000 [==============================] - 10s 198us/step - loss: 0.3865 - accuracy: 0.8629 - val_loss: 2.6058 - val_accuracy: 0.5094\n",
      "Epoch 78/100\n",
      "50000/50000 [==============================] - 10s 198us/step - loss: 0.3857 - accuracy: 0.8609 - val_loss: 2.5997 - val_accuracy: 0.5146\n",
      "Epoch 79/100\n",
      "50000/50000 [==============================] - 10s 200us/step - loss: 0.3813 - accuracy: 0.8622 - val_loss: 2.6880 - val_accuracy: 0.5048\n",
      "Epoch 80/100\n",
      "50000/50000 [==============================] - 12s 244us/step - loss: 0.3787 - accuracy: 0.8645 - val_loss: 2.7613 - val_accuracy: 0.5039\n",
      "Epoch 81/100\n",
      "50000/50000 [==============================] - 13s 256us/step - loss: 0.3716 - accuracy: 0.8668 - val_loss: 2.7209 - val_accuracy: 0.4980\n",
      "Epoch 82/100\n",
      "50000/50000 [==============================] - 11s 211us/step - loss: 0.3529 - accuracy: 0.8740 - val_loss: 2.7572 - val_accuracy: 0.5098\n",
      "Epoch 83/100\n",
      "50000/50000 [==============================] - 10s 197us/step - loss: 0.3590 - accuracy: 0.8706 - val_loss: 2.7649 - val_accuracy: 0.5088\n",
      "Epoch 84/100\n",
      "50000/50000 [==============================] - 10s 201us/step - loss: 0.3403 - accuracy: 0.8788 - val_loss: 2.7504 - val_accuracy: 0.5107\n",
      "Epoch 85/100\n",
      "50000/50000 [==============================] - 10s 208us/step - loss: 0.3466 - accuracy: 0.8762 - val_loss: 2.8810 - val_accuracy: 0.5061\n",
      "Epoch 86/100\n",
      "50000/50000 [==============================] - 10s 196us/step - loss: 0.3495 - accuracy: 0.8750 - val_loss: 2.9155 - val_accuracy: 0.4976\n",
      "Epoch 87/100\n",
      "50000/50000 [==============================] - 10s 197us/step - loss: 0.3308 - accuracy: 0.8824 - val_loss: 2.9507 - val_accuracy: 0.5146\n",
      "Epoch 88/100\n",
      "50000/50000 [==============================] - 10s 194us/step - loss: 0.3242 - accuracy: 0.8845 - val_loss: 3.0181 - val_accuracy: 0.5032\n",
      "Epoch 89/100\n",
      "50000/50000 [==============================] - 10s 197us/step - loss: 0.3241 - accuracy: 0.8852 - val_loss: 2.9744 - val_accuracy: 0.5006\n",
      "Epoch 90/100\n",
      "50000/50000 [==============================] - 10s 198us/step - loss: 0.3373 - accuracy: 0.8781 - val_loss: 3.0747 - val_accuracy: 0.5035\n",
      "Epoch 91/100\n",
      "50000/50000 [==============================] - 10s 195us/step - loss: 0.3474 - accuracy: 0.8758 - val_loss: 2.9895 - val_accuracy: 0.5061\n",
      "Epoch 92/100\n",
      "50000/50000 [==============================] - 10s 191us/step - loss: 0.3134 - accuracy: 0.8884 - val_loss: 3.0466 - val_accuracy: 0.5017\n",
      "Epoch 93/100\n",
      "50000/50000 [==============================] - 10s 191us/step - loss: 0.3151 - accuracy: 0.8871 - val_loss: 3.0493 - val_accuracy: 0.5031\n",
      "Epoch 94/100\n",
      "50000/50000 [==============================] - 10s 191us/step - loss: 0.2954 - accuracy: 0.8951 - val_loss: 3.1373 - val_accuracy: 0.5006\n",
      "Epoch 95/100\n",
      "50000/50000 [==============================] - 10s 194us/step - loss: 0.2802 - accuracy: 0.9009 - val_loss: 3.1862 - val_accuracy: 0.5065\n",
      "Epoch 96/100\n",
      "50000/50000 [==============================] - 10s 193us/step - loss: 0.3015 - accuracy: 0.8921 - val_loss: 3.1449 - val_accuracy: 0.5048\n",
      "Epoch 97/100\n",
      "50000/50000 [==============================] - 10s 196us/step - loss: 0.2934 - accuracy: 0.8931 - val_loss: 3.2027 - val_accuracy: 0.5020\n",
      "Epoch 98/100\n",
      "50000/50000 [==============================] - 10s 202us/step - loss: 0.2993 - accuracy: 0.8935 - val_loss: 3.3058 - val_accuracy: 0.5045\n",
      "Epoch 99/100\n",
      "50000/50000 [==============================] - 10s 195us/step - loss: 0.2846 - accuracy: 0.8973 - val_loss: 3.3000 - val_accuracy: 0.4955\n",
      "Epoch 100/100\n",
      "50000/50000 [==============================] - 10s 197us/step - loss: 0.3336 - accuracy: 0.8817 - val_loss: 3.2944 - val_accuracy: 0.4962\n"
     ]
    },
    {
     "data": {
      "image/png": "[encoded data removed]",
      "text/plain": [
       "<Figure size 432x288 with 1 Axes>"
      ]
     },
     "metadata": {
      "needs_background": "light"
     },
     "output_type": "display_data"
    },
    {
     "data": {
      "image/png": "[encoded data removed]",
      "text/plain": [
       "<Figure size 432x288 with 1 Axes>"
      ]
     },
     "metadata": {
      "needs_background": "light"
     },
     "output_type": "display_data"
    }
   ],
   "source": [
    "def build_mlp1():\n",
    "    \"\"\"Code Here\n",
    "    建立你的神經網路\n",
    "    \"\"\"\n",
    "    input_layer=keras.layers.Input([x_train.shape[-1]])\n",
    "    x=keras.layers.Dense(units=512,activation=\"relu\")(input_layer)\n",
    "    x=keras.layers.Dense(units=256,activation=\"relu\")(x)\n",
    "    x=keras.layers.Dense(units=128,activation=\"relu\")(x)\n",
    "    out=keras.layers.Dense(units=10,activation=\"softmax\")(x)\n",
    "    model=keras.models.Model(inputs=[input_layer],outputs=[out])\n",
    "\n",
    "    return model\n",
    "model1 = build_mlp1()\n",
    "\n",
    "optimizer=keras.optimizers.Adam(lr=0.001)\n",
    "model1.compile(loss=\"categorical_crossentropy\",metrics=[\"accuracy\"], optimizer=optimizer)\n",
    "\n",
    "model1.fit(x_train, y_train, \n",
    "          epochs=100, \n",
    "          batch_size=256, \n",
    "          validation_data=(x_test, y_test), \n",
    "          shuffle=True)\n",
    "\n",
    "import matplotlib.pyplot as plt\n",
    "# 以視覺畫方式檢視訓練過程\n",
    "\n",
    "train_loss1 = model1.history.history[\"loss\"]\n",
    "valid_loss1 = model1.history.history[\"val_loss\"]\n",
    "\n",
    "train_acc1 = model1.history.history[\"accuracy\"]\n",
    "valid_acc1 = model1.history.history[\"val_accuracy\"]\n",
    "\n",
    "plt.plot(range(len(train_loss1)), train_loss1, label=\"train loss\")\n",
    "plt.plot(range(len(valid_loss1)), valid_loss1, label=\"valid loss\")\n",
    "plt.legend()\n",
    "plt.title(\"Loss\")\n",
    "plt.show()\n",
    "\n",
    "plt.plot(range(len(train_acc1)), train_acc1, label=\"train accuracy\")\n",
    "plt.plot(range(len(valid_acc1)), valid_acc1, label=\"valid accuracy\")\n",
    "plt.legend()\n",
    "plt.title(\"Accuracy\")\n",
    "plt.show()"
   ]
  },
  {
   "cell_type": "code",
   "execution_count": null,
   "metadata": {},
   "outputs": [],
   "source": []
  }
 ],
 "metadata": {
  "kernelspec": {
   "display_name": "Python 3",
   "language": "python",
   "name": "python3"
  },
  "language_info": {
   "codemirror_mode": {
    "name": "ipython",
    "version": 3
   },
   "file_extension": ".py",
   "mimetype": "text/x-python",
   "name": "python",
   "nbconvert_exporter": "python",
   "pygments_lexer": "ipython3",
   "version": "3.7.4"
  }
 },
 "nbformat": 4,
 "nbformat_minor": 2
}
