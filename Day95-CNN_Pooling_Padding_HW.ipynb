{
 "cells": [
  {
   "cell_type": "markdown",
   "metadata": {},
   "source": [
    "# 作業目標:\n",
    "    了解 Padding 的作法\n",
    "    \n",
    "    了解 Pooling 的作法"
   ]
  },
  {
   "cell_type": "markdown",
   "metadata": {},
   "source": [
    "# 作業重點:\n",
    "    (1) 調整Padding 的設定, 看 Pad 後的結果\n",
    "    \n",
    "    (2) 調整Pooling 的設定, 看 Poolin 後的結果"
   ]
  },
  {
   "cell_type": "code",
   "execution_count": 4,
   "metadata": {},
   "outputs": [
    {
     "data": {
      "text/plain": [
       "array([[[[ 0.52946532,  0.13770121],\n",
       "         [ 0.07782113,  0.61838026],\n",
       "         [ 0.23249456,  0.68255141]],\n",
       "\n",
       "        [[-0.31011677, -2.43483776],\n",
       "         [ 1.0388246 ,  2.18697965],\n",
       "         [ 0.44136444, -0.10015523]],\n",
       "\n",
       "        [[-0.13644474, -0.11905419],\n",
       "         [ 0.01740941, -1.12201873],\n",
       "         [-0.51709446, -0.99702683]]],\n",
       "\n",
       "\n",
       "       [[[ 0.24879916, -0.29664115],\n",
       "         [ 0.49521132, -0.17470316],\n",
       "         [ 0.98633519,  0.2135339 ]],\n",
       "\n",
       "        [[ 2.19069973, -1.89636092],\n",
       "         [-0.64691669,  0.90148689],\n",
       "         [ 2.52832571, -0.24863478]],\n",
       "\n",
       "        [[ 0.04366899, -0.22631424],\n",
       "         [ 1.33145711, -0.28730786],\n",
       "         [ 0.68006984, -0.3198016 ]]],\n",
       "\n",
       "\n",
       "       [[[-1.27255876,  0.31354772],\n",
       "         [ 0.50318481,  1.29322588],\n",
       "         [-0.11044703, -0.61736206]],\n",
       "\n",
       "        [[ 0.5627611 ,  0.24073709],\n",
       "         [ 0.28066508, -0.0731127 ],\n",
       "         [ 1.16033857,  0.36949272]],\n",
       "\n",
       "        [[ 1.90465871,  1.1110567 ],\n",
       "         [ 0.6590498 , -1.62743834],\n",
       "         [ 0.60231928,  0.4202822 ]]],\n",
       "\n",
       "\n",
       "       [[[ 0.81095167,  1.04444209],\n",
       "         [-0.40087819,  0.82400562],\n",
       "         [-0.56230543,  1.95487808]],\n",
       "\n",
       "        [[-1.33195167, -1.76068856],\n",
       "         [-1.65072127, -0.89055558],\n",
       "         [-1.1191154 ,  1.9560789 ]],\n",
       "\n",
       "        [[-0.3264995 , -1.34267579],\n",
       "         [ 1.11438298, -0.58652394],\n",
       "         [-1.23685338,  0.87583893]]]])"
      ]
     },
     "execution_count": 4,
     "metadata": {},
     "output_type": "execute_result"
    }
   ],
   "source": [
    "x = np.random.randn(4, 3, 3, 2)\n",
    "x"
   ]
  },
  {
   "cell_type": "code",
   "execution_count": 1,
   "metadata": {},
   "outputs": [],
   "source": [
    "import numpy as np\n",
    "import h5py\n",
    "import matplotlib.pyplot as plt\n",
    "\n",
    "# 繪圖結果直接顯示在Jupyter cell 之內\n",
    "%matplotlib inline  \n",
    "plt.rcParams['figure.figsize'] = (5.0, 4.0) #  設定繪圖板的大小\n",
    "plt.rcParams['image.interpolation'] = 'nearest'\n",
    "plt.rcParams['image.cmap'] = 'gray'\n",
    "\n",
    "# autoreload。可以讓我們不退出IPython就動態修改代碼，在執行代碼前IPython會幫我們自動重載改動的模塊\n",
    "%load_ext autoreload\n",
    "%autoreload 2\n",
    "np.random.seed(1)"
   ]
  },
  {
   "cell_type": "code",
   "execution_count": 5,
   "metadata": {},
   "outputs": [],
   "source": [
    "# GRADED FUNCTION: zero_pad\n",
    "def zero_pad(X, pad):\n",
    "    \"\"\"\n",
    "    對image X 做 zero-padding. \n",
    "    參數定義如下:\n",
    "    X -- python numpy array, 呈現維度 (m, n_H, n_W, n_C), 代表一批 m 個圖像\n",
    "         n_H: 圖高, n_W: 圖寬, n_C: color channels 數\n",
    "    pad -- 整數, 加幾圈的 zero padding.\n",
    "    Returns:\n",
    "    X_pad -- image of shape (m, n_H + 2*pad, n_W + 2*pad, n_C) 做完zero-padding 的結果\n",
    "    \"\"\"\n",
    "    \n",
    "    X_pad = np.pad(X, ((0, 0), (pad, pad), (pad, pad), (0, 0)), 'constant', constant_values=(0, 0))\n",
    "  \n",
    "    return X_pad"
   ]
  },
  {
   "cell_type": "code",
   "execution_count": 11,
   "metadata": {},
   "outputs": [
    {
     "name": "stdout",
     "output_type": "stream",
     "text": [
      "x.shape = (2, 2, 2, 4)\n",
      "x_pad.shape = (2, 6, 6, 4)\n",
      "x[1,1] = [[ 0.4611641  -1.17598267  1.01012718  0.92001793]\n",
      " [-0.19505734  0.80539342 -0.70134443 -0.53722302]]\n",
      "x_pad[1,1] = [[0. 0. 0. 0.]\n",
      " [0. 0. 0. 0.]\n",
      " [0. 0. 0. 0.]\n",
      " [0. 0. 0. 0.]\n",
      " [0. 0. 0. 0.]\n",
      " [0. 0. 0. 0.]]\n"
     ]
    },
    {
     "data": {
      "text/plain": [
       "<matplotlib.image.AxesImage at 0x1131ab510>"
      ]
     },
     "execution_count": 11,
     "metadata": {},
     "output_type": "execute_result"
    },
    {
     "data": {
      "image/png": "[encoded data removed]",
      "text/plain": [
       "<Figure size 432x288 with 2 Axes>"
      ]
     },
     "metadata": {
      "needs_background": "light"
     },
     "output_type": "display_data"
    }
   ],
   "source": [
    "'''\n",
    "作業修改\n",
    "np.random.seed(1)\n",
    "'''\n",
    "x = np.random.randn(2,2,2,4) \n",
    "x_pad = zero_pad(x,2)\n",
    "\n",
    "\n",
    "print (\"x.shape =\", x.shape)\n",
    "print (\"x_pad.shape =\", x_pad.shape)\n",
    "print (\"x[1,1] =\", x[1,1])\n",
    "print (\"x_pad[1,1] =\", x_pad[1,1])\n",
    "fig, axarr = plt.subplots(1, 2)\n",
    "axarr[0].set_title('x')\n",
    "axarr[0].imshow(x[0,:,:,0])\n",
    "axarr[1].set_title('x_pad')\n",
    "axarr[1].imshow(x_pad[0,:,:,0])"
   ]
  },
  {
   "cell_type": "code",
   "execution_count": 47,
   "metadata": {},
   "outputs": [],
   "source": [
    "# GRADED FUNCTION: pool_forward\n",
    "def pool_forward(A_prev, hparameters, mode = \"max\"):\n",
    "    \"\"\"\n",
    "    設計一個前行網路的池化層\n",
    "    參數定義如下:\n",
    "    A_prev -- 輸入的numpy 陣列, 維度 (m, n_H_prev, n_W_prev, n_C_prev)\n",
    "    hparameter 超參數 --  \"f\" and \"stride\" 所形成的python 字典\n",
    "    mode -- 池化的模式: \"max\" or \"average\"\n",
    "    \n",
    "    返回:\n",
    "        A -- 輸出的池化層, 維度為 (m, n_H, n_W, n_C) 的 numpy 陣列\n",
    "        cache -- 可以應用在 backward pass pooling layer 資料, 包含 input and hparameter\n",
    "    \"\"\"\n",
    "\n",
    "    # 檢索尺寸 from the input shape\n",
    "    (m, n_H_prev, n_W_prev, n_C_prev) = A_prev.shape\n",
    " \n",
    "    # 檢索超參數 from \"hparameters\"\n",
    "    f = hparameters[\"f\"]\n",
    "    stride = hparameters[\"stride\"]\n",
    "\n",
    "    # 定義輸出的dimensions\n",
    "    n_H = int(1 + (n_H_prev - f) / stride)\n",
    "    n_W = int(1 + (n_W_prev - f) / stride)\n",
    "    n_C = n_C_prev\n",
    "\n",
    "    # 初始化輸出的 matrix A\n",
    "    A = np.zeros((m, n_H, n_W, n_C))\n",
    "\n",
    "    ### 程式起始位置  ###\n",
    "    for i in range(m): # 訓練樣本的for 迴圈\n",
    "        for h in range(n_H): # 輸出樣本的for 迴圈, 針對vertical axis\n",
    "            for w in range(n_W): #  輸出樣本的for 迴圈, 針對 horizontal axis\n",
    "                for c in range (n_C): #  輸出樣本的for 迴圈, 針對channels\n",
    "\n",
    "                     # 找出特徵圖的寬度跟高度四個點\n",
    "                    vert_start = h * stride\n",
    "                    vert_end = h * stride+ f\n",
    "                    horiz_start = w * stride\n",
    "                    horiz_end = w * stride + f\n",
    "\n",
    "                    # 定義第i個訓練示例\n",
    "                    a_prev_slice = A_prev[i, vert_start:vert_end, horiz_start:horiz_end,c]\n",
    "\n",
    "                    # 計算輸入data 的池化結果. 使用 if statment 去做分類\n",
    "                    if mode == \"max\":\n",
    "                        A[i, h, w, c] = np.max(a_prev_slice)\n",
    "                    elif mode == \"average\":\n",
    "                        A[i, h, w, c] = np.mean(a_prev_slice)\n",
    "                    \n",
    "                        ### 程式結束  ###\n",
    "    \n",
    "    # 儲存輸入的特徵圖跟所設定的超參數, 可以用在 pool_backward()\n",
    "    cache = (A_prev, hparameters)\n",
    "    \n",
    "    # 確認輸出的資料維度\n",
    "    assert(A.shape == (m, n_H, n_W, n_C))\n",
    "    return A, cache"
   ]
  },
  {
   "cell_type": "code",
   "execution_count": 48,
   "metadata": {},
   "outputs": [
    {
     "data": {
      "text/plain": [
       "array([[[[-1.29525789,  0.07432055, -0.19956072, -0.65460317],\n",
       "         [ 0.3180143 , -0.89027155,  0.11133727, -0.01952256]],\n",
       "\n",
       "        [[-0.83998891, -2.29820588,  1.45652739,  0.31663724],\n",
       "         [-2.66412594, -0.42642862,  0.39378773, -0.22814069]]],\n",
       "\n",
       "\n",
       "       [[[ 0.58033011, -0.97326759,  0.17516773, -0.05348369],\n",
       "         [-0.18306199, -0.2210289 ,  0.19975956,  0.93272141]],\n",
       "\n",
       "        [[-0.5301198 , -0.40724002,  0.16056499, -0.12014998],\n",
       "         [ 0.38560229,  0.71829074,  1.2911889 , -0.11644415]]]])"
      ]
     },
     "execution_count": 48,
     "metadata": {},
     "output_type": "execute_result"
    }
   ],
   "source": [
    "A_prev "
   ]
  },
  {
   "cell_type": "code",
   "execution_count": 49,
   "metadata": {},
   "outputs": [
    {
     "name": "stdout",
     "output_type": "stream",
     "text": [
      "mode = max\n",
      "A = [[[[0.5616381  1.51475038 0.64792481 0.60874908]]]\n",
      "\n",
      "\n",
      " [[[0.67930114 1.42754695 1.5666862  2.02999749]]]]\n",
      "\n",
      "mode = average\n",
      "A = [[[[-0.84499317 -0.46470118  0.16123741 -0.31347191]]]\n",
      "\n",
      "\n",
      " [[[-0.13207317  0.13300116 -0.14278804  0.03180282]]]]\n"
     ]
    }
   ],
   "source": [
    "'''\n",
    "作業修改\n",
    "np.random.seed(1)\n",
    "'''\n",
    "A_prev = np.random.randn(2, 2, 2, 4)\n",
    "hparameters = {\"stride\" : 2, \"f\": 2}\n",
    "#Stride(選框每次移動的步數)\n",
    "\n",
    "#f >0 且 f<n_H_prev f<n_w_prev \n",
    "#pool_forward(A_prev, hparameters, mode = \"max\")\n",
    "#(m, n_H_prev, n_W_prev, n_C_prev) = A_prev.shape\n",
    "\n",
    "\n",
    "A, cache = pool_forward(A_prev, hparameters)\n",
    "print(\"mode = max\")\n",
    "print(\"A =\", A)\n",
    "print()\n",
    "A, cache = pool_forward(A_prev, hparameters, mode = \"average\")\n",
    "print(\"mode = average\")\n",
    "print(\"A =\", A)"
   ]
  },
  {
   "cell_type": "code",
   "execution_count": null,
   "metadata": {},
   "outputs": [],
   "source": []
  }
 ],
 "metadata": {
  "kernelspec": {
   "display_name": "Python 3",
   "language": "python",
   "name": "python3"
  },
  "language_info": {
   "codemirror_mode": {
    "name": "ipython",
    "version": 3
   },
   "file_extension": ".py",
   "mimetype": "text/x-python",
   "name": "python",
   "nbconvert_exporter": "python",
   "pygments_lexer": "ipython3",
   "version": "3.7.4"
  }
 },
 "nbformat": 4,
 "nbformat_minor": 2
}
