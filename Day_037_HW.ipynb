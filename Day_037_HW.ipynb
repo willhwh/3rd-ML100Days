{
 "cells": [
  {
   "cell_type": "markdown",
   "metadata": {},
   "source": [
    "## [作業重點]\n",
    "了解線性回歸的模型發展歷程，並了解優勢與劣勢，以及其使用情境"
   ]
  },
  {
   "cell_type": "markdown",
   "metadata": {},
   "source": [
    "## 作業"
   ]
  },
  {
   "cell_type": "markdown",
   "metadata": {},
   "source": [
    "請閱讀以下相關文獻，並回答以下問題\n",
    "\n",
    "[Linear Regression 詳細介紹](https://brohrer.mcknote.com/zh-Hant/how_machine_learning_works/how_linear_regression_works.html)\n",
    "\n",
    "[Logistics Regression 詳細介紹](https://medium.com/@yehjames/%E8%B3%87%E6%96%99%E5%88%86%E6%9E%90-%E6%A9%9F%E5%99%A8%E5%AD%B8%E7%BF%92-%E7%AC%AC3-3%E8%AC%9B-%E7%B7%9A%E6%80%A7%E5%88%86%E9%A1%9E-%E9%82%8F%E8%BC%AF%E6%96%AF%E5%9B%9E%E6%AD%B8-logistic-regression-%E4%BB%8B%E7%B4%B9-a1a5f47017e5)\n"
   ]
  },
  {
   "cell_type": "markdown",
   "metadata": {},
   "source": [
    "1 線性回歸模型能夠準確預測非線性關係的資料集嗎?\n",
    ">並不行準確預測非線性關係。線性回歸是探討自變數(x)與依變數(y)之間的關聯性，並建立出迴歸模型，藉此預測研究者感興趣的變數(y)。多元線性迴歸:是利用兩個以上的自變數(x)去預測一個依變數(y)\n",
    "\n",
    "2 回歸模型是否對資料分布有基本假設?\n",
    ">是的。\n",
    "- 線性關係：应变量和每个自变量都是线性关系。\n",
    "- 常態性(normality)：对于所有的观测值，它们的误差项相互之间是独立的。\n",
    "- 誤差項之間具有獨立性：误差项服从正态分布。\n",
    "- Equal-variance 等方差：所有的误差项具有同样方差。"
   ]
  },
  {
   "cell_type": "markdown",
   "metadata": {},
   "source": [
    "- 自变量（X）和因变量（y）线性相关\n",
    "- 自变量（X）之间相互独立\n",
    "- 误差项（ε）之间相互独立\n",
    "- 误差项（ε）呈正态分布，期望为0，方差为定值\n",
    "- 自变量（X）和误差项（ε）之间相互独立\n",
    "- ŷi =β0+β1xi，i=1, …,n\n",
    "- εi = yi — ŷi"
   ]
  },
  {
   "cell_type": "markdown",
   "metadata": {},
   "source": [
    "https://blog.csdn.net/Noob_daniel/article/details/76087829"
   ]
  }
 ],
 "metadata": {
  "kernelspec": {
   "display_name": "Python 3",
   "language": "python",
   "name": "python3"
  },
  "language_info": {
   "codemirror_mode": {
    "name": "ipython",
    "version": 3
   },
   "file_extension": ".py",
   "mimetype": "text/x-python",
   "name": "python",
   "nbconvert_exporter": "python",
   "pygments_lexer": "ipython3",
   "version": "3.7.4"
  }
 },
 "nbformat": 4,
 "nbformat_minor": 2
}
