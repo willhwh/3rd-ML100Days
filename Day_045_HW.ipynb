https://explained.ai/gradient-boosting/index.html
深入了解 Gradient-boosting - 英文

https://www.youtube.com/watch?v=tH9FH1DH5n0
完整的 Ensemble 概念 by 李宏毅教授

http://blog.kaggle.com/2017/01/23/a-kaggle-master-explains-gradient-boosting/
Kaggle 大師帶你了解梯度提升機原理 - 英文

https://ifun01.com/84A3FW7.html
梯度提升機原理理 - 簡體

https://www.youtube.com/watch?v=ufHo8vbk6g4
XGboost 作者講解原理理 - 英⽂文

https://homes.cs.washington.edu/~tqchen/pdf/BoostedTree.pdf
XGBoost 數學原理理 slides - 英⽂文
