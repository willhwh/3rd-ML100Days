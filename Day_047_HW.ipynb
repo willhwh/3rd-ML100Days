{
 "cells": [
  {
   "cell_type": "markdown",
   "metadata": {},
   "source": [
    "劍橋實驗室教你如何調節參數\n",
    "https://cambridgecoding.wordpress.com/2016/04/03/scanning-hyperspace-how-to-tune-machine-learning-models/\n",
    "\n",
    "Random Forest 超參數調整\n",
    "https://towardsdatascience.com/hyperparameter-tuning-the-random-forest-in-python-using-scikit-learn-28d2aa77dd74\n",
    "\n",
    "Intro to Model Tuning: Grid and Random Search\n",
    "https://www.google.com/search?q=random+hyperparameter+tune&spell=1&sa=X&ved=2ahUKEwiDwfzu0dXtAhWIbc0KHS4WB-4QBSgAegQIBhA2&biw=1600&bih=876"
   ]
  },
  {
   "cell_type": "markdown",
   "metadata": {},
   "source": [
    "## [作業重點]\n",
    "了解如何使用 Sklearn 中的 hyper-parameter search 找出最佳的超參數"
   ]
  },
  {
   "cell_type": "markdown",
   "metadata": {},
   "source": [
    "### 作業\n",
    "請使用不同的資料集，並使用 hyper-parameter search 的方式，看能不能找出最佳的超參數組合"
   ]
  },
  {
   "cell_type": "code",
   "execution_count": 1,
   "metadata": {},
   "outputs": [],
   "source": [
    "from sklearn import datasets, metrics\n",
    "boston=datasets.load_boston()\n",
    "wine=datasets.load_wine()\n",
    "digits=datasets.load_digits()"
   ]
  },
  {
   "cell_type": "code",
   "execution_count": 2,
   "metadata": {},
   "outputs": [],
   "source": [
    "from sklearn.ensemble import GradientBoostingClassifier\n",
    "from sklearn.ensemble import GradientBoostingRegressor\n",
    "from sklearn.model_selection import train_test_split, KFold, GridSearchCV"
   ]
  },
  {
   "cell_type": "markdown",
   "metadata": {},
   "source": [
    "# boston + Grid Search"
   ]
  },
  {
   "cell_type": "code",
   "execution_count": 3,
   "metadata": {},
   "outputs": [],
   "source": [
    "x_train,x_test,y_train,y_test=train_test_split(boston.data,boston.target,test_size=0.2,random_state=4)"
   ]
  },
  {
   "cell_type": "code",
   "execution_count": 4,
   "metadata": {},
   "outputs": [
    {
     "name": "stdout",
     "output_type": "stream",
     "text": [
      "MSE:11.1448\n"
     ]
    }
   ],
   "source": [
    "clf=GradientBoostingRegressor()\n",
    "clf.fit(x_train,y_train)\n",
    "y_pred=clf.predict(x_test)\n",
    "mse=metrics.mean_squared_error(y_test,y_pred)\n",
    "print(f\"MSE:{mse:.4f}\")"
   ]
  },
  {
   "cell_type": "code",
   "execution_count": 5,
   "metadata": {
    "scrolled": false
   },
   "outputs": [
    {
     "name": "stdout",
     "output_type": "stream",
     "text": [
      "Fitting 3 folds for each of 27 candidates, totalling 81 fits\n"
     ]
    },
    {
     "name": "stderr",
     "output_type": "stream",
     "text": [
      "/Users/mac/opt/anaconda3/lib/python3.7/site-packages/sklearn/model_selection/_split.py:1978: FutureWarning: The default value of cv will change from 3 to 5 in version 0.22. Specify it explicitly to silence this warning.\n",
      "  warnings.warn(CV_WARNING, FutureWarning)\n",
      "[Parallel(n_jobs=-1)]: Using backend LokyBackend with 4 concurrent workers.\n",
      "[Parallel(n_jobs=-1)]: Done  42 tasks      | elapsed:    4.1s\n",
      "[Parallel(n_jobs=-1)]: Done  81 out of  81 | elapsed:    5.9s finished\n",
      "/Users/mac/opt/anaconda3/lib/python3.7/site-packages/sklearn/model_selection/_search.py:814: DeprecationWarning: The default of the `iid` parameter will change from True to False in version 0.22 and will be removed in 0.24. This will change numeric results when test-set sizes are unequal.\n",
      "  DeprecationWarning)\n"
     ]
    }
   ],
   "source": [
    "# 設定要訓練的超參數組合\n",
    "n_estimators = [100, 200, 300]\n",
    "max_depth = [1, 3, 5]\n",
    "learning_rate = [0.1,0.5,0.05]\n",
    "\n",
    "param_grid = dict(n_estimators=n_estimators, max_depth=max_depth,learning_rate=learning_rate)\n",
    "\n",
    "## 建立搜尋物件，放入模型及參數組合字典 (n_jobs=-1 會使用全部 cpu 平行運算)\n",
    "grid_search = GridSearchCV(clf, param_grid, scoring=\"neg_mean_squared_error\", n_jobs=-1, verbose=1)\n",
    "\n",
    "# 開始搜尋最佳參數\n",
    "grid_result = grid_search.fit(x_train, y_train)\n",
    "\n",
    "# 預設會跑 3-fold cross-validadtion，總共 27 種參數組合，總共要 train 81 次模型"
   ]
  },
  {
   "cell_type": "code",
   "execution_count": 6,
   "metadata": {
    "scrolled": true
   },
   "outputs": [
    {
     "name": "stdout",
     "output_type": "stream",
     "text": [
      "Best Accuracy: -10.546482 using {'learning_rate': 0.1, 'max_depth': 3, 'n_estimators': 200}\n"
     ]
    }
   ],
   "source": [
    "# 印出最佳結果與最佳參數\n",
    "print(\"Best Accuracy: %f using %s\" % (\n",
    "    grid_result.best_score_, grid_result.best_params_))"
   ]
  },
  {
   "cell_type": "code",
   "execution_count": 7,
   "metadata": {},
   "outputs": [
    {
     "data": {
      "text/plain": [
       "{'learning_rate': 0.1, 'max_depth': 3, 'n_estimators': 200}"
      ]
     },
     "execution_count": 7,
     "metadata": {},
     "output_type": "execute_result"
    }
   ],
   "source": [
    "grid_result.best_params_"
   ]
  },
  {
   "cell_type": "code",
   "execution_count": 8,
   "metadata": {},
   "outputs": [
    {
     "name": "stdout",
     "output_type": "stream",
     "text": [
      "MSE:12.0913\n"
     ]
    }
   ],
   "source": [
    "clf_best_params=GradientBoostingRegressor(max_depth=grid_result.best_params_[\"max_depth\"],n_estimators=grid_result.best_params_[\"n_estimators\"])\n",
    "clf_best_params.fit(x_train,y_train)\n",
    "y_pred=clf_best_params.predict(x_test)\n",
    "mse=metrics.mean_squared_error(y_test,y_pred)\n",
    "print(f\"MSE:{mse:.4f}\")"
   ]
  },
  {
   "cell_type": "markdown",
   "metadata": {},
   "source": [
    "# wine + Random Search"
   ]
  },
  {
   "cell_type": "code",
   "execution_count": 9,
   "metadata": {},
   "outputs": [],
   "source": [
    "x_train,x_test,y_train,y_test=train_test_split(wine.data,wine.target,test_size=0.2,random_state=4)"
   ]
  },
  {
   "cell_type": "code",
   "execution_count": 10,
   "metadata": {},
   "outputs": [
    {
     "name": "stdout",
     "output_type": "stream",
     "text": [
      "Accuracy:1.0000\n"
     ]
    }
   ],
   "source": [
    "clf=GradientBoostingClassifier()\n",
    "clf.fit(x_train,y_train)\n",
    "y_pred=clf.predict(x_test)\n",
    "acc=metrics.accuracy_score(y_test,y_pred)\n",
    "print(f\"Accuracy:{acc:.4f}\")"
   ]
  },
  {
   "cell_type": "code",
   "execution_count": 11,
   "metadata": {},
   "outputs": [
    {
     "name": "stdout",
     "output_type": "stream",
     "text": [
      "Fitting 3 folds for each of 10 candidates, totalling 30 fits\n"
     ]
    },
    {
     "name": "stderr",
     "output_type": "stream",
     "text": [
      "/Users/mac/opt/anaconda3/lib/python3.7/site-packages/sklearn/model_selection/_split.py:1978: FutureWarning: The default value of cv will change from 3 to 5 in version 0.22. Specify it explicitly to silence this warning.\n",
      "  warnings.warn(CV_WARNING, FutureWarning)\n",
      "[Parallel(n_jobs=-1)]: Using backend LokyBackend with 4 concurrent workers.\n",
      "[Parallel(n_jobs=-1)]: Done  30 out of  30 | elapsed:    4.8s finished\n",
      "/Users/mac/opt/anaconda3/lib/python3.7/site-packages/sklearn/model_selection/_search.py:814: DeprecationWarning: The default of the `iid` parameter will change from True to False in version 0.22 and will be removed in 0.24. This will change numeric results when test-set sizes are unequal.\n",
      "  DeprecationWarning)\n"
     ]
    }
   ],
   "source": [
    "from sklearn.model_selection import RandomizedSearchCV\n",
    "\n",
    "# 設定要訓練的超參數組合\n",
    "n_estimators = [100, 200, 300]\n",
    "max_depth = [1, 3, 5]\n",
    "learning_rate = [0.1,0.5,0.05]\n",
    "param_grid = dict(n_estimators=n_estimators, max_depth=max_depth,learning_rate=learning_rate)\n",
    "\n",
    "## 建立搜尋物件，放入模型及參數組合字典 (n_jobs=-1 會使用全部 cpu 平行運算)\n",
    "#default n_iter = 10 >>> 10 candidates\n",
    "grid_search = RandomizedSearchCV(clf, param_grid, scoring=\"neg_mean_squared_error\", n_jobs=-1, verbose=1,n_iter=10)\n",
    "\n",
    "# 開始搜尋最佳參數\n",
    "grid_result = grid_search.fit(x_train, y_train)\n",
    "\n",
    "# 預設會跑 3-fold cross-validadtion，總共 只取 10 種參數組合，總共要 train 30 次模型"
   ]
  },
  {
   "cell_type": "code",
   "execution_count": 12,
   "metadata": {},
   "outputs": [
    {
     "name": "stdout",
     "output_type": "stream",
     "text": [
      "Best Accuracy: -0.035211 using {'n_estimators': 200, 'max_depth': 1, 'learning_rate': 0.1}\n"
     ]
    }
   ],
   "source": [
    "# 印出最佳結果與最佳參數\n",
    "print(\"Best Accuracy: %f using %s\" % (\n",
    "    grid_result.best_score_, grid_result.best_params_))"
   ]
  },
  {
   "cell_type": "code",
   "execution_count": 13,
   "metadata": {},
   "outputs": [
    {
     "data": {
      "text/plain": [
       "{'n_estimators': 200, 'max_depth': 1, 'learning_rate': 0.1}"
      ]
     },
     "execution_count": 13,
     "metadata": {},
     "output_type": "execute_result"
    }
   ],
   "source": [
    "grid_result.best_params_"
   ]
  },
  {
   "cell_type": "code",
   "execution_count": 14,
   "metadata": {},
   "outputs": [
    {
     "name": "stdout",
     "output_type": "stream",
     "text": [
      "Accuracy:0.9722\n"
     ]
    }
   ],
   "source": [
    "clf_best_params=GradientBoostingClassifier(max_depth=grid_result.best_params_[\"max_depth\"],n_estimators=grid_result.best_params_[\"n_estimators\"])\n",
    "clf_best_params.fit(x_train,y_train)\n",
    "y_pred=clf_best_params.predict(x_test)\n",
    "acc=metrics.accuracy_score(y_test,y_pred)\n",
    "print(f\"Accuracy:{acc:.4f}\")"
   ]
  },
  {
   "cell_type": "markdown",
   "metadata": {},
   "source": [
    "# digits + Random Search "
   ]
  },
  {
   "cell_type": "code",
   "execution_count": 15,
   "metadata": {},
   "outputs": [],
   "source": [
    "import numpy as np"
   ]
  },
  {
   "cell_type": "code",
   "execution_count": 16,
   "metadata": {},
   "outputs": [],
   "source": [
    "x_train,x_test,y_train,y_test=train_test_split(digits.data,digits.target,test_size=0.2,random_state=4)"
   ]
  },
  {
   "cell_type": "code",
   "execution_count": 17,
   "metadata": {},
   "outputs": [
    {
     "name": "stdout",
     "output_type": "stream",
     "text": [
      "MSE:1.4604\n"
     ]
    }
   ],
   "source": [
    "clf=GradientBoostingRegressor()\n",
    "clf.fit(x_train,y_train)\n",
    "y_pred=clf.predict(x_test)\n",
    "mse=metrics.mean_squared_error(y_test,y_pred)\n",
    "print(f\"MSE:{mse:.4f}\")"
   ]
  },
  {
   "cell_type": "code",
   "execution_count": 18,
   "metadata": {
    "scrolled": false
   },
   "outputs": [
    {
     "name": "stdout",
     "output_type": "stream",
     "text": [
      "Fitting 3 folds for each of 10 candidates, totalling 30 fits\n",
      "[CV] n_estimators=100, max_depth=1, learning_rate=0.2289795918367347 .\n",
      "[CV]  n_estimators=100, max_depth=1, learning_rate=0.2289795918367347, score=-3.314, total=   0.1s\n",
      "[CV] n_estimators=100, max_depth=1, learning_rate=0.2289795918367347 .\n",
      "[CV]  n_estimators=100, max_depth=1, learning_rate=0.2289795918367347, score=-3.541, total=   0.1s\n",
      "[CV] n_estimators=100, max_depth=1, learning_rate=0.2289795918367347 .\n"
     ]
    },
    {
     "name": "stderr",
     "output_type": "stream",
     "text": [
      "/Users/mac/opt/anaconda3/lib/python3.7/site-packages/sklearn/model_selection/_split.py:1978: FutureWarning: The default value of cv will change from 3 to 5 in version 0.22. Specify it explicitly to silence this warning.\n",
      "  warnings.warn(CV_WARNING, FutureWarning)\n",
      "[Parallel(n_jobs=1)]: Using backend SequentialBackend with 1 concurrent workers.\n",
      "[Parallel(n_jobs=1)]: Done   1 out of   1 | elapsed:    0.1s remaining:    0.0s\n",
      "[Parallel(n_jobs=1)]: Done   2 out of   2 | elapsed:    0.2s remaining:    0.0s\n"
     ]
    },
    {
     "name": "stdout",
     "output_type": "stream",
     "text": [
      "[CV]  n_estimators=100, max_depth=1, learning_rate=0.2289795918367347, score=-3.473, total=   0.2s\n",
      "[CV] n_estimators=300, max_depth=4, learning_rate=0.2289795918367347 .\n",
      "[CV]  n_estimators=300, max_depth=4, learning_rate=0.2289795918367347, score=-1.202, total=   1.2s\n",
      "[CV] n_estimators=300, max_depth=4, learning_rate=0.2289795918367347 .\n",
      "[CV]  n_estimators=300, max_depth=4, learning_rate=0.2289795918367347, score=-1.309, total=   1.1s\n",
      "[CV] n_estimators=300, max_depth=4, learning_rate=0.2289795918367347 .\n",
      "[CV]  n_estimators=300, max_depth=4, learning_rate=0.2289795918367347, score=-1.513, total=   1.0s\n",
      "[CV] n_estimators=100, max_depth=2, learning_rate=0.1520408163265306 .\n",
      "[CV]  n_estimators=100, max_depth=2, learning_rate=0.1520408163265306, score=-1.749, total=   0.1s\n",
      "[CV] n_estimators=100, max_depth=2, learning_rate=0.1520408163265306 .\n",
      "[CV]  n_estimators=100, max_depth=2, learning_rate=0.1520408163265306, score=-2.235, total=   0.1s\n",
      "[CV] n_estimators=100, max_depth=2, learning_rate=0.1520408163265306 .\n",
      "[CV]  n_estimators=100, max_depth=2, learning_rate=0.1520408163265306, score=-1.994, total=   0.1s\n",
      "[CV] n_estimators=300, max_depth=4, learning_rate=0.28224489795918367 \n",
      "[CV]  n_estimators=300, max_depth=4, learning_rate=0.28224489795918367, score=-1.163, total=   1.0s\n",
      "[CV] n_estimators=300, max_depth=4, learning_rate=0.28224489795918367 \n",
      "[CV]  n_estimators=300, max_depth=4, learning_rate=0.28224489795918367, score=-1.476, total=   1.1s\n",
      "[CV] n_estimators=300, max_depth=4, learning_rate=0.28224489795918367 \n",
      "[CV]  n_estimators=300, max_depth=4, learning_rate=0.28224489795918367, score=-1.707, total=   1.0s\n",
      "[CV] n_estimators=100, max_depth=3, learning_rate=0.1046938775510204 .\n",
      "[CV]  n_estimators=100, max_depth=3, learning_rate=0.1046938775510204, score=-1.505, total=   0.2s\n",
      "[CV] n_estimators=100, max_depth=3, learning_rate=0.1046938775510204 .\n",
      "[CV]  n_estimators=100, max_depth=3, learning_rate=0.1046938775510204, score=-1.669, total=   0.2s\n",
      "[CV] n_estimators=100, max_depth=3, learning_rate=0.1046938775510204 .\n",
      "[CV]  n_estimators=100, max_depth=3, learning_rate=0.1046938775510204, score=-1.610, total=   0.2s\n",
      "[CV] n_estimators=300, max_depth=2, learning_rate=0.23489795918367348 \n",
      "[CV]  n_estimators=300, max_depth=2, learning_rate=0.23489795918367348, score=-1.452, total=   0.4s\n",
      "[CV] n_estimators=300, max_depth=2, learning_rate=0.23489795918367348 \n",
      "[CV]  n_estimators=300, max_depth=2, learning_rate=0.23489795918367348, score=-1.656, total=   0.5s\n",
      "[CV] n_estimators=300, max_depth=2, learning_rate=0.23489795918367348 \n",
      "[CV]  n_estimators=300, max_depth=2, learning_rate=0.23489795918367348, score=-1.678, total=   0.5s\n",
      "[CV] n_estimators=200, max_depth=2, learning_rate=0.16387755102040816 \n",
      "[CV]  n_estimators=200, max_depth=2, learning_rate=0.16387755102040816, score=-1.499, total=   0.3s\n",
      "[CV] n_estimators=200, max_depth=2, learning_rate=0.16387755102040816 \n",
      "[CV]  n_estimators=200, max_depth=2, learning_rate=0.16387755102040816, score=-1.782, total=   0.3s\n",
      "[CV] n_estimators=200, max_depth=2, learning_rate=0.16387755102040816 \n",
      "[CV]  n_estimators=200, max_depth=2, learning_rate=0.16387755102040816, score=-1.719, total=   0.4s\n",
      "[CV] n_estimators=100, max_depth=4, learning_rate=0.23489795918367348 \n",
      "[CV]  n_estimators=100, max_depth=4, learning_rate=0.23489795918367348, score=-1.185, total=   0.4s\n",
      "[CV] n_estimators=100, max_depth=4, learning_rate=0.23489795918367348 \n",
      "[CV]  n_estimators=100, max_depth=4, learning_rate=0.23489795918367348, score=-1.326, total=   0.4s\n",
      "[CV] n_estimators=100, max_depth=4, learning_rate=0.23489795918367348 \n",
      "[CV]  n_estimators=100, max_depth=4, learning_rate=0.23489795918367348, score=-1.593, total=   0.4s\n",
      "[CV] n_estimators=100, max_depth=1, learning_rate=0.21714285714285714 \n",
      "[CV]  n_estimators=100, max_depth=1, learning_rate=0.21714285714285714, score=-3.350, total=   0.1s\n",
      "[CV] n_estimators=100, max_depth=1, learning_rate=0.21714285714285714 \n",
      "[CV]  n_estimators=100, max_depth=1, learning_rate=0.21714285714285714, score=-3.545, total=   0.1s\n",
      "[CV] n_estimators=100, max_depth=1, learning_rate=0.21714285714285714 \n",
      "[CV]  n_estimators=100, max_depth=1, learning_rate=0.21714285714285714, score=-3.523, total=   0.1s\n",
      "[CV] n_estimators=200, max_depth=3, learning_rate=0.1757142857142857 .\n",
      "[CV]  n_estimators=200, max_depth=3, learning_rate=0.1757142857142857, score=-1.107, total=   0.5s\n",
      "[CV] n_estimators=200, max_depth=3, learning_rate=0.1757142857142857 .\n",
      "[CV]  n_estimators=200, max_depth=3, learning_rate=0.1757142857142857, score=-1.407, total=   0.5s\n",
      "[CV] n_estimators=200, max_depth=3, learning_rate=0.1757142857142857 .\n",
      "[CV]  n_estimators=200, max_depth=3, learning_rate=0.1757142857142857, score=-1.523, total=   0.6s\n"
     ]
    },
    {
     "name": "stderr",
     "output_type": "stream",
     "text": [
      "[Parallel(n_jobs=1)]: Done  30 out of  30 | elapsed:   13.3s finished\n"
     ]
    }
   ],
   "source": [
    "# 設定要訓練的超參數組合\n",
    "n_estimators = [100, 200, 300]\n",
    "max_depth = np.arange(1,5)\n",
    "learning_rate = np.linspace(0.01,0.3)\n",
    "param_grid = dict(n_estimators=n_estimators, max_depth=max_depth,learning_rate=learning_rate)\n",
    "\n",
    "## 建立搜尋物件，放入模型及參數組合字典 (n_jobs=-1 會使用全部 cpu 平行運算)\n",
    "#default n_iter = 10 >>> 10 candidates\n",
    "grid_search = RandomizedSearchCV(clf, param_grid, scoring=\"neg_mean_squared_error\", verbose=3)\n",
    "\n",
    "# 開始搜尋最佳參數\n",
    "grid_result = grid_search.fit(x_train, y_train)\n",
    "\n",
    "# 預設會跑 3-fold cross-validadtion，總共 9 種參數組合，總共要 train 27 次模型"
   ]
  },
  {
   "cell_type": "code",
   "execution_count": 19,
   "metadata": {},
   "outputs": [
    {
     "name": "stdout",
     "output_type": "stream",
     "text": [
      "Best Accuracy: -1.341483 using {'n_estimators': 300, 'max_depth': 4, 'learning_rate': 0.2289795918367347}\n"
     ]
    }
   ],
   "source": [
    "# 印出最佳結果與最佳參數\n",
    "print(\"Best Accuracy: %f using %s\" % (\n",
    "    grid_result.best_score_, grid_result.best_params_))"
   ]
  },
  {
   "cell_type": "code",
   "execution_count": 20,
   "metadata": {},
   "outputs": [
    {
     "data": {
      "text/plain": [
       "{'n_estimators': 300, 'max_depth': 4, 'learning_rate': 0.2289795918367347}"
      ]
     },
     "execution_count": 20,
     "metadata": {},
     "output_type": "execute_result"
    }
   ],
   "source": [
    "grid_result.best_params_"
   ]
  },
  {
   "cell_type": "code",
   "execution_count": 21,
   "metadata": {
    "scrolled": true
   },
   "outputs": [
    {
     "name": "stdout",
     "output_type": "stream",
     "text": [
      "Accuracy:0.3611\n"
     ]
    }
   ],
   "source": [
    "clf_best_params=GradientBoostingClassifier(max_depth=grid_result.best_params_[\"max_depth\"],n_estimators=grid_result.best_params_[\"n_estimators\"])\n",
    "clf_best_params.fit(x_train,y_train)\n",
    "y_pred=clf_best_params.predict(x_test)\n",
    "mse=metrics.mean_squared_error(y_test,y_pred)\n",
    "print(f\"Accuracy:{mse:.4f}\")"
   ]
  },
  {
   "cell_type": "code",
   "execution_count": null,
   "metadata": {},
   "outputs": [],
   "source": []
  },
  {
   "cell_type": "code",
   "execution_count": null,
   "metadata": {},
   "outputs": [],
   "source": []
  },
  {
   "cell_type": "code",
   "execution_count": null,
   "metadata": {},
   "outputs": [],
   "source": []
  }
 ],
 "metadata": {
  "kernelspec": {
   "display_name": "Python 3",
   "language": "python",
   "name": "python3"
  },
  "language_info": {
   "codemirror_mode": {
    "name": "ipython",
    "version": 3
   },
   "file_extension": ".py",
   "mimetype": "text/x-python",
   "name": "python",
   "nbconvert_exporter": "python",
   "pygments_lexer": "ipython3",
   "version": "3.7.4"
  }
 },
 "nbformat": 4,
 "nbformat_minor": 2
}
