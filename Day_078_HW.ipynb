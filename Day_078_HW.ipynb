{
 "cells": [
  {
   "cell_type": "markdown",
   "metadata": {},
   "source": [
    "## Work\n",
    "1. 請嘗試將 preproc_x 替換成以每筆資料的 min/max 進行標準化至 -1 ~ 1 間，再進行訓練\n",
    "2. 請嘗試將 mlp 疊更深 (e.g 5~10 層)，進行訓練後觀察 learning curve 的走勢\n",
    "3. (optional) 請改用 GPU 進行訓練 (如果你有 GPU 的話)，比較使用 CPU 與 GPU 的訓練速度"
   ]
  },
  {
   "cell_type": "code",
   "execution_count": 1,
   "metadata": {},
   "outputs": [
    {
     "name": "stdout",
     "output_type": "stream",
     "text": [
      "/bin/sh: nvidia-smi: command not found\r\n"
     ]
    }
   ],
   "source": [
    "## \n",
    "\"\"\"\n",
    "Your code here (optional)\n",
    "確認硬體資源\n",
    "\"\"\"\n",
    "!nvidia-smi"
   ]
  },
  {
   "cell_type": "code",
   "execution_count": 2,
   "metadata": {},
   "outputs": [
    {
     "name": "stderr",
     "output_type": "stream",
     "text": [
      "Using TensorFlow backend.\n"
     ]
    }
   ],
   "source": [
    "import os\n",
    "import keras\n",
    "\n",
    "# 請嘗試設定 GPU：os.environ\n",
    "os.environ[\"CUDA_VISIBLE_DEVICES\"] = \"\""
   ]
  },
  {
   "cell_type": "code",
   "execution_count": 3,
   "metadata": {},
   "outputs": [],
   "source": [
    "train, test = keras.datasets.cifar10.load_data()"
   ]
  },
  {
   "cell_type": "code",
   "execution_count": 24,
   "metadata": {
    "scrolled": true
   },
   "outputs": [
    {
     "ename": "AttributeError",
     "evalue": "'tuple' object has no attribute 'MinMaxScaler'",
     "output_type": "error",
     "traceback": [
      "\u001b[0;31m---------------------------------------------------------------------------\u001b[0m",
      "\u001b[0;31mAttributeError\u001b[0m                            Traceback (most recent call last)",
      "\u001b[0;32m<ipython-input-24-346e7cc097b1>\u001b[0m in \u001b[0;36m<module>\u001b[0;34m\u001b[0m\n\u001b[0;32m----> 1\u001b[0;31m \u001b[0mtrain\u001b[0m\u001b[0;34m.\u001b[0m\u001b[0mMinMaxScaler\u001b[0m\u001b[0;34m(\u001b[0m\u001b[0mfeature_range\u001b[0m\u001b[0;34m=\u001b[0m\u001b[0;34m(\u001b[0m\u001b[0;36m0\u001b[0m\u001b[0;34m,\u001b[0m \u001b[0;36m1\u001b[0m\u001b[0;34m)\u001b[0m\u001b[0;34m)\u001b[0m\u001b[0;34m\u001b[0m\u001b[0;34m\u001b[0m\u001b[0m\n\u001b[0m",
      "\u001b[0;31mAttributeError\u001b[0m: 'tuple' object has no attribute 'MinMaxScaler'"
     ]
    }
   ],
   "source": []
  },
  {
   "cell_type": "code",
   "execution_count": 39,
   "metadata": {},
   "outputs": [],
   "source": [
    "## 資料前處理\n",
    "\"\"\"\n",
    "Your code here\n",
    "\"\"\"\n",
    "#improt preprocessing from sklearn\n",
    "from sklearn import preprocessing\n",
    "def preproc_x(x, flatten=True):\n",
    "    x = x / 255.\n",
    "    if flatten:\n",
    "        x = x.reshape((len(x), -1))\n",
    "# MinMax Scaler -1,1\n",
    "        x=preprocessing.MinMaxScaler(feature_range=(-1, 1)).fit_transform(x)\n",
    "    return x\n",
    "\n",
    "def preproc_y(y, num_classes=10):\n",
    "    if y.shape[-1] == 1:\n",
    "        y = keras.utils.to_categorical(y, num_classes)\n",
    "    return y    "
   ]
  },
  {
   "cell_type": "code",
   "execution_count": 40,
   "metadata": {},
   "outputs": [],
   "source": [
    "x_train, y_train = train\n",
    "x_test, y_test = test\n",
    "\n",
    "# Preproc the inputs\n",
    "x_train = preproc_x(x_train)\n",
    "x_test = preproc_x(x_test)\n",
    "\n",
    "# Preprc the outputs\n",
    "y_train = preproc_y(y_train)\n",
    "y_test = preproc_y(y_test)"
   ]
  },
  {
   "cell_type": "code",
   "execution_count": 41,
   "metadata": {
    "scrolled": false
   },
   "outputs": [
    {
     "data": {
      "text/plain": [
       "array([[-0.5372549 , -0.51372549, -0.50588235, ..., -0.03529412,\n",
       "        -0.27843137, -0.43529412],\n",
       "       [ 0.20784314,  0.38823529,  0.46666667, ...,  0.12156863,\n",
       "         0.04313725,  0.12941176],\n",
       "       [ 1.        ,  1.        ,  1.        , ..., -0.37254902,\n",
       "        -0.3254902 , -0.34117647],\n",
       "       ...,\n",
       "       [-0.7254902 ,  0.39607843,  0.84313725, ..., -0.90588235,\n",
       "        -0.75686275, -0.60784314],\n",
       "       [ 0.48235294,  0.65490196,  0.88235294, ...,  0.52941176,\n",
       "         0.49019608,  0.34117647],\n",
       "       [ 0.79607843,  0.79607843,  0.8745098 , ...,  0.27843137,\n",
       "         0.27843137,  0.2627451 ]])"
      ]
     },
     "execution_count": 41,
     "metadata": {},
     "output_type": "execute_result"
    }
   ],
   "source": [
    "x_train"
   ]
  },
  {
   "cell_type": "code",
   "execution_count": 42,
   "metadata": {},
   "outputs": [
    {
     "name": "stdout",
     "output_type": "stream",
     "text": [
      "Model: \"model_3\"\n",
      "_________________________________________________________________\n",
      "Layer (type)                 Output Shape              Param #   \n",
      "=================================================================\n",
      "input_3 (InputLayer)         (None, 3072)              0         \n",
      "_________________________________________________________________\n",
      "hidden_layer1 (Dense)        (None, 512)               1573376   \n",
      "_________________________________________________________________\n",
      "hidden_layer2 (Dense)        (None, 256)               131328    \n",
      "_________________________________________________________________\n",
      "hidden_layer3 (Dense)        (None, 128)               32896     \n",
      "_________________________________________________________________\n",
      "hidden_layer4 (Dense)        (None, 64)                8256      \n",
      "_________________________________________________________________\n",
      "hidden_layer5 (Dense)        (None, 32)                2080      \n",
      "_________________________________________________________________\n",
      "output (Dense)               (None, 10)                330       \n",
      "=================================================================\n",
      "Total params: 1,748,266\n",
      "Trainable params: 1,748,266\n",
      "Non-trainable params: 0\n",
      "_________________________________________________________________\n"
     ]
    }
   ],
   "source": [
    "\"\"\"Code Here\n",
    "建立你的神經網路\n",
    "\"\"\"\n",
    "def build_mlp(input_shape, output_units=10, num_neurons=[512, 256, 128,64,32]):\n",
    "    input_layer = keras.layers.Input(input_shape)\n",
    "    for i, n_units in enumerate(num_neurons):\n",
    "        if i == 0:\n",
    "            x = keras.layers.Dense(units=n_units, activation=\"relu\", name=\"hidden_layer\"+str(i+1))(input_layer)\n",
    "        else:\n",
    "            x = keras.layers.Dense(units=n_units, activation=\"relu\", name=\"hidden_layer\"+str(i+1))(x)\n",
    "    \n",
    "    out = keras.layers.Dense(units=output_units, activation=\"softmax\", name=\"output\")(x)\n",
    "    \n",
    "    model = keras.models.Model(inputs=[input_layer], outputs=[out])\n",
    "    return model\n",
    "\n",
    "model=build_mlp(input_shape=x_train.shape[1:])\n",
    "model.summary()"
   ]
  },
  {
   "cell_type": "code",
   "execution_count": 43,
   "metadata": {},
   "outputs": [],
   "source": [
    "## 超參數設定\n",
    "LEARNING_RATE = 0.001\n",
    "EPOCHS = 100\n",
    "BATCH_SIZE = 256"
   ]
  },
  {
   "cell_type": "code",
   "execution_count": 44,
   "metadata": {},
   "outputs": [],
   "source": [
    "optimizer = keras.optimizers.Adam(lr=LEARNING_RATE)\n",
    "model.compile(loss=\"categorical_crossentropy\", metrics=[\"accuracy\"], optimizer=optimizer)"
   ]
  },
  {
   "cell_type": "code",
   "execution_count": 45,
   "metadata": {},
   "outputs": [
    {
     "name": "stdout",
     "output_type": "stream",
     "text": [
      "Train on 50000 samples, validate on 10000 samples\n",
      "Epoch 1/100\n",
      "50000/50000 [==============================] - 11s 224us/step - loss: 1.7395 - accuracy: 0.3832 - val_loss: 1.5620 - val_accuracy: 0.4535\n",
      "Epoch 2/100\n",
      "50000/50000 [==============================] - 11s 221us/step - loss: 1.5018 - accuracy: 0.4719 - val_loss: 1.4699 - val_accuracy: 0.4858\n",
      "Epoch 3/100\n",
      "50000/50000 [==============================] - 12s 233us/step - loss: 1.3762 - accuracy: 0.5167 - val_loss: 1.4086 - val_accuracy: 0.5053\n",
      "Epoch 4/100\n",
      "50000/50000 [==============================] - 11s 224us/step - loss: 1.2797 - accuracy: 0.5503 - val_loss: 1.4104 - val_accuracy: 0.5011\n",
      "Epoch 5/100\n",
      "50000/50000 [==============================] - 11s 227us/step - loss: 1.1981 - accuracy: 0.5805 - val_loss: 1.3898 - val_accuracy: 0.5228\n",
      "Epoch 6/100\n",
      "50000/50000 [==============================] - 11s 227us/step - loss: 1.1214 - accuracy: 0.6078 - val_loss: 1.3810 - val_accuracy: 0.5232\n",
      "Epoch 7/100\n",
      "50000/50000 [==============================] - 12s 234us/step - loss: 1.0477 - accuracy: 0.6336 - val_loss: 1.3825 - val_accuracy: 0.5362\n",
      "Epoch 8/100\n",
      "50000/50000 [==============================] - 11s 225us/step - loss: 0.9765 - accuracy: 0.6557 - val_loss: 1.4140 - val_accuracy: 0.5310\n",
      "Epoch 9/100\n",
      "50000/50000 [==============================] - 11s 221us/step - loss: 0.9067 - accuracy: 0.6795 - val_loss: 1.4203 - val_accuracy: 0.5300\n",
      "Epoch 10/100\n",
      "50000/50000 [==============================] - 11s 226us/step - loss: 0.8407 - accuracy: 0.7056 - val_loss: 1.4372 - val_accuracy: 0.5399\n",
      "Epoch 11/100\n",
      "50000/50000 [==============================] - 11s 229us/step - loss: 0.7758 - accuracy: 0.7259 - val_loss: 1.4917 - val_accuracy: 0.5434\n",
      "Epoch 12/100\n",
      "50000/50000 [==============================] - 12s 241us/step - loss: 0.7039 - accuracy: 0.7511 - val_loss: 1.5593 - val_accuracy: 0.5379\n",
      "Epoch 13/100\n",
      "50000/50000 [==============================] - 12s 237us/step - loss: 0.6539 - accuracy: 0.7681 - val_loss: 1.6077 - val_accuracy: 0.5432\n",
      "Epoch 14/100\n",
      "50000/50000 [==============================] - 16s 312us/step - loss: 0.5956 - accuracy: 0.7919 - val_loss: 1.7212 - val_accuracy: 0.5312\n",
      "Epoch 15/100\n",
      "50000/50000 [==============================] - 12s 238us/step - loss: 0.5421 - accuracy: 0.8099 - val_loss: 1.7615 - val_accuracy: 0.5338\n",
      "Epoch 16/100\n",
      "50000/50000 [==============================] - 12s 240us/step - loss: 0.4850 - accuracy: 0.8311 - val_loss: 1.8507 - val_accuracy: 0.5286\n",
      "Epoch 17/100\n",
      "50000/50000 [==============================] - 12s 238us/step - loss: 0.4452 - accuracy: 0.8431 - val_loss: 2.0310 - val_accuracy: 0.5315\n",
      "Epoch 18/100\n",
      "50000/50000 [==============================] - 12s 235us/step - loss: 0.4211 - accuracy: 0.8531 - val_loss: 1.9745 - val_accuracy: 0.5287\n",
      "Epoch 19/100\n",
      "50000/50000 [==============================] - 12s 234us/step - loss: 0.3724 - accuracy: 0.8717 - val_loss: 2.1898 - val_accuracy: 0.5287\n",
      "Epoch 20/100\n",
      "50000/50000 [==============================] - 11s 229us/step - loss: 0.3543 - accuracy: 0.8757 - val_loss: 2.1646 - val_accuracy: 0.5329\n",
      "Epoch 21/100\n",
      "50000/50000 [==============================] - 11s 227us/step - loss: 0.3218 - accuracy: 0.8877 - val_loss: 2.2898 - val_accuracy: 0.5326\n",
      "Epoch 22/100\n",
      "50000/50000 [==============================] - 11s 226us/step - loss: 0.2910 - accuracy: 0.8991 - val_loss: 2.3501 - val_accuracy: 0.5253\n",
      "Epoch 23/100\n",
      "50000/50000 [==============================] - 12s 231us/step - loss: 0.2813 - accuracy: 0.9024 - val_loss: 2.4920 - val_accuracy: 0.5352\n",
      "Epoch 24/100\n",
      "50000/50000 [==============================] - 11s 229us/step - loss: 0.2717 - accuracy: 0.9048 - val_loss: 2.6896 - val_accuracy: 0.5253\n",
      "Epoch 25/100\n",
      "50000/50000 [==============================] - 11s 226us/step - loss: 0.2606 - accuracy: 0.9097 - val_loss: 2.6503 - val_accuracy: 0.5289\n",
      "Epoch 26/100\n",
      "50000/50000 [==============================] - 11s 225us/step - loss: 0.2299 - accuracy: 0.9197 - val_loss: 2.7048 - val_accuracy: 0.5375\n",
      "Epoch 27/100\n",
      "50000/50000 [==============================] - 12s 230us/step - loss: 0.2200 - accuracy: 0.9254 - val_loss: 2.7694 - val_accuracy: 0.5209\n",
      "Epoch 28/100\n",
      "50000/50000 [==============================] - 11s 225us/step - loss: 0.2078 - accuracy: 0.9290 - val_loss: 2.9271 - val_accuracy: 0.5327\n",
      "Epoch 29/100\n",
      "50000/50000 [==============================] - 12s 235us/step - loss: 0.2070 - accuracy: 0.9289 - val_loss: 2.8888 - val_accuracy: 0.5314\n",
      "Epoch 30/100\n",
      "50000/50000 [==============================] - 11s 229us/step - loss: 0.1930 - accuracy: 0.9347 - val_loss: 2.9469 - val_accuracy: 0.5248\n",
      "Epoch 31/100\n",
      "50000/50000 [==============================] - 11s 225us/step - loss: 0.1789 - accuracy: 0.9380 - val_loss: 3.1145 - val_accuracy: 0.5260\n",
      "Epoch 32/100\n",
      "50000/50000 [==============================] - 12s 236us/step - loss: 0.1810 - accuracy: 0.9378 - val_loss: 3.1933 - val_accuracy: 0.5290\n",
      "Epoch 33/100\n",
      "50000/50000 [==============================] - 11s 228us/step - loss: 0.1673 - accuracy: 0.9426 - val_loss: 3.2994 - val_accuracy: 0.5187\n",
      "Epoch 34/100\n",
      "50000/50000 [==============================] - 12s 232us/step - loss: 0.1696 - accuracy: 0.9414 - val_loss: 3.2264 - val_accuracy: 0.5278\n",
      "Epoch 35/100\n",
      "50000/50000 [==============================] - 11s 224us/step - loss: 0.1733 - accuracy: 0.9400 - val_loss: 3.1677 - val_accuracy: 0.5236\n",
      "Epoch 36/100\n",
      "50000/50000 [==============================] - 11s 225us/step - loss: 0.1671 - accuracy: 0.9429 - val_loss: 3.3235 - val_accuracy: 0.5211\n",
      "Epoch 37/100\n",
      "50000/50000 [==============================] - 11s 225us/step - loss: 0.1471 - accuracy: 0.9502 - val_loss: 3.4577 - val_accuracy: 0.5385\n",
      "Epoch 38/100\n",
      "50000/50000 [==============================] - 11s 223us/step - loss: 0.1450 - accuracy: 0.9509 - val_loss: 3.4001 - val_accuracy: 0.5285\n",
      "Epoch 39/100\n",
      "50000/50000 [==============================] - 12s 249us/step - loss: 0.1385 - accuracy: 0.9532 - val_loss: 3.4956 - val_accuracy: 0.5254\n",
      "Epoch 40/100\n",
      "50000/50000 [==============================] - 11s 225us/step - loss: 0.1408 - accuracy: 0.9533 - val_loss: 3.5181 - val_accuracy: 0.5299\n",
      "Epoch 41/100\n",
      "50000/50000 [==============================] - 11s 222us/step - loss: 0.1365 - accuracy: 0.9542 - val_loss: 3.6602 - val_accuracy: 0.5312\n",
      "Epoch 42/100\n",
      "50000/50000 [==============================] - 12s 242us/step - loss: 0.1132 - accuracy: 0.9617 - val_loss: 3.6955 - val_accuracy: 0.5354\n",
      "Epoch 43/100\n",
      "50000/50000 [==============================] - 11s 225us/step - loss: 0.1528 - accuracy: 0.9497 - val_loss: 3.5278 - val_accuracy: 0.5304\n",
      "Epoch 44/100\n",
      "50000/50000 [==============================] - 11s 227us/step - loss: 0.1250 - accuracy: 0.9572 - val_loss: 3.6347 - val_accuracy: 0.5294\n",
      "Epoch 45/100\n",
      "50000/50000 [==============================] - 11s 224us/step - loss: 0.1257 - accuracy: 0.9578 - val_loss: 3.7289 - val_accuracy: 0.5319\n",
      "Epoch 46/100\n",
      "50000/50000 [==============================] - 11s 223us/step - loss: 0.1001 - accuracy: 0.9659 - val_loss: 3.8479 - val_accuracy: 0.5330\n",
      "Epoch 47/100\n",
      "50000/50000 [==============================] - 11s 227us/step - loss: 0.1022 - accuracy: 0.9667 - val_loss: 3.8734 - val_accuracy: 0.5303\n",
      "Epoch 48/100\n",
      "50000/50000 [==============================] - 11s 223us/step - loss: 0.1373 - accuracy: 0.9539 - val_loss: 3.8738 - val_accuracy: 0.5289\n",
      "Epoch 49/100\n",
      "50000/50000 [==============================] - 11s 225us/step - loss: 0.1072 - accuracy: 0.9642 - val_loss: 3.9581 - val_accuracy: 0.5249\n",
      "Epoch 50/100\n",
      "50000/50000 [==============================] - 11s 224us/step - loss: 0.1225 - accuracy: 0.9596 - val_loss: 3.8669 - val_accuracy: 0.5301\n",
      "Epoch 51/100\n",
      "50000/50000 [==============================] - 11s 229us/step - loss: 0.0930 - accuracy: 0.9692 - val_loss: 3.9347 - val_accuracy: 0.5238\n",
      "Epoch 52/100\n",
      "50000/50000 [==============================] - 11s 224us/step - loss: 0.1050 - accuracy: 0.9647 - val_loss: 3.7477 - val_accuracy: 0.5305\n",
      "Epoch 53/100\n",
      "50000/50000 [==============================] - 11s 223us/step - loss: 0.1142 - accuracy: 0.9613 - val_loss: 3.9742 - val_accuracy: 0.5273\n",
      "Epoch 54/100\n",
      "50000/50000 [==============================] - 12s 234us/step - loss: 0.1372 - accuracy: 0.9550 - val_loss: 3.8753 - val_accuracy: 0.5163\n"
     ]
    },
    {
     "name": "stdout",
     "output_type": "stream",
     "text": [
      "Epoch 55/100\n",
      "50000/50000 [==============================] - 10s 206us/step - loss: 0.1075 - accuracy: 0.9647 - val_loss: 3.8989 - val_accuracy: 0.5297\n",
      "Epoch 56/100\n",
      "50000/50000 [==============================] - 10s 203us/step - loss: 0.0745 - accuracy: 0.9752 - val_loss: 4.0209 - val_accuracy: 0.5330\n",
      "Epoch 57/100\n",
      "50000/50000 [==============================] - 10s 204us/step - loss: 0.1028 - accuracy: 0.9660 - val_loss: 4.0418 - val_accuracy: 0.5223\n",
      "Epoch 58/100\n",
      "50000/50000 [==============================] - 10s 201us/step - loss: 0.1137 - accuracy: 0.9630 - val_loss: 3.8955 - val_accuracy: 0.5354\n",
      "Epoch 59/100\n",
      "50000/50000 [==============================] - 10s 210us/step - loss: 0.0799 - accuracy: 0.9732 - val_loss: 4.0564 - val_accuracy: 0.5291\n",
      "Epoch 60/100\n",
      "50000/50000 [==============================] - 12s 235us/step - loss: 0.0887 - accuracy: 0.9706 - val_loss: 4.1545 - val_accuracy: 0.5224\n",
      "Epoch 61/100\n",
      "50000/50000 [==============================] - 11s 212us/step - loss: 0.1231 - accuracy: 0.9594 - val_loss: 4.0343 - val_accuracy: 0.5319\n",
      "Epoch 62/100\n",
      "50000/50000 [==============================] - 10s 203us/step - loss: 0.0990 - accuracy: 0.9667 - val_loss: 4.0348 - val_accuracy: 0.5282\n",
      "Epoch 63/100\n",
      "50000/50000 [==============================] - 10s 201us/step - loss: 0.1020 - accuracy: 0.9663 - val_loss: 4.1057 - val_accuracy: 0.5330\n",
      "Epoch 64/100\n",
      "50000/50000 [==============================] - 10s 206us/step - loss: 0.0915 - accuracy: 0.9698 - val_loss: 4.1846 - val_accuracy: 0.5304\n",
      "Epoch 65/100\n",
      "50000/50000 [==============================] - 10s 204us/step - loss: 0.0717 - accuracy: 0.9776 - val_loss: 4.1084 - val_accuracy: 0.5334\n",
      "Epoch 66/100\n",
      "50000/50000 [==============================] - 12s 233us/step - loss: 0.0849 - accuracy: 0.9722 - val_loss: 4.2426 - val_accuracy: 0.5351\n",
      "Epoch 67/100\n",
      "50000/50000 [==============================] - 11s 215us/step - loss: 0.1111 - accuracy: 0.9634 - val_loss: 4.3757 - val_accuracy: 0.5265\n",
      "Epoch 68/100\n",
      "50000/50000 [==============================] - 11s 222us/step - loss: 0.0892 - accuracy: 0.9713 - val_loss: 4.0945 - val_accuracy: 0.5327\n",
      "Epoch 69/100\n",
      "50000/50000 [==============================] - 10s 209us/step - loss: 0.0728 - accuracy: 0.9762 - val_loss: 4.2149 - val_accuracy: 0.5360\n",
      "Epoch 70/100\n",
      "50000/50000 [==============================] - 10s 206us/step - loss: 0.0669 - accuracy: 0.9770 - val_loss: 4.3699 - val_accuracy: 0.5362\n",
      "Epoch 71/100\n",
      "50000/50000 [==============================] - 10s 209us/step - loss: 0.0845 - accuracy: 0.9712 - val_loss: 4.3619 - val_accuracy: 0.5295\n",
      "Epoch 72/100\n",
      "50000/50000 [==============================] - 11s 210us/step - loss: 0.0941 - accuracy: 0.9697 - val_loss: 4.3652 - val_accuracy: 0.5293\n",
      "Epoch 73/100\n",
      "50000/50000 [==============================] - 10s 209us/step - loss: 0.0828 - accuracy: 0.9729 - val_loss: 4.3263 - val_accuracy: 0.5319\n",
      "Epoch 74/100\n",
      "50000/50000 [==============================] - 10s 209us/step - loss: 0.0868 - accuracy: 0.9720 - val_loss: 4.2726 - val_accuracy: 0.5310\n",
      "Epoch 75/100\n",
      "50000/50000 [==============================] - 11s 210us/step - loss: 0.0591 - accuracy: 0.9806 - val_loss: 4.3285 - val_accuracy: 0.5353\n",
      "Epoch 76/100\n",
      "50000/50000 [==============================] - 10s 207us/step - loss: 0.0744 - accuracy: 0.9755 - val_loss: 4.6105 - val_accuracy: 0.5187\n",
      "Epoch 77/100\n",
      "50000/50000 [==============================] - 10s 205us/step - loss: 0.0883 - accuracy: 0.9718 - val_loss: 4.5113 - val_accuracy: 0.5344\n",
      "Epoch 78/100\n",
      "50000/50000 [==============================] - 10s 209us/step - loss: 0.1040 - accuracy: 0.9665 - val_loss: 4.1184 - val_accuracy: 0.5246\n",
      "Epoch 79/100\n",
      "50000/50000 [==============================] - 10s 205us/step - loss: 0.0758 - accuracy: 0.9757 - val_loss: 4.3116 - val_accuracy: 0.5327\n",
      "Epoch 80/100\n",
      "50000/50000 [==============================] - 10s 208us/step - loss: 0.0655 - accuracy: 0.9793 - val_loss: 4.4558 - val_accuracy: 0.5314\n",
      "Epoch 81/100\n",
      "50000/50000 [==============================] - 11s 212us/step - loss: 0.0769 - accuracy: 0.9749 - val_loss: 4.1736 - val_accuracy: 0.5312\n",
      "Epoch 82/100\n",
      "50000/50000 [==============================] - 11s 212us/step - loss: 0.0697 - accuracy: 0.9772 - val_loss: 4.5269 - val_accuracy: 0.5274\n",
      "Epoch 83/100\n",
      "50000/50000 [==============================] - 10s 210us/step - loss: 0.0710 - accuracy: 0.9770 - val_loss: 4.5692 - val_accuracy: 0.5348\n",
      "Epoch 84/100\n",
      "50000/50000 [==============================] - 10s 209us/step - loss: 0.0761 - accuracy: 0.9755 - val_loss: 4.4746 - val_accuracy: 0.5277\n",
      "Epoch 85/100\n",
      "50000/50000 [==============================] - 10s 208us/step - loss: 0.0765 - accuracy: 0.9750 - val_loss: 4.3389 - val_accuracy: 0.5302\n",
      "Epoch 86/100\n",
      "50000/50000 [==============================] - 10s 208us/step - loss: 0.0672 - accuracy: 0.9783 - val_loss: 4.5061 - val_accuracy: 0.5281\n",
      "Epoch 87/100\n",
      "50000/50000 [==============================] - 10s 206us/step - loss: 0.0665 - accuracy: 0.9780 - val_loss: 4.5063 - val_accuracy: 0.5341\n",
      "Epoch 88/100\n",
      "50000/50000 [==============================] - 12s 236us/step - loss: 0.0714 - accuracy: 0.9766 - val_loss: 4.5885 - val_accuracy: 0.5289\n",
      "Epoch 89/100\n",
      "50000/50000 [==============================] - 10s 209us/step - loss: 0.0723 - accuracy: 0.9764 - val_loss: 4.4362 - val_accuracy: 0.5351\n",
      "Epoch 90/100\n",
      "50000/50000 [==============================] - 11s 216us/step - loss: 0.0694 - accuracy: 0.9781 - val_loss: 4.5193 - val_accuracy: 0.5320\n",
      "Epoch 91/100\n",
      "50000/50000 [==============================] - 10s 209us/step - loss: 0.0801 - accuracy: 0.9745 - val_loss: 4.4983 - val_accuracy: 0.5331\n",
      "Epoch 92/100\n",
      "50000/50000 [==============================] - 11s 216us/step - loss: 0.0578 - accuracy: 0.9806 - val_loss: 4.5839 - val_accuracy: 0.5331\n",
      "Epoch 93/100\n",
      "50000/50000 [==============================] - 11s 220us/step - loss: 0.0726 - accuracy: 0.9770 - val_loss: 4.4603 - val_accuracy: 0.5274\n",
      "Epoch 94/100\n",
      "50000/50000 [==============================] - 11s 213us/step - loss: 0.0782 - accuracy: 0.9749 - val_loss: 4.3443 - val_accuracy: 0.5277\n",
      "Epoch 95/100\n",
      "50000/50000 [==============================] - 14s 287us/step - loss: 0.0612 - accuracy: 0.9804 - val_loss: 4.6322 - val_accuracy: 0.5349\n",
      "Epoch 96/100\n",
      "50000/50000 [==============================] - 15s 294us/step - loss: 0.0510 - accuracy: 0.9839 - val_loss: 4.7466 - val_accuracy: 0.5293\n",
      "Epoch 97/100\n",
      "50000/50000 [==============================] - 15s 304us/step - loss: 0.0659 - accuracy: 0.9787 - val_loss: 4.5780 - val_accuracy: 0.5267\n",
      "Epoch 98/100\n",
      "50000/50000 [==============================] - 13s 267us/step - loss: 0.0531 - accuracy: 0.9833 - val_loss: 4.6476 - val_accuracy: 0.5291\n",
      "Epoch 99/100\n",
      "50000/50000 [==============================] - 13s 263us/step - loss: 0.0642 - accuracy: 0.9790 - val_loss: 4.6300 - val_accuracy: 0.5344\n",
      "Epoch 100/100\n",
      "50000/50000 [==============================] - 14s 285us/step - loss: 0.0712 - accuracy: 0.9769 - val_loss: 4.4674 - val_accuracy: 0.5330\n"
     ]
    },
    {
     "data": {
      "text/plain": [
       "<keras.callbacks.callbacks.History at 0x64303a7d0>"
      ]
     },
     "execution_count": 45,
     "metadata": {},
     "output_type": "execute_result"
    }
   ],
   "source": [
    "model.fit(x_train, y_train, \n",
    "          epochs=EPOCHS, \n",
    "          batch_size=BATCH_SIZE, \n",
    "          validation_data=(x_test, y_test), \n",
    "          shuffle=True)"
   ]
  },
  {
   "cell_type": "code",
   "execution_count": 47,
   "metadata": {},
   "outputs": [
    {
     "data": {
      "image/png": "[encoded data removed]",
      "text/plain": [
       "<Figure size 432x288 with 1 Axes>"
      ]
     },
     "metadata": {
      "needs_background": "light"
     },
     "output_type": "display_data"
    }
   ],
   "source": [
    "import matplotlib.pyplot as plt\n",
    "\n",
    "\n",
    "train_loss = model.history.history[\"loss\"]\n",
    "valid_loss = model.history.history[\"val_loss\"]\n",
    "\n",
    "train_acc = model.history.history[\"accuracy\"]\n",
    "valid_acc = model.history.history[\"val_accuracy\"]\n",
    "\n",
    "plt.plot(range(len(train_loss)), train_loss, label=\"train loss\")\n",
    "plt.plot(range(len(valid_loss)), valid_loss, label=\"valid loss\")\n",
    "plt.legend()\n",
    "plt.title(\"Loss\")\n",
    "plt.show()\n",
    "\n"
   ]
  },
  {
   "cell_type": "code",
   "execution_count": 48,
   "metadata": {},
   "outputs": [
    {
     "data": {
      "image/png": "[encoded data removed]",
      "text/plain": [
       "<Figure size 432x288 with 1 Axes>"
      ]
     },
     "metadata": {
      "needs_background": "light"
     },
     "output_type": "display_data"
    }
   ],
   "source": [
    "plt.plot(range(len(train_acc)), train_acc, label=\"train accuracy\")\n",
    "plt.plot(range(len(valid_acc)), valid_acc, label=\"valid accuracy\")\n",
    "plt.legend()\n",
    "plt.title(\"Accuracy\")\n",
    "plt.show()"
   ]
  },
  {
   "cell_type": "code",
   "execution_count": null,
   "metadata": {},
   "outputs": [],
   "source": []
  }
 ],
 "metadata": {
  "kernelspec": {
   "display_name": "Python 3",
   "language": "python",
   "name": "python3"
  },
  "language_info": {
   "codemirror_mode": {
    "name": "ipython",
    "version": 3
   },
   "file_extension": ".py",
   "mimetype": "text/x-python",
   "name": "python",
   "nbconvert_exporter": "python",
   "pygments_lexer": "ipython3",
   "version": "3.7.4"
  }
 },
 "nbformat": 4,
 "nbformat_minor": 2
}
