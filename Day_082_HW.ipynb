{
 "cells": [
  {
   "cell_type": "markdown",
   "metadata": {},
   "source": [
    "## Work\n",
    "1. 請比較使用不同層數以及不同 Dropout rate 對訓練的效果\n",
    "2. 將 optimizer 改成使用 Adam 並加上適當的 dropout rate 檢視結果"
   ]
  },
  {
   "cell_type": "code",
   "execution_count": 1,
   "metadata": {},
   "outputs": [
    {
     "name": "stderr",
     "output_type": "stream",
     "text": [
      "Using TensorFlow backend.\n"
     ]
    }
   ],
   "source": [
    "import os\n",
    "import keras\n",
    "import itertools\n",
    "# Disable GPU\n",
    "os.environ[\"CUDA_VISIBLE_DEVICES\"] = \"\""
   ]
  },
  {
   "cell_type": "code",
   "execution_count": 2,
   "metadata": {},
   "outputs": [],
   "source": [
    "from sklearn import preprocessing"
   ]
  },
  {
   "cell_type": "code",
   "execution_count": 15,
   "metadata": {},
   "outputs": [],
   "source": [
    "from keras.regularizers import l1, l2, l1_l2"
   ]
  },
  {
   "cell_type": "code",
   "execution_count": 23,
   "metadata": {},
   "outputs": [],
   "source": [
    "from keras.layers import Dropout"
   ]
  },
  {
   "cell_type": "code",
   "execution_count": 3,
   "metadata": {},
   "outputs": [],
   "source": [
    "train, test = keras.datasets.cifar10.load_data()"
   ]
  },
  {
   "cell_type": "code",
   "execution_count": 4,
   "metadata": {},
   "outputs": [],
   "source": [
    "## 資料前處理\n",
    "def preproc_x(x, flatten=True):\n",
    "    x = x / 255.\n",
    "    if flatten:\n",
    "        x = x.reshape((len(x), -1))\n",
    "        x = preprocessing.MinMaxScaler(feature_range=(-1, 1)).fit_transform(x)\n",
    "    return x\n",
    "\n",
    "def preproc_y(y, num_classes=10):\n",
    "    if y.shape[-1] == 1:\n",
    "        y = keras.utils.to_categorical(y, num_classes)\n",
    "    return y    "
   ]
  },
  {
   "cell_type": "code",
   "execution_count": 5,
   "metadata": {},
   "outputs": [],
   "source": [
    "x_train, y_train = train\n",
    "x_test, y_test = test\n",
    "\n",
    "# Preproc the inputs\n",
    "x_train = preproc_x(x_train)\n",
    "x_test = preproc_x(x_test)\n",
    "\n",
    "# Preprc the outputs\n",
    "y_train = preproc_y(y_train)\n",
    "y_test = preproc_y(y_test)"
   ]
  },
  {
   "cell_type": "code",
   "execution_count": 44,
   "metadata": {},
   "outputs": [],
   "source": [
    "\"\"\"Code Here\n",
    "設定超參數\n",
    "\"\"\"\n",
    "LEARNING_RATE = 1e-3\n",
    "EPOCHS = 25\n",
    "BATCH_SIZE = 256\n",
    "MOMENTUM = 0.95\n",
    "L2_EXP = [1e-2]\n",
    "L1_EXP = [1e-12]\n",
    "L1_L2_EXP=[1e-12]\n",
    "drop_ratio=0.25"
   ]
  },
  {
   "cell_type": "markdown",
   "metadata": {},
   "source": [
    "# l2"
   ]
  },
  {
   "cell_type": "code",
   "execution_count": 53,
   "metadata": {},
   "outputs": [],
   "source": [
    "def build_mlp(input_shape, output_units=10, num_neurons=[256,128,64], l2_ratio=1e-4,drop_ratio=0.2):\n",
    "    input_layer = keras.layers.Input(input_shape)\n",
    "    \n",
    "    for i, n_units in enumerate(num_neurons):\n",
    "        if i == 0:\n",
    "            x = keras.layers.Dense(units=n_units, \n",
    "                                   activation=\"relu\", \n",
    "                                   name=\"hidden_layer\"+str(i+1), \n",
    "                                   kernel_regularizer=l2(l2_ratio))(input_layer)\n",
    "            x = Dropout(drop_ratio)(x)\n",
    "        else:\n",
    "            x = keras.layers.Dense(units=n_units, \n",
    "                                   activation=\"relu\", \n",
    "                                   name=\"hidden_layer\"+str(i+1),\n",
    "                                   kernel_regularizer=l2(l2_ratio))(x)\n",
    "            x = Dropout(drop_ratio)(x)\n",
    "    \n",
    "    out = keras.layers.Dense(units=output_units, activation=\"softmax\", name=\"output\")(x)\n",
    "    \n",
    "    model = keras.models.Model(inputs=[input_layer], outputs=[out])\n",
    "    return model"
   ]
  },
  {
   "cell_type": "code",
   "execution_count": 54,
   "metadata": {},
   "outputs": [
    {
     "name": "stdout",
     "output_type": "stream",
     "text": [
      "Experiment with Regulizer = L2 0.010000\n",
      "Model: \"model_1\"\n",
      "_________________________________________________________________\n",
      "Layer (type)                 Output Shape              Param #   \n",
      "=================================================================\n",
      "input_1 (InputLayer)         (None, 3072)              0         \n",
      "_________________________________________________________________\n",
      "hidden_layer1 (Dense)        (None, 256)               786688    \n",
      "_________________________________________________________________\n",
      "dropout_1 (Dropout)          (None, 256)               0         \n",
      "_________________________________________________________________\n",
      "hidden_layer2 (Dense)        (None, 128)               32896     \n",
      "_________________________________________________________________\n",
      "dropout_2 (Dropout)          (None, 128)               0         \n",
      "_________________________________________________________________\n",
      "hidden_layer3 (Dense)        (None, 64)                8256      \n",
      "_________________________________________________________________\n",
      "dropout_3 (Dropout)          (None, 64)                0         \n",
      "_________________________________________________________________\n",
      "output (Dense)               (None, 10)                650       \n",
      "=================================================================\n",
      "Total params: 828,490\n",
      "Trainable params: 828,490\n",
      "Non-trainable params: 0\n",
      "_________________________________________________________________\n",
      "Train on 50000 samples, validate on 10000 samples\n",
      "Epoch 1/25\n",
      "50000/50000 [==============================] - 7s 134us/step - loss: 8.9506 - accuracy: 0.2184 - val_loss: 8.2089 - val_accuracy: 0.3419\n",
      "Epoch 2/25\n",
      "50000/50000 [==============================] - 6s 119us/step - loss: 7.7671 - accuracy: 0.3039 - val_loss: 7.1776 - val_accuracy: 0.3768\n",
      "Epoch 3/25\n",
      "50000/50000 [==============================] - 6s 119us/step - loss: 6.8461 - accuracy: 0.3363 - val_loss: 6.3440 - val_accuracy: 0.3965\n",
      "Epoch 4/25\n",
      "50000/50000 [==============================] - 6s 121us/step - loss: 6.0839 - accuracy: 0.3540 - val_loss: 5.6470 - val_accuracy: 0.4113\n",
      "Epoch 5/25\n",
      "50000/50000 [==============================] - 6s 123us/step - loss: 5.4351 - accuracy: 0.3712 - val_loss: 5.0514 - val_accuracy: 0.4206\n",
      "Epoch 6/25\n",
      "50000/50000 [==============================] - 6s 119us/step - loss: 4.8904 - accuracy: 0.3799 - val_loss: 4.5501 - val_accuracy: 0.4344\n",
      "Epoch 7/25\n",
      "50000/50000 [==============================] - 6s 119us/step - loss: 4.4176 - accuracy: 0.3934 - val_loss: 4.1194 - val_accuracy: 0.4413\n",
      "Epoch 8/25\n",
      "50000/50000 [==============================] - 6s 119us/step - loss: 4.0234 - accuracy: 0.3982 - val_loss: 3.7553 - val_accuracy: 0.4451\n",
      "Epoch 9/25\n",
      "50000/50000 [==============================] - 6s 119us/step - loss: 3.6800 - accuracy: 0.4117 - val_loss: 3.4432 - val_accuracy: 0.4498\n",
      "Epoch 10/25\n",
      "50000/50000 [==============================] - 6s 121us/step - loss: 3.3903 - accuracy: 0.4135 - val_loss: 3.1794 - val_accuracy: 0.4579\n",
      "Epoch 11/25\n",
      "50000/50000 [==============================] - 7s 141us/step - loss: 3.1445 - accuracy: 0.4231 - val_loss: 2.9561 - val_accuracy: 0.4581\n",
      "Epoch 12/25\n",
      "50000/50000 [==============================] - 8s 170us/step - loss: 2.9374 - accuracy: 0.4237 - val_loss: 2.7625 - val_accuracy: 0.4651\n",
      "Epoch 13/25\n",
      "50000/50000 [==============================] - 7s 137us/step - loss: 2.7551 - accuracy: 0.4302 - val_loss: 2.5989 - val_accuracy: 0.4667\n",
      "Epoch 14/25\n",
      "50000/50000 [==============================] - 7s 133us/step - loss: 2.5985 - accuracy: 0.4332 - val_loss: 2.4570 - val_accuracy: 0.4690\n",
      "Epoch 15/25\n",
      "50000/50000 [==============================] - 6s 124us/step - loss: 2.4633 - accuracy: 0.4383 - val_loss: 2.3339 - val_accuracy: 0.4726\n",
      "Epoch 16/25\n",
      "50000/50000 [==============================] - 6s 128us/step - loss: 2.3536 - accuracy: 0.4407 - val_loss: 2.2351 - val_accuracy: 0.4758\n",
      "Epoch 17/25\n",
      "50000/50000 [==============================] - 6s 126us/step - loss: 2.2578 - accuracy: 0.4464 - val_loss: 2.1468 - val_accuracy: 0.4800\n",
      "Epoch 18/25\n",
      "50000/50000 [==============================] - 6s 125us/step - loss: 2.1741 - accuracy: 0.4469 - val_loss: 2.0712 - val_accuracy: 0.4814\n",
      "Epoch 19/25\n",
      "50000/50000 [==============================] - 7s 140us/step - loss: 2.0981 - accuracy: 0.4531 - val_loss: 2.0048 - val_accuracy: 0.4865\n",
      "Epoch 20/25\n",
      "50000/50000 [==============================] - 8s 158us/step - loss: 2.0356 - accuracy: 0.4565 - val_loss: 1.9492 - val_accuracy: 0.4858\n",
      "Epoch 21/25\n",
      "50000/50000 [==============================] - 8s 162us/step - loss: 1.9842 - accuracy: 0.4548 - val_loss: 1.9037 - val_accuracy: 0.4870\n",
      "Epoch 22/25\n",
      "50000/50000 [==============================] - 11s 225us/step - loss: 1.9344 - accuracy: 0.4637 - val_loss: 1.8644 - val_accuracy: 0.4928\n",
      "Epoch 23/25\n",
      "50000/50000 [==============================] - 9s 182us/step - loss: 1.8963 - accuracy: 0.4669 - val_loss: 1.8316 - val_accuracy: 0.4917\n",
      "Epoch 24/25\n",
      "50000/50000 [==============================] - 11s 210us/step - loss: 1.8620 - accuracy: 0.4654 - val_loss: 1.7954 - val_accuracy: 0.4932\n",
      "Epoch 25/25\n",
      "50000/50000 [==============================] - 13s 265us/step - loss: 1.8323 - accuracy: 0.4697 - val_loss: 1.7707 - val_accuracy: 0.4920\n"
     ]
    }
   ],
   "source": [
    "results = {}\n",
    "\"\"\"Code Here\n",
    "撰寫你的訓練流程並將結果用 dictionary 紀錄\n",
    "\"\"\"\n",
    "\n",
    "\"\"\"\n",
    "使用迴圈建立不同的帶不同 L1/L2 的模型並訓練\n",
    "\"\"\"\n",
    "for regulizer_ratio in L2_EXP:\n",
    "    keras.backend.clear_session() # 把舊的 Graph 清掉\n",
    "    print(\"Experiment with Regulizer = L2 %.6f\" % (regulizer_ratio))\n",
    "    model = build_mlp(input_shape=x_train.shape[1:], l2_ratio=regulizer_ratio,drop_ratio=drop_ratio)\n",
    "    model.summary()\n",
    "    optimizer = keras.optimizers.SGD(lr=LEARNING_RATE, nesterov=True, momentum=MOMENTUM)\n",
    "    model.compile(loss=\"categorical_crossentropy\", metrics=[\"accuracy\"], optimizer=optimizer)\n",
    "\n",
    "    model.fit(x_train, y_train, \n",
    "              epochs=EPOCHS, \n",
    "              batch_size=BATCH_SIZE, \n",
    "              validation_data=(x_test, y_test), \n",
    "              shuffle=True)\n",
    "    \n",
    "    # Collect results\n",
    "    train_loss = model.history.history[\"loss\"]\n",
    "    valid_loss = model.history.history[\"val_loss\"]\n",
    "    train_acc = model.history.history[\"accuracy\"]\n",
    "    valid_acc = model.history.history[\"val_accuracy\"]\n",
    "    \n",
    "    exp_name_tag = \"exp-l2-%s\" % str(regulizer_ratio)\n",
    "    results[exp_name_tag] = {'train-loss': train_loss,\n",
    "                             'valid-loss': valid_loss,\n",
    "                             'train-acc': train_acc,\n",
    "                             'valid-acc': valid_acc}"
   ]
  },
  {
   "cell_type": "code",
   "execution_count": 55,
   "metadata": {
    "scrolled": true
   },
   "outputs": [
    {
     "data": {
      "image/png": "[encoded data removed]",
      "text/plain": [
       "<Figure size 576x432 with 1 Axes>"
      ]
     },
     "metadata": {
      "needs_background": "light"
     },
     "output_type": "display_data"
    }
   ],
   "source": [
    "import matplotlib.pyplot as plt\n",
    "%matplotlib inline\n",
    "\"\"\"Code Here\n",
    "將結果繪出\n",
    "\"\"\"\n",
    "\n",
    "import matplotlib.pyplot as plt\n",
    "%matplotlib inline\n",
    "color_bar = [\"r\", \"g\", \"b\", \"y\", \"m\", \"k\"]\n",
    "\n",
    "plt.figure(figsize=(8,6))\n",
    "for i, cond in enumerate(results.keys()):\n",
    "    plt.plot(range(len(results[cond]['train-loss'])),results[cond]['train-loss'], '-', label=cond, color=color_bar[i])\n",
    "    plt.plot(range(len(results[cond]['valid-loss'])),results[cond]['valid-loss'], '--', label=cond, color=color_bar[i])\n",
    "plt.title(\"Loss\")\n",
    "plt.ylim([0, 5])\n",
    "plt.legend()\n",
    "plt.show()"
   ]
  },
  {
   "cell_type": "code",
   "execution_count": 56,
   "metadata": {},
   "outputs": [
    {
     "data": {
      "image/png": "[encoded data removed]",
      "text/plain": [
       "<Figure size 576x432 with 1 Axes>"
      ]
     },
     "metadata": {
      "needs_background": "light"
     },
     "output_type": "display_data"
    }
   ],
   "source": [
    "plt.figure(figsize=(8,6))\n",
    "for i, cond in enumerate(results.keys()):\n",
    "    plt.plot(range(len(results[cond]['train-acc'])),results[cond]['train-acc'], '-', label=cond, color=color_bar[i])\n",
    "    plt.plot(range(len(results[cond]['valid-acc'])),results[cond]['valid-acc'], '--', label=cond, color=color_bar[i])\n",
    "plt.title(\"Accuracy\")\n",
    "plt.legend()\n",
    "plt.show()"
   ]
  },
  {
   "cell_type": "markdown",
   "metadata": {},
   "source": [
    "# l1"
   ]
  },
  {
   "cell_type": "code",
   "execution_count": 57,
   "metadata": {},
   "outputs": [],
   "source": [
    "def build_mlp_l1(input_shape, output_units=10, num_neurons=[256,128,64], l1_ratio=1e-4,drop_ratio=0.2):\n",
    "    input_layer = keras.layers.Input(input_shape)\n",
    "    \n",
    "    for i, n_units in enumerate(num_neurons):\n",
    "        if i == 0:\n",
    "            x = keras.layers.Dense(units=n_units, \n",
    "                                   activation=\"relu\", \n",
    "                                   name=\"hidden_layer\"+str(i+1), \n",
    "                                   kernel_regularizer=l1(l1_ratio))(input_layer)\n",
    "            x = Dropout(drop_ratio)(x)\n",
    "        else:\n",
    "            x = keras.layers.Dense(units=n_units, \n",
    "                                   activation=\"relu\", \n",
    "                                   name=\"hidden_layer\"+str(i+1),\n",
    "                                   kernel_regularizer=l1(l1_ratio))(x)\n",
    "            x = Dropout(drop_ratio)(x)\n",
    "    \n",
    "    out = keras.layers.Dense(units=output_units, activation=\"softmax\", name=\"output\")(x)\n",
    "    \n",
    "    model = keras.models.Model(inputs=[input_layer], outputs=[out])\n",
    "    return model"
   ]
  },
  {
   "cell_type": "code",
   "execution_count": 58,
   "metadata": {
    "scrolled": true
   },
   "outputs": [
    {
     "name": "stdout",
     "output_type": "stream",
     "text": [
      "Experiment with Regulizer L1 = 0.000000\n",
      "Model: \"model_1\"\n",
      "_________________________________________________________________\n",
      "Layer (type)                 Output Shape              Param #   \n",
      "=================================================================\n",
      "input_1 (InputLayer)         (None, 3072)              0         \n",
      "_________________________________________________________________\n",
      "hidden_layer1 (Dense)        (None, 256)               786688    \n",
      "_________________________________________________________________\n",
      "dropout_1 (Dropout)          (None, 256)               0         \n",
      "_________________________________________________________________\n",
      "hidden_layer2 (Dense)        (None, 128)               32896     \n",
      "_________________________________________________________________\n",
      "dropout_2 (Dropout)          (None, 128)               0         \n",
      "_________________________________________________________________\n",
      "hidden_layer3 (Dense)        (None, 64)                8256      \n",
      "_________________________________________________________________\n",
      "dropout_3 (Dropout)          (None, 64)                0         \n",
      "_________________________________________________________________\n",
      "output (Dense)               (None, 10)                650       \n",
      "=================================================================\n",
      "Total params: 828,490\n",
      "Trainable params: 828,490\n",
      "Non-trainable params: 0\n",
      "_________________________________________________________________\n",
      "Train on 50000 samples, validate on 10000 samples\n",
      "Epoch 1/25\n",
      "50000/50000 [==============================] - 9s 182us/step - loss: 2.1982 - accuracy: 0.2012 - val_loss: 1.9576 - val_accuracy: 0.3187\n",
      "Epoch 2/25\n",
      "50000/50000 [==============================] - 8s 169us/step - loss: 1.9801 - accuracy: 0.2855 - val_loss: 1.8102 - val_accuracy: 0.3708\n",
      "Epoch 3/25\n",
      "50000/50000 [==============================] - 7s 147us/step - loss: 1.8837 - accuracy: 0.3219 - val_loss: 1.7317 - val_accuracy: 0.3946\n",
      "Epoch 4/25\n",
      "50000/50000 [==============================] - 7s 136us/step - loss: 1.8305 - accuracy: 0.3452 - val_loss: 1.6860 - val_accuracy: 0.4149\n",
      "Epoch 5/25\n",
      "50000/50000 [==============================] - 6s 130us/step - loss: 1.7808 - accuracy: 0.3669 - val_loss: 1.6458 - val_accuracy: 0.4304\n",
      "Epoch 6/25\n",
      "50000/50000 [==============================] - 6s 122us/step - loss: 1.7485 - accuracy: 0.3767 - val_loss: 1.6147 - val_accuracy: 0.4375\n",
      "Epoch 7/25\n",
      "50000/50000 [==============================] - 6s 123us/step - loss: 1.7173 - accuracy: 0.3899 - val_loss: 1.5885 - val_accuracy: 0.4462\n",
      "Epoch 8/25\n",
      "50000/50000 [==============================] - 6s 123us/step - loss: 1.6976 - accuracy: 0.3987 - val_loss: 1.5668 - val_accuracy: 0.4558\n",
      "Epoch 9/25\n",
      "50000/50000 [==============================] - 6s 120us/step - loss: 1.6737 - accuracy: 0.4059 - val_loss: 1.5505 - val_accuracy: 0.4587\n",
      "Epoch 10/25\n",
      "50000/50000 [==============================] - 6s 119us/step - loss: 1.6500 - accuracy: 0.4172 - val_loss: 1.5291 - val_accuracy: 0.4678\n",
      "Epoch 11/25\n",
      "50000/50000 [==============================] - 6s 120us/step - loss: 1.6316 - accuracy: 0.4215 - val_loss: 1.5104 - val_accuracy: 0.4740\n",
      "Epoch 12/25\n",
      "50000/50000 [==============================] - 6s 120us/step - loss: 1.6129 - accuracy: 0.4277 - val_loss: 1.4972 - val_accuracy: 0.4767\n",
      "Epoch 13/25\n",
      "50000/50000 [==============================] - 6s 123us/step - loss: 1.5932 - accuracy: 0.4374 - val_loss: 1.4808 - val_accuracy: 0.4819\n",
      "Epoch 14/25\n",
      "50000/50000 [==============================] - 6s 121us/step - loss: 1.5759 - accuracy: 0.4427 - val_loss: 1.4690 - val_accuracy: 0.4827\n",
      "Epoch 15/25\n",
      "50000/50000 [==============================] - 6s 124us/step - loss: 1.5658 - accuracy: 0.4467 - val_loss: 1.4582 - val_accuracy: 0.4882\n",
      "Epoch 16/25\n",
      "50000/50000 [==============================] - 6s 121us/step - loss: 1.5460 - accuracy: 0.4548 - val_loss: 1.4451 - val_accuracy: 0.4914\n",
      "Epoch 17/25\n",
      "50000/50000 [==============================] - 7s 135us/step - loss: 1.5297 - accuracy: 0.4588 - val_loss: 1.4396 - val_accuracy: 0.4956\n",
      "Epoch 18/25\n",
      "50000/50000 [==============================] - 8s 155us/step - loss: 1.5140 - accuracy: 0.4655 - val_loss: 1.4267 - val_accuracy: 0.4967\n",
      "Epoch 19/25\n",
      "50000/50000 [==============================] - 8s 161us/step - loss: 1.5061 - accuracy: 0.4675 - val_loss: 1.4189 - val_accuracy: 0.5029\n",
      "Epoch 20/25\n",
      "50000/50000 [==============================] - 13s 256us/step - loss: 1.4943 - accuracy: 0.4729 - val_loss: 1.4096 - val_accuracy: 0.5059\n",
      "Epoch 21/25\n",
      "50000/50000 [==============================] - 10s 191us/step - loss: 1.4843 - accuracy: 0.4751 - val_loss: 1.4029 - val_accuracy: 0.5092\n",
      "Epoch 22/25\n",
      "50000/50000 [==============================] - 11s 219us/step - loss: 1.4667 - accuracy: 0.4832 - val_loss: 1.3937 - val_accuracy: 0.5121\n",
      "Epoch 23/25\n",
      "50000/50000 [==============================] - 13s 250us/step - loss: 1.4558 - accuracy: 0.4835 - val_loss: 1.3887 - val_accuracy: 0.5130\n",
      "Epoch 24/25\n",
      "50000/50000 [==============================] - 8s 158us/step - loss: 1.4507 - accuracy: 0.4872 - val_loss: 1.3814 - val_accuracy: 0.5131\n",
      "Epoch 25/25\n",
      "50000/50000 [==============================] - 9s 176us/step - loss: 1.4318 - accuracy: 0.4929 - val_loss: 1.3760 - val_accuracy: 0.5181\n"
     ]
    }
   ],
   "source": [
    "results = {}\n",
    "for regulizer_ratio in L1_EXP:\n",
    "    keras.backend.clear_session() # 把舊的 Graph 清掉\n",
    "    print(\"Experiment with Regulizer L1 = %.6f\" % (regulizer_ratio))\n",
    "    model = build_mlp_l1(input_shape=x_train.shape[1:], l1_ratio=regulizer_ratio,drop_ratio=drop_ratio)\n",
    "    model.summary()\n",
    "    optimizer = keras.optimizers.SGD(lr=LEARNING_RATE, nesterov=True, momentum=MOMENTUM)\n",
    "    model.compile(loss=\"categorical_crossentropy\", metrics=[\"accuracy\"], optimizer=optimizer)\n",
    "\n",
    "    model.fit(x_train, y_train, \n",
    "              epochs=EPOCHS, \n",
    "              batch_size=BATCH_SIZE, \n",
    "              validation_data=(x_test, y_test), \n",
    "              shuffle=True)\n",
    "    \n",
    "    # Collect results\n",
    "    train_loss = model.history.history[\"loss\"]\n",
    "    valid_loss = model.history.history[\"val_loss\"]\n",
    "    train_acc = model.history.history[\"accuracy\"]\n",
    "    valid_acc = model.history.history[\"val_accuracy\"]\n",
    "    \n",
    "    exp_name_tag = \"exp-l1-%s\" % str(regulizer_ratio)\n",
    "    results[exp_name_tag] = {'train-loss': train_loss,\n",
    "                             'valid-loss': valid_loss,\n",
    "                             'train-acc': train_acc,\n",
    "                             'valid-acc': valid_acc}"
   ]
  },
  {
   "cell_type": "code",
   "execution_count": 59,
   "metadata": {
    "scrolled": true
   },
   "outputs": [
    {
     "data": {
      "image/png": "[encoded data removed]",
      "text/plain": [
       "<Figure size 576x432 with 1 Axes>"
      ]
     },
     "metadata": {
      "needs_background": "light"
     },
     "output_type": "display_data"
    }
   ],
   "source": [
    "import matplotlib.pyplot as plt\n",
    "%matplotlib inline\n",
    "\"\"\"Code Here\n",
    "將結果繪出\n",
    "\"\"\"\n",
    "\n",
    "import matplotlib.pyplot as plt\n",
    "%matplotlib inline\n",
    "color_bar = [\"r\", \"g\", \"b\", \"y\", \"m\", \"k\"]\n",
    "\n",
    "plt.figure(figsize=(8,6))\n",
    "for i, cond in enumerate(results.keys()):\n",
    "    plt.plot(range(len(results[cond]['train-loss'])),results[cond]['train-loss'], '-', label=cond, color=color_bar[i])\n",
    "    plt.plot(range(len(results[cond]['valid-loss'])),results[cond]['valid-loss'], '--', label=cond, color=color_bar[i])\n",
    "plt.title(\"Loss\")\n",
    "plt.ylim([0, 5])\n",
    "plt.legend()\n",
    "plt.show()"
   ]
  },
  {
   "cell_type": "code",
   "execution_count": 60,
   "metadata": {},
   "outputs": [
    {
     "data": {
      "image/png": "[encoded data removed]",
      "text/plain": [
       "<Figure size 576x432 with 1 Axes>"
      ]
     },
     "metadata": {
      "needs_background": "light"
     },
     "output_type": "display_data"
    }
   ],
   "source": [
    "plt.figure(figsize=(8,6))\n",
    "for i, cond in enumerate(results.keys()):\n",
    "    plt.plot(range(len(results[cond]['train-acc'])),results[cond]['train-acc'], '-', label=cond, color=color_bar[i])\n",
    "    plt.plot(range(len(results[cond]['valid-acc'])),results[cond]['valid-acc'], '--', label=cond, color=color_bar[i])\n",
    "plt.title(\"Accuracy\")\n",
    "plt.legend()\n",
    "plt.show()"
   ]
  },
  {
   "cell_type": "markdown",
   "metadata": {},
   "source": [
    "# l1_l2"
   ]
  },
  {
   "cell_type": "code",
   "execution_count": 61,
   "metadata": {},
   "outputs": [],
   "source": [
    "def build_mlp_l1_l2(input_shape, output_units=10, num_neurons=[256,128,64], l1_l2_ratio=1e-4,drop_ratio=0.2):\n",
    "    input_layer = keras.layers.Input(input_shape)\n",
    "    \n",
    "    for i, n_units in enumerate(num_neurons):\n",
    "        if i == 0:\n",
    "            x = keras.layers.Dense(units=n_units, \n",
    "                                   activation=\"relu\", \n",
    "                                   name=\"hidden_layer\"+str(i+1), \n",
    "                                   kernel_regularizer=l1_l2(l1_l2_ratio))(input_layer)\n",
    "            x = Dropout(drop_ratio)(x)\n",
    "        else:\n",
    "            x = keras.layers.Dense(units=n_units, \n",
    "                                   activation=\"relu\", \n",
    "                                   name=\"hidden_layer\"+str(i+1),\n",
    "                                   kernel_regularizer=l1_l2(l1_l2_ratio))(x)\n",
    "            x = Dropout(drop_ratio)(x)\n",
    "    \n",
    "    out = keras.layers.Dense(units=output_units, activation=\"softmax\", name=\"output\")(x)\n",
    "    \n",
    "    model = keras.models.Model(inputs=[input_layer], outputs=[out])\n",
    "    return model"
   ]
  },
  {
   "cell_type": "code",
   "execution_count": 62,
   "metadata": {
    "scrolled": true
   },
   "outputs": [
    {
     "name": "stdout",
     "output_type": "stream",
     "text": [
      "Experiment with Regulizer L1_L2 = 0.000000\n",
      "Model: \"model_1\"\n",
      "_________________________________________________________________\n",
      "Layer (type)                 Output Shape              Param #   \n",
      "=================================================================\n",
      "input_1 (InputLayer)         (None, 3072)              0         \n",
      "_________________________________________________________________\n",
      "hidden_layer1 (Dense)        (None, 256)               786688    \n",
      "_________________________________________________________________\n",
      "dropout_1 (Dropout)          (None, 256)               0         \n",
      "_________________________________________________________________\n",
      "hidden_layer2 (Dense)        (None, 128)               32896     \n",
      "_________________________________________________________________\n",
      "dropout_2 (Dropout)          (None, 128)               0         \n",
      "_________________________________________________________________\n",
      "hidden_layer3 (Dense)        (None, 64)                8256      \n",
      "_________________________________________________________________\n",
      "dropout_3 (Dropout)          (None, 64)                0         \n",
      "_________________________________________________________________\n",
      "output (Dense)               (None, 10)                650       \n",
      "=================================================================\n",
      "Total params: 828,490\n",
      "Trainable params: 828,490\n",
      "Non-trainable params: 0\n",
      "_________________________________________________________________\n",
      "Train on 50000 samples, validate on 10000 samples\n",
      "Epoch 1/25\n",
      "50000/50000 [==============================] - 9s 180us/step - loss: 9.0628 - accuracy: 0.1850 - val_loss: 8.3402 - val_accuracy: 0.3138\n",
      "Epoch 2/25\n",
      "50000/50000 [==============================] - 9s 184us/step - loss: 7.8709 - accuracy: 0.2811 - val_loss: 7.2700 - val_accuracy: 0.3684\n",
      "Epoch 3/25\n",
      "50000/50000 [==============================] - 9s 183us/step - loss: 6.9208 - accuracy: 0.3243 - val_loss: 6.4116 - val_accuracy: 0.3901\n",
      "Epoch 4/25\n",
      "50000/50000 [==============================] - 13s 253us/step - loss: 6.1408 - accuracy: 0.3496 - val_loss: 5.6952 - val_accuracy: 0.4000\n",
      "Epoch 5/25\n",
      "50000/50000 [==============================] - 10s 196us/step - loss: 5.4871 - accuracy: 0.3642 - val_loss: 5.0942 - val_accuracy: 0.4185\n",
      "Epoch 6/25\n",
      "50000/50000 [==============================] - 9s 174us/step - loss: 4.9308 - accuracy: 0.3747 - val_loss: 4.5879 - val_accuracy: 0.4273\n",
      "Epoch 7/25\n",
      "50000/50000 [==============================] - 10s 205us/step - loss: 4.4586 - accuracy: 0.3858 - val_loss: 4.1526 - val_accuracy: 0.4362\n",
      "Epoch 8/25\n",
      "50000/50000 [==============================] - 10s 206us/step - loss: 4.0589 - accuracy: 0.3923 - val_loss: 3.7874 - val_accuracy: 0.4416\n",
      "Epoch 9/25\n",
      "50000/50000 [==============================] - 7s 148us/step - loss: 3.7098 - accuracy: 0.4050 - val_loss: 3.4714 - val_accuracy: 0.4466\n",
      "Epoch 10/25\n",
      "50000/50000 [==============================] - 11s 228us/step - loss: 3.4220 - accuracy: 0.4090 - val_loss: 3.2058 - val_accuracy: 0.4515\n",
      "Epoch 11/25\n",
      "50000/50000 [==============================] - 13s 259us/step - loss: 3.1692 - accuracy: 0.4133 - val_loss: 2.9769 - val_accuracy: 0.4554\n",
      "Epoch 12/25\n",
      "50000/50000 [==============================] - 7s 148us/step - loss: 2.9555 - accuracy: 0.4223 - val_loss: 2.7798 - val_accuracy: 0.4619\n",
      "Epoch 13/25\n",
      "50000/50000 [==============================] - 10s 208us/step - loss: 2.7737 - accuracy: 0.4276 - val_loss: 2.6160 - val_accuracy: 0.4623\n",
      "Epoch 14/25\n",
      "50000/50000 [==============================] - 7s 146us/step - loss: 2.6151 - accuracy: 0.4316 - val_loss: 2.4697 - val_accuracy: 0.4719\n",
      "Epoch 15/25\n",
      "50000/50000 [==============================] - 7s 142us/step - loss: 2.4826 - accuracy: 0.4350 - val_loss: 2.3500 - val_accuracy: 0.4722\n",
      "Epoch 16/25\n",
      "50000/50000 [==============================] - 10s 196us/step - loss: 2.3633 - accuracy: 0.4368 - val_loss: 2.2422 - val_accuracy: 0.4739\n",
      "Epoch 17/25\n",
      "50000/50000 [==============================] - 12s 241us/step - loss: 2.2686 - accuracy: 0.4415 - val_loss: 2.1573 - val_accuracy: 0.4749\n",
      "Epoch 18/25\n",
      "50000/50000 [==============================] - 10s 195us/step - loss: 2.1832 - accuracy: 0.4440 - val_loss: 2.0776 - val_accuracy: 0.4800\n",
      "Epoch 19/25\n",
      "50000/50000 [==============================] - 8s 166us/step - loss: 2.1106 - accuracy: 0.4468 - val_loss: 2.0140 - val_accuracy: 0.4851\n",
      "Epoch 20/25\n",
      "50000/50000 [==============================] - 8s 165us/step - loss: 2.0465 - accuracy: 0.4533 - val_loss: 1.9534 - val_accuracy: 0.4883\n",
      "Epoch 21/25\n",
      "50000/50000 [==============================] - 12s 238us/step - loss: 1.9914 - accuracy: 0.4542 - val_loss: 1.9045 - val_accuracy: 0.4899\n",
      "Epoch 22/25\n",
      "50000/50000 [==============================] - 11s 216us/step - loss: 1.9438 - accuracy: 0.4617 - val_loss: 1.8624 - val_accuracy: 0.4907\n",
      "Epoch 23/25\n",
      "50000/50000 [==============================] - 11s 222us/step - loss: 1.8992 - accuracy: 0.4630 - val_loss: 1.8277 - val_accuracy: 0.4940\n",
      "Epoch 24/25\n",
      "50000/50000 [==============================] - 9s 178us/step - loss: 1.8672 - accuracy: 0.4644 - val_loss: 1.7961 - val_accuracy: 0.4918\n",
      "Epoch 25/25\n",
      "50000/50000 [==============================] - 13s 263us/step - loss: 1.8400 - accuracy: 0.4670 - val_loss: 1.7700 - val_accuracy: 0.4953\n"
     ]
    }
   ],
   "source": [
    "results = {}\n",
    "\"\"\"Code Here\n",
    "撰寫你的訓練流程並將結果用 dictionary 紀錄\n",
    "\"\"\"\n",
    "results = {}\n",
    "for regulizer_ratio in L1_L2_EXP:\n",
    "    keras.backend.clear_session() # 把舊的 Graph 清掉\n",
    "    print(\"Experiment with Regulizer L1_L2 = %.6f\" % (regulizer_ratio))\n",
    "    model = build_mlp_l1_l2(input_shape=x_train.shape[1:], l1_l2_ratio=regulizer_ratio,drop_ratio=drop_ratio)\n",
    "    model.summary()\n",
    "    optimizer = keras.optimizers.SGD(lr=LEARNING_RATE, nesterov=True, momentum=MOMENTUM)\n",
    "    model.compile(loss=\"categorical_crossentropy\", metrics=[\"accuracy\"], optimizer=optimizer)\n",
    "\n",
    "    model.fit(x_train, y_train, \n",
    "              epochs=EPOCHS, \n",
    "              batch_size=BATCH_SIZE, \n",
    "              validation_data=(x_test, y_test), \n",
    "              shuffle=True)\n",
    "    \n",
    "    # Collect results\n",
    "    train_loss = model.history.history[\"loss\"]\n",
    "    valid_loss = model.history.history[\"val_loss\"]\n",
    "    train_acc = model.history.history[\"accuracy\"]\n",
    "    valid_acc = model.history.history[\"val_accuracy\"]\n",
    "    \n",
    "    exp_name_tag = \"exp-l1_l2-%s\" % str(regulizer_ratio)\n",
    "    results[exp_name_tag] = {'train-loss': train_loss,\n",
    "                             'valid-loss': valid_loss,\n",
    "                             'train-acc': train_acc,\n",
    "                             'valid-acc': valid_acc}"
   ]
  },
  {
   "cell_type": "code",
   "execution_count": 63,
   "metadata": {},
   "outputs": [
    {
     "data": {
      "image/png": "[encoded data removed]",
      "text/plain": [
       "<Figure size 576x432 with 1 Axes>"
      ]
     },
     "metadata": {
      "needs_background": "light"
     },
     "output_type": "display_data"
    }
   ],
   "source": [
    "import matplotlib.pyplot as plt\n",
    "%matplotlib inline\n",
    "\"\"\"Code Here\n",
    "將結果繪出\n",
    "\"\"\"\n",
    "\n",
    "import matplotlib.pyplot as plt\n",
    "%matplotlib inline\n",
    "color_bar = [\"r\", \"g\", \"b\", \"y\", \"m\", \"k\"]\n",
    "\n",
    "plt.figure(figsize=(8,6))\n",
    "for i, cond in enumerate(results.keys()):\n",
    "    plt.plot(range(len(results[cond]['train-loss'])),results[cond]['train-loss'], '-', label=cond, color=color_bar[i])\n",
    "    plt.plot(range(len(results[cond]['valid-loss'])),results[cond]['valid-loss'], '--', label=cond, color=color_bar[i])\n",
    "plt.title(\"Loss\")\n",
    "plt.ylim([0, 5])\n",
    "plt.legend()\n",
    "plt.show()"
   ]
  },
  {
   "cell_type": "code",
   "execution_count": 64,
   "metadata": {},
   "outputs": [
    {
     "data": {
      "image/png": "[encoded data removed]",
      "text/plain": [
       "<Figure size 576x432 with 1 Axes>"
      ]
     },
     "metadata": {
      "needs_background": "light"
     },
     "output_type": "display_data"
    }
   ],
   "source": [
    "plt.figure(figsize=(8,6))\n",
    "for i, cond in enumerate(results.keys()):\n",
    "    plt.plot(range(len(results[cond]['train-acc'])),results[cond]['train-acc'], '-', label=cond, color=color_bar[i])\n",
    "    plt.plot(range(len(results[cond]['valid-acc'])),results[cond]['valid-acc'], '--', label=cond, color=color_bar[i])\n",
    "plt.title(\"Accuracy\")\n",
    "plt.legend()\n",
    "plt.show()"
   ]
  },
  {
   "cell_type": "code",
   "execution_count": null,
   "metadata": {},
   "outputs": [],
   "source": []
  },
  {
   "cell_type": "code",
   "execution_count": null,
   "metadata": {},
   "outputs": [],
   "source": []
  },
  {
   "cell_type": "code",
   "execution_count": null,
   "metadata": {},
   "outputs": [],
   "source": []
  }
 ],
 "metadata": {
  "kernelspec": {
   "display_name": "Python 3",
   "language": "python",
   "name": "python3"
  },
  "language_info": {
   "codemirror_mode": {
    "name": "ipython",
    "version": 3
   },
   "file_extension": ".py",
   "mimetype": "text/x-python",
   "name": "python",
   "nbconvert_exporter": "python",
   "pygments_lexer": "ipython3",
   "version": "3.7.4"
  }
 },
 "nbformat": 4,
 "nbformat_minor": 2
}
