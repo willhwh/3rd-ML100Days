{
 "cells": [
  {
   "cell_type": "markdown",
   "metadata": {},
   "source": [
    "## Work\n",
    "1. 試比較 save_best_only 與否的差異\n",
    "2. 請僅存入將 save_weights_only 設定為 True, 並嘗試 reset ipynb 並將模型與權重重新建回並預測 x_test"
   ]
  },
  {
   "cell_type": "code",
   "execution_count": 65,
   "metadata": {},
   "outputs": [],
   "source": [
    "import os\n",
    "import keras\n",
    "\n",
    "# Disable GPU\n",
    "os.environ[\"CUDA_VISIBLE_DEVICES\"] = \"\""
   ]
  },
  {
   "cell_type": "code",
   "execution_count": 66,
   "metadata": {},
   "outputs": [],
   "source": [
    "from sklearn import preprocessing"
   ]
  },
  {
   "cell_type": "code",
   "execution_count": 67,
   "metadata": {},
   "outputs": [],
   "source": [
    "train, test = keras.datasets.cifar10.load_data()"
   ]
  },
  {
   "cell_type": "code",
   "execution_count": 121,
   "metadata": {},
   "outputs": [],
   "source": [
    "## 資料前處理\n",
    "def preproc_x(x, flatten=True):\n",
    "    x = x / 255.\n",
    "    if flatten:\n",
    "        x = x.reshape((len(x), -1))\n",
    "        x = preprocessing.MinMaxScaler(feature_range=(-1,1)).fit_transform(x)\n",
    "    return x\n",
    "\n",
    "def preproc_y(y, num_classes=10):\n",
    "    if y.shape[-1] == 1:\n",
    "        y = keras.utils.to_categorical(y, num_classes)\n",
    "    return y    "
   ]
  },
  {
   "cell_type": "code",
   "execution_count": 122,
   "metadata": {},
   "outputs": [],
   "source": [
    "x_train, y_train = train\n",
    "x_test, y_test = test\n",
    "\n",
    "# Preproc the inputs\n",
    "x_train = preproc_x(x_train)\n",
    "x_test = preproc_x(x_test)\n",
    "\n",
    "# Preprc the outputs\n",
    "y_train = preproc_y(y_train)\n",
    "y_test = preproc_y(y_test)"
   ]
  },
  {
   "cell_type": "code",
   "execution_count": 70,
   "metadata": {},
   "outputs": [],
   "source": [
    "from keras.layers import BatchNormalization\n",
    "\n",
    "\"\"\"\n",
    "建立神經網路，並加入 BN layer\n",
    "\"\"\"\n",
    "def build_mlp(input_shape, output_units=10, num_neurons=[512, 256, 128]):\n",
    "    input_layer = keras.layers.Input(input_shape)\n",
    "    \n",
    "    for i, n_units in enumerate(num_neurons):\n",
    "        if i == 0:\n",
    "            x = keras.layers.Dense(units=n_units, \n",
    "                                   activation=\"relu\", \n",
    "                                   name=\"hidden_layer\"+str(i+1))(input_layer)\n",
    "            x = BatchNormalization()(x)\n",
    "        else:\n",
    "            x = keras.layers.Dense(units=n_units, \n",
    "                                   activation=\"relu\", \n",
    "                                   name=\"hidden_layer\"+str(i+1))(x)\n",
    "            x = BatchNormalization()(x)\n",
    "    exp_name_tag = \"model 01\"\n",
    "    print(exp_name_tag)\n",
    "    out = keras.layers.Dense(units=output_units, activation=\"softmax\", name=\"output\")(x)\n",
    "    \n",
    "    model = keras.models.Model(inputs=[input_layer], outputs=[out])\n",
    "    return model"
   ]
  },
  {
   "cell_type": "code",
   "execution_count": 107,
   "metadata": {},
   "outputs": [],
   "source": [
    "\"\"\"Code Here\n",
    "設定超參數\n",
    "\"\"\"\n",
    "LEARNING_RATE = 1e-3\n",
    "EPOCHS = 50\n",
    "BATCH_SIZE = 1024\n",
    "MOMENTUM = 0.95"
   ]
  },
  {
   "cell_type": "code",
   "execution_count": 108,
   "metadata": {},
   "outputs": [],
   "source": [
    "# 載入 Callbacks\n",
    "\"\"\"Code Here\n",
    "設定 callbacks: model checkpoint\n",
    "\"\"\"\n",
    "\"\"\"\n",
    "# 載入 Callbacks, 並將監控目標設為 validation loss, 且只存最佳參數時的模型\n",
    "\"\"\"\n",
    "from keras.callbacks import ModelCheckpoint\n",
    "\n",
    "model_ckpt = ModelCheckpoint(filepath=\"tmp00.h5\", \n",
    "                             monitor=\"val_loss\", \n",
    "                             save_best_only=True)\n",
    "model_ckpt_bestonlyfalse = ModelCheckpoint(filepath=\"tmp01.h5\", \n",
    "                             monitor=\"val_loss\", \n",
    "                             save_best_only=False)\n",
    "model_ckpt_weights_only = ModelCheckpoint(filepath=\"tmp02.h5\", \n",
    "                             monitor=\"val_loss\", \n",
    "                            save_weights_only=True)\n"
   ]
  },
  {
   "cell_type": "code",
   "execution_count": 109,
   "metadata": {
    "scrolled": true
   },
   "outputs": [
    {
     "name": "stdout",
     "output_type": "stream",
     "text": [
      "model 01\n",
      "Model: \"model_26\"\n",
      "_________________________________________________________________\n",
      "Layer (type)                 Output Shape              Param #   \n",
      "=================================================================\n",
      "input_26 (InputLayer)        (None, 3072)              0         \n",
      "_________________________________________________________________\n",
      "hidden_layer1 (Dense)        (None, 512)               1573376   \n",
      "_________________________________________________________________\n",
      "batch_normalization_76 (Batc (None, 512)               2048      \n",
      "_________________________________________________________________\n",
      "hidden_layer2 (Dense)        (None, 256)               131328    \n",
      "_________________________________________________________________\n",
      "batch_normalization_77 (Batc (None, 256)               1024      \n",
      "_________________________________________________________________\n",
      "hidden_layer3 (Dense)        (None, 128)               32896     \n",
      "_________________________________________________________________\n",
      "batch_normalization_78 (Batc (None, 128)               512       \n",
      "_________________________________________________________________\n",
      "output (Dense)               (None, 10)                1290      \n",
      "=================================================================\n",
      "Total params: 1,742,474\n",
      "Trainable params: 1,740,682\n",
      "Non-trainable params: 1,792\n",
      "_________________________________________________________________\n",
      "Train on 50000 samples, validate on 10000 samples\n",
      "Epoch 1/50\n",
      "50000/50000 [==============================] - 8s 156us/step - loss: 2.2281 - accuracy: 0.2665 - val_loss: 1.9801 - val_accuracy: 0.3238\n",
      "Epoch 2/50\n",
      "50000/50000 [==============================] - 7s 148us/step - loss: 1.7381 - accuracy: 0.3896 - val_loss: 1.8329 - val_accuracy: 0.3762\n",
      "Epoch 3/50\n",
      "50000/50000 [==============================] - 8s 158us/step - loss: 1.6073 - accuracy: 0.4401 - val_loss: 1.7243 - val_accuracy: 0.4080\n",
      "Epoch 4/50\n",
      "50000/50000 [==============================] - 10s 191us/step - loss: 1.5283 - accuracy: 0.4675 - val_loss: 1.6513 - val_accuracy: 0.4263\n",
      "Epoch 5/50\n",
      "50000/50000 [==============================] - 8s 164us/step - loss: 1.4687 - accuracy: 0.4885 - val_loss: 1.5954 - val_accuracy: 0.4437\n",
      "Epoch 6/50\n",
      "50000/50000 [==============================] - 8s 152us/step - loss: 1.4193 - accuracy: 0.5074 - val_loss: 1.5621 - val_accuracy: 0.4519\n",
      "Epoch 7/50\n",
      "50000/50000 [==============================] - 7s 146us/step - loss: 1.3745 - accuracy: 0.5233 - val_loss: 1.5383 - val_accuracy: 0.4579\n",
      "Epoch 8/50\n",
      "50000/50000 [==============================] - 7s 146us/step - loss: 1.3351 - accuracy: 0.5377 - val_loss: 1.5194 - val_accuracy: 0.4614\n",
      "Epoch 9/50\n",
      "50000/50000 [==============================] - 7s 144us/step - loss: 1.2982 - accuracy: 0.5506 - val_loss: 1.5052 - val_accuracy: 0.4664\n",
      "Epoch 10/50\n",
      "50000/50000 [==============================] - 7s 143us/step - loss: 1.2616 - accuracy: 0.5640 - val_loss: 1.4951 - val_accuracy: 0.4722\n",
      "Epoch 11/50\n",
      "50000/50000 [==============================] - 7s 143us/step - loss: 1.2284 - accuracy: 0.5760 - val_loss: 1.4842 - val_accuracy: 0.4757\n",
      "Epoch 12/50\n",
      "50000/50000 [==============================] - 7s 143us/step - loss: 1.1965 - accuracy: 0.5892 - val_loss: 1.4801 - val_accuracy: 0.4768\n",
      "Epoch 13/50\n",
      "50000/50000 [==============================] - 7s 142us/step - loss: 1.1653 - accuracy: 0.6009 - val_loss: 1.4772 - val_accuracy: 0.4819\n",
      "Epoch 14/50\n",
      "50000/50000 [==============================] - 7s 142us/step - loss: 1.1355 - accuracy: 0.6127 - val_loss: 1.4739 - val_accuracy: 0.4839\n",
      "Epoch 15/50\n",
      "50000/50000 [==============================] - 7s 141us/step - loss: 1.1064 - accuracy: 0.6242 - val_loss: 1.4691 - val_accuracy: 0.4845\n",
      "Epoch 16/50\n",
      "50000/50000 [==============================] - 7s 140us/step - loss: 1.0781 - accuracy: 0.6338 - val_loss: 1.4712 - val_accuracy: 0.4870\n",
      "Epoch 17/50\n",
      "50000/50000 [==============================] - 7s 140us/step - loss: 1.0498 - accuracy: 0.6435 - val_loss: 1.4679 - val_accuracy: 0.4902\n",
      "Epoch 18/50\n",
      "50000/50000 [==============================] - 7s 142us/step - loss: 1.0220 - accuracy: 0.6572 - val_loss: 1.4658 - val_accuracy: 0.4901\n",
      "Epoch 19/50\n",
      "50000/50000 [==============================] - 7s 139us/step - loss: 0.9954 - accuracy: 0.6669 - val_loss: 1.4710 - val_accuracy: 0.4902\n",
      "Epoch 20/50\n",
      "50000/50000 [==============================] - 7s 141us/step - loss: 0.9678 - accuracy: 0.6783 - val_loss: 1.4725 - val_accuracy: 0.4919\n",
      "Epoch 21/50\n",
      "50000/50000 [==============================] - 7s 143us/step - loss: 0.9409 - accuracy: 0.6891 - val_loss: 1.4739 - val_accuracy: 0.4901\n",
      "Epoch 22/50\n",
      "50000/50000 [==============================] - 7s 141us/step - loss: 0.9139 - accuracy: 0.7011 - val_loss: 1.4805 - val_accuracy: 0.4928\n",
      "Epoch 23/50\n",
      "50000/50000 [==============================] - 7s 139us/step - loss: 0.8877 - accuracy: 0.7101 - val_loss: 1.4827 - val_accuracy: 0.4920\n",
      "Epoch 24/50\n",
      "50000/50000 [==============================] - 7s 139us/step - loss: 0.8627 - accuracy: 0.7210 - val_loss: 1.4895 - val_accuracy: 0.4915\n",
      "Epoch 25/50\n",
      "50000/50000 [==============================] - 7s 138us/step - loss: 0.8356 - accuracy: 0.7325 - val_loss: 1.4956 - val_accuracy: 0.4937\n",
      "Epoch 26/50\n",
      "50000/50000 [==============================] - 7s 146us/step - loss: 0.8100 - accuracy: 0.7415 - val_loss: 1.4985 - val_accuracy: 0.4926\n",
      "Epoch 27/50\n",
      "50000/50000 [==============================] - 7s 138us/step - loss: 0.7850 - accuracy: 0.7492 - val_loss: 1.5123 - val_accuracy: 0.4938\n",
      "Epoch 28/50\n",
      "50000/50000 [==============================] - 7s 139us/step - loss: 0.7600 - accuracy: 0.7614 - val_loss: 1.5159 - val_accuracy: 0.4950\n",
      "Epoch 29/50\n",
      "50000/50000 [==============================] - 7s 139us/step - loss: 0.7343 - accuracy: 0.7712 - val_loss: 1.5229 - val_accuracy: 0.4959\n",
      "Epoch 30/50\n",
      "50000/50000 [==============================] - 7s 138us/step - loss: 0.7101 - accuracy: 0.7828 - val_loss: 1.5353 - val_accuracy: 0.4957\n",
      "Epoch 31/50\n",
      "50000/50000 [==============================] - 7s 135us/step - loss: 0.6855 - accuracy: 0.7909 - val_loss: 1.5468 - val_accuracy: 0.4948\n",
      "Epoch 32/50\n",
      "50000/50000 [==============================] - 7s 134us/step - loss: 0.6620 - accuracy: 0.8014 - val_loss: 1.5546 - val_accuracy: 0.4941\n",
      "Epoch 33/50\n",
      "50000/50000 [==============================] - 7s 135us/step - loss: 0.6384 - accuracy: 0.8100 - val_loss: 1.5646 - val_accuracy: 0.4918\n",
      "Epoch 34/50\n",
      "50000/50000 [==============================] - 7s 137us/step - loss: 0.6143 - accuracy: 0.8218 - val_loss: 1.5758 - val_accuracy: 0.4920\n",
      "Epoch 35/50\n",
      "50000/50000 [==============================] - 9s 185us/step - loss: 0.5892 - accuracy: 0.8303 - val_loss: 1.5881 - val_accuracy: 0.4913\n",
      "Epoch 36/50\n",
      "50000/50000 [==============================] - 7s 142us/step - loss: 0.5673 - accuracy: 0.8394 - val_loss: 1.5991 - val_accuracy: 0.4882\n",
      "Epoch 37/50\n",
      "50000/50000 [==============================] - 7s 134us/step - loss: 0.5452 - accuracy: 0.8484 - val_loss: 1.6122 - val_accuracy: 0.4897\n",
      "Epoch 38/50\n",
      "50000/50000 [==============================] - 7s 135us/step - loss: 0.5244 - accuracy: 0.8584 - val_loss: 1.6266 - val_accuracy: 0.4894\n",
      "Epoch 39/50\n",
      "50000/50000 [==============================] - 7s 135us/step - loss: 0.5035 - accuracy: 0.8650 - val_loss: 1.6362 - val_accuracy: 0.4907\n",
      "Epoch 40/50\n",
      "50000/50000 [==============================] - 7s 134us/step - loss: 0.4821 - accuracy: 0.8751 - val_loss: 1.6555 - val_accuracy: 0.4915\n",
      "Epoch 41/50\n",
      "50000/50000 [==============================] - 7s 134us/step - loss: 0.4607 - accuracy: 0.8818 - val_loss: 1.6685 - val_accuracy: 0.4890\n",
      "Epoch 42/50\n",
      "50000/50000 [==============================] - 7s 133us/step - loss: 0.4409 - accuracy: 0.8908 - val_loss: 1.6839 - val_accuracy: 0.4850\n",
      "Epoch 43/50\n",
      "50000/50000 [==============================] - 7s 133us/step - loss: 0.4202 - accuracy: 0.8984 - val_loss: 1.7013 - val_accuracy: 0.4881\n",
      "Epoch 44/50\n",
      "50000/50000 [==============================] - 7s 134us/step - loss: 0.4027 - accuracy: 0.9042 - val_loss: 1.7154 - val_accuracy: 0.4875\n",
      "Epoch 45/50\n",
      "50000/50000 [==============================] - 7s 134us/step - loss: 0.3824 - accuracy: 0.9129 - val_loss: 1.7275 - val_accuracy: 0.4885\n",
      "Epoch 46/50\n"
     ]
    },
    {
     "name": "stdout",
     "output_type": "stream",
     "text": [
      "50000/50000 [==============================] - 7s 146us/step - loss: 0.3651 - accuracy: 0.9193 - val_loss: 1.7443 - val_accuracy: 0.4849\n",
      "Epoch 47/50\n",
      "50000/50000 [==============================] - 7s 135us/step - loss: 0.3470 - accuracy: 0.9260 - val_loss: 1.7682 - val_accuracy: 0.4859\n",
      "Epoch 48/50\n",
      "50000/50000 [==============================] - 7s 135us/step - loss: 0.3301 - accuracy: 0.9316 - val_loss: 1.7828 - val_accuracy: 0.4847\n",
      "Epoch 49/50\n",
      "50000/50000 [==============================] - 7s 149us/step - loss: 0.3155 - accuracy: 0.9358 - val_loss: 1.8017 - val_accuracy: 0.4839\n",
      "Epoch 50/50\n",
      "50000/50000 [==============================] - 7s 136us/step - loss: 0.2997 - accuracy: 0.9427 - val_loss: 1.8178 - val_accuracy: 0.4837\n",
      "10000/10000 [==============================] - 2s 164us/step\n"
     ]
    }
   ],
   "source": [
    "results = {}\n",
    "\"\"\"Code Here\n",
    "撰寫你的訓練流程並將結果用 dictionary 紀錄\n",
    "\"\"\"\n",
    "model = build_mlp(input_shape=x_train.shape[1:])\n",
    "model.summary()\n",
    "optimizer = keras.optimizers.SGD(lr=LEARNING_RATE, nesterov=True, momentum=MOMENTUM)\n",
    "model.compile(loss=\"categorical_crossentropy\", metrics=[\"accuracy\"], optimizer=optimizer)\n",
    "\n",
    "model.fit(x_train, y_train, \n",
    "          epochs=EPOCHS, \n",
    "          batch_size=BATCH_SIZE, \n",
    "          validation_data=(x_test, y_test), \n",
    "          shuffle=True,\n",
    "          callbacks=[model_ckpt]\n",
    "         )\n",
    "\n",
    "\n",
    "\n",
    "# Collect results\n",
    "train_loss = model.history.history[\"loss\"]\n",
    "valid_loss = model.history.history[\"val_loss\"]\n",
    "train_acc = model.history.history[\"accuracy\"]\n",
    "valid_acc = model.history.history[\"val_accuracy\"]\n",
    "\n",
    "# Load back\n",
    "model = keras.models.load_model(\"tmp00.h5\")\n",
    "loss_loadback, acc_loadback = model.evaluate(x_test, y_test)\n"
   ]
  },
  {
   "cell_type": "code",
   "execution_count": 110,
   "metadata": {
    "scrolled": true
   },
   "outputs": [
    {
     "data": {
      "image/png": "[encoded data removed]",
      "text/plain": [
       "<Figure size 432x288 with 1 Axes>"
      ]
     },
     "metadata": {
      "needs_background": "light"
     },
     "output_type": "display_data"
    },
    {
     "data": {
      "image/png": "[encoded data removed]",
      "text/plain": [
       "<Figure size 432x288 with 1 Axes>"
      ]
     },
     "metadata": {
      "needs_background": "light"
     },
     "output_type": "display_data"
    }
   ],
   "source": [
    "import matplotlib.pyplot as plt\n",
    "%matplotlib inline\n",
    "\n",
    "plt.plot(range(len(train_loss)), train_loss, label=\"train loss\")\n",
    "plt.plot(range(len(valid_loss)), valid_loss, label=\"valid loss\")\n",
    "plt.hlines(y=loss_loadback, xmin=0, xmax=len(train_loss), colors='r', linestyles='--')\n",
    "plt.legend()\n",
    "plt.title(\"Loss\")\n",
    "plt.show()\n",
    "\n",
    "plt.plot(range(len(train_acc)), train_acc, label=\"train accuracy\")\n",
    "plt.plot(range(len(valid_acc)), valid_acc, label=\"valid accuracy\")\n",
    "plt.hlines(y=acc_loadback, xmin=0, xmax=len(train_loss), colors='r', linestyles='--')\n",
    "plt.legend()\n",
    "plt.title(\"Accuracy\")\n",
    "plt.show()"
   ]
  },
  {
   "cell_type": "code",
   "execution_count": 111,
   "metadata": {
    "scrolled": false
   },
   "outputs": [
    {
     "data": {
      "image/png": "[encoded data removed]",
      "text/plain": [
       "<Figure size 576x432 with 1 Axes>"
      ]
     },
     "metadata": {
      "needs_background": "light"
     },
     "output_type": "display_data"
    }
   ],
   "source": [
    "import matplotlib.pyplot as plt\n",
    "%matplotlib inline\n",
    "\"\"\"Code Here\n",
    "將結果繪出\n",
    "\"\"\"\n",
    "color_bar = [\"r\", \"g\", \"b\", \"y\", \"m\", \"k\",\"pink\",\"c\"]\n",
    "\n",
    "plt.figure(figsize=(8,6))\n",
    "\n",
    "plt.plot(range(len(train_loss)),train_loss, label=\"train_loss\",linestyle=\"-\", color=color_bar[0])\n",
    "plt.plot(range(len(valid_loss)),valid_loss, label=\"valid_loss\",linestyle='--', color=color_bar[0])\n",
    "plt.hlines(y=acc_loadback, xmin=0, xmax=len(train_loss), colors='r', linestyles='--')\n",
    "plt.title(\"Loss\")\n",
    "plt.ylim([0, 5])\n",
    "plt.legend()\n",
    "plt.show()"
   ]
  },
  {
   "cell_type": "code",
   "execution_count": 112,
   "metadata": {},
   "outputs": [
    {
     "data": {
      "image/png": "[encoded data removed]",
      "text/plain": [
       "<Figure size 576x432 with 1 Axes>"
      ]
     },
     "metadata": {
      "needs_background": "light"
     },
     "output_type": "display_data"
    }
   ],
   "source": [
    "color_bar = [\"r\", \"g\", \"b\", \"y\", \"m\", \"k\",\"pink\",\"c\"]\n",
    "\n",
    "plt.figure(figsize=(8,6))\n",
    "\n",
    "plt.plot(range(len(train_loss)),train_acc, label=\"train_acc\",linestyle=\"-\", color=color_bar[0])\n",
    "plt.plot(range(len(valid_loss)),valid_acc, label=\"valid_acc\",linestyle='--', color=color_bar[0])\n",
    "plt.hlines(y=acc_loadback, xmin=0, xmax=len(train_loss), colors='r', linestyles='--')\n",
    "plt.title(\"Accuracy\")\n",
    "plt.ylim([0, 5])\n",
    "plt.legend()\n",
    "plt.show()"
   ]
  },
  {
   "cell_type": "code",
   "execution_count": null,
   "metadata": {},
   "outputs": [],
   "source": []
  },
  {
   "cell_type": "markdown",
   "metadata": {},
   "source": [
    "# best_only False"
   ]
  },
  {
   "cell_type": "code",
   "execution_count": 113,
   "metadata": {},
   "outputs": [
    {
     "name": "stdout",
     "output_type": "stream",
     "text": [
      "model 01\n",
      "Model: \"model_27\"\n",
      "_________________________________________________________________\n",
      "Layer (type)                 Output Shape              Param #   \n",
      "=================================================================\n",
      "input_27 (InputLayer)        (None, 3072)              0         \n",
      "_________________________________________________________________\n",
      "hidden_layer1 (Dense)        (None, 512)               1573376   \n",
      "_________________________________________________________________\n",
      "batch_normalization_79 (Batc (None, 512)               2048      \n",
      "_________________________________________________________________\n",
      "hidden_layer2 (Dense)        (None, 256)               131328    \n",
      "_________________________________________________________________\n",
      "batch_normalization_80 (Batc (None, 256)               1024      \n",
      "_________________________________________________________________\n",
      "hidden_layer3 (Dense)        (None, 128)               32896     \n",
      "_________________________________________________________________\n",
      "batch_normalization_81 (Batc (None, 128)               512       \n",
      "_________________________________________________________________\n",
      "output (Dense)               (None, 10)                1290      \n",
      "=================================================================\n",
      "Total params: 1,742,474\n",
      "Trainable params: 1,740,682\n",
      "Non-trainable params: 1,792\n",
      "_________________________________________________________________\n",
      "Train on 50000 samples, validate on 10000 samples\n",
      "Epoch 1/50\n",
      "50000/50000 [==============================] - 8s 150us/step - loss: 2.2095 - accuracy: 0.2744 - val_loss: 1.9801 - val_accuracy: 0.3256\n",
      "Epoch 2/50\n",
      "50000/50000 [==============================] - 7s 139us/step - loss: 1.7217 - accuracy: 0.4010 - val_loss: 1.8269 - val_accuracy: 0.3801\n",
      "Epoch 3/50\n",
      "50000/50000 [==============================] - 7s 138us/step - loss: 1.5930 - accuracy: 0.4451 - val_loss: 1.7190 - val_accuracy: 0.4112\n",
      "Epoch 4/50\n",
      "50000/50000 [==============================] - 7s 139us/step - loss: 1.5148 - accuracy: 0.4719 - val_loss: 1.6433 - val_accuracy: 0.4323\n",
      "Epoch 5/50\n",
      "50000/50000 [==============================] - 7s 138us/step - loss: 1.4541 - accuracy: 0.4937 - val_loss: 1.5881 - val_accuracy: 0.4418\n",
      "Epoch 6/50\n",
      "50000/50000 [==============================] - 7s 138us/step - loss: 1.4044 - accuracy: 0.5112 - val_loss: 1.5506 - val_accuracy: 0.4555\n",
      "Epoch 7/50\n",
      "50000/50000 [==============================] - 7s 141us/step - loss: 1.3601 - accuracy: 0.5271 - val_loss: 1.5290 - val_accuracy: 0.4615\n",
      "Epoch 8/50\n",
      "50000/50000 [==============================] - 7s 146us/step - loss: 1.3205 - accuracy: 0.5439 - val_loss: 1.5096 - val_accuracy: 0.4660\n",
      "Epoch 9/50\n",
      "50000/50000 [==============================] - 8s 166us/step - loss: 1.2838 - accuracy: 0.5566 - val_loss: 1.4963 - val_accuracy: 0.4708\n",
      "Epoch 10/50\n",
      "50000/50000 [==============================] - 8s 152us/step - loss: 1.2475 - accuracy: 0.5712 - val_loss: 1.4851 - val_accuracy: 0.4756\n",
      "Epoch 11/50\n",
      "50000/50000 [==============================] - 9s 170us/step - loss: 1.2156 - accuracy: 0.5815 - val_loss: 1.4796 - val_accuracy: 0.4795\n",
      "Epoch 12/50\n",
      "50000/50000 [==============================] - 7s 141us/step - loss: 1.1842 - accuracy: 0.5939 - val_loss: 1.4723 - val_accuracy: 0.4817\n",
      "Epoch 13/50\n",
      "50000/50000 [==============================] - 7s 140us/step - loss: 1.1531 - accuracy: 0.6055 - val_loss: 1.4678 - val_accuracy: 0.4826\n",
      "Epoch 14/50\n",
      "50000/50000 [==============================] - 7s 140us/step - loss: 1.1239 - accuracy: 0.6165 - val_loss: 1.4648 - val_accuracy: 0.4840\n",
      "Epoch 15/50\n",
      "50000/50000 [==============================] - 7s 141us/step - loss: 1.0963 - accuracy: 0.6265 - val_loss: 1.4641 - val_accuracy: 0.4863\n",
      "Epoch 16/50\n",
      "50000/50000 [==============================] - 7s 142us/step - loss: 1.0687 - accuracy: 0.6381 - val_loss: 1.4599 - val_accuracy: 0.4887\n",
      "Epoch 17/50\n",
      "50000/50000 [==============================] - 7s 143us/step - loss: 1.0399 - accuracy: 0.6487 - val_loss: 1.4591 - val_accuracy: 0.4911\n",
      "Epoch 18/50\n",
      "50000/50000 [==============================] - 7s 142us/step - loss: 1.0131 - accuracy: 0.6614 - val_loss: 1.4596 - val_accuracy: 0.4910\n",
      "Epoch 19/50\n",
      "50000/50000 [==============================] - 7s 142us/step - loss: 0.9855 - accuracy: 0.6705 - val_loss: 1.4587 - val_accuracy: 0.4955\n",
      "Epoch 20/50\n",
      "50000/50000 [==============================] - 7s 142us/step - loss: 0.9580 - accuracy: 0.6825 - val_loss: 1.4614 - val_accuracy: 0.4941\n",
      "Epoch 21/50\n",
      "50000/50000 [==============================] - 7s 140us/step - loss: 0.9315 - accuracy: 0.6929 - val_loss: 1.4643 - val_accuracy: 0.4949\n",
      "Epoch 22/50\n",
      "50000/50000 [==============================] - 7s 141us/step - loss: 0.9061 - accuracy: 0.7031 - val_loss: 1.4654 - val_accuracy: 0.4979\n",
      "Epoch 23/50\n",
      "50000/50000 [==============================] - 7s 140us/step - loss: 0.8798 - accuracy: 0.7133 - val_loss: 1.4716 - val_accuracy: 0.4951\n",
      "Epoch 24/50\n",
      "50000/50000 [==============================] - 7s 143us/step - loss: 0.8552 - accuracy: 0.7232 - val_loss: 1.4751 - val_accuracy: 0.4939\n",
      "Epoch 25/50\n",
      "50000/50000 [==============================] - 8s 169us/step - loss: 0.8285 - accuracy: 0.7319 - val_loss: 1.4830 - val_accuracy: 0.4968\n",
      "Epoch 26/50\n",
      "50000/50000 [==============================] - 8s 163us/step - loss: 0.8046 - accuracy: 0.7436 - val_loss: 1.4898 - val_accuracy: 0.4948\n",
      "Epoch 27/50\n",
      "50000/50000 [==============================] - 7s 138us/step - loss: 0.7774 - accuracy: 0.7534 - val_loss: 1.4916 - val_accuracy: 0.4951\n",
      "Epoch 28/50\n",
      "50000/50000 [==============================] - 7s 135us/step - loss: 0.7542 - accuracy: 0.7629 - val_loss: 1.5023 - val_accuracy: 0.4958\n",
      "Epoch 29/50\n",
      "50000/50000 [==============================] - 7s 135us/step - loss: 0.7298 - accuracy: 0.7739 - val_loss: 1.5094 - val_accuracy: 0.4944\n",
      "Epoch 30/50\n",
      "50000/50000 [==============================] - 7s 135us/step - loss: 0.7041 - accuracy: 0.7838 - val_loss: 1.5185 - val_accuracy: 0.4949\n",
      "Epoch 31/50\n",
      "50000/50000 [==============================] - 7s 135us/step - loss: 0.6813 - accuracy: 0.7930 - val_loss: 1.5257 - val_accuracy: 0.4964\n",
      "Epoch 32/50\n",
      "50000/50000 [==============================] - 7s 135us/step - loss: 0.6583 - accuracy: 0.8013 - val_loss: 1.5372 - val_accuracy: 0.4946\n",
      "Epoch 33/50\n",
      "50000/50000 [==============================] - 7s 136us/step - loss: 0.6337 - accuracy: 0.8126 - val_loss: 1.5482 - val_accuracy: 0.4935\n",
      "Epoch 34/50\n",
      "50000/50000 [==============================] - 7s 135us/step - loss: 0.6097 - accuracy: 0.8223 - val_loss: 1.5580 - val_accuracy: 0.4951\n",
      "Epoch 35/50\n",
      "50000/50000 [==============================] - 7s 139us/step - loss: 0.5860 - accuracy: 0.8327 - val_loss: 1.5721 - val_accuracy: 0.4952\n",
      "Epoch 36/50\n",
      "50000/50000 [==============================] - 7s 146us/step - loss: 0.5649 - accuracy: 0.8406 - val_loss: 1.5840 - val_accuracy: 0.4896\n",
      "Epoch 37/50\n",
      "50000/50000 [==============================] - 7s 138us/step - loss: 0.5422 - accuracy: 0.8485 - val_loss: 1.5975 - val_accuracy: 0.4931\n",
      "Epoch 38/50\n",
      "50000/50000 [==============================] - 7s 136us/step - loss: 0.5205 - accuracy: 0.8605 - val_loss: 1.6077 - val_accuracy: 0.4909\n",
      "Epoch 39/50\n",
      "50000/50000 [==============================] - 7s 135us/step - loss: 0.4996 - accuracy: 0.8666 - val_loss: 1.6244 - val_accuracy: 0.4932\n",
      "Epoch 40/50\n",
      "50000/50000 [==============================] - 7s 136us/step - loss: 0.4774 - accuracy: 0.8759 - val_loss: 1.6376 - val_accuracy: 0.4908\n",
      "Epoch 41/50\n",
      "50000/50000 [==============================] - 7s 135us/step - loss: 0.4579 - accuracy: 0.8827 - val_loss: 1.6568 - val_accuracy: 0.4916\n",
      "Epoch 42/50\n",
      "50000/50000 [==============================] - 7s 135us/step - loss: 0.4378 - accuracy: 0.8893 - val_loss: 1.6692 - val_accuracy: 0.4898\n",
      "Epoch 43/50\n",
      "50000/50000 [==============================] - 7s 136us/step - loss: 0.4175 - accuracy: 0.8985 - val_loss: 1.6877 - val_accuracy: 0.4915\n",
      "Epoch 44/50\n",
      "50000/50000 [==============================] - 7s 135us/step - loss: 0.3983 - accuracy: 0.9053 - val_loss: 1.7033 - val_accuracy: 0.4901\n",
      "Epoch 45/50\n",
      "50000/50000 [==============================] - 7s 135us/step - loss: 0.3794 - accuracy: 0.9124 - val_loss: 1.7165 - val_accuracy: 0.4898\n",
      "Epoch 46/50\n"
     ]
    },
    {
     "name": "stdout",
     "output_type": "stream",
     "text": [
      "50000/50000 [==============================] - 7s 135us/step - loss: 0.3630 - accuracy: 0.9177 - val_loss: 1.7339 - val_accuracy: 0.4913\n",
      "Epoch 47/50\n",
      "50000/50000 [==============================] - 7s 134us/step - loss: 0.3440 - accuracy: 0.9264 - val_loss: 1.7558 - val_accuracy: 0.4887\n",
      "Epoch 48/50\n",
      "50000/50000 [==============================] - 7s 134us/step - loss: 0.3291 - accuracy: 0.9309 - val_loss: 1.7746 - val_accuracy: 0.4856\n",
      "Epoch 49/50\n",
      "50000/50000 [==============================] - 7s 135us/step - loss: 0.3124 - accuracy: 0.9375 - val_loss: 1.7875 - val_accuracy: 0.4881\n",
      "Epoch 50/50\n",
      "50000/50000 [==============================] - 7s 133us/step - loss: 0.2981 - accuracy: 0.9412 - val_loss: 1.8065 - val_accuracy: 0.4844\n",
      "10000/10000 [==============================] - 2s 159us/step\n"
     ]
    }
   ],
   "source": [
    "results = {}\n",
    "\"\"\"Code Here\n",
    "撰寫你的訓練流程並將結果用 dictionary 紀錄\n",
    "\"\"\"\n",
    "model = build_mlp(input_shape=x_train.shape[1:])\n",
    "model.summary()\n",
    "optimizer = keras.optimizers.SGD(lr=LEARNING_RATE, nesterov=True, momentum=MOMENTUM)\n",
    "model.compile(loss=\"categorical_crossentropy\", metrics=[\"accuracy\"], optimizer=optimizer)\n",
    "\n",
    "model.fit(x_train, y_train, \n",
    "          epochs=EPOCHS, \n",
    "          batch_size=BATCH_SIZE, \n",
    "          validation_data=(x_test, y_test), \n",
    "          shuffle=True,\n",
    "          callbacks=[model_ckpt_bestonlyfalse]\n",
    "         )\n",
    "\n",
    "\n",
    "\n",
    "# Collect results\n",
    "train_loss = model.history.history[\"loss\"]\n",
    "valid_loss = model.history.history[\"val_loss\"]\n",
    "train_acc = model.history.history[\"accuracy\"]\n",
    "valid_acc = model.history.history[\"val_accuracy\"]\n",
    "\n",
    "# Load back\n",
    "model = keras.models.load_model(\"tmp01.h5\")\n",
    "loss_loadback, acc_loadback = model.evaluate(x_test, y_test)\n",
    "\n"
   ]
  },
  {
   "cell_type": "code",
   "execution_count": 114,
   "metadata": {},
   "outputs": [
    {
     "data": {
      "image/png": "[encoded data removed]",
      "text/plain": [
       "<Figure size 432x288 with 1 Axes>"
      ]
     },
     "metadata": {
      "needs_background": "light"
     },
     "output_type": "display_data"
    },
    {
     "data": {
      "image/png": "[encoded data removed]",
      "text/plain": [
       "<Figure size 432x288 with 1 Axes>"
      ]
     },
     "metadata": {
      "needs_background": "light"
     },
     "output_type": "display_data"
    }
   ],
   "source": [
    "import matplotlib.pyplot as plt\n",
    "%matplotlib inline\n",
    "\n",
    "plt.plot(range(len(train_loss)), train_loss, label=\"train loss\")\n",
    "plt.plot(range(len(valid_loss)), valid_loss, label=\"valid loss\")\n",
    "plt.hlines(y=loss_loadback, xmin=0, xmax=len(train_loss), colors='r', linestyles='--')\n",
    "plt.legend()\n",
    "plt.title(\"Loss\")\n",
    "plt.show()\n",
    "\n",
    "plt.plot(range(len(train_acc)), train_acc, label=\"train accuracy\")\n",
    "plt.plot(range(len(valid_acc)), valid_acc, label=\"valid accuracy\")\n",
    "plt.hlines(y=acc_loadback, xmin=0, xmax=len(train_loss), colors='r', linestyles='--')\n",
    "plt.legend()\n",
    "plt.title(\"Accuracy\")\n",
    "plt.show()"
   ]
  },
  {
   "cell_type": "code",
   "execution_count": 115,
   "metadata": {},
   "outputs": [
    {
     "data": {
      "image/png": "[encoded data removed]",
      "text/plain": [
       "<Figure size 576x432 with 1 Axes>"
      ]
     },
     "metadata": {
      "needs_background": "light"
     },
     "output_type": "display_data"
    }
   ],
   "source": [
    "color_bar = [\"r\", \"g\", \"b\", \"y\", \"m\", \"k\",\"pink\",\"c\"]\n",
    "\n",
    "plt.figure(figsize=(8,6))\n",
    "\n",
    "plt.plot(range(len(train_loss)),train_acc, label=\"train_acc\",linestyle=\"-\", color=color_bar[0])\n",
    "plt.plot(range(len(valid_loss)),valid_acc, label=\"valid_acc\",linestyle='--', color=color_bar[0])\n",
    "plt.hlines(y=acc_loadback, xmin=0, xmax=len(train_loss), colors='r', linestyles='--')\n",
    "plt.title(\"Accuracy\")\n",
    "plt.ylim([0, 5])\n",
    "plt.legend()\n",
    "plt.show()"
   ]
  },
  {
   "cell_type": "code",
   "execution_count": null,
   "metadata": {},
   "outputs": [],
   "source": []
  },
  {
   "cell_type": "markdown",
   "metadata": {},
   "source": [
    "# weights only true"
   ]
  },
  {
   "cell_type": "code",
   "execution_count": 116,
   "metadata": {
    "scrolled": false
   },
   "outputs": [
    {
     "name": "stdout",
     "output_type": "stream",
     "text": [
      "model 01\n",
      "Model: \"model_28\"\n",
      "_________________________________________________________________\n",
      "Layer (type)                 Output Shape              Param #   \n",
      "=================================================================\n",
      "input_28 (InputLayer)        (None, 3072)              0         \n",
      "_________________________________________________________________\n",
      "hidden_layer1 (Dense)        (None, 512)               1573376   \n",
      "_________________________________________________________________\n",
      "batch_normalization_82 (Batc (None, 512)               2048      \n",
      "_________________________________________________________________\n",
      "hidden_layer2 (Dense)        (None, 256)               131328    \n",
      "_________________________________________________________________\n",
      "batch_normalization_83 (Batc (None, 256)               1024      \n",
      "_________________________________________________________________\n",
      "hidden_layer3 (Dense)        (None, 128)               32896     \n",
      "_________________________________________________________________\n",
      "batch_normalization_84 (Batc (None, 128)               512       \n",
      "_________________________________________________________________\n",
      "output (Dense)               (None, 10)                1290      \n",
      "=================================================================\n",
      "Total params: 1,742,474\n",
      "Trainable params: 1,740,682\n",
      "Non-trainable params: 1,792\n",
      "_________________________________________________________________\n",
      "Train on 50000 samples, validate on 10000 samples\n",
      "Epoch 1/50\n",
      "50000/50000 [==============================] - 7s 150us/step - loss: 2.1875 - accuracy: 0.2696 - val_loss: 1.9686 - val_accuracy: 0.3366\n",
      "Epoch 2/50\n",
      "50000/50000 [==============================] - 7s 138us/step - loss: 1.7223 - accuracy: 0.3963 - val_loss: 1.8077 - val_accuracy: 0.3901\n",
      "Epoch 3/50\n",
      "50000/50000 [==============================] - 7s 135us/step - loss: 1.5960 - accuracy: 0.4385 - val_loss: 1.7066 - val_accuracy: 0.4159\n",
      "Epoch 4/50\n",
      "50000/50000 [==============================] - 7s 136us/step - loss: 1.5201 - accuracy: 0.4655 - val_loss: 1.6318 - val_accuracy: 0.4322\n",
      "Epoch 5/50\n",
      "50000/50000 [==============================] - 7s 135us/step - loss: 1.4629 - accuracy: 0.4865 - val_loss: 1.5827 - val_accuracy: 0.4450\n",
      "Epoch 6/50\n",
      "50000/50000 [==============================] - 7s 135us/step - loss: 1.4136 - accuracy: 0.5059 - val_loss: 1.5476 - val_accuracy: 0.4547\n",
      "Epoch 7/50\n",
      "50000/50000 [==============================] - 7s 137us/step - loss: 1.3692 - accuracy: 0.5217 - val_loss: 1.5193 - val_accuracy: 0.4606\n",
      "Epoch 8/50\n",
      "50000/50000 [==============================] - 7s 134us/step - loss: 1.3298 - accuracy: 0.5370 - val_loss: 1.5030 - val_accuracy: 0.4681\n",
      "Epoch 9/50\n",
      "50000/50000 [==============================] - 7s 136us/step - loss: 1.2934 - accuracy: 0.5521 - val_loss: 1.4907 - val_accuracy: 0.4747\n",
      "Epoch 10/50\n",
      "50000/50000 [==============================] - 7s 136us/step - loss: 1.2590 - accuracy: 0.5634 - val_loss: 1.4786 - val_accuracy: 0.4785\n",
      "Epoch 11/50\n",
      "50000/50000 [==============================] - 7s 135us/step - loss: 1.2262 - accuracy: 0.5760 - val_loss: 1.4720 - val_accuracy: 0.4795\n",
      "Epoch 12/50\n",
      "50000/50000 [==============================] - 7s 134us/step - loss: 1.1952 - accuracy: 0.5872 - val_loss: 1.4631 - val_accuracy: 0.4820\n",
      "Epoch 13/50\n",
      "50000/50000 [==============================] - 7s 136us/step - loss: 1.1648 - accuracy: 0.5985 - val_loss: 1.4585 - val_accuracy: 0.4867\n",
      "Epoch 14/50\n",
      "50000/50000 [==============================] - 7s 134us/step - loss: 1.1360 - accuracy: 0.6108 - val_loss: 1.4550 - val_accuracy: 0.4869\n",
      "Epoch 15/50\n",
      "50000/50000 [==============================] - 9s 176us/step - loss: 1.1069 - accuracy: 0.6214 - val_loss: 1.4501 - val_accuracy: 0.4892\n",
      "Epoch 16/50\n",
      "50000/50000 [==============================] - 8s 164us/step - loss: 1.0788 - accuracy: 0.6321 - val_loss: 1.4501 - val_accuracy: 0.4920\n",
      "Epoch 17/50\n",
      "50000/50000 [==============================] - 7s 135us/step - loss: 1.0504 - accuracy: 0.6421 - val_loss: 1.4463 - val_accuracy: 0.4949\n",
      "Epoch 18/50\n",
      "50000/50000 [==============================] - 7s 136us/step - loss: 1.0230 - accuracy: 0.6544 - val_loss: 1.4440 - val_accuracy: 0.4961\n",
      "Epoch 19/50\n",
      "50000/50000 [==============================] - 7s 137us/step - loss: 0.9962 - accuracy: 0.6659 - val_loss: 1.4493 - val_accuracy: 0.4928\n",
      "Epoch 20/50\n",
      "50000/50000 [==============================] - 7s 135us/step - loss: 0.9696 - accuracy: 0.6756 - val_loss: 1.4476 - val_accuracy: 0.4948\n",
      "Epoch 21/50\n",
      "50000/50000 [==============================] - 7s 135us/step - loss: 0.9424 - accuracy: 0.6861 - val_loss: 1.4502 - val_accuracy: 0.4966\n",
      "Epoch 22/50\n",
      "50000/50000 [==============================] - 7s 135us/step - loss: 0.9168 - accuracy: 0.6970 - val_loss: 1.4557 - val_accuracy: 0.4971\n",
      "Epoch 23/50\n",
      "50000/50000 [==============================] - 7s 135us/step - loss: 0.8914 - accuracy: 0.7073 - val_loss: 1.4592 - val_accuracy: 0.4959\n",
      "Epoch 24/50\n",
      "50000/50000 [==============================] - 7s 137us/step - loss: 0.8645 - accuracy: 0.7172 - val_loss: 1.4598 - val_accuracy: 0.4979\n",
      "Epoch 25/50\n",
      "50000/50000 [==============================] - 7s 137us/step - loss: 0.8393 - accuracy: 0.7280 - val_loss: 1.4673 - val_accuracy: 0.4963\n",
      "Epoch 26/50\n",
      "50000/50000 [==============================] - 8s 160us/step - loss: 0.8133 - accuracy: 0.7380 - val_loss: 1.4734 - val_accuracy: 0.4959\n",
      "Epoch 27/50\n",
      "50000/50000 [==============================] - 8s 151us/step - loss: 0.7889 - accuracy: 0.7499 - val_loss: 1.4837 - val_accuracy: 0.4952\n",
      "Epoch 28/50\n",
      "50000/50000 [==============================] - 9s 185us/step - loss: 0.7641 - accuracy: 0.7588 - val_loss: 1.4894 - val_accuracy: 0.4945\n",
      "Epoch 29/50\n",
      "50000/50000 [==============================] - 18s 368us/step - loss: 0.7392 - accuracy: 0.7684 - val_loss: 1.4963 - val_accuracy: 0.4979\n",
      "Epoch 30/50\n",
      "50000/50000 [==============================] - 14s 283us/step - loss: 0.7143 - accuracy: 0.7795 - val_loss: 1.5094 - val_accuracy: 0.4955\n",
      "Epoch 31/50\n",
      "50000/50000 [==============================] - 13s 252us/step - loss: 0.6915 - accuracy: 0.7877 - val_loss: 1.5228 - val_accuracy: 0.4936\n",
      "Epoch 32/50\n",
      "50000/50000 [==============================] - 12s 242us/step - loss: 0.6665 - accuracy: 0.7986 - val_loss: 1.5257 - val_accuracy: 0.4953\n",
      "Epoch 33/50\n",
      "50000/50000 [==============================] - 1994s 40ms/step - loss: 0.6426 - accuracy: 0.8070 - val_loss: 1.5374 - val_accuracy: 0.4948\n",
      "Epoch 34/50\n",
      "50000/50000 [==============================] - 8s 159us/step - loss: 0.6202 - accuracy: 0.8159 - val_loss: 1.5490 - val_accuracy: 0.4930\n",
      "Epoch 35/50\n",
      "50000/50000 [==============================] - 18s 359us/step - loss: 0.5970 - accuracy: 0.8263 - val_loss: 1.5656 - val_accuracy: 0.4905\n",
      "Epoch 36/50\n",
      "50000/50000 [==============================] - 13s 268us/step - loss: 0.5738 - accuracy: 0.8361 - val_loss: 1.5722 - val_accuracy: 0.4954\n",
      "Epoch 37/50\n",
      "50000/50000 [==============================] - 14s 271us/step - loss: 0.5513 - accuracy: 0.8458 - val_loss: 1.5894 - val_accuracy: 0.4917\n",
      "Epoch 38/50\n",
      "50000/50000 [==============================] - 13s 266us/step - loss: 0.5290 - accuracy: 0.8538 - val_loss: 1.6062 - val_accuracy: 0.4852\n",
      "Epoch 39/50\n",
      "50000/50000 [==============================] - 12s 245us/step - loss: 0.5080 - accuracy: 0.8629 - val_loss: 1.6167 - val_accuracy: 0.4882\n",
      "Epoch 40/50\n",
      "50000/50000 [==============================] - 12s 244us/step - loss: 0.4858 - accuracy: 0.8723 - val_loss: 1.6364 - val_accuracy: 0.4883\n",
      "Epoch 41/50\n",
      "50000/50000 [==============================] - 12s 239us/step - loss: 0.4664 - accuracy: 0.8802 - val_loss: 1.6510 - val_accuracy: 0.4863\n",
      "Epoch 42/50\n",
      "50000/50000 [==============================] - 12s 247us/step - loss: 0.4450 - accuracy: 0.8882 - val_loss: 1.6641 - val_accuracy: 0.4893\n",
      "Epoch 43/50\n",
      "50000/50000 [==============================] - 12s 237us/step - loss: 0.4251 - accuracy: 0.8962 - val_loss: 1.6861 - val_accuracy: 0.4887\n",
      "Epoch 44/50\n",
      "50000/50000 [==============================] - 12s 246us/step - loss: 0.4060 - accuracy: 0.9045 - val_loss: 1.7022 - val_accuracy: 0.4855\n",
      "Epoch 45/50\n",
      "50000/50000 [==============================] - 12s 238us/step - loss: 0.3886 - accuracy: 0.9108 - val_loss: 1.7181 - val_accuracy: 0.4864\n",
      "Epoch 46/50\n"
     ]
    },
    {
     "name": "stdout",
     "output_type": "stream",
     "text": [
      "50000/50000 [==============================] - 12s 242us/step - loss: 0.3704 - accuracy: 0.9163 - val_loss: 1.7374 - val_accuracy: 0.4838\n",
      "Epoch 47/50\n",
      "50000/50000 [==============================] - 12s 242us/step - loss: 0.3520 - accuracy: 0.9241 - val_loss: 1.7518 - val_accuracy: 0.4845\n",
      "Epoch 48/50\n",
      "50000/50000 [==============================] - 12s 239us/step - loss: 0.3349 - accuracy: 0.9293 - val_loss: 1.7766 - val_accuracy: 0.4807\n",
      "Epoch 49/50\n",
      "50000/50000 [==============================] - 12s 237us/step - loss: 0.3176 - accuracy: 0.9366 - val_loss: 1.7901 - val_accuracy: 0.4830\n",
      "Epoch 50/50\n",
      "50000/50000 [==============================] - 12s 240us/step - loss: 0.3025 - accuracy: 0.9419 - val_loss: 1.8087 - val_accuracy: 0.4815\n"
     ]
    }
   ],
   "source": [
    "results = {}\n",
    "\n",
    "\"\"\"Code Here\n",
    "撰寫你的訓練流程並將結果用 dictionary 紀錄\n",
    "\"\"\"\n",
    "model = build_mlp(input_shape=x_train.shape[1:])\n",
    "model.summary()\n",
    "optimizer = keras.optimizers.SGD(lr=LEARNING_RATE, nesterov=True, momentum=MOMENTUM)\n",
    "model.compile(loss=\"categorical_crossentropy\", metrics=[\"accuracy\"], optimizer=optimizer)\n",
    "\n",
    "model.fit(x_train, y_train, \n",
    "          epochs=EPOCHS, \n",
    "          batch_size=BATCH_SIZE, \n",
    "          validation_data=(x_test, y_test), \n",
    "          shuffle=True,\n",
    "          callbacks=[model_ckpt_weights_only]\n",
    "         )\n",
    "\n",
    "\n",
    "\n",
    "# Collect results\n",
    "train_loss = model.history.history[\"loss\"]\n",
    "valid_loss = model.history.history[\"val_loss\"]\n",
    "train_acc = model.history.history[\"accuracy\"]\n",
    "valid_acc = model.history.history[\"val_accuracy\"]\n",
    "\n",
    "# Load back\n",
    "model.load_weights(\"tmp02.h5\")# ＃＃＃＃＃load weights\n",
    "y_predict=model.predict(x_test)\n",
    "\n",
    "\n"
   ]
  },
  {
   "cell_type": "code",
   "execution_count": 117,
   "metadata": {},
   "outputs": [
    {
     "data": {
      "image/png": "[encoded data removed]",
      "text/plain": [
       "<Figure size 432x288 with 1 Axes>"
      ]
     },
     "metadata": {
      "needs_background": "light"
     },
     "output_type": "display_data"
    },
    {
     "data": {
      "image/png": "[encoded data removed]",
      "text/plain": [
       "<Figure size 432x288 with 1 Axes>"
      ]
     },
     "metadata": {
      "needs_background": "light"
     },
     "output_type": "display_data"
    }
   ],
   "source": [
    "import matplotlib.pyplot as plt\n",
    "%matplotlib inline\n",
    "\n",
    "plt.plot(range(len(train_loss)), train_loss, label=\"train loss\")\n",
    "plt.plot(range(len(valid_loss)), valid_loss, label=\"valid loss\")\n",
    "plt.hlines(y=loss_loadback, xmin=0, xmax=len(train_loss), colors='r', linestyles='--')\n",
    "plt.legend()\n",
    "plt.title(\"Loss\")\n",
    "plt.show()\n",
    "\n",
    "plt.plot(range(len(train_acc)), train_acc, label=\"train accuracy\")\n",
    "plt.plot(range(len(valid_acc)), valid_acc, label=\"valid accuracy\")\n",
    "plt.hlines(y=acc_loadback, xmin=0, xmax=len(train_loss), colors='r', linestyles='--')\n",
    "plt.legend()\n",
    "plt.title(\"Accuracy\")\n",
    "plt.show()"
   ]
  },
  {
   "cell_type": "code",
   "execution_count": 118,
   "metadata": {},
   "outputs": [
    {
     "data": {
      "image/png": "[encoded data removed]",
      "text/plain": [
       "<Figure size 576x432 with 1 Axes>"
      ]
     },
     "metadata": {
      "needs_background": "light"
     },
     "output_type": "display_data"
    }
   ],
   "source": [
    "color_bar = [\"r\", \"g\", \"b\", \"y\", \"m\", \"k\",\"pink\",\"c\"]\n",
    "\n",
    "plt.figure(figsize=(8,6))\n",
    "\n",
    "plt.plot(range(len(train_loss)),train_acc, label=\"train_acc\",linestyle=\"-\", color=color_bar[0])\n",
    "plt.plot(range(len(valid_loss)),valid_acc, label=\"valid_acc\",linestyle='--', color=color_bar[0])\n",
    "plt.hlines(y=acc_loadback, xmin=0, xmax=len(train_loss), colors='r', linestyles='--')\n",
    "plt.title(\"Accuracy\")\n",
    "plt.ylim([0, 5])\n",
    "plt.legend()\n",
    "plt.show()"
   ]
  },
  {
   "cell_type": "code",
   "execution_count": 137,
   "metadata": {},
   "outputs": [
    {
     "data": {
      "text/plain": [
       "0.0006356137"
      ]
     },
     "execution_count": 137,
     "metadata": {},
     "output_type": "execute_result"
    }
   ],
   "source": [
    "y_predict[9999][0]"
   ]
  },
  {
   "cell_type": "code",
   "execution_count": 142,
   "metadata": {
    "scrolled": true
   },
   "outputs": [
    {
     "data": {
      "text/plain": [
       "array([[0., 0., 0., ..., 0., 0., 0.],\n",
       "       [0., 0., 0., ..., 0., 0., 1.],\n",
       "       [1., 0., 0., ..., 0., 0., 0.],\n",
       "       ...,\n",
       "       [0., 0., 1., ..., 0., 0., 0.],\n",
       "       [0., 0., 0., ..., 0., 0., 0.],\n",
       "       [0., 0., 0., ..., 0., 0., 0.]], dtype=float32)"
      ]
     },
     "execution_count": 142,
     "metadata": {},
     "output_type": "execute_result"
    }
   ],
   "source": [
    "len(y_predict[0])\n",
    "len(y_predict)\n",
    "for i in range(10000):\n",
    "    for j in range(10):\n",
    "        if y_predict[i][j]<0.5:\n",
    "            y_predict[i][j]=0\n",
    "        else:\n",
    "            y_predict[i][j]=1\n",
    "y_predict"
   ]
  },
  {
   "cell_type": "code",
   "execution_count": 139,
   "metadata": {},
   "outputs": [
    {
     "data": {
      "text/plain": [
       "array([[0., 0., 0., ..., 0., 0., 0.],\n",
       "       [0., 0., 0., ..., 0., 1., 0.],\n",
       "       [0., 0., 0., ..., 0., 1., 0.],\n",
       "       ...,\n",
       "       [0., 0., 0., ..., 0., 0., 0.],\n",
       "       [0., 1., 0., ..., 0., 0., 0.],\n",
       "       [0., 0., 0., ..., 1., 0., 0.]], dtype=float32)"
      ]
     },
     "execution_count": 139,
     "metadata": {},
     "output_type": "execute_result"
    }
   ],
   "source": [
    "y_test"
   ]
  },
  {
   "cell_type": "code",
   "execution_count": 143,
   "metadata": {},
   "outputs": [
    {
     "data": {
      "text/plain": [
       "0.9062"
      ]
     },
     "execution_count": 143,
     "metadata": {},
     "output_type": "execute_result"
    }
   ],
   "source": [
    "n=0\n",
    "m=len(y_predict[0])*len(y_predict)\n",
    "for i in range(10000):\n",
    "    for j in range(10):\n",
    "        if y_predict[i][j]==y_test[i][j]:\n",
    "            n=n+1\n",
    "        else:\n",
    "            n=n\n",
    "n/m"
   ]
  },
  {
   "cell_type": "code",
   "execution_count": null,
   "metadata": {},
   "outputs": [],
   "source": []
  }
 ],
 "metadata": {
  "kernelspec": {
   "display_name": "Python 3",
   "language": "python",
   "name": "python3"
  },
  "language_info": {
   "codemirror_mode": {
    "name": "ipython",
    "version": 3
   },
   "file_extension": ".py",
   "mimetype": "text/x-python",
   "name": "python",
   "nbconvert_exporter": "python",
   "pygments_lexer": "ipython3",
   "version": "3.7.4"
  }
 },
 "nbformat": 4,
 "nbformat_minor": 2
}
