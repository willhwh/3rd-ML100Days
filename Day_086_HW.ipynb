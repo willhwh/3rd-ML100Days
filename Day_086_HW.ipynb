{
 "cells": [
  {
   "cell_type": "markdown",
   "metadata": {},
   "source": [
    "## Work\n",
    "1. 試比較 save_best_only 與否的差異\n",
    "2. 請僅存入將 save_weights_only 設定為 True, 並嘗試 reset ipynb 並將模型與權重重新建回並預測 x_test"
   ]
  },
  {
   "cell_type": "code",
   "execution_count": 1,
   "metadata": {},
   "outputs": [],
   "source": [
    "import os\n",
    "import tensorflow.keras as keras\n",
    "\n",
    "# Disable GPU\n",
    "os.environ[\"CUDA_VISIBLE_DEVICES\"] = \"\""
   ]
  },
  {
   "cell_type": "code",
   "execution_count": 2,
   "metadata": {},
   "outputs": [],
   "source": [
    "from sklearn import preprocessing"
   ]
  },
  {
   "cell_type": "code",
   "execution_count": 3,
   "metadata": {},
   "outputs": [],
   "source": [
    "train, test = keras.datasets.cifar10.load_data()"
   ]
  },
  {
   "cell_type": "code",
   "execution_count": 4,
   "metadata": {},
   "outputs": [],
   "source": [
    "## 資料前處理\n",
    "def preproc_x(x, flatten=True):\n",
    "    x = x / 255.\n",
    "    if flatten:\n",
    "        x = x.reshape((len(x), -1))\n",
    "        x = preprocessing.MinMaxScaler(feature_range=(-1,1)).fit_transform(x)\n",
    "    return x\n",
    "\n",
    "def preproc_y(y, num_classes=10):\n",
    "    if y.shape[-1] == 1:\n",
    "        y = keras.utils.to_categorical(y, num_classes)\n",
    "    return y    "
   ]
  },
  {
   "cell_type": "code",
   "execution_count": 5,
   "metadata": {},
   "outputs": [],
   "source": [
    "x_train, y_train = train\n",
    "x_test, y_test = test\n",
    "\n",
    "# Preproc the inputs\n",
    "x_train = preproc_x(x_train)\n",
    "x_test = preproc_x(x_test)\n",
    "\n",
    "# Preprc the outputs\n",
    "y_train = preproc_y(y_train)\n",
    "y_test = preproc_y(y_test)"
   ]
  },
  {
   "cell_type": "code",
   "execution_count": 6,
   "metadata": {},
   "outputs": [],
   "source": [
    "from tensorflow.keras.layers import BatchNormalization\n",
    "\n",
    "\"\"\"\n",
    "建立神經網路，並加入 BN layer\n",
    "\"\"\"\n",
    "def build_mlp(input_shape, output_units=10, num_neurons=[512, 256, 128]):\n",
    "    input_layer = keras.layers.Input(input_shape)\n",
    "    \n",
    "    for i, n_units in enumerate(num_neurons):\n",
    "        if i == 0:\n",
    "            x = keras.layers.Dense(units=n_units, \n",
    "                                   activation=\"relu\", \n",
    "                                   name=\"hidden_layer\"+str(i+1))(input_layer)\n",
    "            x = BatchNormalization()(x)\n",
    "        else:\n",
    "            x = keras.layers.Dense(units=n_units, \n",
    "                                   activation=\"relu\", \n",
    "                                   name=\"hidden_layer\"+str(i+1))(x)\n",
    "            x = BatchNormalization()(x)\n",
    "    exp_name_tag = \"model 01\"\n",
    "    print(exp_name_tag)\n",
    "    out = keras.layers.Dense(units=output_units, activation=\"softmax\", name=\"output\")(x)\n",
    "    \n",
    "    model = keras.models.Model(inputs=[input_layer], outputs=[out])\n",
    "    return model"
   ]
  },
  {
   "cell_type": "code",
   "execution_count": 7,
   "metadata": {},
   "outputs": [],
   "source": [
    "\"\"\"Code Here\n",
    "設定超參數\n",
    "\"\"\"\n",
    "LEARNING_RATE = 1e-3\n",
    "EPOCHS = 50\n",
    "BATCH_SIZE = 1024\n",
    "MOMENTUM = 0.95"
   ]
  },
  {
   "cell_type": "code",
   "execution_count": 8,
   "metadata": {},
   "outputs": [],
   "source": [
    "# 載入 Callbacks\n",
    "\"\"\"Code Here\n",
    "設定 callbacks: model checkpoint\n",
    "\"\"\"\n",
    "\"\"\"\n",
    "# 載入 Callbacks, 並將監控目標設為 validation loss, 且只存最佳參數時的模型\n",
    "\"\"\"\n",
    "from tensorflow.keras.callbacks import ModelCheckpoint\n",
    "\n",
    "model_ckpt = ModelCheckpoint(filepath=\"tmp00.h5\", \n",
    "                             monitor=\"val_loss\", \n",
    "                             save_best_only=True)\n",
    "model_ckpt_bestonlyfalse = ModelCheckpoint(filepath=\"tmp01.h5\", \n",
    "                             monitor=\"val_loss\", \n",
    "                             save_best_only=False)\n",
    "model_ckpt_weights_only = ModelCheckpoint(filepath=\"tmp02.h5\", \n",
    "                             monitor=\"val_loss\", \n",
    "                            save_weights_only=True)\n"
   ]
  },
  {
   "cell_type": "code",
   "execution_count": 9,
   "metadata": {
    "scrolled": true
   },
   "outputs": [
    {
     "name": "stdout",
     "output_type": "stream",
     "text": [
      "model 01\n",
      "Model: \"functional_1\"\n",
      "_________________________________________________________________\n",
      "Layer (type)                 Output Shape              Param #   \n",
      "=================================================================\n",
      "input_1 (InputLayer)         [(None, 3072)]            0         \n",
      "_________________________________________________________________\n",
      "hidden_layer1 (Dense)        (None, 512)               1573376   \n",
      "_________________________________________________________________\n",
      "batch_normalization (BatchNo (None, 512)               2048      \n",
      "_________________________________________________________________\n",
      "hidden_layer2 (Dense)        (None, 256)               131328    \n",
      "_________________________________________________________________\n",
      "batch_normalization_1 (Batch (None, 256)               1024      \n",
      "_________________________________________________________________\n",
      "hidden_layer3 (Dense)        (None, 128)               32896     \n",
      "_________________________________________________________________\n",
      "batch_normalization_2 (Batch (None, 128)               512       \n",
      "_________________________________________________________________\n",
      "output (Dense)               (None, 10)                1290      \n",
      "=================================================================\n",
      "Total params: 1,742,474\n",
      "Trainable params: 1,740,682\n",
      "Non-trainable params: 1,792\n",
      "_________________________________________________________________\n",
      "Epoch 1/50\n",
      "49/49 [==============================] - 15s 303ms/step - loss: 2.2379 - accuracy: 0.2628 - val_loss: 1.9851 - val_accuracy: 0.3141\n",
      "Epoch 2/50\n",
      "49/49 [==============================] - 16s 327ms/step - loss: 1.7436 - accuracy: 0.3901 - val_loss: 1.8333 - val_accuracy: 0.3699\n",
      "Epoch 3/50\n",
      "49/49 [==============================] - 11s 227ms/step - loss: 1.6139 - accuracy: 0.4338 - val_loss: 1.7288 - val_accuracy: 0.4073\n",
      "Epoch 4/50\n",
      "49/49 [==============================] - 9s 174ms/step - loss: 1.5362 - accuracy: 0.4625 - val_loss: 1.6540 - val_accuracy: 0.4286\n",
      "Epoch 5/50\n",
      "49/49 [==============================] - 10s 196ms/step - loss: 1.4781 - accuracy: 0.4841 - val_loss: 1.6000 - val_accuracy: 0.4402\n",
      "Epoch 6/50\n",
      "49/49 [==============================] - 12s 239ms/step - loss: 1.4281 - accuracy: 0.5015 - val_loss: 1.5641 - val_accuracy: 0.4488\n",
      "Epoch 7/50\n",
      "49/49 [==============================] - 14s 284ms/step - loss: 1.3834 - accuracy: 0.5173 - val_loss: 1.5404 - val_accuracy: 0.4588\n",
      "Epoch 8/50\n",
      "49/49 [==============================] - 15s 305ms/step - loss: 1.3436 - accuracy: 0.5331 - val_loss: 1.5216 - val_accuracy: 0.4636\n",
      "Epoch 9/50\n",
      "49/49 [==============================] - 14s 295ms/step - loss: 1.3060 - accuracy: 0.5475 - val_loss: 1.5073 - val_accuracy: 0.4685\n",
      "Epoch 10/50\n",
      "49/49 [==============================] - 11s 229ms/step - loss: 1.2715 - accuracy: 0.5614 - val_loss: 1.4987 - val_accuracy: 0.4718\n",
      "Epoch 11/50\n",
      "49/49 [==============================] - 14s 278ms/step - loss: 1.2389 - accuracy: 0.5737 - val_loss: 1.4881 - val_accuracy: 0.4771\n",
      "Epoch 12/50\n",
      "49/49 [==============================] - 16s 334ms/step - loss: 1.2050 - accuracy: 0.5885 - val_loss: 1.4807 - val_accuracy: 0.4789\n",
      "Epoch 13/50\n",
      "49/49 [==============================] - 15s 308ms/step - loss: 1.1745 - accuracy: 0.6002 - val_loss: 1.4773 - val_accuracy: 0.4823\n",
      "Epoch 14/50\n",
      "49/49 [==============================] - 11s 233ms/step - loss: 1.1448 - accuracy: 0.6105 - val_loss: 1.4717 - val_accuracy: 0.4870\n",
      "Epoch 15/50\n",
      "49/49 [==============================] - 10s 211ms/step - loss: 1.1154 - accuracy: 0.6213 - val_loss: 1.4669 - val_accuracy: 0.4902\n",
      "Epoch 16/50\n",
      "49/49 [==============================] - 9s 193ms/step - loss: 1.0867 - accuracy: 0.6334 - val_loss: 1.4641 - val_accuracy: 0.4921\n",
      "Epoch 17/50\n",
      "49/49 [==============================] - 13s 268ms/step - loss: 1.0587 - accuracy: 0.6447 - val_loss: 1.4680 - val_accuracy: 0.4906\n",
      "Epoch 18/50\n",
      "49/49 [==============================] - 12s 237ms/step - loss: 1.0296 - accuracy: 0.6564 - val_loss: 1.4657 - val_accuracy: 0.4947\n",
      "Epoch 19/50\n",
      "49/49 [==============================] - 14s 284ms/step - loss: 1.0017 - accuracy: 0.6668 - val_loss: 1.4665 - val_accuracy: 0.4945\n",
      "Epoch 20/50\n",
      "49/49 [==============================] - 14s 291ms/step - loss: 0.9747 - accuracy: 0.6783 - val_loss: 1.4686 - val_accuracy: 0.4952\n",
      "Epoch 21/50\n",
      "49/49 [==============================] - 12s 245ms/step - loss: 0.9479 - accuracy: 0.6864 - val_loss: 1.4710 - val_accuracy: 0.4943\n",
      "Epoch 22/50\n",
      "49/49 [==============================] - 16s 320ms/step - loss: 0.9198 - accuracy: 0.6986 - val_loss: 1.4742 - val_accuracy: 0.4973\n",
      "Epoch 23/50\n",
      "49/49 [==============================] - 12s 240ms/step - loss: 0.8949 - accuracy: 0.7093 - val_loss: 1.4757 - val_accuracy: 0.4983\n",
      "Epoch 24/50\n",
      "49/49 [==============================] - 13s 261ms/step - loss: 0.8671 - accuracy: 0.7211 - val_loss: 1.4805 - val_accuracy: 0.4971\n",
      "Epoch 25/50\n",
      "49/49 [==============================] - 11s 226ms/step - loss: 0.8415 - accuracy: 0.7298 - val_loss: 1.4880 - val_accuracy: 0.4977\n",
      "Epoch 26/50\n",
      "49/49 [==============================] - 12s 245ms/step - loss: 0.8169 - accuracy: 0.7391 - val_loss: 1.4942 - val_accuracy: 0.4992\n",
      "Epoch 27/50\n",
      "49/49 [==============================] - 8s 166ms/step - loss: 0.7903 - accuracy: 0.7508 - val_loss: 1.5002 - val_accuracy: 0.4977\n",
      "Epoch 28/50\n",
      "49/49 [==============================] - 8s 160ms/step - loss: 0.7660 - accuracy: 0.7595 - val_loss: 1.5077 - val_accuracy: 0.4980\n",
      "Epoch 29/50\n",
      "49/49 [==============================] - 9s 175ms/step - loss: 0.7396 - accuracy: 0.7711 - val_loss: 1.5204 - val_accuracy: 0.4979\n",
      "Epoch 30/50\n",
      "49/49 [==============================] - 8s 169ms/step - loss: 0.7158 - accuracy: 0.7788 - val_loss: 1.5263 - val_accuracy: 0.4955\n",
      "Epoch 31/50\n",
      "49/49 [==============================] - 8s 171ms/step - loss: 0.6916 - accuracy: 0.7889 - val_loss: 1.5382 - val_accuracy: 0.4937\n",
      "Epoch 32/50\n",
      "49/49 [==============================] - 8s 154ms/step - loss: 0.6659 - accuracy: 0.8010 - val_loss: 1.5463 - val_accuracy: 0.4958\n",
      "Epoch 33/50\n",
      "49/49 [==============================] - 8s 164ms/step - loss: 0.6421 - accuracy: 0.8097 - val_loss: 1.5544 - val_accuracy: 0.4988\n",
      "Epoch 34/50\n",
      "49/49 [==============================] - 9s 179ms/step - loss: 0.6187 - accuracy: 0.8192 - val_loss: 1.5702 - val_accuracy: 0.4935\n",
      "Epoch 35/50\n",
      "49/49 [==============================] - 7s 139ms/step - loss: 0.5951 - accuracy: 0.8295 - val_loss: 1.5872 - val_accuracy: 0.4926\n",
      "Epoch 36/50\n",
      "49/49 [==============================] - 7s 133ms/step - loss: 0.5732 - accuracy: 0.8357 - val_loss: 1.5950 - val_accuracy: 0.4957\n",
      "Epoch 37/50\n",
      "49/49 [==============================] - 7s 136ms/step - loss: 0.5509 - accuracy: 0.8441 - val_loss: 1.6091 - val_accuracy: 0.4933\n",
      "Epoch 38/50\n",
      "49/49 [==============================] - 17s 348ms/step - loss: 0.5292 - accuracy: 0.8545 - val_loss: 1.6205 - val_accuracy: 0.4938\n",
      "Epoch 39/50\n",
      "49/49 [==============================] - 9s 194ms/step - loss: 0.5061 - accuracy: 0.8633 - val_loss: 1.6373 - val_accuracy: 0.4913\n",
      "Epoch 40/50\n",
      "49/49 [==============================] - 6s 119ms/step - loss: 0.4854 - accuracy: 0.8724 - val_loss: 1.6567 - val_accuracy: 0.4904\n",
      "Epoch 41/50\n",
      "49/49 [==============================] - 6s 113ms/step - loss: 0.4633 - accuracy: 0.8813 - val_loss: 1.6759 - val_accuracy: 0.4914\n",
      "Epoch 42/50\n",
      "49/49 [==============================] - 6s 115ms/step - loss: 0.4435 - accuracy: 0.8898 - val_loss: 1.6874 - val_accuracy: 0.4889\n",
      "Epoch 43/50\n",
      "49/49 [==============================] - 6s 115ms/step - loss: 0.4242 - accuracy: 0.8966 - val_loss: 1.7086 - val_accuracy: 0.4867\n",
      "Epoch 44/50\n",
      "49/49 [==============================] - 6s 115ms/step - loss: 0.4037 - accuracy: 0.9030 - val_loss: 1.7184 - val_accuracy: 0.4894\n",
      "Epoch 45/50\n",
      "49/49 [==============================] - 6s 114ms/step - loss: 0.3850 - accuracy: 0.9103 - val_loss: 1.7405 - val_accuracy: 0.4888\n",
      "Epoch 46/50\n",
      "49/49 [==============================] - 5s 110ms/step - loss: 0.3665 - accuracy: 0.9187 - val_loss: 1.7607 - val_accuracy: 0.4872\n",
      "Epoch 47/50\n",
      "49/49 [==============================] - 6s 115ms/step - loss: 0.3501 - accuracy: 0.9237 - val_loss: 1.7754 - val_accuracy: 0.4881\n",
      "Epoch 48/50\n"
     ]
    },
    {
     "name": "stdout",
     "output_type": "stream",
     "text": [
      "49/49 [==============================] - 6s 113ms/step - loss: 0.3327 - accuracy: 0.9295 - val_loss: 1.7950 - val_accuracy: 0.4875\n",
      "Epoch 49/50\n",
      "49/49 [==============================] - 5s 111ms/step - loss: 0.3163 - accuracy: 0.9355 - val_loss: 1.8097 - val_accuracy: 0.4842\n",
      "Epoch 50/50\n",
      "49/49 [==============================] - 5s 112ms/step - loss: 0.3012 - accuracy: 0.9404 - val_loss: 1.8364 - val_accuracy: 0.4848\n",
      "313/313 [==============================] - 1s 3ms/step - loss: 1.4641 - accuracy: 0.4921\n"
     ]
    }
   ],
   "source": [
    "results = {}\n",
    "\"\"\"Code Here\n",
    "撰寫你的訓練流程並將結果用 dictionary 紀錄\n",
    "\"\"\"\n",
    "model = build_mlp(input_shape=x_train.shape[1:])\n",
    "model.summary()\n",
    "optimizer = keras.optimizers.SGD(lr=LEARNING_RATE, nesterov=True, momentum=MOMENTUM)\n",
    "model.compile(loss=\"categorical_crossentropy\", metrics=[\"accuracy\"], optimizer=optimizer)\n",
    "\n",
    "model.fit(x_train, y_train, \n",
    "          epochs=EPOCHS, \n",
    "          batch_size=BATCH_SIZE, \n",
    "          validation_data=(x_test, y_test), \n",
    "          shuffle=True,\n",
    "          callbacks=[model_ckpt]\n",
    "         )\n",
    "\n",
    "\n",
    "\n",
    "# Collect results\n",
    "train_loss = model.history.history[\"loss\"]\n",
    "valid_loss = model.history.history[\"val_loss\"]\n",
    "train_acc = model.history.history[\"accuracy\"]\n",
    "valid_acc = model.history.history[\"val_accuracy\"]\n",
    "\n",
    "# Load back\n",
    "model = keras.models.load_model(\"tmp00.h5\")\n",
    "loss_loadback, acc_loadback = model.evaluate(x_test, y_test)\n"
   ]
  },
  {
   "cell_type": "code",
   "execution_count": 10,
   "metadata": {
    "scrolled": false
   },
   "outputs": [
    {
     "data": {
      "image/png": "[encoded data removed]",
      "text/plain": [
       "<Figure size 432x288 with 1 Axes>"
      ]
     },
     "metadata": {
      "needs_background": "light"
     },
     "output_type": "display_data"
    },
    {
     "data": {
      "image/png": "[encoded data removed]",
      "text/plain": [
       "<Figure size 432x288 with 1 Axes>"
      ]
     },
     "metadata": {
      "needs_background": "light"
     },
     "output_type": "display_data"
    }
   ],
   "source": [
    "import matplotlib.pyplot as plt\n",
    "%matplotlib inline\n",
    "\n",
    "plt.plot(range(len(train_loss)), train_loss, label=\"train loss\")\n",
    "plt.plot(range(len(valid_loss)), valid_loss, label=\"valid loss\")\n",
    "plt.hlines(y=loss_loadback, xmin=0, xmax=len(train_loss), colors='r', linestyles='--')\n",
    "plt.legend()\n",
    "plt.title(\"Loss\")\n",
    "plt.show()\n",
    "\n",
    "plt.plot(range(len(train_acc)), train_acc, label=\"train accuracy\")\n",
    "plt.plot(range(len(valid_acc)), valid_acc, label=\"valid accuracy\")\n",
    "plt.hlines(y=acc_loadback, xmin=0, xmax=len(train_loss), colors='r', linestyles='--')\n",
    "plt.legend()\n",
    "plt.title(\"Accuracy\")\n",
    "plt.show()"
   ]
  },
  {
   "cell_type": "code",
   "execution_count": 11,
   "metadata": {
    "scrolled": false
   },
   "outputs": [
    {
     "data": {
      "image/png": "[encoded data removed]",
      "text/plain": [
       "<Figure size 576x432 with 1 Axes>"
      ]
     },
     "metadata": {
      "needs_background": "light"
     },
     "output_type": "display_data"
    }
   ],
   "source": [
    "import matplotlib.pyplot as plt\n",
    "%matplotlib inline\n",
    "\"\"\"Code Here\n",
    "將結果繪出\n",
    "\"\"\"\n",
    "color_bar = [\"r\", \"g\", \"b\", \"y\", \"m\", \"k\",\"pink\",\"c\"]\n",
    "\n",
    "plt.figure(figsize=(8,6))\n",
    "\n",
    "plt.plot(range(len(train_loss)),train_loss, label=\"train_loss\",linestyle=\"-\", color=color_bar[0])\n",
    "plt.plot(range(len(valid_loss)),valid_loss, label=\"valid_loss\",linestyle='--', color=color_bar[0])\n",
    "plt.hlines(y=acc_loadback, xmin=0, xmax=len(train_loss), colors='r', linestyles='-*-')\n",
    "plt.title(\"Loss\")\n",
    "plt.ylim([0, 5])\n",
    "plt.legend()\n",
    "plt.show()"
   ]
  },
  {
   "cell_type": "code",
   "execution_count": 12,
   "metadata": {},
   "outputs": [
    {
     "data": {
      "image/png": "[encoded data removed]",
      "text/plain": [
       "<Figure size 576x432 with 1 Axes>"
      ]
     },
     "metadata": {
      "needs_background": "light"
     },
     "output_type": "display_data"
    }
   ],
   "source": [
    "color_bar = [\"r\", \"g\", \"b\", \"y\", \"m\", \"k\",\"pink\",\"c\"]\n",
    "\n",
    "plt.figure(figsize=(8,6))\n",
    "\n",
    "plt.plot(range(len(train_loss)),train_acc, label=\"train_acc\",linestyle=\"-\", color=color_bar[0])\n",
    "plt.plot(range(len(valid_loss)),valid_acc, label=\"valid_acc\",linestyle='--', color=color_bar[0])\n",
    "plt.hlines(y=acc_loadback, xmin=0, xmax=len(train_loss), colors='r', linestyles='--')\n",
    "plt.title(\"Accuracy\")\n",
    "plt.ylim([0, 5])\n",
    "plt.legend()\n",
    "plt.show()"
   ]
  },
  {
   "cell_type": "code",
   "execution_count": null,
   "metadata": {},
   "outputs": [],
   "source": []
  },
  {
   "cell_type": "markdown",
   "metadata": {},
   "source": [
    "# best_only False"
   ]
  },
  {
   "cell_type": "code",
   "execution_count": 13,
   "metadata": {},
   "outputs": [
    {
     "name": "stdout",
     "output_type": "stream",
     "text": [
      "model 01\n",
      "Model: \"functional_3\"\n",
      "_________________________________________________________________\n",
      "Layer (type)                 Output Shape              Param #   \n",
      "=================================================================\n",
      "input_2 (InputLayer)         [(None, 3072)]            0         \n",
      "_________________________________________________________________\n",
      "hidden_layer1 (Dense)        (None, 512)               1573376   \n",
      "_________________________________________________________________\n",
      "batch_normalization_3 (Batch (None, 512)               2048      \n",
      "_________________________________________________________________\n",
      "hidden_layer2 (Dense)        (None, 256)               131328    \n",
      "_________________________________________________________________\n",
      "batch_normalization_4 (Batch (None, 256)               1024      \n",
      "_________________________________________________________________\n",
      "hidden_layer3 (Dense)        (None, 128)               32896     \n",
      "_________________________________________________________________\n",
      "batch_normalization_5 (Batch (None, 128)               512       \n",
      "_________________________________________________________________\n",
      "output (Dense)               (None, 10)                1290      \n",
      "=================================================================\n",
      "Total params: 1,742,474\n",
      "Trainable params: 1,740,682\n",
      "Non-trainable params: 1,792\n",
      "_________________________________________________________________\n",
      "Epoch 1/50\n",
      "49/49 [==============================] - 6s 120ms/step - loss: 2.2347 - accuracy: 0.2643 - val_loss: 1.9817 - val_accuracy: 0.3229\n",
      "Epoch 2/50\n",
      "49/49 [==============================] - 6s 128ms/step - loss: 1.7267 - accuracy: 0.3987 - val_loss: 1.8204 - val_accuracy: 0.3805\n",
      "Epoch 3/50\n",
      "49/49 [==============================] - 10s 212ms/step - loss: 1.5975 - accuracy: 0.4408 - val_loss: 1.7092 - val_accuracy: 0.4182\n",
      "Epoch 4/50\n",
      "49/49 [==============================] - 6s 118ms/step - loss: 1.5199 - accuracy: 0.4676 - val_loss: 1.6365 - val_accuracy: 0.4350\n",
      "Epoch 5/50\n",
      "49/49 [==============================] - 11s 234ms/step - loss: 1.4589 - accuracy: 0.4913 - val_loss: 1.5850 - val_accuracy: 0.4494\n",
      "Epoch 6/50\n",
      "49/49 [==============================] - 7s 142ms/step - loss: 1.4078 - accuracy: 0.5095 - val_loss: 1.5539 - val_accuracy: 0.4533\n",
      "Epoch 7/50\n",
      "49/49 [==============================] - 6s 127ms/step - loss: 1.3628 - accuracy: 0.5260 - val_loss: 1.5311 - val_accuracy: 0.4600\n",
      "Epoch 8/50\n",
      "49/49 [==============================] - 6s 117ms/step - loss: 1.3229 - accuracy: 0.5419 - val_loss: 1.5097 - val_accuracy: 0.4684\n",
      "Epoch 9/50\n",
      "49/49 [==============================] - 6s 115ms/step - loss: 1.2842 - accuracy: 0.5556 - val_loss: 1.4994 - val_accuracy: 0.4732\n",
      "Epoch 10/50\n",
      "49/49 [==============================] - 14s 276ms/step - loss: 1.2497 - accuracy: 0.5685 - val_loss: 1.4902 - val_accuracy: 0.4777\n",
      "Epoch 11/50\n",
      "49/49 [==============================] - 23s 461ms/step - loss: 1.2159 - accuracy: 0.5810 - val_loss: 1.4812 - val_accuracy: 0.4807\n",
      "Epoch 12/50\n",
      "49/49 [==============================] - 20s 400ms/step - loss: 1.1851 - accuracy: 0.5938 - val_loss: 1.4743 - val_accuracy: 0.4819\n",
      "Epoch 13/50\n",
      "49/49 [==============================] - 8s 171ms/step - loss: 1.1530 - accuracy: 0.6063 - val_loss: 1.4689 - val_accuracy: 0.4844\n",
      "Epoch 14/50\n",
      "49/49 [==============================] - 8s 169ms/step - loss: 1.1225 - accuracy: 0.6185 - val_loss: 1.4676 - val_accuracy: 0.4841\n",
      "Epoch 15/50\n",
      "49/49 [==============================] - 7s 149ms/step - loss: 1.0940 - accuracy: 0.6298 - val_loss: 1.4657 - val_accuracy: 0.4877\n",
      "Epoch 16/50\n",
      "49/49 [==============================] - 6s 124ms/step - loss: 1.0642 - accuracy: 0.6415 - val_loss: 1.4655 - val_accuracy: 0.4888\n",
      "Epoch 17/50\n",
      "49/49 [==============================] - 7s 144ms/step - loss: 1.0379 - accuracy: 0.6514 - val_loss: 1.4640 - val_accuracy: 0.4907\n",
      "Epoch 18/50\n",
      "49/49 [==============================] - 6s 122ms/step - loss: 1.0098 - accuracy: 0.6630 - val_loss: 1.4657 - val_accuracy: 0.4903\n",
      "Epoch 19/50\n",
      "49/49 [==============================] - 5s 111ms/step - loss: 0.9821 - accuracy: 0.6732 - val_loss: 1.4686 - val_accuracy: 0.4906\n",
      "Epoch 20/50\n",
      "49/49 [==============================] - 5s 111ms/step - loss: 0.9548 - accuracy: 0.6842 - val_loss: 1.4698 - val_accuracy: 0.4909\n",
      "Epoch 21/50\n",
      "49/49 [==============================] - 6s 122ms/step - loss: 0.9277 - accuracy: 0.6948 - val_loss: 1.4730 - val_accuracy: 0.4884\n",
      "Epoch 22/50\n",
      "49/49 [==============================] - 6s 125ms/step - loss: 0.9022 - accuracy: 0.7046 - val_loss: 1.4775 - val_accuracy: 0.4936\n",
      "Epoch 23/50\n",
      "49/49 [==============================] - 6s 119ms/step - loss: 0.8752 - accuracy: 0.7148 - val_loss: 1.4828 - val_accuracy: 0.4925\n",
      "Epoch 24/50\n",
      "49/49 [==============================] - 5s 110ms/step - loss: 0.8498 - accuracy: 0.7257 - val_loss: 1.4887 - val_accuracy: 0.4892\n",
      "Epoch 25/50\n",
      "49/49 [==============================] - 6s 120ms/step - loss: 0.8233 - accuracy: 0.7357 - val_loss: 1.4941 - val_accuracy: 0.4911\n",
      "Epoch 26/50\n",
      "49/49 [==============================] - 6s 115ms/step - loss: 0.7976 - accuracy: 0.7475 - val_loss: 1.5056 - val_accuracy: 0.4867\n",
      "Epoch 27/50\n",
      "49/49 [==============================] - 6s 113ms/step - loss: 0.7731 - accuracy: 0.7561 - val_loss: 1.5091 - val_accuracy: 0.4892\n",
      "Epoch 28/50\n",
      "49/49 [==============================] - 6s 118ms/step - loss: 0.7473 - accuracy: 0.7673 - val_loss: 1.5146 - val_accuracy: 0.4898\n",
      "Epoch 29/50\n",
      "49/49 [==============================] - 5s 111ms/step - loss: 0.7227 - accuracy: 0.7771 - val_loss: 1.5246 - val_accuracy: 0.4907\n",
      "Epoch 30/50\n",
      "49/49 [==============================] - 6s 114ms/step - loss: 0.6985 - accuracy: 0.7856 - val_loss: 1.5322 - val_accuracy: 0.4931\n",
      "Epoch 31/50\n",
      "49/49 [==============================] - 6s 116ms/step - loss: 0.6743 - accuracy: 0.7955 - val_loss: 1.5445 - val_accuracy: 0.4923\n",
      "Epoch 32/50\n",
      "49/49 [==============================] - 7s 139ms/step - loss: 0.6491 - accuracy: 0.8045 - val_loss: 1.5557 - val_accuracy: 0.4903\n",
      "Epoch 33/50\n",
      "49/49 [==============================] - 6s 130ms/step - loss: 0.6245 - accuracy: 0.8161 - val_loss: 1.5694 - val_accuracy: 0.4909\n",
      "Epoch 34/50\n",
      "49/49 [==============================] - 7s 139ms/step - loss: 0.6017 - accuracy: 0.8259 - val_loss: 1.5795 - val_accuracy: 0.4881\n",
      "Epoch 35/50\n",
      "49/49 [==============================] - 6s 129ms/step - loss: 0.5787 - accuracy: 0.8349 - val_loss: 1.5923 - val_accuracy: 0.4899\n",
      "Epoch 36/50\n",
      "49/49 [==============================] - 6s 133ms/step - loss: 0.5561 - accuracy: 0.8429 - val_loss: 1.6079 - val_accuracy: 0.4867\n",
      "Epoch 37/50\n",
      "49/49 [==============================] - 7s 141ms/step - loss: 0.5336 - accuracy: 0.8503 - val_loss: 1.6181 - val_accuracy: 0.4876\n",
      "Epoch 38/50\n",
      "49/49 [==============================] - 7s 137ms/step - loss: 0.5131 - accuracy: 0.8608 - val_loss: 1.6357 - val_accuracy: 0.4853\n",
      "Epoch 39/50\n",
      "49/49 [==============================] - 14s 288ms/step - loss: 0.4897 - accuracy: 0.8708 - val_loss: 1.6494 - val_accuracy: 0.4884\n",
      "Epoch 40/50\n",
      "49/49 [==============================] - 25s 511ms/step - loss: 0.4692 - accuracy: 0.8780 - val_loss: 1.6633 - val_accuracy: 0.4877\n",
      "Epoch 41/50\n",
      "49/49 [==============================] - 27s 542ms/step - loss: 0.4484 - accuracy: 0.8865 - val_loss: 1.6807 - val_accuracy: 0.4846\n",
      "Epoch 42/50\n",
      "49/49 [==============================] - 17s 355ms/step - loss: 0.4283 - accuracy: 0.8931 - val_loss: 1.7002 - val_accuracy: 0.4867\n",
      "Epoch 43/50\n",
      "49/49 [==============================] - 18s 370ms/step - loss: 0.4089 - accuracy: 0.9015 - val_loss: 1.7139 - val_accuracy: 0.4859\n",
      "Epoch 44/50\n",
      "49/49 [==============================] - 17s 349ms/step - loss: 0.3893 - accuracy: 0.9089 - val_loss: 1.7286 - val_accuracy: 0.4855\n",
      "Epoch 45/50\n",
      "49/49 [==============================] - 13s 265ms/step - loss: 0.3709 - accuracy: 0.9165 - val_loss: 1.7537 - val_accuracy: 0.4826\n",
      "Epoch 46/50\n",
      "49/49 [==============================] - 17s 349ms/step - loss: 0.3539 - accuracy: 0.9225 - val_loss: 1.7661 - val_accuracy: 0.4843\n",
      "Epoch 47/50\n",
      "49/49 [==============================] - 17s 357ms/step - loss: 0.3367 - accuracy: 0.9289 - val_loss: 1.7862 - val_accuracy: 0.4841\n",
      "Epoch 48/50\n"
     ]
    },
    {
     "name": "stdout",
     "output_type": "stream",
     "text": [
      "49/49 [==============================] - 17s 339ms/step - loss: 0.3205 - accuracy: 0.9343 - val_loss: 1.8116 - val_accuracy: 0.4830\n",
      "Epoch 49/50\n",
      "49/49 [==============================] - 20s 409ms/step - loss: 0.3045 - accuracy: 0.9409 - val_loss: 1.8202 - val_accuracy: 0.4841\n",
      "Epoch 50/50\n",
      "49/49 [==============================] - 16s 323ms/step - loss: 0.2883 - accuracy: 0.9456 - val_loss: 1.8484 - val_accuracy: 0.4792\n",
      "313/313 [==============================] - 2s 5ms/step - loss: 1.8484 - accuracy: 0.4792\n"
     ]
    }
   ],
   "source": [
    "results = {}\n",
    "\"\"\"Code Here\n",
    "撰寫你的訓練流程並將結果用 dictionary 紀錄\n",
    "\"\"\"\n",
    "model = build_mlp(input_shape=x_train.shape[1:])\n",
    "model.summary()\n",
    "optimizer = keras.optimizers.SGD(lr=LEARNING_RATE, nesterov=True, momentum=MOMENTUM)\n",
    "model.compile(loss=\"categorical_crossentropy\", metrics=[\"accuracy\"], optimizer=optimizer)\n",
    "\n",
    "model.fit(x_train, y_train, \n",
    "          epochs=EPOCHS, \n",
    "          batch_size=BATCH_SIZE, \n",
    "          validation_data=(x_test, y_test), \n",
    "          shuffle=True,\n",
    "          callbacks=[model_ckpt_bestonlyfalse]\n",
    "         )\n",
    "\n",
    "\n",
    "\n",
    "# Collect results\n",
    "train_loss = model.history.history[\"loss\"]\n",
    "valid_loss = model.history.history[\"val_loss\"]\n",
    "train_acc = model.history.history[\"accuracy\"]\n",
    "valid_acc = model.history.history[\"val_accuracy\"]\n",
    "\n",
    "# Load back\n",
    "model = keras.models.load_model(\"tmp01.h5\")\n",
    "loss_loadback, acc_loadback = model.evaluate(x_test, y_test)\n",
    "\n"
   ]
  },
  {
   "cell_type": "code",
   "execution_count": 14,
   "metadata": {},
   "outputs": [
    {
     "data": {
      "image/png": "[encoded data removed]",
      "text/plain": [
       "<Figure size 432x288 with 1 Axes>"
      ]
     },
     "metadata": {
      "needs_background": "light"
     },
     "output_type": "display_data"
    },
    {
     "data": {
      "image/png": "[encoded data removed]",
      "text/plain": [
       "<Figure size 432x288 with 1 Axes>"
      ]
     },
     "metadata": {
      "needs_background": "light"
     },
     "output_type": "display_data"
    }
   ],
   "source": [
    "import matplotlib.pyplot as plt\n",
    "%matplotlib inline\n",
    "\n",
    "plt.plot(range(len(train_loss)), train_loss, label=\"train loss\")\n",
    "plt.plot(range(len(valid_loss)), valid_loss, label=\"valid loss\")\n",
    "plt.hlines(y=loss_loadback, xmin=0, xmax=len(train_loss), colors='r', linestyles='--')\n",
    "plt.legend()\n",
    "plt.title(\"Loss\")\n",
    "plt.show()\n",
    "\n",
    "plt.plot(range(len(train_acc)), train_acc, label=\"train accuracy\")\n",
    "plt.plot(range(len(valid_acc)), valid_acc, label=\"valid accuracy\")\n",
    "plt.hlines(y=acc_loadback, xmin=0, xmax=len(train_loss), colors='r', linestyles='--')\n",
    "plt.legend()\n",
    "plt.title(\"Accuracy\")\n",
    "plt.show()"
   ]
  },
  {
   "cell_type": "code",
   "execution_count": 15,
   "metadata": {},
   "outputs": [
    {
     "data": {
      "image/png": "[encoded data removed]",
      "text/plain": [
       "<Figure size 576x432 with 1 Axes>"
      ]
     },
     "metadata": {
      "needs_background": "light"
     },
     "output_type": "display_data"
    }
   ],
   "source": [
    "color_bar = [\"r\", \"g\", \"b\", \"y\", \"m\", \"k\",\"pink\",\"c\"]\n",
    "\n",
    "plt.figure(figsize=(8,6))\n",
    "\n",
    "plt.plot(range(len(train_loss)),train_acc, label=\"train_acc\",linestyle=\"-\", color=color_bar[0])\n",
    "plt.plot(range(len(valid_loss)),valid_acc, label=\"valid_acc\",linestyle='--', color=color_bar[0])\n",
    "plt.hlines(y=acc_loadback, xmin=0, xmax=len(train_loss), colors='r', linestyles='--')\n",
    "plt.title(\"Accuracy\")\n",
    "plt.ylim([0, 5])\n",
    "plt.legend()\n",
    "plt.show()"
   ]
  },
  {
   "cell_type": "code",
   "execution_count": null,
   "metadata": {},
   "outputs": [],
   "source": []
  },
  {
   "cell_type": "markdown",
   "metadata": {},
   "source": [
    "# weights only true"
   ]
  },
  {
   "cell_type": "code",
   "execution_count": 16,
   "metadata": {
    "scrolled": false
   },
   "outputs": [
    {
     "name": "stdout",
     "output_type": "stream",
     "text": [
      "model 01\n",
      "Model: \"functional_5\"\n",
      "_________________________________________________________________\n",
      "Layer (type)                 Output Shape              Param #   \n",
      "=================================================================\n",
      "input_3 (InputLayer)         [(None, 3072)]            0         \n",
      "_________________________________________________________________\n",
      "hidden_layer1 (Dense)        (None, 512)               1573376   \n",
      "_________________________________________________________________\n",
      "batch_normalization_6 (Batch (None, 512)               2048      \n",
      "_________________________________________________________________\n",
      "hidden_layer2 (Dense)        (None, 256)               131328    \n",
      "_________________________________________________________________\n",
      "batch_normalization_7 (Batch (None, 256)               1024      \n",
      "_________________________________________________________________\n",
      "hidden_layer3 (Dense)        (None, 128)               32896     \n",
      "_________________________________________________________________\n",
      "batch_normalization_8 (Batch (None, 128)               512       \n",
      "_________________________________________________________________\n",
      "output (Dense)               (None, 10)                1290      \n",
      "=================================================================\n",
      "Total params: 1,742,474\n",
      "Trainable params: 1,740,682\n",
      "Non-trainable params: 1,792\n",
      "_________________________________________________________________\n",
      "Epoch 1/50\n",
      "49/49 [==============================] - 14s 285ms/step - loss: 2.2031 - accuracy: 0.2648 - val_loss: 1.9785 - val_accuracy: 0.3194\n",
      "Epoch 2/50\n",
      "49/49 [==============================] - 13s 269ms/step - loss: 1.7334 - accuracy: 0.3944 - val_loss: 1.8205 - val_accuracy: 0.3766\n",
      "Epoch 3/50\n",
      "49/49 [==============================] - 16s 327ms/step - loss: 1.6081 - accuracy: 0.4376 - val_loss: 1.7182 - val_accuracy: 0.4072\n",
      "Epoch 4/50\n",
      "49/49 [==============================] - 12s 240ms/step - loss: 1.5317 - accuracy: 0.4650 - val_loss: 1.6398 - val_accuracy: 0.4259\n",
      "Epoch 5/50\n",
      "49/49 [==============================] - 10s 201ms/step - loss: 1.4737 - accuracy: 0.4854 - val_loss: 1.5870 - val_accuracy: 0.4440\n",
      "Epoch 6/50\n",
      "49/49 [==============================] - 12s 255ms/step - loss: 1.4238 - accuracy: 0.5040 - val_loss: 1.5491 - val_accuracy: 0.4541\n",
      "Epoch 7/50\n",
      "49/49 [==============================] - 11s 230ms/step - loss: 1.3806 - accuracy: 0.5202 - val_loss: 1.5254 - val_accuracy: 0.4597\n",
      "Epoch 8/50\n",
      "49/49 [==============================] - 16s 323ms/step - loss: 1.3406 - accuracy: 0.5341 - val_loss: 1.5067 - val_accuracy: 0.4690\n",
      "Epoch 9/50\n",
      "49/49 [==============================] - 12s 241ms/step - loss: 1.3031 - accuracy: 0.5494 - val_loss: 1.4914 - val_accuracy: 0.4733\n",
      "Epoch 10/50\n",
      "49/49 [==============================] - 12s 237ms/step - loss: 1.2689 - accuracy: 0.5613 - val_loss: 1.4805 - val_accuracy: 0.4776\n",
      "Epoch 11/50\n",
      "49/49 [==============================] - 11s 226ms/step - loss: 1.2355 - accuracy: 0.5742 - val_loss: 1.4753 - val_accuracy: 0.4789\n",
      "Epoch 12/50\n",
      "49/49 [==============================] - 11s 223ms/step - loss: 1.2056 - accuracy: 0.5854 - val_loss: 1.4635 - val_accuracy: 0.4817\n",
      "Epoch 13/50\n",
      "49/49 [==============================] - 12s 246ms/step - loss: 1.1750 - accuracy: 0.5972 - val_loss: 1.4585 - val_accuracy: 0.4848\n",
      "Epoch 14/50\n",
      "49/49 [==============================] - 11s 221ms/step - loss: 1.1461 - accuracy: 0.6067 - val_loss: 1.4577 - val_accuracy: 0.4836\n",
      "Epoch 15/50\n",
      "49/49 [==============================] - 10s 203ms/step - loss: 1.1167 - accuracy: 0.6163 - val_loss: 1.4520 - val_accuracy: 0.4891\n",
      "Epoch 16/50\n",
      "49/49 [==============================] - 12s 252ms/step - loss: 1.0876 - accuracy: 0.6295 - val_loss: 1.4498 - val_accuracy: 0.4896\n",
      "Epoch 17/50\n",
      "49/49 [==============================] - 10s 203ms/step - loss: 1.0609 - accuracy: 0.6395 - val_loss: 1.4478 - val_accuracy: 0.4936\n",
      "Epoch 18/50\n",
      "49/49 [==============================] - 11s 217ms/step - loss: 1.0336 - accuracy: 0.6508 - val_loss: 1.4489 - val_accuracy: 0.4934\n",
      "Epoch 19/50\n",
      "49/49 [==============================] - 11s 220ms/step - loss: 1.0054 - accuracy: 0.6630 - val_loss: 1.4502 - val_accuracy: 0.4942\n",
      "Epoch 20/50\n",
      "49/49 [==============================] - 10s 208ms/step - loss: 0.9785 - accuracy: 0.6735 - val_loss: 1.4515 - val_accuracy: 0.4964\n",
      "Epoch 21/50\n",
      "49/49 [==============================] - 12s 236ms/step - loss: 0.9521 - accuracy: 0.6846 - val_loss: 1.4543 - val_accuracy: 0.4937\n",
      "Epoch 22/50\n",
      "49/49 [==============================] - 11s 232ms/step - loss: 0.9260 - accuracy: 0.6947 - val_loss: 1.4563 - val_accuracy: 0.4969\n",
      "Epoch 23/50\n",
      "49/49 [==============================] - 11s 219ms/step - loss: 0.8997 - accuracy: 0.7055 - val_loss: 1.4593 - val_accuracy: 0.4959\n",
      "Epoch 24/50\n",
      "49/49 [==============================] - 9s 188ms/step - loss: 0.8741 - accuracy: 0.7149 - val_loss: 1.4632 - val_accuracy: 0.4973\n",
      "Epoch 25/50\n",
      "49/49 [==============================] - 6s 118ms/step - loss: 0.8489 - accuracy: 0.7259 - val_loss: 1.4696 - val_accuracy: 0.5007\n",
      "Epoch 26/50\n",
      "49/49 [==============================] - 7s 150ms/step - loss: 0.8231 - accuracy: 0.7356 - val_loss: 1.4751 - val_accuracy: 0.4992\n",
      "Epoch 27/50\n",
      "49/49 [==============================] - 6s 120ms/step - loss: 0.7987 - accuracy: 0.7459 - val_loss: 1.4816 - val_accuracy: 0.5006\n",
      "Epoch 28/50\n",
      "49/49 [==============================] - 6s 115ms/step - loss: 0.7718 - accuracy: 0.7563 - val_loss: 1.4888 - val_accuracy: 0.4974\n",
      "Epoch 29/50\n",
      "49/49 [==============================] - 5s 111ms/step - loss: 0.7479 - accuracy: 0.7663 - val_loss: 1.5003 - val_accuracy: 0.4965\n",
      "Epoch 30/50\n",
      "49/49 [==============================] - 6s 113ms/step - loss: 0.7229 - accuracy: 0.7768 - val_loss: 1.5123 - val_accuracy: 0.4995\n",
      "Epoch 31/50\n",
      "49/49 [==============================] - 6s 116ms/step - loss: 0.6985 - accuracy: 0.7859 - val_loss: 1.5181 - val_accuracy: 0.4991\n",
      "Epoch 32/50\n",
      "49/49 [==============================] - 5s 112ms/step - loss: 0.6748 - accuracy: 0.7947 - val_loss: 1.5356 - val_accuracy: 0.4953\n",
      "Epoch 33/50\n",
      "49/49 [==============================] - 5s 109ms/step - loss: 0.6509 - accuracy: 0.8062 - val_loss: 1.5410 - val_accuracy: 0.4974\n",
      "Epoch 34/50\n",
      "49/49 [==============================] - 6s 114ms/step - loss: 0.6274 - accuracy: 0.8151 - val_loss: 1.5492 - val_accuracy: 0.4962\n",
      "Epoch 35/50\n",
      "49/49 [==============================] - 6s 113ms/step - loss: 0.6046 - accuracy: 0.8249 - val_loss: 1.5619 - val_accuracy: 0.4913\n",
      "Epoch 36/50\n",
      "49/49 [==============================] - 6s 115ms/step - loss: 0.5810 - accuracy: 0.8334 - val_loss: 1.5765 - val_accuracy: 0.4975\n",
      "Epoch 37/50\n",
      "49/49 [==============================] - 5s 109ms/step - loss: 0.5583 - accuracy: 0.8426 - val_loss: 1.5906 - val_accuracy: 0.4940\n",
      "Epoch 38/50\n",
      "49/49 [==============================] - 5s 107ms/step - loss: 0.5356 - accuracy: 0.8515 - val_loss: 1.6012 - val_accuracy: 0.4953\n",
      "Epoch 39/50\n",
      "49/49 [==============================] - 5s 107ms/step - loss: 0.5143 - accuracy: 0.8600 - val_loss: 1.6231 - val_accuracy: 0.4906\n",
      "Epoch 40/50\n",
      "49/49 [==============================] - 5s 106ms/step - loss: 0.4917 - accuracy: 0.8699 - val_loss: 1.6362 - val_accuracy: 0.4916\n",
      "Epoch 41/50\n",
      "49/49 [==============================] - 5s 109ms/step - loss: 0.4718 - accuracy: 0.8774 - val_loss: 1.6543 - val_accuracy: 0.4895\n",
      "Epoch 42/50\n",
      "49/49 [==============================] - 5s 108ms/step - loss: 0.4510 - accuracy: 0.8862 - val_loss: 1.6691 - val_accuracy: 0.4905\n",
      "Epoch 43/50\n",
      "49/49 [==============================] - 5s 108ms/step - loss: 0.4310 - accuracy: 0.8929 - val_loss: 1.6878 - val_accuracy: 0.4900\n",
      "Epoch 44/50\n",
      "49/49 [==============================] - 5s 108ms/step - loss: 0.4116 - accuracy: 0.9019 - val_loss: 1.7056 - val_accuracy: 0.4881\n",
      "Epoch 45/50\n",
      "49/49 [==============================] - 5s 107ms/step - loss: 0.3923 - accuracy: 0.9092 - val_loss: 1.7192 - val_accuracy: 0.4929\n",
      "Epoch 46/50\n",
      "49/49 [==============================] - 5s 107ms/step - loss: 0.3728 - accuracy: 0.9160 - val_loss: 1.7359 - val_accuracy: 0.4884\n",
      "Epoch 47/50\n",
      "49/49 [==============================] - 5s 109ms/step - loss: 0.3557 - accuracy: 0.9222 - val_loss: 1.7558 - val_accuracy: 0.4884\n",
      "Epoch 48/50\n"
     ]
    },
    {
     "name": "stdout",
     "output_type": "stream",
     "text": [
      "49/49 [==============================] - 5s 109ms/step - loss: 0.3378 - accuracy: 0.9287 - val_loss: 1.7756 - val_accuracy: 0.4870\n",
      "Epoch 49/50\n",
      "49/49 [==============================] - 5s 110ms/step - loss: 0.3218 - accuracy: 0.9340 - val_loss: 1.7915 - val_accuracy: 0.4858\n",
      "Epoch 50/50\n",
      "49/49 [==============================] - 5s 105ms/step - loss: 0.3060 - accuracy: 0.9395 - val_loss: 1.8107 - val_accuracy: 0.4885\n"
     ]
    }
   ],
   "source": [
    "results = {}\n",
    "\n",
    "\"\"\"Code Here\n",
    "撰寫你的訓練流程並將結果用 dictionary 紀錄\n",
    "\"\"\"\n",
    "model = build_mlp(input_shape=x_train.shape[1:])\n",
    "model.summary()\n",
    "optimizer = keras.optimizers.SGD(lr=LEARNING_RATE, nesterov=True, momentum=MOMENTUM)\n",
    "model.compile(loss=\"categorical_crossentropy\", metrics=[\"accuracy\"], optimizer=optimizer)\n",
    "\n",
    "model.fit(x_train, y_train, \n",
    "          epochs=EPOCHS, \n",
    "          batch_size=BATCH_SIZE, \n",
    "          validation_data=(x_test, y_test), \n",
    "          shuffle=True,\n",
    "          callbacks=[model_ckpt_weights_only]\n",
    "         )\n",
    "\n",
    "\n",
    "\n",
    "# Collect results\n",
    "train_loss = model.history.history[\"loss\"]\n",
    "valid_loss = model.history.history[\"val_loss\"]\n",
    "train_acc = model.history.history[\"accuracy\"]\n",
    "valid_acc = model.history.history[\"val_accuracy\"]\n",
    "\n",
    "# Load back\n",
    "model.load_weights(\"tmp02.h5\")# ＃＃＃＃＃load weights\n",
    "y_predict=model.predict(x_test)\n",
    "\n",
    "\n"
   ]
  },
  {
   "cell_type": "code",
   "execution_count": 17,
   "metadata": {},
   "outputs": [
    {
     "data": {
      "image/png": "[encoded data removed]",
      "text/plain": [
       "<Figure size 432x288 with 1 Axes>"
      ]
     },
     "metadata": {
      "needs_background": "light"
     },
     "output_type": "display_data"
    },
    {
     "data": {
      "image/png": "[encoded data removed]",
      "text/plain": [
       "<Figure size 432x288 with 1 Axes>"
      ]
     },
     "metadata": {
      "needs_background": "light"
     },
     "output_type": "display_data"
    }
   ],
   "source": [
    "import matplotlib.pyplot as plt\n",
    "%matplotlib inline\n",
    "\n",
    "plt.plot(range(len(train_loss)), train_loss, label=\"train loss\")\n",
    "plt.plot(range(len(valid_loss)), valid_loss, label=\"valid loss\")\n",
    "plt.hlines(y=loss_loadback, xmin=0, xmax=len(train_loss), colors='r', linestyles='--')\n",
    "plt.legend()\n",
    "plt.title(\"Loss\")\n",
    "plt.show()\n",
    "\n",
    "plt.plot(range(len(train_acc)), train_acc, label=\"train accuracy\")\n",
    "plt.plot(range(len(valid_acc)), valid_acc, label=\"valid accuracy\")\n",
    "plt.hlines(y=acc_loadback, xmin=0, xmax=len(train_loss), colors='r', linestyles='--')\n",
    "plt.legend()\n",
    "plt.title(\"Accuracy\")\n",
    "plt.show()"
   ]
  },
  {
   "cell_type": "code",
   "execution_count": 18,
   "metadata": {},
   "outputs": [
    {
     "data": {
      "image/png": "[encoded data removed]",
      "text/plain": [
       "<Figure size 576x432 with 1 Axes>"
      ]
     },
     "metadata": {
      "needs_background": "light"
     },
     "output_type": "display_data"
    }
   ],
   "source": [
    "color_bar = [\"r\", \"g\", \"b\", \"y\", \"m\", \"k\",\"pink\",\"c\"]\n",
    "\n",
    "plt.figure(figsize=(8,6))\n",
    "\n",
    "plt.plot(range(len(train_loss)),train_acc, label=\"train_acc\",linestyle=\"-\", color=color_bar[0])\n",
    "plt.plot(range(len(valid_loss)),valid_acc, label=\"valid_acc\",linestyle='--', color=color_bar[0])\n",
    "plt.hlines(y=acc_loadback, xmin=0, xmax=len(train_loss), colors='r', linestyles='--')\n",
    "plt.title(\"Accuracy\")\n",
    "plt.ylim([0, 5])\n",
    "plt.legend()\n",
    "plt.show()"
   ]
  },
  {
   "cell_type": "code",
   "execution_count": 19,
   "metadata": {},
   "outputs": [
    {
     "data": {
      "text/plain": [
       "0.0016752147"
      ]
     },
     "execution_count": 19,
     "metadata": {},
     "output_type": "execute_result"
    }
   ],
   "source": [
    "# 預測結果是以機率表示\n",
    "y_predict[9999][0]"
   ]
  },
  {
   "cell_type": "code",
   "execution_count": 20,
   "metadata": {
    "scrolled": false
   },
   "outputs": [
    {
     "data": {
      "text/plain": [
       "array([[0., 0., 0., ..., 0., 0., 0.],\n",
       "       [0., 0., 0., ..., 0., 0., 1.],\n",
       "       [0., 0., 0., ..., 0., 0., 0.],\n",
       "       ...,\n",
       "       [0., 0., 1., ..., 0., 0., 0.],\n",
       "       [0., 0., 1., ..., 0., 0., 0.],\n",
       "       [0., 0., 0., ..., 0., 0., 0.]], dtype=float32)"
      ]
     },
     "execution_count": 20,
     "metadata": {},
     "output_type": "execute_result"
    }
   ],
   "source": [
    "# 超過0.5 為1 小於0.5為0\n",
    "len(y_predict[0])\n",
    "len(y_predict)\n",
    "for i in range(10000):\n",
    "    for j in range(10):\n",
    "        if y_predict[i][j]<0.5:\n",
    "            y_predict[i][j]=0\n",
    "        else:\n",
    "            y_predict[i][j]=1\n",
    "y_predict"
   ]
  },
  {
   "cell_type": "code",
   "execution_count": 21,
   "metadata": {
    "scrolled": true
   },
   "outputs": [
    {
     "data": {
      "text/plain": [
       "array([[0., 0., 0., ..., 0., 0., 0.],\n",
       "       [0., 0., 0., ..., 0., 1., 0.],\n",
       "       [0., 0., 0., ..., 0., 1., 0.],\n",
       "       ...,\n",
       "       [0., 0., 0., ..., 0., 0., 0.],\n",
       "       [0., 1., 0., ..., 0., 0., 0.],\n",
       "       [0., 0., 0., ..., 1., 0., 0.]], dtype=float32)"
      ]
     },
     "execution_count": 21,
     "metadata": {},
     "output_type": "execute_result"
    }
   ],
   "source": [
    "y_test"
   ]
  },
  {
   "cell_type": "code",
   "execution_count": 22,
   "metadata": {},
   "outputs": [
    {
     "data": {
      "text/plain": [
       "0.90674"
      ]
     },
     "execution_count": 22,
     "metadata": {},
     "output_type": "execute_result"
    }
   ],
   "source": [
    "#計算準確度\n",
    "n=0\n",
    "m=len(y_predict[0])*len(y_predict)\n",
    "for i in range(10000):\n",
    "    for j in range(10):\n",
    "        if y_predict[i][j]==y_test[i][j]:\n",
    "            n=n+1\n",
    "        else:\n",
    "            n=n\n",
    "n/m"
   ]
  },
  {
   "cell_type": "code",
   "execution_count": null,
   "metadata": {},
   "outputs": [],
   "source": []
  }
 ],
 "metadata": {
  "kernelspec": {
   "display_name": "Python 3",
   "language": "python",
   "name": "python3"
  },
  "language_info": {
   "codemirror_mode": {
    "name": "ipython",
    "version": 3
   },
   "file_extension": ".py",
   "mimetype": "text/x-python",
   "name": "python",
   "nbconvert_exporter": "python",
   "pygments_lexer": "ipython3",
   "version": "3.7.4"
  }
 },
 "nbformat": 4,
 "nbformat_minor": 2
}
