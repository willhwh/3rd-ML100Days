{
 "cells": [
  {
   "cell_type": "markdown",
   "metadata": {},
   "source": [
    "## Work\n",
    "1. 請嘗試寫一個 callback 用來記錄各類別在訓練過程中，對驗證集的 True Positive 與 True Negative"
   ]
  },
  {
   "cell_type": "code",
   "execution_count": 1,
   "metadata": {},
   "outputs": [
    {
     "name": "stderr",
     "output_type": "stream",
     "text": [
      "Using TensorFlow backend.\n"
     ]
    }
   ],
   "source": [
    "import os\n",
    "import keras\n",
    "\n",
    "# Disable GPU\n",
    "os.environ[\"CUDA_VISIBLE_DEVICES\"] = \"\""
   ]
  },
  {
   "cell_type": "code",
   "execution_count": 2,
   "metadata": {},
   "outputs": [],
   "source": [
    "train, test = keras.datasets.cifar10.load_data()"
   ]
  },
  {
   "cell_type": "code",
   "execution_count": 4,
   "metadata": {},
   "outputs": [],
   "source": [
    "from sklearn import preprocessing"
   ]
  },
  {
   "cell_type": "code",
   "execution_count": 5,
   "metadata": {},
   "outputs": [],
   "source": [
    "## 資料前處理\n",
    "def preproc_x(x, flatten=True):\n",
    "    x = x / 255.\n",
    "    if flatten:\n",
    "        x = x.reshape((len(x), -1))\n",
    "        x = preprocessing.MinMaxScaler(feature_range=(-1,1)).fit_transform(x)\n",
    "    return x\n",
    "\n",
    "def preproc_y(y, num_classes=10):\n",
    "    if y.shape[-1] == 1:\n",
    "        y = keras.utils.to_categorical(y, num_classes)\n",
    "    return y    "
   ]
  },
  {
   "cell_type": "code",
   "execution_count": 6,
   "metadata": {},
   "outputs": [],
   "source": [
    "x_train, y_train = train\n",
    "x_test, y_test = test\n",
    "\n",
    "# Preproc the inputs\n",
    "x_train = preproc_x(x_train)\n",
    "x_test = preproc_x(x_test)\n",
    "\n",
    "# Preprc the outputs\n",
    "y_train = preproc_y(y_train)\n",
    "y_test = preproc_y(y_test)"
   ]
  },
  {
   "cell_type": "code",
   "execution_count": 7,
   "metadata": {},
   "outputs": [],
   "source": [
    "from keras.layers import BatchNormalization\n",
    "def build_mlp(input_shape, output_units=10, num_neurons=[256, 256, 256]):\n",
    "    \"\"\"Code Here\n",
    "    建立你的神經網路\n",
    "    \"\"\"\n",
    "    input_layer = keras.layers.Input(input_shape)\n",
    "    \n",
    "    for i, n_units in enumerate(num_neurons):\n",
    "        if i == 0:\n",
    "            x = keras.layers.Dense(units=n_units, \n",
    "                                   activation=\"relu\", \n",
    "                                   name=\"hidden_layer\"+str(i+1))(input_layer)\n",
    "            x = BatchNormalization()(x)\n",
    "        else:\n",
    "            x = keras.layers.Dense(units=n_units, \n",
    "                                   activation=\"relu\", \n",
    "                                   name=\"hidden_layer\"+str(i+1))(x)\n",
    "            x = BatchNormalization()(x)\n",
    "    \n",
    "    out = keras.layers.Dense(units=output_units, activation=\"softmax\", name=\"output\")(x)\n",
    "    \n",
    "    model = keras.models.Model(inputs=[input_layer], outputs=[out])\n",
    "    return model"
   ]
  },
  {
   "cell_type": "code",
   "execution_count": 76,
   "metadata": {},
   "outputs": [],
   "source": [
    "## 超參數設定\n",
    "LEARNING_RATE = 1e-3\n",
    "EPOCHS = 50\n",
    "BATCH_SIZE = 1024\n",
    "MOMENTUM = 0.95"
   ]
  },
  {
   "cell_type": "code",
   "execution_count": 77,
   "metadata": {},
   "outputs": [],
   "source": [
    "# int(0.125*100+0.5)/100\n",
    "# int(0.115*100+0.5)/100\n",
    "# round 4捨五入 準確版"
   ]
  },
  {
   "cell_type": "code",
   "execution_count": 78,
   "metadata": {},
   "outputs": [],
   "source": [
    "class Record_tp_tn(Callback):\n",
    "    \"\"\"Code Here\n",
    "    撰寫一個紀錄 ture positive 與 true negative 數量的 callbacks    \n",
    "    \"\"\"\n",
    "    def on_train_begin(self, epoch, logs = {}, thres=0.5):\n",
    "        logs = logs or {}\n",
    "        record_items = [\"val_auc\", \"val_f1sc\", \"val_fp\", \"val_fn\", \"val_tp\", \"val_tn\"]\n",
    "        for i in record_items:\n",
    "            if i not in self.params['metrics']:\n",
    "                self.params['metrics'].append(i)\n",
    "    \n",
    "    def on_epoch_end(self, epoch, logs = {}, thres=0.5):\n",
    "        logs = logs or {}\n",
    "        x_test = self.validation_data[0]\n",
    "        y_test = self.validation_data[1]      \n",
    "        y_pred = np.round((self.model.predict(x_test)*100+0.5)/100)\n",
    "\n",
    "\n",
    "        #validation_data=(x_test,y_test) from next section\n",
    "        #validation_data[1]=y_test\n",
    "        #argmax == Returns the indices of the maximum values along an axis.\n",
    "        logs[\"val_tp\"] = np.sum(np.logical_and(y_pred == 1, y_test == 1))\n",
    "        logs[\"val_tn\"] = np.sum(np.logical_and(y_pred == 0, y_test == 0))\n",
    "        \n",
    "        \n",
    "\n",
    "        \n",
    "rec_tptn = Record_tp_tn()"
   ]
  },
  {
   "cell_type": "code",
   "execution_count": 79,
   "metadata": {
    "scrolled": true
   },
   "outputs": [
    {
     "data": {
      "text/plain": [
       "'    \\n   [[ 0  3  8 13] \\n    [12 11  2 11] \\n    [ 5 13  8  3] \\n    [12 15  3  4]] \\n      ^  ^  ^  ^ \\n     12 15  8  13  - element \\n     1  3   0  0   - indices (row number)\\n'"
      ]
     },
     "execution_count": 79,
     "metadata": {},
     "output_type": "execute_result"
    }
   ],
   "source": [
    "'''    \n",
    "how np.argmax works\n",
    "\n",
    "   [[ 0  3  8 13] \n",
    "    [12 11  2 11] \n",
    "    [ 5 13  8  3] \n",
    "    [12 15  3  4]] \n",
    "      ^  ^  ^  ^ \n",
    "     12 15  8  13  - element \n",
    "     1  3   0  0   - indices (row number)\n",
    "'''\n"
   ]
  },
  {
   "cell_type": "code",
   "execution_count": 80,
   "metadata": {
    "scrolled": true
   },
   "outputs": [
    {
     "name": "stdout",
     "output_type": "stream",
     "text": [
      "Model: \"model_9\"\n",
      "_________________________________________________________________\n",
      "Layer (type)                 Output Shape              Param #   \n",
      "=================================================================\n",
      "input_9 (InputLayer)         (None, 3072)              0         \n",
      "_________________________________________________________________\n",
      "hidden_layer1 (Dense)        (None, 256)               786688    \n",
      "_________________________________________________________________\n",
      "batch_normalization_25 (Batc (None, 256)               1024      \n",
      "_________________________________________________________________\n",
      "hidden_layer2 (Dense)        (None, 256)               65792     \n",
      "_________________________________________________________________\n",
      "batch_normalization_26 (Batc (None, 256)               1024      \n",
      "_________________________________________________________________\n",
      "hidden_layer3 (Dense)        (None, 256)               65792     \n",
      "_________________________________________________________________\n",
      "batch_normalization_27 (Batc (None, 256)               1024      \n",
      "_________________________________________________________________\n",
      "output (Dense)               (None, 10)                2570      \n",
      "=================================================================\n",
      "Total params: 923,914\n",
      "Trainable params: 922,378\n",
      "Non-trainable params: 1,536\n",
      "_________________________________________________________________\n",
      "Train on 50000 samples, validate on 10000 samples\n",
      "Epoch 1/50\n",
      "50000/50000 [==============================] - 9s 171us/step - loss: 2.2543 - accuracy: 0.2596 - val_loss: 2.0391 - val_accuracy: 0.3066\n",
      "Epoch 2/50\n",
      "50000/50000 [==============================] - 7s 132us/step - loss: 1.7653 - accuracy: 0.3848 - val_loss: 1.8711 - val_accuracy: 0.3777\n",
      "Epoch 3/50\n",
      "50000/50000 [==============================] - 7s 134us/step - loss: 1.6310 - accuracy: 0.4283 - val_loss: 1.7484 - val_accuracy: 0.4071\n",
      "Epoch 4/50\n",
      "50000/50000 [==============================] - 9s 174us/step - loss: 1.5530 - accuracy: 0.4574 - val_loss: 1.6608 - val_accuracy: 0.4267\n",
      "Epoch 5/50\n",
      "50000/50000 [==============================] - 10s 207us/step - loss: 1.4929 - accuracy: 0.4787 - val_loss: 1.6055 - val_accuracy: 0.4398\n",
      "Epoch 6/50\n",
      "50000/50000 [==============================] - 8s 151us/step - loss: 1.4462 - accuracy: 0.4952 - val_loss: 1.5694 - val_accuracy: 0.4463\n",
      "Epoch 7/50\n",
      "50000/50000 [==============================] - 6s 119us/step - loss: 1.4032 - accuracy: 0.5114 - val_loss: 1.5460 - val_accuracy: 0.4537\n",
      "Epoch 8/50\n",
      "50000/50000 [==============================] - 5s 101us/step - loss: 1.3678 - accuracy: 0.5244 - val_loss: 1.5322 - val_accuracy: 0.4570\n",
      "Epoch 9/50\n",
      "50000/50000 [==============================] - 5s 100us/step - loss: 1.3335 - accuracy: 0.5370 - val_loss: 1.5201 - val_accuracy: 0.4608\n",
      "Epoch 10/50\n",
      "50000/50000 [==============================] - 5s 101us/step - loss: 1.3038 - accuracy: 0.5477 - val_loss: 1.5116 - val_accuracy: 0.4625\n",
      "Epoch 11/50\n",
      "50000/50000 [==============================] - 5s 100us/step - loss: 1.2744 - accuracy: 0.5585 - val_loss: 1.5019 - val_accuracy: 0.4688\n",
      "Epoch 12/50\n",
      "50000/50000 [==============================] - 5s 101us/step - loss: 1.2479 - accuracy: 0.5686 - val_loss: 1.4967 - val_accuracy: 0.4706\n",
      "Epoch 13/50\n",
      "50000/50000 [==============================] - 5s 100us/step - loss: 1.2209 - accuracy: 0.5778 - val_loss: 1.4918 - val_accuracy: 0.4751\n",
      "Epoch 14/50\n",
      "50000/50000 [==============================] - 5s 102us/step - loss: 1.1969 - accuracy: 0.5873 - val_loss: 1.4863 - val_accuracy: 0.4771\n",
      "Epoch 15/50\n",
      "50000/50000 [==============================] - 5s 100us/step - loss: 1.1711 - accuracy: 0.5981 - val_loss: 1.4826 - val_accuracy: 0.4815\n",
      "Epoch 16/50\n",
      "50000/50000 [==============================] - 5s 101us/step - loss: 1.1485 - accuracy: 0.6053 - val_loss: 1.4798 - val_accuracy: 0.4808\n",
      "Epoch 17/50\n",
      "50000/50000 [==============================] - 5s 100us/step - loss: 1.1252 - accuracy: 0.6148 - val_loss: 1.4765 - val_accuracy: 0.4872\n",
      "Epoch 18/50\n",
      "50000/50000 [==============================] - 5s 100us/step - loss: 1.1026 - accuracy: 0.6237 - val_loss: 1.4756 - val_accuracy: 0.4840\n",
      "Epoch 19/50\n",
      "50000/50000 [==============================] - 5s 101us/step - loss: 1.0803 - accuracy: 0.6313 - val_loss: 1.4773 - val_accuracy: 0.4861\n",
      "Epoch 20/50\n",
      "50000/50000 [==============================] - 5s 103us/step - loss: 1.0591 - accuracy: 0.6398 - val_loss: 1.4767 - val_accuracy: 0.4858\n",
      "Epoch 21/50\n",
      "50000/50000 [==============================] - 5s 101us/step - loss: 1.0378 - accuracy: 0.6481 - val_loss: 1.4763 - val_accuracy: 0.4870\n",
      "Epoch 22/50\n",
      "50000/50000 [==============================] - 7s 143us/step - loss: 1.0182 - accuracy: 0.6557 - val_loss: 1.4779 - val_accuracy: 0.4878\n",
      "Epoch 23/50\n",
      "50000/50000 [==============================] - 9s 172us/step - loss: 0.9958 - accuracy: 0.6663 - val_loss: 1.4820 - val_accuracy: 0.4897\n",
      "Epoch 24/50\n",
      "50000/50000 [==============================] - 5s 106us/step - loss: 0.9764 - accuracy: 0.6741 - val_loss: 1.4829 - val_accuracy: 0.4873\n",
      "Epoch 25/50\n",
      "50000/50000 [==============================] - 6s 123us/step - loss: 0.9559 - accuracy: 0.6817 - val_loss: 1.4841 - val_accuracy: 0.4904\n",
      "Epoch 26/50\n",
      "50000/50000 [==============================] - 9s 171us/step - loss: 0.9357 - accuracy: 0.6893 - val_loss: 1.4895 - val_accuracy: 0.4860\n",
      "Epoch 27/50\n",
      "50000/50000 [==============================] - 6s 122us/step - loss: 0.9155 - accuracy: 0.6980 - val_loss: 1.4892 - val_accuracy: 0.4935\n",
      "Epoch 28/50\n",
      "50000/50000 [==============================] - 6s 130us/step - loss: 0.8970 - accuracy: 0.7054 - val_loss: 1.4952 - val_accuracy: 0.4891\n",
      "Epoch 29/50\n",
      "50000/50000 [==============================] - 6s 111us/step - loss: 0.8771 - accuracy: 0.7106 - val_loss: 1.5023 - val_accuracy: 0.4917\n",
      "Epoch 30/50\n",
      "50000/50000 [==============================] - 5s 102us/step - loss: 0.8568 - accuracy: 0.7200 - val_loss: 1.5038 - val_accuracy: 0.4874\n",
      "Epoch 31/50\n",
      "50000/50000 [==============================] - 5s 103us/step - loss: 0.8376 - accuracy: 0.7268 - val_loss: 1.5110 - val_accuracy: 0.4881\n",
      "Epoch 32/50\n",
      "50000/50000 [==============================] - 5s 107us/step - loss: 0.8191 - accuracy: 0.7361 - val_loss: 1.5171 - val_accuracy: 0.4879\n",
      "Epoch 33/50\n",
      "50000/50000 [==============================] - 5s 101us/step - loss: 0.7996 - accuracy: 0.7420 - val_loss: 1.5210 - val_accuracy: 0.4904\n",
      "Epoch 34/50\n",
      "50000/50000 [==============================] - 6s 120us/step - loss: 0.7799 - accuracy: 0.7510 - val_loss: 1.5308 - val_accuracy: 0.4918\n",
      "Epoch 35/50\n",
      "50000/50000 [==============================] - 6s 121us/step - loss: 0.7610 - accuracy: 0.7565 - val_loss: 1.5397 - val_accuracy: 0.4864\n",
      "Epoch 36/50\n",
      "50000/50000 [==============================] - 7s 132us/step - loss: 0.7425 - accuracy: 0.7656 - val_loss: 1.5459 - val_accuracy: 0.4882\n",
      "Epoch 37/50\n",
      "50000/50000 [==============================] - 9s 172us/step - loss: 0.7243 - accuracy: 0.7728 - val_loss: 1.5521 - val_accuracy: 0.4868\n",
      "Epoch 38/50\n",
      "50000/50000 [==============================] - 10s 205us/step - loss: 0.7059 - accuracy: 0.7800 - val_loss: 1.5631 - val_accuracy: 0.4872\n",
      "Epoch 39/50\n",
      "50000/50000 [==============================] - 8s 151us/step - loss: 0.6883 - accuracy: 0.7874 - val_loss: 1.5723 - val_accuracy: 0.4892\n",
      "Epoch 40/50\n",
      "50000/50000 [==============================] - 9s 179us/step - loss: 0.6709 - accuracy: 0.7961 - val_loss: 1.5820 - val_accuracy: 0.4824\n",
      "Epoch 41/50\n",
      "50000/50000 [==============================] - 7s 130us/step - loss: 0.6525 - accuracy: 0.8002 - val_loss: 1.5915 - val_accuracy: 0.4858\n",
      "Epoch 42/50\n",
      "50000/50000 [==============================] - 5s 103us/step - loss: 0.6337 - accuracy: 0.8098 - val_loss: 1.6035 - val_accuracy: 0.4848\n",
      "Epoch 43/50\n",
      "50000/50000 [==============================] - 5s 102us/step - loss: 0.6170 - accuracy: 0.8169 - val_loss: 1.6127 - val_accuracy: 0.4869\n",
      "Epoch 44/50\n",
      "50000/50000 [==============================] - 6s 112us/step - loss: 0.6020 - accuracy: 0.8203 - val_loss: 1.6227 - val_accuracy: 0.4856\n",
      "Epoch 45/50\n",
      "50000/50000 [==============================] - 6s 120us/step - loss: 0.5836 - accuracy: 0.8288 - val_loss: 1.6352 - val_accuracy: 0.4820\n",
      "Epoch 46/50\n"
     ]
    },
    {
     "name": "stdout",
     "output_type": "stream",
     "text": [
      "50000/50000 [==============================] - 7s 133us/step - loss: 0.5660 - accuracy: 0.8374 - val_loss: 1.6481 - val_accuracy: 0.4850\n",
      "Epoch 47/50\n",
      "50000/50000 [==============================] - 5s 107us/step - loss: 0.5516 - accuracy: 0.8413 - val_loss: 1.6557 - val_accuracy: 0.4803\n",
      "Epoch 48/50\n",
      "50000/50000 [==============================] - 5s 103us/step - loss: 0.5354 - accuracy: 0.8455 - val_loss: 1.6696 - val_accuracy: 0.4848\n",
      "Epoch 49/50\n",
      "50000/50000 [==============================] - 8s 166us/step - loss: 0.5183 - accuracy: 0.8545 - val_loss: 1.6822 - val_accuracy: 0.4785\n",
      "Epoch 50/50\n",
      "50000/50000 [==============================] - 6s 117us/step - loss: 0.5036 - accuracy: 0.8605 - val_loss: 1.6919 - val_accuracy: 0.4822\n"
     ]
    }
   ],
   "source": [
    "model = build_mlp(input_shape=x_train.shape[1:])\n",
    "model.summary()\n",
    "optimizer = keras.optimizers.SGD(lr=LEARNING_RATE, nesterov=True, momentum=MOMENTUM)\n",
    "model.compile(loss=\"categorical_crossentropy\", metrics=[\"accuracy\"], optimizer=optimizer)\n",
    "\n",
    "\"\"\"Code Here\n",
    "將 callbacks 放入模型訓練流程中\n",
    "\"\"\"\n",
    "model.fit(x_train, y_train, \n",
    "          epochs=EPOCHS, \n",
    "          batch_size=BATCH_SIZE,\n",
    "          validation_data=(x_test, y_test), \n",
    "          shuffle=True,\n",
    "          callbacks=[rec_tptn]\n",
    "         )\n",
    "\n",
    "# Collect results\n",
    "train_loss = model.history.history[\"loss\"]\n",
    "valid_loss = model.history.history[\"val_loss\"]\n",
    "train_acc = model.history.history[\"accuracy\"]\n",
    "valid_acc = model.history.history[\"val_accuracy\"]\n",
    "\n",
    "\"\"\"Code Here\n",
    "將 tp/tn 從訓練完的模型中取出\n",
    "\"\"\"\n",
    "valid_tp = model.history.history[\"val_tp\"]\n",
    "valid_tn = model.history.history[\"val_tn\"]"
   ]
  },
  {
   "cell_type": "code",
   "execution_count": 81,
   "metadata": {},
   "outputs": [
    {
     "data": {
      "image/png": "[encoded data removed]",
      "text/plain": [
       "<Figure size 432x288 with 1 Axes>"
      ]
     },
     "metadata": {
      "needs_background": "light"
     },
     "output_type": "display_data"
    },
    {
     "data": {
      "image/png": "[encoded data removed]",
      "text/plain": [
       "<Figure size 432x288 with 1 Axes>"
      ]
     },
     "metadata": {
      "needs_background": "light"
     },
     "output_type": "display_data"
    },
    {
     "data": {
      "image/png": "[encoded data removed]",
      "text/plain": [
       "<Figure size 432x288 with 1 Axes>"
      ]
     },
     "metadata": {
      "needs_background": "light"
     },
     "output_type": "display_data"
    }
   ],
   "source": [
    "import matplotlib.pyplot as plt\n",
    "%matplotlib inline\n",
    "\n",
    "plt.plot(range(len(train_loss)), train_loss, label=\"train loss\")\n",
    "plt.plot(range(len(valid_loss)), valid_loss, label=\"valid loss\")\n",
    "plt.legend()\n",
    "plt.title(\"Loss\")\n",
    "plt.show()\n",
    "\n",
    "plt.plot(range(len(train_acc)), train_acc, label=\"train accuracy\")\n",
    "plt.plot(range(len(valid_acc)), valid_acc, label=\"valid accuracy\")\n",
    "plt.legend()\n",
    "plt.title(\"Accuracy\")\n",
    "plt.show()\n",
    "\n",
    "plt.plot(range(len(valid_tp)), valid_tp, label=\"valid tp\", color=\"navy\")\n",
    "plt.plot(range(len(valid_tn)), valid_tn, label=\"valid tn\", color=\"red\")\n",
    "plt.legend()\n",
    "plt.title(\"True positives and True Negatives\")\n",
    "plt.show()\n"
   ]
  },
  {
   "cell_type": "code",
   "execution_count": null,
   "metadata": {},
   "outputs": [],
   "source": []
  }
 ],
 "metadata": {
  "kernelspec": {
   "display_name": "Python 3",
   "language": "python",
   "name": "python3"
  },
  "language_info": {
   "codemirror_mode": {
    "name": "ipython",
    "version": 3
   },
   "file_extension": ".py",
   "mimetype": "text/x-python",
   "name": "python",
   "nbconvert_exporter": "python",
   "pygments_lexer": "ipython3",
   "version": "3.7.4"
  }
 },
 "nbformat": 4,
 "nbformat_minor": 2
}
