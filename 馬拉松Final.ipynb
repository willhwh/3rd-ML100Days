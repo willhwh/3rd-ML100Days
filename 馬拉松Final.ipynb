{
 "cells": [
  {
   "cell_type": "code",
   "execution_count": 1,
   "metadata": {},
   "outputs": [
    {
     "name": "stderr",
     "output_type": "stream",
     "text": [
      "Using TensorFlow backend.\n"
     ]
    }
   ],
   "source": [
    "import os\n",
    "import keras\n",
    "from keras.models import Sequential\n",
    "from keras.layers import Dense, Dropout, Flatten\n",
    "from keras.layers import Conv2D, MaxPooling2D\n",
    "from keras.layers.normalization import BatchNormalization\n",
    "from random import shuffle, choice\n",
    "\n",
    "import numpy as np\n",
    "import matplotlib.pyplot as plt\n",
    "from PIL import Image\n",
    "import pandas as pd"
   ]
  },
  {
   "cell_type": "code",
   "execution_count": 2,
   "metadata": {},
   "outputs": [],
   "source": [
    "from collections import defaultdict"
   ]
  },
  {
   "cell_type": "markdown",
   "metadata": {},
   "source": [
    "# Generate Train DF"
   ]
  },
  {
   "cell_type": "code",
   "execution_count": 3,
   "metadata": {},
   "outputs": [],
   "source": [
    "#load 5 types of flowers' trainning data\n",
    "test = os.listdir(\"/users/mac/downloads/ml100-03-final/image_data/test\")\n",
    "daisy = os.listdir(\"/users/mac/downloads/ml100-03-final/image_data/train/daisy\")\n",
    "dandelion = os.listdir(\"/users/mac/downloads/ml100-03-final/image_data/train/dandelion\")\n",
    "rose = os.listdir(\"/users/mac/downloads/ml100-03-final/image_data/train/rose\")\n",
    "sunflower = os.listdir(\"/users/mac/downloads/ml100-03-final/image_data/train/sunflower\")\n",
    "tulip = os.listdir(\"/users/mac/downloads/ml100-03-final/image_data/train/tulip\")"
   ]
  },
  {
   "cell_type": "code",
   "execution_count": 4,
   "metadata": {},
   "outputs": [],
   "source": [
    "# raw function def.\n",
    "def raw(data):\n",
    "    df=pd.DataFrame(data,columns=[\"id\"])\n",
    "    return df\n",
    "# dfs for 5 types of flowers\n",
    "daisy_df=raw(daisy)\n",
    "dandelion_df=raw(dandelion)\n",
    "rose_df=raw(rose)\n",
    "sunflower_df=raw(sunflower)\n",
    "tulip_df=raw(tulip)"
   ]
  },
  {
   "cell_type": "code",
   "execution_count": 5,
   "metadata": {},
   "outputs": [
    {
     "data": {
      "text/plain": [
       "2823"
      ]
     },
     "execution_count": 5,
     "metadata": {},
     "output_type": "execute_result"
    }
   ],
   "source": [
    "#combine all the dfs into one df\n",
    "trainlist=pd.concat([daisy_df,dandelion_df,rose_df,sunflower_df,tulip_df])\n",
    "file=trainlist[\"id\"]\n",
    "len(file)"
   ]
  },
  {
   "cell_type": "markdown",
   "metadata": {},
   "source": [
    "# Make Train Data"
   ]
  },
  {
   "cell_type": "code",
   "execution_count": 6,
   "metadata": {},
   "outputs": [],
   "source": [
    "IMAGE_SIZE=256\n",
    "IMAGE_DIRECTORY=\"/users/mac/downloads/ml100-03-final/image_data/train/combine/\""
   ]
  },
  {
   "cell_type": "code",
   "execution_count": 8,
   "metadata": {},
   "outputs": [],
   "source": [
    "# one hot encoding\n",
    "def label_img(name):\n",
    "    if name in daisy:\n",
    "        t= [1,0,0,0,0]\n",
    "        return t\n",
    "    if name in dandelion:\n",
    "        t= [0,1,0,0,0]\n",
    "        return t\n",
    "    if name in rose:\n",
    "        t= [0,0,1,0,0]\n",
    "        return t\n",
    "    if name in sunflower:\n",
    "        t= [0,0,0,1,0]\n",
    "        return t\n",
    "    if name in tulip:\n",
    "        t= [0,0,0,0,1]\n",
    "        return t"
   ]
  },
  {
   "cell_type": "code",
   "execution_count": 9,
   "metadata": {},
   "outputs": [],
   "source": [
    "# funciotn that make train data\n",
    "def load_data():\n",
    "    print(\"Loading images...\")\n",
    "    train_data = []\n",
    "    dirnames=trainlist[\"id\"]\n",
    "    for dirname in dirnames:\n",
    "        #print(\"Loading {0}\".format(dirname))\n",
    "        label = label_img(dirname)\n",
    "        img = Image.open(IMAGE_DIRECTORY+dirname)\n",
    "        img = img.resize((IMAGE_SIZE, IMAGE_SIZE), Image.ANTIALIAS)\n",
    "        train_data.append([np.array(img),label])\n",
    "    print(\"done\")\n",
    "    return train_data"
   ]
  },
  {
   "cell_type": "code",
   "execution_count": 10,
   "metadata": {
    "scrolled": false
   },
   "outputs": [
    {
     "name": "stdout",
     "output_type": "stream",
     "text": [
      "Loading images...\n",
      "done\n"
     ]
    }
   ],
   "source": [
    "# create training_data\n",
    "training_data=load_data()"
   ]
  },
  {
   "cell_type": "code",
   "execution_count": 11,
   "metadata": {},
   "outputs": [],
   "source": [
    "training_data_bacup=training_data"
   ]
  },
  {
   "cell_type": "markdown",
   "metadata": {},
   "source": [
    "# Create Model"
   ]
  },
  {
   "cell_type": "code",
   "execution_count": 165,
   "metadata": {},
   "outputs": [],
   "source": [
    "#0.65\n",
    "'''\n",
    "def create_model():\n",
    "    model = Sequential()\n",
    "    model.add(Conv2D(32, kernel_size = (3, 3), activation='relu', input_shape=(IMAGE_SIZE, IMAGE_SIZE, 3)))\n",
    "    model.add(MaxPooling2D(pool_size=(2,2)))\n",
    "    model.add(BatchNormalization())\n",
    "    model.add(Conv2D(64, kernel_size=(3,3), activation='relu'))\n",
    "    model.add(MaxPooling2D(pool_size=(2,2)))\n",
    "    model.add(BatchNormalization())\n",
    "    model.add(Conv2D(128, kernel_size=(3,3), activation='relu'))\n",
    "    model.add(MaxPooling2D(pool_size=(2,2)))\n",
    "    model.add(BatchNormalization())\n",
    "    model.add(Conv2D(64, kernel_size=(3,3), activation='relu'))\n",
    "    model.add(MaxPooling2D(pool_size=(2,2)))\n",
    "    model.add(BatchNormalization())\n",
    "    model.add(Dropout(0.2))\n",
    "    model.add(Flatten())\n",
    "    model.add(Dense(128, activation='relu'))\n",
    "    model.add(Dropout(0.2))\n",
    "    model.add(Dense(5, activation = 'softmax'))\n",
    "    print('creating model')\n",
    "    return model\n",
    "'''"
   ]
  },
  {
   "cell_type": "code",
   "execution_count": 173,
   "metadata": {},
   "outputs": [],
   "source": [
    "#0.48\n",
    "'''\n",
    "def create_model():\n",
    "    model = Sequential()\n",
    "    model.add(Conv2D(filters = 32, kernel_size = (5,5),padding = 'Same',activation ='relu', input_shape = (256,256,3)))\n",
    "    model.add(MaxPooling2D(pool_size=(2,2)))\n",
    "\n",
    "\n",
    "    model.add(Conv2D(filters = 64, kernel_size = (3,3),padding = 'Same',activation ='relu'))\n",
    "    model.add(MaxPooling2D(pool_size=(2,2), strides=(2,2)))\n",
    " \n",
    "\n",
    "    model.add(Conv2D(filters =96, kernel_size = (3,3),padding = 'Same',activation ='relu'))\n",
    "    model.add(MaxPooling2D(pool_size=(2,2), strides=(2,2)))\n",
    "\n",
    "    model.add(Conv2D(filters = 96, kernel_size = (3,3),padding = 'Same',activation ='relu'))\n",
    "    model.add(MaxPooling2D(pool_size=(2,2), strides=(2,2)))\n",
    "\n",
    "    model.add(Flatten())\n",
    "    model.add(Dense(128, activation='relu'))\n",
    "    model.add(Dense(5, activation = 'softmax'))\n",
    "    return model\n",
    "'''\n"
   ]
  },
  {
   "cell_type": "code",
   "execution_count": null,
   "metadata": {},
   "outputs": [],
   "source": [
    "#0.68\n",
    "def create_model():\n",
    "    model = Sequential()\n",
    "    model.add(Conv2D(32, kernel_size = (3, 3), activation='relu', input_shape=(IMAGE_SIZE, IMAGE_SIZE, 3)))\n",
    "    model.add(MaxPooling2D(pool_size=(2,2)))\n",
    "    model.add(BatchNormalization())\n",
    "    model.add(Conv2D(64, kernel_size=(3,3), activation='relu'))\n",
    "    model.add(MaxPooling2D(pool_size=(2,2)))\n",
    "    model.add(BatchNormalization())\n",
    "    model.add(Conv2D(128, kernel_size=(3,3), activation='relu'))\n",
    "    model.add(MaxPooling2D(pool_size=(2,2)))\n",
    "    model.add(BatchNormalization())\n",
    "    model.add(Conv2D(256, kernel_size=(3,3), activation='relu'))\n",
    "    model.add(MaxPooling2D(pool_size=(2,2)))\n",
    "    model.add(BatchNormalization())\n",
    "    model.add(Conv2D(64, kernel_size=(3,3), activation='relu'))\n",
    "    model.add(MaxPooling2D(pool_size=(2,2)))\n",
    "    model.add(BatchNormalization())\n",
    "    model.add(Dropout(0.2))\n",
    "    model.add(Flatten())\n",
    "    model.add(Dense(256, activation='relu'))\n",
    "    model.add(Dropout(0.2))\n",
    "    model.add(Dense(128, activation='relu'))\n",
    "    model.add(Dense(5, activation = 'softmax'))\n",
    "    print('creating model')\n",
    "    return model\n"
   ]
  },
  {
   "cell_type": "code",
   "execution_count": 154,
   "metadata": {},
   "outputs": [],
   "source": [
    "train_in=training_data_bacup\n",
    "training_images=np.array([i[0] for i in train_in])#.reshape(-1,IMAGE_SIZE, IMAGE_SIZE,1)\n",
    "training_labels=np.array([i[1] for i in train_in])"
   ]
  },
  {
   "cell_type": "code",
   "execution_count": 183,
   "metadata": {},
   "outputs": [
    {
     "name": "stdout",
     "output_type": "stream",
     "text": [
      "creating model\n",
      "Model: \"sequential_15\"\n",
      "_________________________________________________________________\n",
      "Layer (type)                 Output Shape              Param #   \n",
      "=================================================================\n",
      "conv2d_62 (Conv2D)           (None, 254, 254, 32)      896       \n",
      "_________________________________________________________________\n",
      "max_pooling2d_62 (MaxPooling (None, 127, 127, 32)      0         \n",
      "_________________________________________________________________\n",
      "batch_normalization_42 (Batc (None, 127, 127, 32)      128       \n",
      "_________________________________________________________________\n",
      "conv2d_63 (Conv2D)           (None, 125, 125, 64)      18496     \n",
      "_________________________________________________________________\n",
      "max_pooling2d_63 (MaxPooling (None, 62, 62, 64)        0         \n",
      "_________________________________________________________________\n",
      "batch_normalization_43 (Batc (None, 62, 62, 64)        256       \n",
      "_________________________________________________________________\n",
      "conv2d_64 (Conv2D)           (None, 60, 60, 128)       73856     \n",
      "_________________________________________________________________\n",
      "max_pooling2d_64 (MaxPooling (None, 30, 30, 128)       0         \n",
      "_________________________________________________________________\n",
      "batch_normalization_44 (Batc (None, 30, 30, 128)       512       \n",
      "_________________________________________________________________\n",
      "conv2d_65 (Conv2D)           (None, 28, 28, 256)       295168    \n",
      "_________________________________________________________________\n",
      "max_pooling2d_65 (MaxPooling (None, 14, 14, 256)       0         \n",
      "_________________________________________________________________\n",
      "batch_normalization_45 (Batc (None, 14, 14, 256)       1024      \n",
      "_________________________________________________________________\n",
      "conv2d_66 (Conv2D)           (None, 12, 12, 64)        147520    \n",
      "_________________________________________________________________\n",
      "max_pooling2d_66 (MaxPooling (None, 6, 6, 64)          0         \n",
      "_________________________________________________________________\n",
      "batch_normalization_46 (Batc (None, 6, 6, 64)          256       \n",
      "_________________________________________________________________\n",
      "dropout_19 (Dropout)         (None, 6, 6, 64)          0         \n",
      "_________________________________________________________________\n",
      "flatten_15 (Flatten)         (None, 2304)              0         \n",
      "_________________________________________________________________\n",
      "dense_30 (Dense)             (None, 256)               590080    \n",
      "_________________________________________________________________\n",
      "dropout_20 (Dropout)         (None, 256)               0         \n",
      "_________________________________________________________________\n",
      "dense_31 (Dense)             (None, 128)               32896     \n",
      "_________________________________________________________________\n",
      "dense_32 (Dense)             (None, 5)                 645       \n",
      "=================================================================\n",
      "Total params: 1,161,733\n",
      "Trainable params: 1,160,645\n",
      "Non-trainable params: 1,088\n",
      "_________________________________________________________________\n",
      "None\n",
      "training model\n"
     ]
    }
   ],
   "source": [
    "model = create_model()\n",
    "model.compile(loss='categorical_crossentropy', optimizer='adam', metrics=['accuracy'])\n",
    "print(model.summary())\n",
    "print('training model')\n"
   ]
  },
  {
   "cell_type": "markdown",
   "metadata": {},
   "source": [
    "# Fit Model"
   ]
  },
  {
   "cell_type": "code",
   "execution_count": 141,
   "metadata": {},
   "outputs": [
    {
     "name": "stdout",
     "output_type": "stream",
     "text": [
      "Epoch 1/10\n",
      "2823/2823 [==============================] - 227s 80ms/step - loss: 8.7115 - accuracy: 0.2859\n",
      "Epoch 2/10\n",
      "2823/2823 [==============================] - 223s 79ms/step - loss: 1.3381 - accuracy: 0.4446\n",
      "Epoch 3/10\n",
      "2823/2823 [==============================] - 224s 79ms/step - loss: 1.1170 - accuracy: 0.5590\n",
      "Epoch 4/10\n",
      "2823/2823 [==============================] - 223s 79ms/step - loss: 0.8760 - accuracy: 0.6585\n",
      "Epoch 5/10\n",
      "2823/2823 [==============================] - 1715s 608ms/step - loss: 0.6392 - accuracy: 0.7581\n",
      "Epoch 6/10\n",
      "2823/2823 [==============================] - 224s 79ms/step - loss: 0.4236 - accuracy: 0.8459\n",
      "Epoch 7/10\n",
      "2823/2823 [==============================] - 223s 79ms/step - loss: 0.3373 - accuracy: 0.8831\n",
      "Epoch 8/10\n",
      "2823/2823 [==============================] - 223s 79ms/step - loss: 0.2158 - accuracy: 0.9309\n",
      "Epoch 9/10\n",
      "2823/2823 [==============================] - 273s 97ms/step - loss: 0.1672 - accuracy: 0.9462\n",
      "Epoch 10/10\n",
      "2823/2823 [==============================] - 259s 92ms/step - loss: 0.1228 - accuracy: 0.9621\n"
     ]
    }
   ],
   "source": [
    "#0.48\n",
    "'''\n",
    "model.fit(training_images, training_labels, batch_size=50, epochs=10)\n",
    "model.save(\"model1.h5\")\n",
    "'''"
   ]
  },
  {
   "cell_type": "code",
   "execution_count": 175,
   "metadata": {},
   "outputs": [
    {
     "name": "stdout",
     "output_type": "stream",
     "text": [
      "Epoch 1/8\n",
      "2823/2823 [==============================] - 257s 91ms/step - loss: 10.1653 - accuracy: 0.2441\n",
      "Epoch 2/8\n",
      "2823/2823 [==============================] - 230s 81ms/step - loss: 1.5687 - accuracy: 0.2954\n",
      "Epoch 3/8\n",
      "2823/2823 [==============================] - 229s 81ms/step - loss: 1.4562 - accuracy: 0.4021\n",
      "Epoch 4/8\n",
      "2823/2823 [==============================] - 228s 81ms/step - loss: 1.3281 - accuracy: 0.4559\n",
      "Epoch 5/8\n",
      "2823/2823 [==============================] - 235s 83ms/step - loss: 1.0908 - accuracy: 0.5604\n",
      "Epoch 6/8\n",
      "2823/2823 [==============================] - 229s 81ms/step - loss: 0.8910 - accuracy: 0.6606\n",
      "Epoch 7/8\n",
      "2823/2823 [==============================] - 233s 83ms/step - loss: 0.7189 - accuracy: 0.7233\n",
      "Epoch 8/8\n",
      "2823/2823 [==============================] - 229s 81ms/step - loss: 0.5650 - accuracy: 0.7942\n"
     ]
    }
   ],
   "source": [
    "#0.48\n",
    "'''\n",
    "model.fit(training_images, training_labels, batch_size=50, epochs=8)\n",
    "model.save(\"model1.h5\")\n",
    "'''"
   ]
  },
  {
   "cell_type": "code",
   "execution_count": 24,
   "metadata": {
    "scrolled": true
   },
   "outputs": [
    {
     "name": "stdout",
     "output_type": "stream",
     "text": [
      "Epoch 1/10\n",
      "2823/2823 [==============================] - 341s 121ms/step - loss: 1.4335 - accuracy: 0.4577\n",
      "Epoch 2/10\n",
      "2823/2823 [==============================] - 317s 112ms/step - loss: 1.0337 - accuracy: 0.5951\n",
      "Epoch 3/10\n",
      "2823/2823 [==============================] - 309s 109ms/step - loss: 0.9051 - accuracy: 0.6443\n",
      "Epoch 4/10\n",
      "2823/2823 [==============================] - 313s 111ms/step - loss: 0.7770 - accuracy: 0.7014\n",
      "Epoch 5/10\n",
      "2823/2823 [==============================] - 339s 120ms/step - loss: 0.6575 - accuracy: 0.7513\n",
      "Epoch 6/10\n",
      "2823/2823 [==============================] - 288s 102ms/step - loss: 0.5701 - accuracy: 0.7892\n",
      "Epoch 7/10\n",
      "2823/2823 [==============================] - 324s 115ms/step - loss: 0.4797 - accuracy: 0.8208\n",
      "Epoch 8/10\n",
      "2823/2823 [==============================] - 284s 101ms/step - loss: 0.4034 - accuracy: 0.8512\n",
      "Epoch 9/10\n",
      "2823/2823 [==============================] - 288s 102ms/step - loss: 0.3250 - accuracy: 0.8803\n",
      "Epoch 10/10\n",
      "2823/2823 [==============================] - 288s 102ms/step - loss: 0.3015 - accuracy: 0.8905\n"
     ]
    }
   ],
   "source": [
    "#0.68\n",
    "'''\n",
    "model.fit(training_images, training_labels, batch_size=50, epochs=10)\n",
    "model.save(\"model2.h5\")\n",
    "'''"
   ]
  },
  {
   "cell_type": "code",
   "execution_count": 184,
   "metadata": {},
   "outputs": [
    {
     "name": "stdout",
     "output_type": "stream",
     "text": [
      "Epoch 1/5\n",
      "2823/2823 [==============================] - 312s 111ms/step - loss: 1.3949 - accuracy: 0.4690\n",
      "Epoch 2/5\n",
      "2823/2823 [==============================] - 275s 98ms/step - loss: 1.0363 - accuracy: 0.5972\n",
      "Epoch 3/5\n",
      "2823/2823 [==============================] - 276s 98ms/step - loss: 0.8824 - accuracy: 0.6660\n",
      "Epoch 4/5\n",
      "2823/2823 [==============================] - 277s 98ms/step - loss: 0.7909 - accuracy: 0.6957\n",
      "Epoch 5/5\n",
      "2823/2823 [==============================] - 275s 98ms/step - loss: 0.6628 - accuracy: 0.7411\n"
     ]
    }
   ],
   "source": [
    "#0.68-2\n",
    "\n",
    "model.fit(training_images, training_labels, batch_size=50, epochs=5)\n",
    "model.save(\"model4.h5\")\n"
   ]
  },
  {
   "cell_type": "code",
   "execution_count": 167,
   "metadata": {},
   "outputs": [
    {
     "name": "stdout",
     "output_type": "stream",
     "text": [
      "Epoch 1/10\n",
      "2823/2823 [==============================] - 320s 113ms/step - loss: 2.7498 - accuracy: 0.4276\n",
      "Epoch 2/10\n",
      "2823/2823 [==============================] - 405s 144ms/step - loss: 1.9079 - accuracy: 0.5349\n",
      "Epoch 3/10\n",
      "2823/2823 [==============================] - 335s 119ms/step - loss: 1.0544 - accuracy: 0.6614\n",
      "Epoch 4/10\n",
      "2823/2823 [==============================] - 282s 100ms/step - loss: 0.7524 - accuracy: 0.7386\n",
      "Epoch 5/10\n",
      "2823/2823 [==============================] - 288s 102ms/step - loss: 0.6155 - accuracy: 0.7821\n",
      "Epoch 6/10\n",
      "2823/2823 [==============================] - 305s 108ms/step - loss: 0.4777 - accuracy: 0.8303\n",
      "Epoch 7/10\n",
      "2823/2823 [==============================] - 313s 111ms/step - loss: 0.3507 - accuracy: 0.8817\n",
      "Epoch 8/10\n",
      "2823/2823 [==============================] - 297s 105ms/step - loss: 0.2884 - accuracy: 0.8990\n",
      "Epoch 9/10\n",
      "2823/2823 [==============================] - 276s 98ms/step - loss: 0.2669 - accuracy: 0.9086\n",
      "Epoch 10/10\n",
      "2823/2823 [==============================] - 326s 115ms/step - loss: 0.2211 - accuracy: 0.9253\n"
     ]
    }
   ],
   "source": [
    "#0.65\n",
    "'''\n",
    "model.fit(training_images, training_labels, batch_size=50, epochs=10)\n",
    "model.save(\"model3.h5\")\n",
    "'''"
   ]
  },
  {
   "cell_type": "markdown",
   "metadata": {},
   "source": [
    "# Predict"
   ]
  },
  {
   "cell_type": "code",
   "execution_count": 142,
   "metadata": {},
   "outputs": [],
   "source": [
    "# test datat function\n",
    "def test_load_data():\n",
    "    print(\"Loading images...\")\n",
    "    test_data = []\n",
    "    dirnames=testlist[\"id\"]\n",
    "    for dirname in dirnames:\n",
    "        #print(\"Loading {0}\".format(dirname))\n",
    "        label = label_img(dirname)\n",
    "        img = Image.open(IMAGE_DIRECTORY+dirname)\n",
    "        img = img.resize((IMAGE_SIZE, IMAGE_SIZE), Image.ANTIALIAS)\n",
    "        #test_data.append([np.array(img),label])\n",
    "        test_data.append(np.array(img))\n",
    "    print(\"done\")\n",
    "    return test_data\n",
    "\n"
   ]
  },
  {
   "cell_type": "code",
   "execution_count": 143,
   "metadata": {},
   "outputs": [
    {
     "name": "stdout",
     "output_type": "stream",
     "text": [
      "Loading images...\n",
      "done\n"
     ]
    }
   ],
   "source": [
    "# test data info\n",
    "test = os.listdir(\"/users/mac/downloads/ml100-03-final/image_data/test/\")\n",
    "test_df=raw(test)\n",
    "testlist=test_df\n",
    "IMAGE_DIRECTORY=\"/users/mac/downloads/ml100-03-final/image_data/test/\"\n",
    "\n",
    "# create test dataset\n",
    "testing_data=test_load_data()\n",
    "\n",
    "\n",
    "\n",
    "\n"
   ]
  },
  {
   "cell_type": "code",
   "execution_count": 185,
   "metadata": {},
   "outputs": [
    {
     "data": {
      "text/plain": [
       "array([3, 3, 0, ..., 3, 0, 1])"
      ]
     },
     "execution_count": 185,
     "metadata": {},
     "output_type": "execute_result"
    }
   ],
   "source": [
    "# pred output\n",
    "test_images=np.array(testing_data)\n",
    "pred=model.predict(test_images)\n",
    "pred_digits=np.argmax(pred,axis=1)\n",
    "pred_digits"
   ]
  },
  {
   "cell_type": "code",
   "execution_count": 117,
   "metadata": {},
   "outputs": [
    {
     "data": {
      "text/plain": [
       "0       e86789078f3731bdc3d1e740825f29b3\n",
       "1       6b0e58f46b51157485d532c8eeec6179\n",
       "2       fd9cac41cda00325613b362025eb9cc1\n",
       "3       10ede359e864dab7c381d9f8bb35de15\n",
       "4       e73078a312effc5db81b849b083d1365\n",
       "                      ...               \n",
       "1995    5ba0a1dd4895ff62cd322dccbeab4d33\n",
       "1996    39706bf6a1eb9fc681952d73cfdaa978\n",
       "1997    09700570b778d58ab42a1aa8b62f4f83\n",
       "1998    4cf03c70d04f9bcbf9918b896d21514f\n",
       "1999    27764cdb56ab8baba569f2c10a42f154\n",
       "Name: id, Length: 2000, dtype: object"
      ]
     },
     "execution_count": 117,
     "metadata": {},
     "output_type": "execute_result"
    }
   ],
   "source": [
    "# create output list\n",
    "#0.68\n",
    "'''\n",
    "final=pd.DataFrame(test,columns=[\"id\"])\n",
    "final[\"id\"]=final[\"id\"].str.split('.').str.get(0)\n",
    "finalclass=pd.DataFrame(pred_digits,columns=[\"flower_class\"])\n",
    "output=pd.concat([final,finalclass],axis=1)\n",
    "output.set_index(\"id\",inplace=True)\n",
    "output\n",
    "output.to_csv(\"output.csv\")\n",
    "'''"
   ]
  },
  {
   "cell_type": "code",
   "execution_count": 186,
   "metadata": {},
   "outputs": [],
   "source": [
    "# create output list\n",
    "#0.68-2\n",
    "#0.51\n",
    "final=pd.DataFrame(test,columns=[\"id\"])\n",
    "final[\"id\"]=final[\"id\"].str.split('.').str.get(0)\n",
    "finalclass=pd.DataFrame(pred_digits,columns=[\"flower_class\"])\n",
    "output=pd.concat([final,finalclass],axis=1)\n",
    "output.set_index(\"id\",inplace=True)\n",
    "output\n",
    "output.to_csv(\"output5.csv\")\n"
   ]
  },
  {
   "cell_type": "code",
   "execution_count": 145,
   "metadata": {},
   "outputs": [],
   "source": [
    "#0.48\n",
    "'''\n",
    "final=pd.DataFrame(test,columns=[\"id\"])\n",
    "final[\"id\"]=final[\"id\"].str.split('.').str.get(0)\n",
    "finalclass=pd.DataFrame(pred_digits,columns=[\"flower_class\"])\n",
    "output=pd.concat([final,finalclass],axis=1)\n",
    "output.set_index(\"id\",inplace=True)\n",
    "output\n",
    "output.to_csv(\"output1.csv\")\n",
    "'''"
   ]
  },
  {
   "cell_type": "code",
   "execution_count": 178,
   "metadata": {},
   "outputs": [],
   "source": [
    "#0.48-2\n",
    "#0.52\n",
    "'''\n",
    "final=pd.DataFrame(test,columns=[\"id\"])\n",
    "final[\"id\"]=final[\"id\"].str.split('.').str.get(0)\n",
    "finalclass=pd.DataFrame(pred_digits,columns=[\"flower_class\"])\n",
    "output=pd.concat([final,finalclass],axis=1)\n",
    "output.set_index(\"id\",inplace=True)\n",
    "output\n",
    "output.to_csv(\"output4.csv\")\n",
    "'''"
   ]
  },
  {
   "cell_type": "code",
   "execution_count": 171,
   "metadata": {},
   "outputs": [],
   "source": [
    "#0.65\n",
    "'''\n",
    "final=pd.DataFrame(test,columns=[\"id\"])\n",
    "final[\"id\"]=final[\"id\"].str.split('.').str.get(0)\n",
    "finalclass=pd.DataFrame(pred_digits,columns=[\"flower_class\"])\n",
    "output=pd.concat([final,finalclass],axis=1)\n",
    "output.set_index(\"id\",inplace=True)\n",
    "output\n",
    "output.to_csv(\"output3.csv\")\n",
    "'''"
   ]
  },
  {
   "cell_type": "code",
   "execution_count": 172,
   "metadata": {},
   "outputs": [
    {
     "data": {
      "text/html": [
       "<div>\n",
       "<style scoped>\n",
       "    .dataframe tbody tr th:only-of-type {\n",
       "        vertical-align: middle;\n",
       "    }\n",
       "\n",
       "    .dataframe tbody tr th {\n",
       "        vertical-align: top;\n",
       "    }\n",
       "\n",
       "    .dataframe thead th {\n",
       "        text-align: right;\n",
       "    }\n",
       "</style>\n",
       "<table border=\"1\" class=\"dataframe\">\n",
       "  <thead>\n",
       "    <tr style=\"text-align: right;\">\n",
       "      <th></th>\n",
       "      <th>flower_class</th>\n",
       "    </tr>\n",
       "    <tr>\n",
       "      <th>id</th>\n",
       "      <th></th>\n",
       "    </tr>\n",
       "  </thead>\n",
       "  <tbody>\n",
       "    <tr>\n",
       "      <td>e86789078f3731bdc3d1e740825f29b3</td>\n",
       "      <td>3</td>\n",
       "    </tr>\n",
       "    <tr>\n",
       "      <td>6b0e58f46b51157485d532c8eeec6179</td>\n",
       "      <td>3</td>\n",
       "    </tr>\n",
       "    <tr>\n",
       "      <td>fd9cac41cda00325613b362025eb9cc1</td>\n",
       "      <td>3</td>\n",
       "    </tr>\n",
       "    <tr>\n",
       "      <td>10ede359e864dab7c381d9f8bb35de15</td>\n",
       "      <td>1</td>\n",
       "    </tr>\n",
       "    <tr>\n",
       "      <td>e73078a312effc5db81b849b083d1365</td>\n",
       "      <td>3</td>\n",
       "    </tr>\n",
       "    <tr>\n",
       "      <td>...</td>\n",
       "      <td>...</td>\n",
       "    </tr>\n",
       "    <tr>\n",
       "      <td>5ba0a1dd4895ff62cd322dccbeab4d33</td>\n",
       "      <td>1</td>\n",
       "    </tr>\n",
       "    <tr>\n",
       "      <td>39706bf6a1eb9fc681952d73cfdaa978</td>\n",
       "      <td>2</td>\n",
       "    </tr>\n",
       "    <tr>\n",
       "      <td>09700570b778d58ab42a1aa8b62f4f83</td>\n",
       "      <td>4</td>\n",
       "    </tr>\n",
       "    <tr>\n",
       "      <td>4cf03c70d04f9bcbf9918b896d21514f</td>\n",
       "      <td>1</td>\n",
       "    </tr>\n",
       "    <tr>\n",
       "      <td>27764cdb56ab8baba569f2c10a42f154</td>\n",
       "      <td>2</td>\n",
       "    </tr>\n",
       "  </tbody>\n",
       "</table>\n",
       "<p>2000 rows × 1 columns</p>\n",
       "</div>"
      ],
      "text/plain": [
       "                                  flower_class\n",
       "id                                            \n",
       "e86789078f3731bdc3d1e740825f29b3             3\n",
       "6b0e58f46b51157485d532c8eeec6179             3\n",
       "fd9cac41cda00325613b362025eb9cc1             3\n",
       "10ede359e864dab7c381d9f8bb35de15             1\n",
       "e73078a312effc5db81b849b083d1365             3\n",
       "...                                        ...\n",
       "5ba0a1dd4895ff62cd322dccbeab4d33             1\n",
       "39706bf6a1eb9fc681952d73cfdaa978             2\n",
       "09700570b778d58ab42a1aa8b62f4f83             4\n",
       "4cf03c70d04f9bcbf9918b896d21514f             1\n",
       "27764cdb56ab8baba569f2c10a42f154             2\n",
       "\n",
       "[2000 rows x 1 columns]"
      ]
     },
     "execution_count": 172,
     "metadata": {},
     "output_type": "execute_result"
    }
   ],
   "source": [
    "output"
   ]
  },
  {
   "cell_type": "code",
   "execution_count": null,
   "metadata": {},
   "outputs": [],
   "source": []
  }
 ],
 "metadata": {
  "kernelspec": {
   "display_name": "Python 3",
   "language": "python",
   "name": "python3"
  },
  "language_info": {
   "codemirror_mode": {
    "name": "ipython",
    "version": 3
   },
   "file_extension": ".py",
   "mimetype": "text/x-python",
   "name": "python",
   "nbconvert_exporter": "python",
   "pygments_lexer": "ipython3",
   "version": "3.7.4"
  }
 },
 "nbformat": 4,
 "nbformat_minor": 2
}
